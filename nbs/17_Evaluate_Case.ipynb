{
 "cells": [
  {
   "cell_type": "markdown",
   "id": "c555c26a",
   "metadata": {},
   "source": [
    "# Evaluate model on selected case"
   ]
  },
  {
   "cell_type": "markdown",
   "id": "5266895f",
   "metadata": {},
   "source": [
    "## Import modules"
   ]
  },
  {
   "cell_type": "code",
   "execution_count": 1,
   "id": "2f240242",
   "metadata": {},
   "outputs": [],
   "source": [
    "%load_ext autoreload\n",
    "%autoreload 2"
   ]
  },
  {
   "cell_type": "code",
   "execution_count": 2,
   "id": "9750f2b2",
   "metadata": {},
   "outputs": [],
   "source": [
    "from pathlib import Path\n",
    "\n",
    "from PIL import Image\n",
    "import ipywidgets as widgets\n",
    "import numpy as np\n",
    "import torch\n",
    "from torch.utils.data import DataLoader\n",
    "import torch.nn.functional as F\n",
    "from monai.data import list_data_collate\n",
    "from pytorch_lightning import Trainer\n",
    "from captum.attr import IntegratedGradients, NoiseTunnel\n",
    "import matplotlib.pyplot as plt\n",
    "from matplotlib.pyplot import cm\n",
    "\n",
    "from lung_cancer_detection.data.nodule import ClassificationDataModule\n",
    "from lung_cancer_detection.models.classification import NoduleClassificationModule\n",
    "from lung_cancer_detection.utils import preview_dataset, load_json, preview_explanations"
   ]
  },
  {
   "cell_type": "markdown",
   "id": "f0f7a761",
   "metadata": {},
   "source": [
    "## Setup data module"
   ]
  },
  {
   "cell_type": "code",
   "execution_count": 3,
   "id": "062c2e7b",
   "metadata": {},
   "outputs": [
    {
     "name": "stdout",
     "output_type": "stream",
     "text": [
      "True True True True True\n"
     ]
    }
   ],
   "source": [
    "rp = Path(\"/Volumes/LaCie/data/lung-cancer-detection/lidc-idri/\").absolute()\n",
    "dp = rp/\"processed\"\n",
    "cp = (Path()/\"../data/cache/\").absolute()\n",
    "sp = rp/\"splits\"\n",
    "cp.mkdir(exist_ok=True)\n",
    "mp = (Path()/\"../models/classification/nodule_classification_baseline.ckpt\").absolute()\n",
    "nod_path = Path(\"/Users/felix/Downloads/nodules/\").absolute()\n",
    "nod_path.mkdir(exist_ok=True, parents=True)\n",
    "print(dp.exists(), cp.exists(), sp.exists(), mp.exists(), nod_path.exists())"
   ]
  },
  {
   "cell_type": "code",
   "execution_count": 4,
   "id": "c1a7a2fb",
   "metadata": {},
   "outputs": [],
   "source": [
    "splits = [load_json(f) for f in sp.iterdir()]"
   ]
  },
  {
   "cell_type": "code",
   "execution_count": 5,
   "id": "7130df72",
   "metadata": {},
   "outputs": [],
   "source": [
    "dm = ClassificationDataModule(dp, \n",
    "                              cp, \n",
    "                              splits, \n",
    "                              min_anns=1, \n",
    "                              exclude_labels=[], \n",
    "                              label_mapping=([1,2,3,4,5], [0,0,0,1,1]))"
   ]
  },
  {
   "cell_type": "code",
   "execution_count": 6,
   "id": "04d7cc62",
   "metadata": {},
   "outputs": [],
   "source": [
    "dm.setup()"
   ]
  },
  {
   "cell_type": "markdown",
   "id": "55ff2827",
   "metadata": {},
   "source": [
    "## Show case nodules"
   ]
  },
  {
   "cell_type": "markdown",
   "id": "ec5ed2c6",
   "metadata": {},
   "source": [
    "### Load nodules"
   ]
  },
  {
   "cell_type": "code",
   "execution_count": 7,
   "id": "9b2082fc",
   "metadata": {},
   "outputs": [],
   "source": [
    "case = \"LIDC-IDRI-0186\""
   ]
  },
  {
   "cell_type": "code",
   "execution_count": 8,
   "id": "7a241415",
   "metadata": {},
   "outputs": [],
   "source": [
    "nods = dm.query_by_case(case)"
   ]
  },
  {
   "cell_type": "code",
   "execution_count": 9,
   "id": "b8eb63de",
   "metadata": {},
   "outputs": [
    {
     "data": {
      "application/vnd.jupyter.widget-view+json": {
       "model_id": "8439a9c5cf4f49dea09e2cbc662cee12",
       "version_major": 2,
       "version_minor": 0
      },
      "text/plain": [
       "HBox(children=(HBox(children=(IntSlider(value=14, max=29),)), Output()))"
      ]
     },
     "metadata": {},
     "output_type": "display_data"
    }
   ],
   "source": [
    "z = widgets.IntSlider(value=14, min=0, max=29, step=1)\n",
    "\n",
    "def print_images(z):\n",
    "    preview_dataset(nods, z=z)\n",
    "    \n",
    "out = widgets.interactive_output(print_images, {'z': z})\n",
    "widgets.HBox([widgets.HBox([z]), out])"
   ]
  },
  {
   "cell_type": "markdown",
   "id": "d1162f8b",
   "metadata": {},
   "source": [
    "### Save nodules as series of 2D images"
   ]
  },
  {
   "cell_type": "code",
   "execution_count": 10,
   "id": "250f0f70",
   "metadata": {},
   "outputs": [],
   "source": [
    "def save_nodule_slices(nodule, target_dir, target_size=(512,512)):\n",
    "    for z in range(nodule.shape[2]):\n",
    "        arr = nodule[:,:,z]\n",
    "        img = Image.fromarray(np.uint8(cm.gray(arr)*255))\n",
    "        img = img.resize(target_size)\n",
    "        img.save(target_dir/f\"slice_{z:02d}.png\")"
   ]
  },
  {
   "cell_type": "markdown",
   "id": "c9d9bf24",
   "metadata": {},
   "source": [
    "#### Nodule 1"
   ]
  },
  {
   "cell_type": "code",
   "execution_count": 13,
   "id": "725b4aa5",
   "metadata": {
    "scrolled": true
   },
   "outputs": [
    {
     "data": {
      "application/vnd.jupyter.widget-view+json": {
       "model_id": "45b57c441fe74fd6b52c75628d3e949b",
       "version_major": 2,
       "version_minor": 0
      },
      "text/plain": [
       "HBox(children=(HBox(children=(IntSlider(value=14, max=29),)), Output()))"
      ]
     },
     "metadata": {},
     "output_type": "display_data"
    }
   ],
   "source": [
    "nod1 = nods[0][\"image\"].squeeze().numpy()\n",
    "z = widgets.IntSlider(value=14, min=0, max=29, step=1)\n",
    "\n",
    "def show_img(z):\n",
    "    plt.imshow(nod1[:,:,z], cmap=\"gray\")\n",
    "    \n",
    "out = widgets.interactive_output(show_img, {'z': z})\n",
    "widgets.HBox([widgets.HBox([z]), out])"
   ]
  },
  {
   "cell_type": "code",
   "execution_count": 14,
   "id": "cfbde587",
   "metadata": {},
   "outputs": [],
   "source": [
    "nod1_dir = nod_path/\"nodule_1\"\n",
    "nod1_dir.mkdir(exist_ok=True)"
   ]
  },
  {
   "cell_type": "code",
   "execution_count": 15,
   "id": "279fe390",
   "metadata": {},
   "outputs": [],
   "source": [
    "save_nodule_slices(nod1, nod1_dir)"
   ]
  },
  {
   "cell_type": "markdown",
   "id": "2bf48382",
   "metadata": {},
   "source": [
    "#### Nodule 2"
   ]
  },
  {
   "cell_type": "code",
   "execution_count": 16,
   "id": "af8982b4",
   "metadata": {},
   "outputs": [
    {
     "data": {
      "application/vnd.jupyter.widget-view+json": {
       "model_id": "7143b287f95d41729536e7cfbd3565a9",
       "version_major": 2,
       "version_minor": 0
      },
      "text/plain": [
       "HBox(children=(HBox(children=(IntSlider(value=14, max=29),)), Output()))"
      ]
     },
     "metadata": {},
     "output_type": "display_data"
    }
   ],
   "source": [
    "nod = nods[1][\"image\"].squeeze().numpy()\n",
    "z = widgets.IntSlider(value=14, min=0, max=29, step=1)\n",
    "\n",
    "def show_img(z):\n",
    "    plt.imshow(nod[:,:,z], cmap=\"gray\")\n",
    "    \n",
    "out = widgets.interactive_output(show_img, {'z': z})\n",
    "widgets.HBox([widgets.HBox([z]), out])"
   ]
  },
  {
   "cell_type": "code",
   "execution_count": 17,
   "id": "12b90fb6",
   "metadata": {},
   "outputs": [],
   "source": [
    "nod_dir = nod_path/\"nodule_2\"\n",
    "nod_dir.mkdir(exist_ok=True)\n",
    "save_nodule_slices(nod, nod_dir)"
   ]
  },
  {
   "cell_type": "markdown",
   "id": "1c91c944",
   "metadata": {},
   "source": [
    "#### Nodule 3"
   ]
  },
  {
   "cell_type": "code",
   "execution_count": 18,
   "id": "5df34793",
   "metadata": {},
   "outputs": [
    {
     "data": {
      "application/vnd.jupyter.widget-view+json": {
       "model_id": "cee4a90cf79f437e8c279c161636fd13",
       "version_major": 2,
       "version_minor": 0
      },
      "text/plain": [
       "HBox(children=(HBox(children=(IntSlider(value=14, max=29),)), Output()))"
      ]
     },
     "metadata": {},
     "output_type": "display_data"
    }
   ],
   "source": [
    "nod = nods[2][\"image\"].squeeze().numpy()\n",
    "z = widgets.IntSlider(value=14, min=0, max=29, step=1)\n",
    "\n",
    "def show_img(z):\n",
    "    plt.imshow(nod[:,:,z], cmap=\"gray\")\n",
    "    \n",
    "out = widgets.interactive_output(show_img, {'z': z})\n",
    "widgets.HBox([widgets.HBox([z]), out])"
   ]
  },
  {
   "cell_type": "code",
   "execution_count": 19,
   "id": "cfafa7c5",
   "metadata": {},
   "outputs": [],
   "source": [
    "nod_dir = nod_path/\"nodule_3\"\n",
    "nod_dir.mkdir(exist_ok=True)\n",
    "save_nodule_slices(nod, nod_dir)"
   ]
  },
  {
   "cell_type": "markdown",
   "id": "32be6bc2",
   "metadata": {},
   "source": [
    "#### Nodule 4"
   ]
  },
  {
   "cell_type": "code",
   "execution_count": 20,
   "id": "4484c89e",
   "metadata": {},
   "outputs": [
    {
     "data": {
      "application/vnd.jupyter.widget-view+json": {
       "model_id": "88450db3398f45dc8d024a9b1f9b19a8",
       "version_major": 2,
       "version_minor": 0
      },
      "text/plain": [
       "HBox(children=(HBox(children=(IntSlider(value=14, max=29),)), Output()))"
      ]
     },
     "metadata": {},
     "output_type": "display_data"
    }
   ],
   "source": [
    "nod = nods[3][\"image\"].squeeze().numpy()\n",
    "z = widgets.IntSlider(value=14, min=0, max=29, step=1)\n",
    "\n",
    "def show_img(z):\n",
    "    plt.imshow(nod[:,:,z], cmap=\"gray\")\n",
    "    \n",
    "out = widgets.interactive_output(show_img, {'z': z})\n",
    "widgets.HBox([widgets.HBox([z]), out])"
   ]
  },
  {
   "cell_type": "markdown",
   "id": "0340c0b7",
   "metadata": {},
   "source": [
    "Slice 20 should be the center slice. Thus, we remove slices 0-11."
   ]
  },
  {
   "cell_type": "code",
   "execution_count": 21,
   "id": "e314d502",
   "metadata": {},
   "outputs": [
    {
     "name": "stdout",
     "output_type": "stream",
     "text": [
      "(40, 40, 30)\n",
      "(40, 40, 18)\n"
     ]
    }
   ],
   "source": [
    "print(nod.shape)\n",
    "nod = nod[:,:,12:]\n",
    "print(nod.shape)"
   ]
  },
  {
   "cell_type": "code",
   "execution_count": 22,
   "id": "2f356173",
   "metadata": {},
   "outputs": [],
   "source": [
    "nod_dir = nod_path/\"nodule_4\"\n",
    "nod_dir.mkdir(exist_ok=True)\n",
    "save_nodule_slices(nod, nod_dir)"
   ]
  },
  {
   "cell_type": "markdown",
   "id": "c811d1ca",
   "metadata": {},
   "source": [
    "#### Nodule 5"
   ]
  },
  {
   "cell_type": "code",
   "execution_count": 23,
   "id": "3216a0e5",
   "metadata": {},
   "outputs": [
    {
     "data": {
      "application/vnd.jupyter.widget-view+json": {
       "model_id": "efe8d942ca6242ec8a9c00c6018c4073",
       "version_major": 2,
       "version_minor": 0
      },
      "text/plain": [
       "HBox(children=(HBox(children=(IntSlider(value=14, max=29),)), Output()))"
      ]
     },
     "metadata": {},
     "output_type": "display_data"
    }
   ],
   "source": [
    "nod = nods[4][\"image\"].squeeze().numpy()\n",
    "z = widgets.IntSlider(value=14, min=0, max=29, step=1)\n",
    "\n",
    "def show_img(z):\n",
    "    plt.imshow(nod[:,:,z], cmap=\"gray\")\n",
    "    \n",
    "out = widgets.interactive_output(show_img, {'z': z})\n",
    "widgets.HBox([widgets.HBox([z]), out])"
   ]
  },
  {
   "cell_type": "markdown",
   "id": "fdb80ef3",
   "metadata": {},
   "source": [
    "Slice 21 should be the center slice. Thus, we remove slices 0-13."
   ]
  },
  {
   "cell_type": "code",
   "execution_count": 24,
   "id": "0176ff7a",
   "metadata": {},
   "outputs": [
    {
     "name": "stdout",
     "output_type": "stream",
     "text": [
      "(40, 40, 30)\n",
      "(40, 40, 16)\n"
     ]
    }
   ],
   "source": [
    "print(nod.shape)\n",
    "nod = nod[:,:,14:]\n",
    "print(nod.shape)"
   ]
  },
  {
   "cell_type": "code",
   "execution_count": 25,
   "id": "563a9aef",
   "metadata": {},
   "outputs": [],
   "source": [
    "nod_dir = nod_path/\"nodule_5\"\n",
    "nod_dir.mkdir(exist_ok=True)\n",
    "save_nodule_slices(nod, nod_dir)"
   ]
  },
  {
   "cell_type": "markdown",
   "id": "82e09132",
   "metadata": {},
   "source": [
    "### Create data loader"
   ]
  },
  {
   "cell_type": "code",
   "execution_count": 26,
   "id": "8256724b",
   "metadata": {},
   "outputs": [],
   "source": [
    "data = DataLoader(nods, batch_size=len(nods), shuffle=False, num_workers=4, collate_fn=list_data_collate)"
   ]
  },
  {
   "cell_type": "markdown",
   "id": "f854c87d",
   "metadata": {},
   "source": [
    "## Evaluate model predictions"
   ]
  },
  {
   "cell_type": "code",
   "execution_count": 27,
   "id": "a1eb6320",
   "metadata": {},
   "outputs": [],
   "source": [
    "model = NoduleClassificationModule.load_from_checkpoint(mp)"
   ]
  },
  {
   "cell_type": "code",
   "execution_count": 28,
   "id": "4c145796",
   "metadata": {},
   "outputs": [
    {
     "name": "stderr",
     "output_type": "stream",
     "text": [
      "GPU available: False, used: False\n",
      "TPU available: False, using: 0 TPU cores\n"
     ]
    }
   ],
   "source": [
    "trainer = Trainer()"
   ]
  },
  {
   "cell_type": "code",
   "execution_count": 29,
   "id": "1fad101a",
   "metadata": {},
   "outputs": [
    {
     "data": {
      "application/vnd.jupyter.widget-view+json": {
       "model_id": "4aa5b0c215f140c78f449629c64cf524",
       "version_major": 2,
       "version_minor": 0
      },
      "text/plain": [
       "Predicting: 0it [00:00, ?it/s]"
      ]
     },
     "metadata": {},
     "output_type": "display_data"
    },
    {
     "name": "stdout",
     "output_type": "stream",
     "text": [
      "<class 'list'>\n"
     ]
    }
   ],
   "source": [
    "preds = trainer.predict(model, dataloaders=data)\n",
    "print(type(preds))"
   ]
  },
  {
   "cell_type": "code",
   "execution_count": 30,
   "id": "36586ed2",
   "metadata": {},
   "outputs": [],
   "source": [
    "preds = preds[0].numpy()[:,1]"
   ]
  },
  {
   "cell_type": "code",
   "execution_count": 31,
   "id": "6e1f0c76",
   "metadata": {},
   "outputs": [
    {
     "data": {
      "application/vnd.jupyter.widget-view+json": {
       "model_id": "4946e78c9db04e6cb6811af7050c494b",
       "version_major": 2,
       "version_minor": 0
      },
      "text/plain": [
       "HBox(children=(HBox(children=(IntSlider(value=14, max=29),)), Output()))"
      ]
     },
     "metadata": {},
     "output_type": "display_data"
    }
   ],
   "source": [
    "z = widgets.IntSlider(value=14, min=0, max=29, step=1)\n",
    "\n",
    "def print_images(z):\n",
    "    preview_dataset(nods, z=z, preds=preds)\n",
    "    \n",
    "out = widgets.interactive_output(print_images, {'z': z})\n",
    "widgets.HBox([widgets.HBox([z]), out])"
   ]
  },
  {
   "cell_type": "markdown",
   "id": "5e27b695",
   "metadata": {},
   "source": [
    "## Explain model predictions"
   ]
  },
  {
   "cell_type": "markdown",
   "id": "622fddc5",
   "metadata": {},
   "source": [
    "### Get predictions for batch"
   ]
  },
  {
   "cell_type": "code",
   "execution_count": 32,
   "id": "64c9197e",
   "metadata": {},
   "outputs": [],
   "source": [
    "batch = None\n",
    "for idx, sample in enumerate(data):\n",
    "    batch = sample"
   ]
  },
  {
   "cell_type": "code",
   "execution_count": 33,
   "id": "e7a2fec5",
   "metadata": {},
   "outputs": [],
   "source": [
    "x = batch[\"image\"]"
   ]
  },
  {
   "cell_type": "code",
   "execution_count": 34,
   "id": "c2eb0d26",
   "metadata": {},
   "outputs": [
    {
     "data": {
      "text/plain": [
       "tensor([[0.8745, 0.1255],\n",
       "        [0.9346, 0.0654],\n",
       "        [0.7460, 0.2540],\n",
       "        [0.7485, 0.2515],\n",
       "        [0.1518, 0.8482]], grad_fn=<SoftmaxBackward>)"
      ]
     },
     "execution_count": 34,
     "metadata": {},
     "output_type": "execute_result"
    }
   ],
   "source": [
    "F.softmax(model.forward(x), dim=-1)"
   ]
  },
  {
   "cell_type": "markdown",
   "id": "860d9930",
   "metadata": {},
   "source": [
    "### Get raw attributions using Integrated Gradients"
   ]
  },
  {
   "cell_type": "code",
   "execution_count": 35,
   "id": "6582651d",
   "metadata": {},
   "outputs": [],
   "source": [
    "ig = IntegratedGradients(model)"
   ]
  },
  {
   "cell_type": "code",
   "execution_count": 36,
   "id": "aecec0db",
   "metadata": {},
   "outputs": [],
   "source": [
    "baseline = torch.zeros(x.shape)"
   ]
  },
  {
   "cell_type": "code",
   "execution_count": 37,
   "id": "ac5d364a",
   "metadata": {},
   "outputs": [],
   "source": [
    "raw_attrs, _ = ig.attribute(x, baseline, target=1, return_convergence_delta=True)"
   ]
  },
  {
   "cell_type": "code",
   "execution_count": 38,
   "id": "77a30c29",
   "metadata": {},
   "outputs": [
    {
     "data": {
      "application/vnd.jupyter.widget-view+json": {
       "model_id": "d1c9918dfddd47e0bfdd2cc8b34582e9",
       "version_major": 2,
       "version_minor": 0
      },
      "text/plain": [
       "HBox(children=(HBox(children=(IntSlider(value=14, max=29),)), Output()))"
      ]
     },
     "metadata": {},
     "output_type": "display_data"
    }
   ],
   "source": [
    "z = widgets.IntSlider(value=14, min=0, max=29, step=1)\n",
    "\n",
    "def print_images(z):\n",
    "    preview_explanations(x, raw_attrs, z=z)\n",
    "    \n",
    "out = widgets.interactive_output(print_images, {'z': z})\n",
    "widgets.HBox([widgets.HBox([z]), out])"
   ]
  },
  {
   "cell_type": "markdown",
   "id": "807af8db",
   "metadata": {},
   "source": [
    "### Get smoothed attributions using NoiseTunnel wrapper"
   ]
  },
  {
   "cell_type": "code",
   "execution_count": 39,
   "id": "f3e74b6b",
   "metadata": {},
   "outputs": [],
   "source": [
    "nig = NoiseTunnel(ig)"
   ]
  },
  {
   "cell_type": "code",
   "execution_count": 40,
   "id": "51ef9cac",
   "metadata": {},
   "outputs": [],
   "source": [
    "smooth_attrs = nig.attribute(x, nt_samples=5, target=1)"
   ]
  },
  {
   "cell_type": "code",
   "execution_count": 41,
   "id": "dad862cf",
   "metadata": {},
   "outputs": [
    {
     "data": {
      "application/vnd.jupyter.widget-view+json": {
       "model_id": "cf99e9034a0346739681c79995506f70",
       "version_major": 2,
       "version_minor": 0
      },
      "text/plain": [
       "HBox(children=(HBox(children=(IntSlider(value=14, max=29),)), Output()))"
      ]
     },
     "metadata": {},
     "output_type": "display_data"
    }
   ],
   "source": [
    "z = widgets.IntSlider(value=14, min=0, max=29, step=1)\n",
    "\n",
    "def print_images(z):\n",
    "    preview_explanations(x, smooth_attrs, z=z)\n",
    "    \n",
    "out = widgets.interactive_output(print_images, {'z': z})\n",
    "widgets.HBox([widgets.HBox([z]), out])"
   ]
  },
  {
   "cell_type": "markdown",
   "id": "7bdd8fe8",
   "metadata": {},
   "source": [
    "### Save heatmaps as series of 2D images"
   ]
  },
  {
   "cell_type": "code",
   "execution_count": 69,
   "id": "774fcc0e",
   "metadata": {},
   "outputs": [],
   "source": [
    "def preprocess_attribution(attribution):\n",
    "    arr = F.relu(attribution).mean(dim=0).detach()\n",
    "    arr /= arr.quantile(0.98)\n",
    "    arr = torch.clamp(arr, 0, 1).numpy()\n",
    "    return arr\n",
    "\n",
    "def save_heatmap_slices(nodule, attribution, target_dir, target_size=(512,512)):\n",
    "    for z in range(nodule.shape[2]):\n",
    "        arr, attr = nodule[:,:,z], attribution[:,:,z]\n",
    "        arr = arr * attr\n",
    "        cm = plt.get_cmap(\"copper\")\n",
    "        arr = cm(arr)\n",
    "        img = Image.fromarray((arr[:,:,:3]*255).astype(np.uint8))\n",
    "        img = img.resize(target_size)\n",
    "        img.save(target_dir/f\"slice_{z:02d}.png\")"
   ]
  },
  {
   "cell_type": "markdown",
   "id": "5e219ce5",
   "metadata": {},
   "source": [
    "#### Nodule 1"
   ]
  },
  {
   "cell_type": "code",
   "execution_count": 73,
   "id": "552dffb3",
   "metadata": {},
   "outputs": [],
   "source": [
    "attr = raw_attrs[0]\n",
    "nod = nods[0][\"image\"].squeeze().numpy()\n",
    "attr = preprocess_attribution(attr)\n",
    "target_dir = nod_path/\"heatmap_1\"\n",
    "target_dir.mkdir(exist_ok=True)\n",
    "save_heatmap_slices(nod, attr, target_dir)"
   ]
  },
  {
   "cell_type": "markdown",
   "id": "1f7fa5ef",
   "metadata": {},
   "source": [
    "#### Nodule 2"
   ]
  },
  {
   "cell_type": "code",
   "execution_count": 74,
   "id": "bc7918ea",
   "metadata": {},
   "outputs": [],
   "source": [
    "attr = raw_attrs[1]\n",
    "nod = nods[1][\"image\"].squeeze().numpy()\n",
    "attr = preprocess_attribution(attr)\n",
    "target_dir = nod_path/\"heatmap_2\"\n",
    "target_dir.mkdir(exist_ok=True)\n",
    "save_heatmap_slices(nod, attr, target_dir)"
   ]
  },
  {
   "cell_type": "markdown",
   "id": "ad929f41",
   "metadata": {},
   "source": [
    "#### Nodule 3"
   ]
  },
  {
   "cell_type": "code",
   "execution_count": 75,
   "id": "f91420c0",
   "metadata": {},
   "outputs": [],
   "source": [
    "attr = raw_attrs[2]\n",
    "nod = nods[2][\"image\"].squeeze().numpy()\n",
    "attr = preprocess_attribution(attr)\n",
    "target_dir = nod_path/\"heatmap_3\"\n",
    "target_dir.mkdir(exist_ok=True)\n",
    "save_heatmap_slices(nod, attr, target_dir)"
   ]
  },
  {
   "cell_type": "markdown",
   "id": "3d0d5fab",
   "metadata": {},
   "source": [
    "#### Nodule 4"
   ]
  },
  {
   "cell_type": "code",
   "execution_count": 76,
   "id": "9db0b176",
   "metadata": {},
   "outputs": [],
   "source": [
    "attr = raw_attrs[3]\n",
    "nod = nods[3][\"image\"].squeeze().numpy()\n",
    "attr = preprocess_attribution(attr)\n",
    "\n",
    "nod = nod[:,:,12:]\n",
    "attr = attr[:,:,12:]\n",
    "\n",
    "target_dir = nod_path/\"heatmap_4\"\n",
    "target_dir.mkdir(exist_ok=True)\n",
    "save_heatmap_slices(nod, attr, target_dir)"
   ]
  },
  {
   "cell_type": "markdown",
   "id": "1f0be6dd",
   "metadata": {},
   "source": [
    "#### Nodule 5"
   ]
  },
  {
   "cell_type": "code",
   "execution_count": 77,
   "id": "0e696bad",
   "metadata": {},
   "outputs": [],
   "source": [
    "attr = raw_attrs[4]\n",
    "nod = nods[4][\"image\"].squeeze().numpy()\n",
    "attr = preprocess_attribution(attr)\n",
    "\n",
    "nod = nod[:,:,14:]\n",
    "attr = attr[:,:,14:]\n",
    "\n",
    "target_dir = nod_path/\"heatmap_5\"\n",
    "target_dir.mkdir(exist_ok=True)\n",
    "save_heatmap_slices(nod, attr, target_dir)"
   ]
  },
  {
   "cell_type": "code",
   "execution_count": null,
   "id": "98895026",
   "metadata": {},
   "outputs": [],
   "source": []
  }
 ],
 "metadata": {
  "kernelspec": {
   "display_name": "Python 3",
   "language": "python",
   "name": "python3"
  },
  "language_info": {
   "codemirror_mode": {
    "name": "ipython",
    "version": 3
   },
   "file_extension": ".py",
   "mimetype": "text/x-python",
   "name": "python",
   "nbconvert_exporter": "python",
   "pygments_lexer": "ipython3",
   "version": "3.8.5"
  },
  "toc": {
   "base_numbering": 1,
   "nav_menu": {
    "height": "225px",
    "width": "315px"
   },
   "number_sections": true,
   "sideBar": true,
   "skip_h1_title": true,
   "title_cell": "Table of Contents",
   "title_sidebar": "Contents",
   "toc_cell": false,
   "toc_position": {},
   "toc_section_display": true,
   "toc_window_display": false
  }
 },
 "nbformat": 4,
 "nbformat_minor": 5
}
