{
 "cells": [
  {
   "cell_type": "markdown",
   "metadata": {
    "id": "R0eYS0EOABoq"
   },
   "source": [
    "# MSD Lung Nodule Segmentation"
   ]
  },
  {
   "cell_type": "markdown",
   "metadata": {},
   "source": [
    "<a href=\"https://colab.research.google.com/github/felixpeters/lung-cancer-detection/blob/master/nbs/colab/01_MSD_Lung_Nodule_Segmentation.ipynb\" target=\"_parent\"><img src=\"https://colab.research.google.com/assets/colab-badge.svg\" alt=\"Open In Colab\"/></a>"
   ]
  },
  {
   "cell_type": "markdown",
   "metadata": {
    "id": "5JV0TSy9AJcK"
   },
   "source": [
    "## Setup"
   ]
  },
  {
   "cell_type": "code",
   "execution_count": 1,
   "metadata": {
    "colab": {
     "base_uri": "https://localhost:8080/"
    },
    "id": "vTINkNwK9z4_",
    "outputId": "2c7f89c8-9ea0-4cce-c46f-97cd33a9c380"
   },
   "outputs": [
    {
     "name": "stdout",
     "output_type": "stream",
     "text": [
      "Requirement already satisfied: monai[nibabel,pillow,skimage,tqdm] in /opt/conda/lib/python3.8/site-packages (0.5.2)\n",
      "Requirement already satisfied: pytorch_lightning in /opt/conda/lib/python3.8/site-packages (1.3.3)\n",
      "Requirement already satisfied: wandb in /opt/conda/lib/python3.8/site-packages (0.10.30)\n",
      "Requirement already satisfied: torch>=1.5 in /opt/conda/lib/python3.8/site-packages (from monai[nibabel,pillow,skimage,tqdm]) (1.8.0a0+52ea372)\n",
      "Requirement already satisfied: numpy>=1.17 in /opt/conda/lib/python3.8/site-packages (from monai[nibabel,pillow,skimage,tqdm]) (1.19.2)\n",
      "Requirement already satisfied: nibabel; extra == \"nibabel\" in /opt/conda/lib/python3.8/site-packages (from monai[nibabel,pillow,skimage,tqdm]) (3.2.1)\n",
      "Requirement already satisfied: pillow; extra == \"pillow\" in /opt/conda/lib/python3.8/site-packages (from monai[nibabel,pillow,skimage,tqdm]) (8.2.0)\n",
      "Requirement already satisfied: scikit-image>=0.14.2; extra == \"skimage\" in /opt/conda/lib/python3.8/site-packages (from monai[nibabel,pillow,skimage,tqdm]) (0.15.0)\n",
      "Requirement already satisfied: tqdm>=4.47.0; extra == \"tqdm\" in /opt/conda/lib/python3.8/site-packages (from monai[nibabel,pillow,skimage,tqdm]) (4.53.0)\n",
      "Requirement already satisfied: pyDeprecate==0.3.0 in /opt/conda/lib/python3.8/site-packages (from pytorch_lightning) (0.3.0)\n",
      "Requirement already satisfied: tensorboard!=2.5.0,>=2.2.0 in /opt/conda/lib/python3.8/site-packages (from pytorch_lightning) (2.4.1)\n",
      "Requirement already satisfied: future>=0.17.1 in /opt/conda/lib/python3.8/site-packages (from pytorch_lightning) (0.18.2)\n",
      "Requirement already satisfied: torchmetrics>=0.2.0 in /opt/conda/lib/python3.8/site-packages (from pytorch_lightning) (0.3.2)\n",
      "Requirement already satisfied: packaging in /opt/conda/lib/python3.8/site-packages (from pytorch_lightning) (20.9)\n",
      "Requirement already satisfied: fsspec[http]>=2021.4.0 in /opt/conda/lib/python3.8/site-packages (from pytorch_lightning) (2021.5.0)\n",
      "Requirement already satisfied: PyYAML<=5.4.1,>=5.1 in /opt/conda/lib/python3.8/site-packages (from pytorch_lightning) (5.4.1)\n",
      "Requirement already satisfied: six>=1.13.0 in /opt/conda/lib/python3.8/site-packages (from wandb) (1.15.0)\n",
      "Requirement already satisfied: pathtools in /opt/conda/lib/python3.8/site-packages (from wandb) (0.1.2)\n",
      "Requirement already satisfied: promise<3,>=2.0 in /opt/conda/lib/python3.8/site-packages (from wandb) (2.3)\n",
      "Requirement already satisfied: python-dateutil>=2.6.1 in /opt/conda/lib/python3.8/site-packages (from wandb) (2.8.1)\n",
      "Requirement already satisfied: protobuf>=3.12.0 in /opt/conda/lib/python3.8/site-packages (from wandb) (3.14.0)\n",
      "Requirement already satisfied: Click>=7.0 in /opt/conda/lib/python3.8/site-packages (from wandb) (7.1.2)\n",
      "Requirement already satisfied: subprocess32>=3.5.3 in /opt/conda/lib/python3.8/site-packages (from wandb) (3.5.4)\n",
      "Requirement already satisfied: psutil>=5.0.0 in /opt/conda/lib/python3.8/site-packages (from wandb) (5.8.0)\n",
      "Requirement already satisfied: requests<3,>=2.0.0 in /opt/conda/lib/python3.8/site-packages (from wandb) (2.24.0)\n",
      "Requirement already satisfied: shortuuid>=0.5.0 in /opt/conda/lib/python3.8/site-packages (from wandb) (1.0.1)\n",
      "Requirement already satisfied: docker-pycreds>=0.4.0 in /opt/conda/lib/python3.8/site-packages (from wandb) (0.4.0)\n",
      "Requirement already satisfied: GitPython>=1.0.0 in /opt/conda/lib/python3.8/site-packages (from wandb) (3.1.17)\n",
      "Requirement already satisfied: sentry-sdk>=0.4.0 in /opt/conda/lib/python3.8/site-packages (from wandb) (1.1.0)\n",
      "Requirement already satisfied: configparser>=3.8.1 in /opt/conda/lib/python3.8/site-packages (from wandb) (5.0.2)\n",
      "Requirement already satisfied: typing-extensions in /opt/conda/lib/python3.8/site-packages (from torch>=1.5->monai[nibabel,pillow,skimage,tqdm]) (3.7.4.3)\n",
      "Requirement already satisfied: PyWavelets>=0.4.0 in /opt/conda/lib/python3.8/site-packages (from scikit-image>=0.14.2; extra == \"skimage\"->monai[nibabel,pillow,skimage,tqdm]) (1.1.1)\n",
      "Requirement already satisfied: networkx>=2.0 in /opt/conda/lib/python3.8/site-packages (from scikit-image>=0.14.2; extra == \"skimage\"->monai[nibabel,pillow,skimage,tqdm]) (2.0)\n",
      "Requirement already satisfied: imageio>=2.0.1 in /opt/conda/lib/python3.8/site-packages (from scikit-image>=0.14.2; extra == \"skimage\"->monai[nibabel,pillow,skimage,tqdm]) (2.9.0)\n",
      "Requirement already satisfied: grpcio>=1.24.3 in /opt/conda/lib/python3.8/site-packages (from tensorboard!=2.5.0,>=2.2.0->pytorch_lightning) (1.35.0)\n",
      "Requirement already satisfied: setuptools>=41.0.0 in /opt/conda/lib/python3.8/site-packages (from tensorboard!=2.5.0,>=2.2.0->pytorch_lightning) (50.3.1.post20201107)\n",
      "Requirement already satisfied: werkzeug>=0.11.15 in /opt/conda/lib/python3.8/site-packages (from tensorboard!=2.5.0,>=2.2.0->pytorch_lightning) (1.0.1)\n",
      "Requirement already satisfied: absl-py>=0.4 in /opt/conda/lib/python3.8/site-packages (from tensorboard!=2.5.0,>=2.2.0->pytorch_lightning) (0.11.0)\n",
      "Requirement already satisfied: markdown>=2.6.8 in /opt/conda/lib/python3.8/site-packages (from tensorboard!=2.5.0,>=2.2.0->pytorch_lightning) (3.3.3)\n",
      "Requirement already satisfied: google-auth<2,>=1.6.3 in /opt/conda/lib/python3.8/site-packages (from tensorboard!=2.5.0,>=2.2.0->pytorch_lightning) (1.30.1)\n",
      "Requirement already satisfied: tensorboard-plugin-wit>=1.6.0 in /opt/conda/lib/python3.8/site-packages (from tensorboard!=2.5.0,>=2.2.0->pytorch_lightning) (1.8.0)\n",
      "Requirement already satisfied: google-auth-oauthlib<0.5,>=0.4.1 in /opt/conda/lib/python3.8/site-packages (from tensorboard!=2.5.0,>=2.2.0->pytorch_lightning) (0.4.4)\n",
      "Requirement already satisfied: wheel>=0.26; python_version >= \"3\" in /opt/conda/lib/python3.8/site-packages (from tensorboard!=2.5.0,>=2.2.0->pytorch_lightning) (0.35.1)\n",
      "Requirement already satisfied: pyparsing>=2.0.2 in /opt/conda/lib/python3.8/site-packages (from packaging->pytorch_lightning) (2.4.7)\n",
      "Requirement already satisfied: aiohttp; extra == \"http\" in /opt/conda/lib/python3.8/site-packages (from fsspec[http]>=2021.4.0->pytorch_lightning) (3.7.4.post0)\n",
      "Requirement already satisfied: idna<3,>=2.5 in /opt/conda/lib/python3.8/site-packages (from requests<3,>=2.0.0->wandb) (2.10)\n",
      "Requirement already satisfied: certifi>=2017.4.17 in /opt/conda/lib/python3.8/site-packages (from requests<3,>=2.0.0->wandb) (2020.12.5)\n",
      "Requirement already satisfied: chardet<4,>=3.0.2 in /opt/conda/lib/python3.8/site-packages (from requests<3,>=2.0.0->wandb) (3.0.4)\n",
      "Requirement already satisfied: urllib3!=1.25.0,!=1.25.1,<1.26,>=1.21.1 in /opt/conda/lib/python3.8/site-packages (from requests<3,>=2.0.0->wandb) (1.25.11)\n",
      "Requirement already satisfied: gitdb<5,>=4.0.1 in /opt/conda/lib/python3.8/site-packages (from GitPython>=1.0.0->wandb) (4.0.7)\n",
      "Requirement already satisfied: decorator>=4.1.0 in /opt/conda/lib/python3.8/site-packages (from networkx>=2.0->scikit-image>=0.14.2; extra == \"skimage\"->monai[nibabel,pillow,skimage,tqdm]) (4.4.2)\n",
      "Requirement already satisfied: rsa<5,>=3.1.4; python_version >= \"3.6\" in /opt/conda/lib/python3.8/site-packages (from google-auth<2,>=1.6.3->tensorboard!=2.5.0,>=2.2.0->pytorch_lightning) (4.7.2)\n",
      "Requirement already satisfied: cachetools<5.0,>=2.0.0 in /opt/conda/lib/python3.8/site-packages (from google-auth<2,>=1.6.3->tensorboard!=2.5.0,>=2.2.0->pytorch_lightning) (4.2.2)\n",
      "Requirement already satisfied: pyasn1-modules>=0.2.1 in /opt/conda/lib/python3.8/site-packages (from google-auth<2,>=1.6.3->tensorboard!=2.5.0,>=2.2.0->pytorch_lightning) (0.2.8)\n",
      "Requirement already satisfied: requests-oauthlib>=0.7.0 in /opt/conda/lib/python3.8/site-packages (from google-auth-oauthlib<0.5,>=0.4.1->tensorboard!=2.5.0,>=2.2.0->pytorch_lightning) (1.3.0)\n",
      "Requirement already satisfied: attrs>=17.3.0 in /opt/conda/lib/python3.8/site-packages (from aiohttp; extra == \"http\"->fsspec[http]>=2021.4.0->pytorch_lightning) (20.3.0)\n",
      "Requirement already satisfied: multidict<7.0,>=4.5 in /opt/conda/lib/python3.8/site-packages (from aiohttp; extra == \"http\"->fsspec[http]>=2021.4.0->pytorch_lightning) (5.1.0)\n",
      "Requirement already satisfied: yarl<2.0,>=1.0 in /opt/conda/lib/python3.8/site-packages (from aiohttp; extra == \"http\"->fsspec[http]>=2021.4.0->pytorch_lightning) (1.6.3)\n",
      "Requirement already satisfied: async-timeout<4.0,>=3.0 in /opt/conda/lib/python3.8/site-packages (from aiohttp; extra == \"http\"->fsspec[http]>=2021.4.0->pytorch_lightning) (3.0.1)\n",
      "Requirement already satisfied: smmap<5,>=3.0.1 in /opt/conda/lib/python3.8/site-packages (from gitdb<5,>=4.0.1->GitPython>=1.0.0->wandb) (4.0.0)\n",
      "Requirement already satisfied: pyasn1>=0.1.3 in /opt/conda/lib/python3.8/site-packages (from rsa<5,>=3.1.4; python_version >= \"3.6\"->google-auth<2,>=1.6.3->tensorboard!=2.5.0,>=2.2.0->pytorch_lightning) (0.4.8)\n",
      "Requirement already satisfied: oauthlib>=3.0.0 in /opt/conda/lib/python3.8/site-packages (from requests-oauthlib>=0.7.0->google-auth-oauthlib<0.5,>=0.4.1->tensorboard!=2.5.0,>=2.2.0->pytorch_lightning) (3.1.0)\n"
     ]
    }
   ],
   "source": [
    "!pip install \"monai[nibabel,skimage,pillow,tqdm]\" pytorch_lightning wandb"
   ]
  },
  {
   "cell_type": "code",
   "execution_count": 2,
   "metadata": {
    "id": "a9cEJ7Fk_NWB"
   },
   "outputs": [],
   "source": [
    "from typing import Optional\n",
    "from pathlib import Path\n",
    "\n",
    "import torch\n",
    "from monai.config import print_config\n",
    "import pytorch_lightning as pl"
   ]
  },
  {
   "cell_type": "code",
   "execution_count": 3,
   "metadata": {
    "colab": {
     "base_uri": "https://localhost:8080/"
    },
    "id": "0PDl1oH6_X4c",
    "outputId": "94fa2da9-74dc-4e06-8a34-0fec3422be6e"
   },
   "outputs": [
    {
     "name": "stdout",
     "output_type": "stream",
     "text": [
      "MONAI version: 0.5.2\n",
      "Numpy version: 1.19.2\n",
      "Pytorch version: 1.8.0a0+52ea372\n",
      "MONAI flags: HAS_EXT = False, USE_COMPILED = False\n",
      "MONAI rev id: feb3a334b7bbf302b13a6da80e0b022a4cf75a4e\n",
      "\n",
      "Optional dependencies:\n",
      "Pytorch Ignite version: NOT INSTALLED or UNKNOWN VERSION.\n",
      "Nibabel version: 3.2.1\n",
      "scikit-image version: 0.15.0\n",
      "Pillow version: 8.2.0\n",
      "Tensorboard version: 2.4.1\n",
      "gdown version: NOT INSTALLED or UNKNOWN VERSION.\n",
      "TorchVision version: 0.9.0a0\n",
      "ITK version: NOT INSTALLED or UNKNOWN VERSION.\n",
      "tqdm version: 4.53.0\n",
      "lmdb version: 1.1.1\n",
      "psutil version: 5.8.0\n",
      "\n",
      "For details about installing the optional dependencies, please visit:\n",
      "    https://docs.monai.io/en/latest/installation.html#installing-the-recommended-dependencies\n",
      "\n"
     ]
    }
   ],
   "source": [
    "print_config()"
   ]
  },
  {
   "cell_type": "code",
   "execution_count": 4,
   "metadata": {
    "colab": {
     "base_uri": "https://localhost:8080/"
    },
    "id": "VA0r0j2d_qPq",
    "outputId": "17525ab1-8394-4f66-8a6a-a37082e42d12"
   },
   "outputs": [
    {
     "name": "stdout",
     "output_type": "stream",
     "text": [
      "True\n",
      "1\n"
     ]
    }
   ],
   "source": [
    "print(torch.cuda.is_available())\n",
    "print(torch.cuda.device_count())"
   ]
  },
  {
   "cell_type": "code",
   "execution_count": 5,
   "metadata": {},
   "outputs": [
    {
     "name": "stdout",
     "output_type": "stream",
     "text": [
      "Thu May 27 10:53:23 2021       \n",
      "+-----------------------------------------------------------------------------+\n",
      "| NVIDIA-SMI 450.36.06    Driver Version: 450.36.06    CUDA Version: 11.0     |\n",
      "|-------------------------------+----------------------+----------------------+\n",
      "| GPU  Name        Persistence-M| Bus-Id        Disp.A | Volatile Uncorr. ECC |\n",
      "| Fan  Temp  Perf  Pwr:Usage/Cap|         Memory-Usage | GPU-Util  Compute M. |\n",
      "|                               |                      |               MIG M. |\n",
      "|===============================+======================+======================|\n",
      "|   0  Quadro P4000        On   | 00000000:00:05.0 Off |                  N/A |\n",
      "| 46%   29C    P5     6W / 105W |      4MiB /  8119MiB |      0%      Default |\n",
      "|                               |                      |                  N/A |\n",
      "+-------------------------------+----------------------+----------------------+\n",
      "                                                                               \n",
      "+-----------------------------------------------------------------------------+\n",
      "| Processes:                                                                  |\n",
      "|  GPU   GI   CI        PID   Type   Process name                  GPU Memory |\n",
      "|        ID   ID                                                   Usage      |\n",
      "|=============================================================================|\n",
      "|  No running processes found                                                 |\n",
      "+-----------------------------------------------------------------------------+\n",
      "WARNING: infoROM is corrupted at gpu 0000:00:05.0\n"
     ]
    }
   ],
   "source": [
    "!nvidia-smi"
   ]
  },
  {
   "cell_type": "code",
   "execution_count": 6,
   "metadata": {
    "colab": {
     "base_uri": "https://localhost:8080/"
    },
    "id": "C6ZbdtYjXyAM",
    "outputId": "15ee147e-212c-4667-f2de-531a44eab5d1"
   },
   "outputs": [
    {
     "name": "stdout",
     "output_type": "stream",
     "text": [
      "/storage/data/msd\n"
     ]
    }
   ],
   "source": [
    "root_dir = Path(\"/storage/data/msd\").absolute()\n",
    "root_dir.mkdir(parents=True, exist_ok=True)\n",
    "print(root_dir)"
   ]
  },
  {
   "cell_type": "markdown",
   "metadata": {
    "id": "8pS5NzuLASVn"
   },
   "source": [
    "## Define data module"
   ]
  },
  {
   "cell_type": "code",
   "execution_count": 7,
   "metadata": {
    "id": "XlVTl_eP_3Tn"
   },
   "outputs": [],
   "source": [
    "import os\n",
    "from typing import Sequence\n",
    "from torch.utils.data import DataLoader\n",
    "from monai.apps import DecathlonDataset\n",
    "from monai.transforms import (\n",
    "    Compose,\n",
    "    LoadImaged,\n",
    "    AddChanneld,\n",
    "    Spacingd,\n",
    "    ScaleIntensityd,\n",
    "    CropForegroundd,\n",
    "    RandCropByPosNegLabeld,\n",
    "    ToTensord,\n",
    ")\n",
    "from monai.data.utils import list_data_collate\n",
    "\n",
    "class MSDLungDataModule(pl.LightningDataModule):\n",
    "\n",
    "  def __init__(self, \n",
    "               root_dir: Path, \n",
    "               batch_size: int = 1, \n",
    "               spacing: Sequence[float] = (1.5,1.5,2.0), \n",
    "               roi_size: Sequence[int] = [48, 48, 48],\n",
    "               random_seed: int = 47,\n",
    "               ):\n",
    "    super().__init__()\n",
    "    self.root_dir = root_dir\n",
    "    self.spacing = spacing\n",
    "    self.roi_size = roi_size\n",
    "    self.batch_size = batch_size\n",
    "    self.random_seed = random_seed\n",
    "    self.train_transforms = Compose([\n",
    "        LoadImaged(keys=[\"image\", \"label\"]),\n",
    "        AddChanneld(keys=[\"image\", \"label\"]),\n",
    "        Spacingd(keys=[\"image\", \"label\"], pixdim=self.spacing, mode=(\"bilinear\", \"nearest\")),\n",
    "        ScaleIntensityd(keys=[\"image\"]),\n",
    "        CropForegroundd(keys=[\"image\", \"label\"], source_key=\"image\"),\n",
    "        RandCropByPosNegLabeld(\n",
    "            keys=[\"image\", \"label\"], \n",
    "            label_key=\"label\",\n",
    "            spatial_size=self.roi_size,\n",
    "            pos=1,\n",
    "            neg=1,\n",
    "            num_samples=2,\n",
    "            image_key=\"image\",\n",
    "            image_threshold=0,\n",
    "        ),\n",
    "        ToTensord(keys=[\"image\", \"label\"]),\n",
    "    ])\n",
    "    self.valid_transforms = Compose([\n",
    "        LoadImaged(keys=[\"image\", \"label\"]),\n",
    "        AddChanneld(keys=[\"image\", \"label\"]),\n",
    "        Spacingd(keys=[\"image\", \"label\"], pixdim=self.spacing, mode=(\"bilinear\", \"nearest\")),\n",
    "        ScaleIntensityd(keys=[\"image\"]),\n",
    "        CropForegroundd(keys=[\"image\", \"label\"], source_key=\"image\"),\n",
    "        ToTensord(keys=[\"image\", \"label\"]),\n",
    "    ])\n",
    "\n",
    "  def prepare_data(self):\n",
    "    return\n",
    "\n",
    "  def setup(self, stage: Optional[str] = None):\n",
    "    if stage in (None, \"fit\"):\n",
    "      self.train_data = DecathlonDataset(\n",
    "          root_dir=self.root_dir, \n",
    "          task=\"Task06_Lung\",\n",
    "          transform=self.train_transforms,\n",
    "          section=\"training\",\n",
    "          seed=self.random_seed,\n",
    "          download=False,\n",
    "          cache_rate=0.1,\n",
    "          num_workers=os.cpu_count(),\n",
    "      )\n",
    "      self.valid_data = DecathlonDataset(\n",
    "          root_dir=self.root_dir, \n",
    "          task=\"Task06_Lung\",\n",
    "          transform=self.valid_transforms,\n",
    "          section=\"validation\",\n",
    "          seed=self.random_seed,\n",
    "          download=False,\n",
    "          cache_rate=0.1,\n",
    "          num_workers=os.cpu_count(),\n",
    "      )\n",
    "\n",
    "  def train_dataloader(self):\n",
    "    return DataLoader(\n",
    "        self.train_data, \n",
    "        batch_size=self.batch_size, \n",
    "        shuffle=True,\n",
    "        num_workers=os.cpu_count(),\n",
    "        collate_fn=list_data_collate,\n",
    "    )\n",
    "\n",
    "  def val_dataloader(self):\n",
    "    return DataLoader(\n",
    "        self.valid_data, \n",
    "        batch_size=self.batch_size, \n",
    "        shuffle=False,\n",
    "        num_workers=os.cpu_count(),\n",
    "        collate_fn=list_data_collate,\n",
    "    )\n",
    "\n",
    "  def test_dataloader(self):\n",
    "    pass"
   ]
  },
  {
   "cell_type": "code",
   "execution_count": 8,
   "metadata": {
    "id": "N2-r0ThVg4xh"
   },
   "outputs": [],
   "source": [
    "import matplotlib.pyplot as plt\n",
    "\n",
    "def preview(item, z=None):\n",
    "    plt.figure(\"Chest CTs with labels\", (8, 4))\n",
    "    img = item[\"image\"].numpy()[0]\n",
    "    label = item[\"label\"].numpy()[0]\n",
    "    z = z if not None else int(img.shape[2]/2)\n",
    "    plt.subplot(1, 2, 1)\n",
    "    plt.imshow(img[:,:,z], cmap=\"gray\")\n",
    "    plt.title(\"Image\")\n",
    "    plt.subplot(1, 2, 2)\n",
    "    plt.imshow(label[:,:,z], cmap=\"gray\")\n",
    "    plt.title(\"Label\")\n",
    "    plt.show()"
   ]
  },
  {
   "cell_type": "code",
   "execution_count": 9,
   "metadata": {},
   "outputs": [],
   "source": [
    "dm = MSDLungDataModule(root_dir)"
   ]
  },
  {
   "cell_type": "markdown",
   "metadata": {
    "id": "MYDm8MAJBrsO"
   },
   "source": [
    "## Define model module"
   ]
  },
  {
   "cell_type": "code",
   "execution_count": 10,
   "metadata": {
    "id": "awmFf221Bf8k"
   },
   "outputs": [],
   "source": [
    "from typing import Dict\n",
    "import torch\n",
    "import torch.nn as nn\n",
    "from torch.optim import Adam\n",
    "from monai.losses import DiceLoss\n",
    "from monai.inferers import sliding_window_inference\n",
    "\n",
    "from monai.networks.nets import BasicUNet\n",
    "\n",
    "class NoduleSegmentationNet(pl.LightningModule):\n",
    "  \n",
    "  def __init__(self, model: nn.Module = None, lr: float = 1e-4, roi_size=(48, 48, 48)):\n",
    "    super().__init__()\n",
    "    if model:\n",
    "      self.model = model\n",
    "    else:\n",
    "      self.model = BasicUNet(features=(16, 16, 32, 64, 128, 16))\n",
    "    self.lr = lr\n",
    "    self.roi_size = roi_size\n",
    "    self.loss = DiceLoss(to_onehot_y=True, softmax=True)\n",
    "    self.save_hyperparameters()\n",
    "\n",
    "  def forward(self, x: torch.Tensor):\n",
    "    return self.model(x)\n",
    "\n",
    "  def training_step(self, batch: Dict, batch_idx: int):\n",
    "    x, y = batch[\"image\"], batch[\"label\"]\n",
    "    output = self.forward(x)\n",
    "    loss = self.loss(output, y)\n",
    "    self.log(\"train_loss\", loss, logger=True)\n",
    "    return {\"loss\": loss}\n",
    "\n",
    "  def validation_step(self, batch: Dict, batch_idx: int):\n",
    "    x, y = batch[\"image\"], batch[\"label\"]\n",
    "    roi_size = self.roi_size\n",
    "    outputs = sliding_window_inference(x, self.roi_size, 4, self.forward)\n",
    "    loss = self.loss(outputs, y)\n",
    "    self.log(\"val_loss\", loss, logger=True)\n",
    "    return {\"val_loss\": loss}\n",
    "\n",
    "  def configure_optimizers(self):\n",
    "    optimizer = Adam(self.model.parameters(), self.lr)\n",
    "    return optimizer"
   ]
  },
  {
   "cell_type": "code",
   "execution_count": 11,
   "metadata": {},
   "outputs": [
    {
     "name": "stdout",
     "output_type": "stream",
     "text": [
      "BasicUNet features: (16, 16, 32, 64, 128, 16).\n"
     ]
    }
   ],
   "source": [
    "model = NoduleSegmentationNet()"
   ]
  },
  {
   "cell_type": "markdown",
   "metadata": {
    "id": "qev3l5XiB26s"
   },
   "source": [
    "## Configure experiment"
   ]
  },
  {
   "cell_type": "code",
   "execution_count": 12,
   "metadata": {
    "id": "ehULN4_8B4F2"
   },
   "outputs": [],
   "source": [
    "from pytorch_lightning.loggers import WandbLogger\n",
    "from pytorch_lightning.callbacks import EarlyStopping, ModelCheckpoint\n",
    "import wandb"
   ]
  },
  {
   "cell_type": "code",
   "execution_count": 13,
   "metadata": {},
   "outputs": [
    {
     "name": "stderr",
     "output_type": "stream",
     "text": [
      "\u001b[34m\u001b[1mwandb\u001b[0m: Currently logged in as: \u001b[33mfelixpeters\u001b[0m (use `wandb login --relogin` to force relogin)\n"
     ]
    },
    {
     "data": {
      "text/plain": [
       "True"
      ]
     },
     "execution_count": 13,
     "metadata": {},
     "output_type": "execute_result"
    }
   ],
   "source": [
    "wandb.login()"
   ]
  },
  {
   "cell_type": "code",
   "execution_count": 14,
   "metadata": {},
   "outputs": [],
   "source": [
    "logger = WandbLogger(project=\"lung-cancer-detection\", job_type=\"training\")"
   ]
  },
  {
   "cell_type": "code",
   "execution_count": 15,
   "metadata": {},
   "outputs": [],
   "source": [
    "es = EarlyStopping(monitor=\"val_loss\", verbose=True)\n",
    "mc = ModelCheckpoint(monitor=\"val_loss\", filename=\"{epoch}-{step}-{val_loss:.4f}\", verbose=True, save_top_k=1)\n",
    "callbacks = [es, mc]"
   ]
  },
  {
   "cell_type": "code",
   "execution_count": 16,
   "metadata": {},
   "outputs": [],
   "source": [
    "torch.cuda.empty_cache()"
   ]
  },
  {
   "cell_type": "code",
   "execution_count": 17,
   "metadata": {},
   "outputs": [
    {
     "name": "stderr",
     "output_type": "stream",
     "text": [
      "GPU available: True, used: True\n",
      "TPU available: False, using: 0 TPU cores\n"
     ]
    }
   ],
   "source": [
    "from pytorch_lightning import Trainer\n",
    "\n",
    "trainer = Trainer(\n",
    "    logger=logger, \n",
    "    callbacks=callbacks,\n",
    "    max_epochs=100,\n",
    "    max_time={\"hours\": 10},\n",
    "    gpus=1,\n",
    "    auto_select_gpus=True,\n",
    ")"
   ]
  },
  {
   "cell_type": "code",
   "execution_count": 18,
   "metadata": {},
   "outputs": [
    {
     "name": "stderr",
     "output_type": "stream",
     "text": [
      "Loading dataset: 100%|██████████| 5/5 [00:15<00:00,  3.07s/it]\n",
      "Loading dataset: 100%|██████████| 1/1 [00:03<00:00,  3.22s/it]\n",
      "LOCAL_RANK: 0 - CUDA_VISIBLE_DEVICES: [0]\n"
     ]
    },
    {
     "data": {
      "text/html": [
       "\n",
       "                Tracking run with wandb version 0.10.30<br/>\n",
       "                Syncing run <strong style=\"color:#cdcd00\">hearty-bush-49</strong> to <a href=\"https://wandb.ai\" target=\"_blank\">Weights & Biases</a> <a href=\"https://docs.wandb.com/integrations/jupyter.html\" target=\"_blank\">(Documentation)</a>.<br/>\n",
       "                Project page: <a href=\"https://wandb.ai/felixpeters/lung-cancer-detection\" target=\"_blank\">https://wandb.ai/felixpeters/lung-cancer-detection</a><br/>\n",
       "                Run page: <a href=\"https://wandb.ai/felixpeters/lung-cancer-detection/runs/ihi59ytj\" target=\"_blank\">https://wandb.ai/felixpeters/lung-cancer-detection/runs/ihi59ytj</a><br/>\n",
       "                Run data is saved locally in <code>/notebooks/nbs/colab/wandb/run-20210527_105345-ihi59ytj</code><br/><br/>\n",
       "            "
      ],
      "text/plain": [
       "<IPython.core.display.HTML object>"
      ]
     },
     "metadata": {},
     "output_type": "display_data"
    },
    {
     "name": "stderr",
     "output_type": "stream",
     "text": [
      "\n",
      "  | Name  | Type      | Params\n",
      "------------------------------------\n",
      "0 | model | BasicUNet | 1.4 M \n",
      "1 | loss  | DiceLoss  | 0     \n",
      "------------------------------------\n",
      "1.4 M     Trainable params\n",
      "0         Non-trainable params\n",
      "1.4 M     Total params\n",
      "5.755     Total estimated model params size (MB)\n"
     ]
    },
    {
     "name": "stdout",
     "output_type": "stream",
     "text": [
      "Epoch 0:  81%|████████  | 51/63 [01:34<00:22,  1.85s/it, loss=0.685, v_num=9ytj]\n",
      "Validating: 0it [00:00, ?it/s]\u001b[A\n",
      "Validating:   0%|          | 0/12 [00:00<?, ?it/s]\u001b[A\n",
      "Epoch 0:  84%|████████▍ | 53/63 [01:36<00:18,  1.81s/it, loss=0.685, v_num=9ytj]\n",
      "Epoch 0:  86%|████████▌ | 54/63 [01:47<00:17,  2.00s/it, loss=0.685, v_num=9ytj]\n",
      "Epoch 0:  87%|████████▋ | 55/63 [01:47<00:15,  1.96s/it, loss=0.685, v_num=9ytj]\n",
      "Epoch 0:  89%|████████▉ | 56/63 [01:49<00:13,  1.95s/it, loss=0.685, v_num=9ytj]\n",
      "Epoch 0:  90%|█████████ | 57/63 [01:58<00:12,  2.08s/it, loss=0.685, v_num=9ytj]\n",
      "Epoch 0:  92%|█████████▏| 58/63 [02:00<00:10,  2.08s/it, loss=0.685, v_num=9ytj]\n",
      "Epoch 0:  94%|█████████▎| 59/63 [02:03<00:08,  2.08s/it, loss=0.685, v_num=9ytj]\n",
      "Epoch 0:  95%|█████████▌| 60/63 [02:05<00:06,  2.09s/it, loss=0.685, v_num=9ytj]\n",
      "Epoch 0:  97%|█████████▋| 61/63 [02:07<00:04,  2.09s/it, loss=0.685, v_num=9ytj]\n",
      "Epoch 0:  98%|█████████▊| 62/63 [02:09<00:02,  2.08s/it, loss=0.685, v_num=9ytj]\n",
      "Epoch 0: 100%|██████████| 63/63 [02:11<00:00,  2.09s/it, loss=0.685, v_num=9ytj]\n",
      "Validating: 100%|██████████| 12/12 [00:40<00:00,  2.76s/it]\u001b[A"
     ]
    },
    {
     "name": "stderr",
     "output_type": "stream",
     "text": [
      "Metric val_loss improved. New best score: 0.693\n"
     ]
    },
    {
     "name": "stdout",
     "output_type": "stream",
     "text": [
      "Epoch 0: 100%|██████████| 63/63 [02:15<00:00,  2.15s/it, loss=0.685, v_num=9ytj]\n",
      "                                                           \u001b[A"
     ]
    },
    {
     "name": "stderr",
     "output_type": "stream",
     "text": [
      "Epoch 0, global step 50: val_loss reached 0.69347 (best 0.69347), saving model to \"/notebooks/nbs/colab/wandb/run-20210527_105345-ihi59ytj/files/lung-cancer-detection/ihi59ytj/checkpoints/epoch=0-step=50-val_loss=0.6935.ckpt\" as top 1\n"
     ]
    },
    {
     "name": "stdout",
     "output_type": "stream",
     "text": [
      "Epoch 1:  81%|████████  | 51/63 [01:20<00:18,  1.57s/it, loss=0.652, v_num=9ytj]\n",
      "Validating: 0it [00:00, ?it/s]\u001b[A\n",
      "Validating:   0%|          | 0/12 [00:00<?, ?it/s]\u001b[A\n",
      "Epoch 1:  84%|████████▍ | 53/63 [01:22<00:15,  1.55s/it, loss=0.652, v_num=9ytj]\n",
      "Validating:  17%|█▋        | 2/12 [00:08<00:34,  3.40s/it]\u001b[A\n",
      "Epoch 1:  87%|████████▋ | 55/63 [01:32<00:13,  1.68s/it, loss=0.652, v_num=9ytj]\n",
      "Epoch 1:  89%|████████▉ | 56/63 [01:34<00:11,  1.68s/it, loss=0.652, v_num=9ytj]\n",
      "Epoch 1:  90%|█████████ | 57/63 [01:44<00:10,  1.83s/it, loss=0.652, v_num=9ytj]\n",
      "Epoch 1:  92%|█████████▏| 58/63 [01:46<00:09,  1.83s/it, loss=0.652, v_num=9ytj]\n",
      "Epoch 1:  94%|█████████▎| 59/63 [01:48<00:07,  1.84s/it, loss=0.652, v_num=9ytj]\n",
      "Epoch 1:  95%|█████████▌| 60/63 [01:51<00:05,  1.86s/it, loss=0.652, v_num=9ytj]\n",
      "Epoch 1:  97%|█████████▋| 61/63 [01:53<00:03,  1.86s/it, loss=0.652, v_num=9ytj]\n",
      "Epoch 1:  98%|█████████▊| 62/63 [01:54<00:01,  1.85s/it, loss=0.652, v_num=9ytj]\n",
      "Epoch 1: 100%|██████████| 63/63 [01:57<00:00,  1.87s/it, loss=0.652, v_num=9ytj]\n",
      "Validating: 100%|██████████| 12/12 [00:40<00:00,  2.77s/it]\u001b[A"
     ]
    },
    {
     "name": "stderr",
     "output_type": "stream",
     "text": [
      "Metric val_loss improved by 0.013 >= min_delta = 0.0. New best score: 0.680\n"
     ]
    },
    {
     "name": "stdout",
     "output_type": "stream",
     "text": [
      "Epoch 1: 100%|██████████| 63/63 [02:00<00:00,  1.92s/it, loss=0.652, v_num=9ytj]\n",
      "                                                           \u001b[A"
     ]
    },
    {
     "name": "stderr",
     "output_type": "stream",
     "text": [
      "Epoch 1, global step 101: val_loss reached 0.68042 (best 0.68042), saving model to \"/notebooks/nbs/colab/wandb/run-20210527_105345-ihi59ytj/files/lung-cancer-detection/ihi59ytj/checkpoints/epoch=1-step=101-val_loss=0.6804.ckpt\" as top 1\n"
     ]
    },
    {
     "name": "stdout",
     "output_type": "stream",
     "text": [
      "Epoch 2:  81%|████████  | 51/63 [01:20<00:18,  1.57s/it, loss=0.64, v_num=9ytj] \n",
      "Validating: 0it [00:00, ?it/s]\u001b[A\n",
      "Validating:   0%|          | 0/12 [00:00<?, ?it/s]\u001b[A\n",
      "Epoch 2:  84%|████████▍ | 53/63 [01:22<00:15,  1.55s/it, loss=0.64, v_num=9ytj]\n",
      "Validating:  17%|█▋        | 2/12 [00:08<00:32,  3.27s/it]\u001b[A\n",
      "Epoch 2:  87%|████████▋ | 55/63 [01:32<00:13,  1.68s/it, loss=0.64, v_num=9ytj]\n",
      "Epoch 2:  89%|████████▉ | 56/63 [01:34<00:11,  1.69s/it, loss=0.64, v_num=9ytj]\n",
      "Epoch 2:  90%|█████████ | 57/63 [01:44<00:10,  1.83s/it, loss=0.64, v_num=9ytj]\n",
      "Epoch 2:  92%|█████████▏| 58/63 [01:46<00:09,  1.83s/it, loss=0.64, v_num=9ytj]\n",
      "Epoch 2:  94%|█████████▎| 59/63 [01:48<00:07,  1.84s/it, loss=0.64, v_num=9ytj]\n",
      "Epoch 2:  95%|█████████▌| 60/63 [01:51<00:05,  1.86s/it, loss=0.64, v_num=9ytj]\n",
      "Epoch 2:  97%|█████████▋| 61/63 [01:53<00:03,  1.86s/it, loss=0.64, v_num=9ytj]\n",
      "Epoch 2:  98%|█████████▊| 62/63 [01:54<00:01,  1.85s/it, loss=0.64, v_num=9ytj]\n",
      "Epoch 2: 100%|██████████| 63/63 [01:57<00:00,  1.87s/it, loss=0.64, v_num=9ytj]\n",
      "Validating: 100%|██████████| 12/12 [00:40<00:00,  2.77s/it]\u001b[A"
     ]
    },
    {
     "name": "stderr",
     "output_type": "stream",
     "text": [
      "Metric val_loss improved by 0.008 >= min_delta = 0.0. New best score: 0.672\n"
     ]
    },
    {
     "name": "stdout",
     "output_type": "stream",
     "text": [
      "Epoch 2: 100%|██████████| 63/63 [02:00<00:00,  1.92s/it, loss=0.64, v_num=9ytj]\n",
      "                                                           \u001b[A"
     ]
    },
    {
     "name": "stderr",
     "output_type": "stream",
     "text": [
      "Epoch 2, global step 152: val_loss reached 0.67228 (best 0.67228), saving model to \"/notebooks/nbs/colab/wandb/run-20210527_105345-ihi59ytj/files/lung-cancer-detection/ihi59ytj/checkpoints/epoch=2-step=152-val_loss=0.6723.ckpt\" as top 1\n"
     ]
    },
    {
     "name": "stdout",
     "output_type": "stream",
     "text": [
      "Epoch 3:  81%|████████  | 51/63 [01:21<00:19,  1.60s/it, loss=0.632, v_num=9ytj]\n",
      "Validating: 0it [00:00, ?it/s]\u001b[A\n",
      "Validating:   0%|          | 0/12 [00:00<?, ?it/s]\u001b[A\n",
      "Epoch 3:  84%|████████▍ | 53/63 [01:23<00:15,  1.58s/it, loss=0.632, v_num=9ytj]\n",
      "Validating:  17%|█▋        | 2/12 [00:08<00:33,  3.31s/it]\u001b[A\n",
      "Epoch 3:  87%|████████▋ | 55/63 [01:33<00:13,  1.70s/it, loss=0.632, v_num=9ytj]\n",
      "Validating:  33%|███▎      | 4/12 [00:14<00:25,  3.19s/it]\u001b[A\n",
      "Epoch 3:  90%|█████████ | 57/63 [01:45<00:11,  1.85s/it, loss=0.632, v_num=9ytj]\n",
      "Epoch 3:  92%|█████████▏| 58/63 [01:47<00:09,  1.85s/it, loss=0.632, v_num=9ytj]\n",
      "Epoch 3:  94%|█████████▎| 59/63 [01:50<00:07,  1.86s/it, loss=0.632, v_num=9ytj]\n",
      "Epoch 3:  95%|█████████▌| 60/63 [01:52<00:05,  1.88s/it, loss=0.632, v_num=9ytj]\n",
      "Epoch 3:  97%|█████████▋| 61/63 [01:54<00:03,  1.88s/it, loss=0.632, v_num=9ytj]\n",
      "Epoch 3:  98%|█████████▊| 62/63 [01:56<00:01,  1.87s/it, loss=0.632, v_num=9ytj]\n",
      "Epoch 3: 100%|██████████| 63/63 [01:58<00:00,  1.89s/it, loss=0.632, v_num=9ytj]\n",
      "Validating: 100%|██████████| 12/12 [00:40<00:00,  2.77s/it]\u001b[A"
     ]
    },
    {
     "name": "stderr",
     "output_type": "stream",
     "text": [
      "Metric val_loss improved by 0.005 >= min_delta = 0.0. New best score: 0.668\n"
     ]
    },
    {
     "name": "stdout",
     "output_type": "stream",
     "text": [
      "Epoch 3: 100%|██████████| 63/63 [02:02<00:00,  1.94s/it, loss=0.632, v_num=9ytj]\n",
      "                                                           \u001b[A"
     ]
    },
    {
     "name": "stderr",
     "output_type": "stream",
     "text": [
      "Epoch 3, global step 203: val_loss reached 0.66751 (best 0.66751), saving model to \"/notebooks/nbs/colab/wandb/run-20210527_105345-ihi59ytj/files/lung-cancer-detection/ihi59ytj/checkpoints/epoch=3-step=203-val_loss=0.6675.ckpt\" as top 1\n"
     ]
    },
    {
     "name": "stdout",
     "output_type": "stream",
     "text": [
      "Epoch 4:  81%|████████  | 51/63 [01:18<00:18,  1.54s/it, loss=0.62, v_num=9ytj] \n",
      "Validating: 0it [00:00, ?it/s]\u001b[A\n",
      "Validating:   0%|          | 0/12 [00:00<?, ?it/s]\u001b[A\n",
      "Epoch 4:  84%|████████▍ | 53/63 [01:20<00:15,  1.52s/it, loss=0.62, v_num=9ytj]\n",
      "Validating:  17%|█▋        | 2/12 [00:08<00:33,  3.40s/it]\u001b[A\n",
      "Epoch 4:  87%|████████▋ | 55/63 [01:31<00:13,  1.66s/it, loss=0.62, v_num=9ytj]\n",
      "Epoch 4:  89%|████████▉ | 56/63 [01:32<00:11,  1.66s/it, loss=0.62, v_num=9ytj]\n",
      "Epoch 4:  90%|█████████ | 57/63 [01:42<00:10,  1.79s/it, loss=0.62, v_num=9ytj]\n",
      "Epoch 4:  92%|█████████▏| 58/63 [01:44<00:08,  1.80s/it, loss=0.62, v_num=9ytj]\n",
      "Epoch 4:  94%|█████████▎| 59/63 [01:46<00:07,  1.81s/it, loss=0.62, v_num=9ytj]\n",
      "Epoch 4:  95%|█████████▌| 60/63 [01:49<00:05,  1.82s/it, loss=0.62, v_num=9ytj]\n",
      "Epoch 4:  97%|█████████▋| 61/63 [01:51<00:03,  1.83s/it, loss=0.62, v_num=9ytj]\n",
      "Epoch 4:  98%|█████████▊| 62/63 [01:52<00:01,  1.82s/it, loss=0.62, v_num=9ytj]\n",
      "Epoch 4: 100%|██████████| 63/63 [01:55<00:00,  1.83s/it, loss=0.62, v_num=9ytj]\n",
      "Validating: 100%|██████████| 12/12 [00:40<00:00,  2.76s/it]\u001b[A"
     ]
    },
    {
     "name": "stderr",
     "output_type": "stream",
     "text": [
      "Metric val_loss improved by 0.009 >= min_delta = 0.0. New best score: 0.658\n"
     ]
    },
    {
     "name": "stdout",
     "output_type": "stream",
     "text": [
      "Epoch 4: 100%|██████████| 63/63 [01:58<00:00,  1.89s/it, loss=0.62, v_num=9ytj]\n",
      "                                                           \u001b[A"
     ]
    },
    {
     "name": "stderr",
     "output_type": "stream",
     "text": [
      "Epoch 4, global step 254: val_loss reached 0.65819 (best 0.65819), saving model to \"/notebooks/nbs/colab/wandb/run-20210527_105345-ihi59ytj/files/lung-cancer-detection/ihi59ytj/checkpoints/epoch=4-step=254-val_loss=0.6582.ckpt\" as top 1\n"
     ]
    },
    {
     "name": "stdout",
     "output_type": "stream",
     "text": [
      "Epoch 5:  81%|████████  | 51/63 [01:27<00:20,  1.72s/it, loss=0.612, v_num=9ytj]\n",
      "Validating: 0it [00:00, ?it/s]\u001b[A\n",
      "Validating:   0%|          | 0/12 [00:00<?, ?it/s]\u001b[A\n",
      "Epoch 5:  84%|████████▍ | 53/63 [01:29<00:16,  1.69s/it, loss=0.612, v_num=9ytj]\n",
      "Validating:  17%|█▋        | 2/12 [00:08<00:32,  3.28s/it]\u001b[A\n",
      "Epoch 5:  87%|████████▋ | 55/63 [01:39<00:14,  1.82s/it, loss=0.612, v_num=9ytj]\n",
      "Epoch 5:  89%|████████▉ | 56/63 [01:42<00:12,  1.82s/it, loss=0.612, v_num=9ytj]\n",
      "Epoch 5:  90%|█████████ | 57/63 [01:51<00:11,  1.95s/it, loss=0.612, v_num=9ytj]\n",
      "Epoch 5:  92%|█████████▏| 58/63 [01:53<00:09,  1.95s/it, loss=0.612, v_num=9ytj]\n",
      "Epoch 5:  94%|█████████▎| 59/63 [01:55<00:07,  1.96s/it, loss=0.612, v_num=9ytj]\n",
      "Epoch 5:  95%|█████████▌| 60/63 [01:58<00:05,  1.97s/it, loss=0.612, v_num=9ytj]\n",
      "Epoch 5:  97%|█████████▋| 61/63 [02:00<00:03,  1.97s/it, loss=0.612, v_num=9ytj]\n",
      "Epoch 5:  98%|█████████▊| 62/63 [02:01<00:01,  1.97s/it, loss=0.612, v_num=9ytj]\n",
      "Epoch 5: 100%|██████████| 63/63 [02:04<00:00,  1.97s/it, loss=0.612, v_num=9ytj]\n",
      "Validating: 100%|██████████| 12/12 [00:40<00:00,  2.75s/it]\u001b[A"
     ]
    },
    {
     "name": "stderr",
     "output_type": "stream",
     "text": [
      "Metric val_loss improved by 0.004 >= min_delta = 0.0. New best score: 0.655\n"
     ]
    },
    {
     "name": "stdout",
     "output_type": "stream",
     "text": [
      "Epoch 5: 100%|██████████| 63/63 [02:07<00:00,  2.03s/it, loss=0.612, v_num=9ytj]\n",
      "                                                           \u001b[A"
     ]
    },
    {
     "name": "stderr",
     "output_type": "stream",
     "text": [
      "Epoch 5, global step 305: val_loss reached 0.65464 (best 0.65464), saving model to \"/notebooks/nbs/colab/wandb/run-20210527_105345-ihi59ytj/files/lung-cancer-detection/ihi59ytj/checkpoints/epoch=5-step=305-val_loss=0.6546.ckpt\" as top 1\n"
     ]
    },
    {
     "name": "stdout",
     "output_type": "stream",
     "text": [
      "Epoch 6:  81%|████████  | 51/63 [01:17<00:18,  1.52s/it, loss=0.611, v_num=9ytj]\n",
      "Validating: 0it [00:00, ?it/s]\u001b[A\n",
      "Validating:   0%|          | 0/12 [00:00<?, ?it/s]\u001b[A\n",
      "Epoch 6:  84%|████████▍ | 53/63 [01:19<00:14,  1.50s/it, loss=0.611, v_num=9ytj]\n",
      "Validating:  17%|█▋        | 2/12 [00:08<00:34,  3.46s/it]\u001b[A\n",
      "Epoch 6:  87%|████████▋ | 55/63 [01:30<00:13,  1.64s/it, loss=0.611, v_num=9ytj]\n",
      "Epoch 6:  89%|████████▉ | 56/63 [01:32<00:11,  1.65s/it, loss=0.611, v_num=9ytj]\n",
      "Epoch 6:  90%|█████████ | 57/63 [01:41<00:10,  1.78s/it, loss=0.611, v_num=9ytj]\n",
      "Epoch 6:  92%|█████████▏| 58/63 [01:43<00:08,  1.78s/it, loss=0.611, v_num=9ytj]\n",
      "Epoch 6:  94%|█████████▎| 59/63 [01:45<00:07,  1.80s/it, loss=0.611, v_num=9ytj]\n",
      "Epoch 6:  95%|█████████▌| 60/63 [01:48<00:05,  1.81s/it, loss=0.611, v_num=9ytj]\n",
      "Epoch 6:  97%|█████████▋| 61/63 [01:50<00:03,  1.81s/it, loss=0.611, v_num=9ytj]\n",
      "Epoch 6:  98%|█████████▊| 62/63 [01:52<00:01,  1.81s/it, loss=0.611, v_num=9ytj]\n",
      "Epoch 6: 100%|██████████| 63/63 [01:54<00:00,  1.82s/it, loss=0.611, v_num=9ytj]\n",
      "Validating: 100%|██████████| 12/12 [00:40<00:00,  2.76s/it]\u001b[A"
     ]
    },
    {
     "name": "stderr",
     "output_type": "stream",
     "text": [
      "Metric val_loss improved by 0.007 >= min_delta = 0.0. New best score: 0.648\n"
     ]
    },
    {
     "name": "stdout",
     "output_type": "stream",
     "text": [
      "Epoch 6: 100%|██████████| 63/63 [01:58<00:00,  1.88s/it, loss=0.611, v_num=9ytj]\n",
      "                                                           \u001b[A"
     ]
    },
    {
     "name": "stderr",
     "output_type": "stream",
     "text": [
      "Epoch 6, global step 356: val_loss reached 0.64784 (best 0.64784), saving model to \"/notebooks/nbs/colab/wandb/run-20210527_105345-ihi59ytj/files/lung-cancer-detection/ihi59ytj/checkpoints/epoch=6-step=356-val_loss=0.6478.ckpt\" as top 1\n"
     ]
    },
    {
     "name": "stdout",
     "output_type": "stream",
     "text": [
      "Epoch 7:  81%|████████  | 51/63 [01:21<00:19,  1.60s/it, loss=0.586, v_num=9ytj]\n",
      "Validating: 0it [00:00, ?it/s]\u001b[A\n",
      "Validating:   0%|          | 0/12 [00:00<?, ?it/s]\u001b[A\n",
      "Epoch 7:  84%|████████▍ | 53/63 [01:23<00:15,  1.58s/it, loss=0.586, v_num=9ytj]\n",
      "Epoch 7:  86%|████████▌ | 54/63 [01:34<00:15,  1.74s/it, loss=0.586, v_num=9ytj]\n",
      "Epoch 7:  87%|████████▋ | 55/63 [01:35<00:13,  1.73s/it, loss=0.586, v_num=9ytj]\n",
      "Epoch 7:  89%|████████▉ | 56/63 [01:36<00:12,  1.73s/it, loss=0.586, v_num=9ytj]\n",
      "Epoch 7:  90%|█████████ | 57/63 [01:46<00:11,  1.86s/it, loss=0.586, v_num=9ytj]\n",
      "Epoch 7:  92%|█████████▏| 58/63 [01:48<00:09,  1.87s/it, loss=0.586, v_num=9ytj]\n",
      "Epoch 7:  94%|█████████▎| 59/63 [01:50<00:07,  1.88s/it, loss=0.586, v_num=9ytj]\n",
      "Epoch 7:  95%|█████████▌| 60/63 [01:53<00:05,  1.89s/it, loss=0.586, v_num=9ytj]\n",
      "Epoch 7:  97%|█████████▋| 61/63 [01:55<00:03,  1.89s/it, loss=0.586, v_num=9ytj]\n",
      "Epoch 7:  98%|█████████▊| 62/63 [01:56<00:01,  1.89s/it, loss=0.586, v_num=9ytj]\n",
      "Epoch 7: 100%|██████████| 63/63 [01:59<00:00,  1.90s/it, loss=0.586, v_num=9ytj]\n",
      "Validating: 100%|██████████| 12/12 [00:41<00:00,  2.77s/it]\u001b[A"
     ]
    },
    {
     "name": "stderr",
     "output_type": "stream",
     "text": [
      "Metric val_loss improved by 0.001 >= min_delta = 0.0. New best score: 0.647\n"
     ]
    },
    {
     "name": "stdout",
     "output_type": "stream",
     "text": [
      "Epoch 7: 100%|██████████| 63/63 [02:03<00:00,  1.95s/it, loss=0.586, v_num=9ytj]\n",
      "                                                           \u001b[A"
     ]
    },
    {
     "name": "stderr",
     "output_type": "stream",
     "text": [
      "Epoch 7, global step 407: val_loss reached 0.64729 (best 0.64729), saving model to \"/notebooks/nbs/colab/wandb/run-20210527_105345-ihi59ytj/files/lung-cancer-detection/ihi59ytj/checkpoints/epoch=7-step=407-val_loss=0.6473.ckpt\" as top 1\n"
     ]
    },
    {
     "name": "stdout",
     "output_type": "stream",
     "text": [
      "Epoch 8:  81%|████████  | 51/63 [01:23<00:19,  1.64s/it, loss=0.597, v_num=9ytj]\n",
      "Validating: 0it [00:00, ?it/s]\u001b[A\n",
      "Validating:   0%|          | 0/12 [00:00<?, ?it/s]\u001b[A\n",
      "Epoch 8:  84%|████████▍ | 53/63 [01:25<00:16,  1.62s/it, loss=0.597, v_num=9ytj]\n",
      "Validating:  17%|█▋        | 2/12 [00:08<00:32,  3.22s/it]\u001b[A\n",
      "Epoch 8:  87%|████████▋ | 55/63 [01:36<00:14,  1.75s/it, loss=0.597, v_num=9ytj]\n",
      "Epoch 8:  89%|████████▉ | 56/63 [01:38<00:12,  1.76s/it, loss=0.597, v_num=9ytj]\n",
      "Epoch 8:  90%|█████████ | 57/63 [01:47<00:11,  1.89s/it, loss=0.597, v_num=9ytj]\n",
      "Epoch 8:  92%|█████████▏| 58/63 [01:49<00:09,  1.90s/it, loss=0.597, v_num=9ytj]\n",
      "Epoch 8:  94%|█████████▎| 59/63 [01:52<00:07,  1.91s/it, loss=0.597, v_num=9ytj]\n",
      "Epoch 8:  95%|█████████▌| 60/63 [01:55<00:05,  1.92s/it, loss=0.597, v_num=9ytj]\n",
      "Epoch 8:  97%|█████████▋| 61/63 [01:57<00:03,  1.92s/it, loss=0.597, v_num=9ytj]\n",
      "Epoch 8:  98%|█████████▊| 62/63 [01:58<00:01,  1.91s/it, loss=0.597, v_num=9ytj]\n",
      "Epoch 8: 100%|██████████| 63/63 [02:01<00:00,  1.92s/it, loss=0.597, v_num=9ytj]\n",
      "Validating: 100%|██████████| 12/12 [00:40<00:00,  2.77s/it]\u001b[A"
     ]
    },
    {
     "name": "stderr",
     "output_type": "stream",
     "text": [
      "Metric val_loss improved by 0.009 >= min_delta = 0.0. New best score: 0.639\n"
     ]
    },
    {
     "name": "stdout",
     "output_type": "stream",
     "text": [
      "Epoch 8: 100%|██████████| 63/63 [02:04<00:00,  1.98s/it, loss=0.597, v_num=9ytj]\n",
      "                                                           \u001b[A"
     ]
    },
    {
     "name": "stderr",
     "output_type": "stream",
     "text": [
      "Epoch 8, global step 458: val_loss reached 0.63869 (best 0.63869), saving model to \"/notebooks/nbs/colab/wandb/run-20210527_105345-ihi59ytj/files/lung-cancer-detection/ihi59ytj/checkpoints/epoch=8-step=458-val_loss=0.6387.ckpt\" as top 1\n"
     ]
    },
    {
     "name": "stdout",
     "output_type": "stream",
     "text": [
      "Epoch 9:  81%|████████  | 51/63 [01:19<00:18,  1.56s/it, loss=0.587, v_num=9ytj]\n",
      "Validating: 0it [00:00, ?it/s]\u001b[A\n",
      "Validating:   0%|          | 0/12 [00:00<?, ?it/s]\u001b[A\n",
      "Epoch 9:  84%|████████▍ | 53/63 [01:21<00:15,  1.54s/it, loss=0.587, v_num=9ytj]\n",
      "Validating:  17%|█▋        | 2/12 [00:08<00:34,  3.46s/it]\u001b[A\n",
      "Epoch 9:  87%|████████▋ | 55/63 [01:31<00:13,  1.67s/it, loss=0.587, v_num=9ytj]\n",
      "Epoch 9:  89%|████████▉ | 56/63 [01:34<00:11,  1.69s/it, loss=0.587, v_num=9ytj]\n",
      "Epoch 9:  90%|█████████ | 57/63 [01:43<00:10,  1.81s/it, loss=0.587, v_num=9ytj]\n",
      "Epoch 9:  92%|█████████▏| 58/63 [01:45<00:09,  1.81s/it, loss=0.587, v_num=9ytj]\n",
      "Epoch 9:  94%|█████████▎| 59/63 [01:47<00:07,  1.83s/it, loss=0.587, v_num=9ytj]\n",
      "Epoch 9:  95%|█████████▌| 60/63 [01:50<00:05,  1.84s/it, loss=0.587, v_num=9ytj]\n",
      "Epoch 9:  97%|█████████▋| 61/63 [01:52<00:03,  1.84s/it, loss=0.587, v_num=9ytj]\n",
      "Epoch 9:  98%|█████████▊| 62/63 [01:53<00:01,  1.84s/it, loss=0.587, v_num=9ytj]\n",
      "Epoch 9: 100%|██████████| 63/63 [01:56<00:00,  1.85s/it, loss=0.587, v_num=9ytj]\n",
      "Validating: 100%|██████████| 12/12 [00:40<00:00,  2.75s/it]\u001b[A"
     ]
    },
    {
     "name": "stderr",
     "output_type": "stream",
     "text": [
      "Metric val_loss improved by 0.001 >= min_delta = 0.0. New best score: 0.637\n"
     ]
    },
    {
     "name": "stdout",
     "output_type": "stream",
     "text": [
      "Epoch 9: 100%|██████████| 63/63 [01:59<00:00,  1.90s/it, loss=0.587, v_num=9ytj]\n",
      "                                                           \u001b[A"
     ]
    },
    {
     "name": "stderr",
     "output_type": "stream",
     "text": [
      "Epoch 9, global step 509: val_loss reached 0.63743 (best 0.63743), saving model to \"/notebooks/nbs/colab/wandb/run-20210527_105345-ihi59ytj/files/lung-cancer-detection/ihi59ytj/checkpoints/epoch=9-step=509-val_loss=0.6374.ckpt\" as top 1\n"
     ]
    },
    {
     "name": "stdout",
     "output_type": "stream",
     "text": [
      "Epoch 10:  81%|████████  | 51/63 [01:18<00:18,  1.54s/it, loss=0.58, v_num=9ytj] \n",
      "Validating: 0it [00:00, ?it/s]\u001b[A\n",
      "Validating:   0%|          | 0/12 [00:00<?, ?it/s]\u001b[A\n",
      "Epoch 10:  84%|████████▍ | 53/63 [01:20<00:15,  1.52s/it, loss=0.58, v_num=9ytj]\n",
      "Validating:  17%|█▋        | 2/12 [00:08<00:32,  3.28s/it]\u001b[A\n",
      "Epoch 10:  87%|████████▋ | 55/63 [01:31<00:13,  1.67s/it, loss=0.58, v_num=9ytj]\n",
      "Epoch 10:  89%|████████▉ | 56/63 [01:33<00:11,  1.67s/it, loss=0.58, v_num=9ytj]\n",
      "Epoch 10:  90%|█████████ | 57/63 [01:41<00:10,  1.79s/it, loss=0.58, v_num=9ytj]\n",
      "Epoch 10:  92%|█████████▏| 58/63 [01:43<00:08,  1.79s/it, loss=0.58, v_num=9ytj]\n",
      "Epoch 10:  94%|█████████▎| 59/63 [01:46<00:07,  1.80s/it, loss=0.58, v_num=9ytj]\n",
      "Epoch 10:  95%|█████████▌| 60/63 [01:49<00:05,  1.82s/it, loss=0.58, v_num=9ytj]\n",
      "Epoch 10:  97%|█████████▋| 61/63 [01:51<00:03,  1.82s/it, loss=0.58, v_num=9ytj]\n",
      "Epoch 10:  98%|█████████▊| 62/63 [01:52<00:01,  1.82s/it, loss=0.58, v_num=9ytj]\n",
      "Epoch 10: 100%|██████████| 63/63 [01:55<00:00,  1.83s/it, loss=0.58, v_num=9ytj]\n",
      "Validating: 100%|██████████| 12/12 [00:40<00:00,  2.74s/it]\u001b[A"
     ]
    },
    {
     "name": "stderr",
     "output_type": "stream",
     "text": [
      "Metric val_loss improved by 0.004 >= min_delta = 0.0. New best score: 0.634\n"
     ]
    },
    {
     "name": "stdout",
     "output_type": "stream",
     "text": [
      "Epoch 10: 100%|██████████| 63/63 [01:58<00:00,  1.88s/it, loss=0.58, v_num=9ytj]\n",
      "                                                           \u001b[A"
     ]
    },
    {
     "name": "stderr",
     "output_type": "stream",
     "text": [
      "Epoch 10, global step 560: val_loss reached 0.63354 (best 0.63354), saving model to \"/notebooks/nbs/colab/wandb/run-20210527_105345-ihi59ytj/files/lung-cancer-detection/ihi59ytj/checkpoints/epoch=10-step=560-val_loss=0.6335.ckpt\" as top 1\n"
     ]
    },
    {
     "name": "stdout",
     "output_type": "stream",
     "text": [
      "Epoch 11:  81%|████████  | 51/63 [01:28<00:20,  1.74s/it, loss=0.57, v_num=9ytj] \n",
      "Validating: 0it [00:00, ?it/s]\u001b[A\n",
      "Validating:   0%|          | 0/12 [00:00<?, ?it/s]\u001b[A\n",
      "Epoch 11:  84%|████████▍ | 53/63 [01:30<00:17,  1.71s/it, loss=0.57, v_num=9ytj]\n",
      "Validating:  17%|█▋        | 2/12 [00:08<00:32,  3.20s/it]\u001b[A\n",
      "Epoch 11:  87%|████████▋ | 55/63 [01:42<00:14,  1.86s/it, loss=0.57, v_num=9ytj]\n",
      "Epoch 11:  89%|████████▉ | 56/63 [01:43<00:12,  1.86s/it, loss=0.57, v_num=9ytj]\n",
      "Epoch 11:  90%|█████████ | 57/63 [01:52<00:11,  1.98s/it, loss=0.57, v_num=9ytj]\n",
      "Epoch 11:  92%|█████████▏| 58/63 [01:54<00:09,  1.98s/it, loss=0.57, v_num=9ytj]\n",
      "Epoch 11:  94%|█████████▎| 59/63 [01:57<00:07,  1.99s/it, loss=0.57, v_num=9ytj]\n",
      "Epoch 11:  95%|█████████▌| 60/63 [01:59<00:05,  2.00s/it, loss=0.57, v_num=9ytj]\n",
      "Epoch 11:  97%|█████████▋| 61/63 [02:01<00:03,  2.00s/it, loss=0.57, v_num=9ytj]\n",
      "Epoch 11:  98%|█████████▊| 62/63 [02:03<00:01,  1.99s/it, loss=0.57, v_num=9ytj]\n",
      "Epoch 11: 100%|██████████| 63/63 [02:05<00:00,  2.00s/it, loss=0.57, v_num=9ytj]\n",
      "Validating: 100%|██████████| 12/12 [00:40<00:00,  2.75s/it]\u001b[A"
     ]
    },
    {
     "name": "stderr",
     "output_type": "stream",
     "text": [
      "Metric val_loss improved by 0.006 >= min_delta = 0.0. New best score: 0.627\n"
     ]
    },
    {
     "name": "stdout",
     "output_type": "stream",
     "text": [
      "Epoch 11: 100%|██████████| 63/63 [02:09<00:00,  2.05s/it, loss=0.57, v_num=9ytj]\n",
      "                                                           \u001b[A"
     ]
    },
    {
     "name": "stderr",
     "output_type": "stream",
     "text": [
      "Epoch 11, global step 611: val_loss reached 0.62711 (best 0.62711), saving model to \"/notebooks/nbs/colab/wandb/run-20210527_105345-ihi59ytj/files/lung-cancer-detection/ihi59ytj/checkpoints/epoch=11-step=611-val_loss=0.6271.ckpt\" as top 1\n"
     ]
    },
    {
     "name": "stdout",
     "output_type": "stream",
     "text": [
      "Epoch 12:  81%|████████  | 51/63 [01:22<00:19,  1.63s/it, loss=0.571, v_num=9ytj]\n",
      "Validating: 0it [00:00, ?it/s]\u001b[A\n",
      "Validating:   0%|          | 0/12 [00:00<?, ?it/s]\u001b[A\n",
      "Epoch 12:  84%|████████▍ | 53/63 [01:24<00:15,  1.60s/it, loss=0.571, v_num=9ytj]\n",
      "Validating:  17%|█▋        | 2/12 [00:08<00:32,  3.22s/it]\u001b[A\n",
      "Epoch 12:  87%|████████▋ | 55/63 [01:35<00:13,  1.74s/it, loss=0.571, v_num=9ytj]\n",
      "Epoch 12:  89%|████████▉ | 56/63 [01:37<00:12,  1.74s/it, loss=0.571, v_num=9ytj]\n",
      "Epoch 12:  90%|█████████ | 57/63 [01:46<00:11,  1.88s/it, loss=0.571, v_num=9ytj]\n",
      "Epoch 12:  92%|█████████▏| 58/63 [01:48<00:09,  1.88s/it, loss=0.571, v_num=9ytj]\n",
      "Epoch 12:  94%|█████████▎| 59/63 [01:51<00:07,  1.89s/it, loss=0.571, v_num=9ytj]\n",
      "Epoch 12:  95%|█████████▌| 60/63 [01:54<00:05,  1.90s/it, loss=0.571, v_num=9ytj]\n",
      "Epoch 12:  97%|█████████▋| 61/63 [01:56<00:03,  1.90s/it, loss=0.571, v_num=9ytj]\n",
      "Epoch 12:  98%|█████████▊| 62/63 [01:57<00:01,  1.90s/it, loss=0.571, v_num=9ytj]\n",
      "Epoch 12: 100%|██████████| 63/63 [02:00<00:00,  1.91s/it, loss=0.571, v_num=9ytj]\n",
      "Validating: 100%|██████████| 12/12 [00:40<00:00,  2.76s/it]\u001b[A"
     ]
    },
    {
     "name": "stderr",
     "output_type": "stream",
     "text": [
      "Metric val_loss improved by 0.004 >= min_delta = 0.0. New best score: 0.623\n"
     ]
    },
    {
     "name": "stdout",
     "output_type": "stream",
     "text": [
      "Epoch 12: 100%|██████████| 63/63 [02:03<00:00,  1.96s/it, loss=0.571, v_num=9ytj]\n",
      "                                                           \u001b[A"
     ]
    },
    {
     "name": "stderr",
     "output_type": "stream",
     "text": [
      "Epoch 12, global step 662: val_loss reached 0.62281 (best 0.62281), saving model to \"/notebooks/nbs/colab/wandb/run-20210527_105345-ihi59ytj/files/lung-cancer-detection/ihi59ytj/checkpoints/epoch=12-step=662-val_loss=0.6228.ckpt\" as top 1\n"
     ]
    },
    {
     "name": "stdout",
     "output_type": "stream",
     "text": [
      "Epoch 13:  81%|████████  | 51/63 [01:15<00:17,  1.47s/it, loss=0.562, v_num=9ytj]\n",
      "Validating: 0it [00:00, ?it/s]\u001b[A\n",
      "Validating:   0%|          | 0/12 [00:00<?, ?it/s]\u001b[A\n",
      "Epoch 13:  84%|████████▍ | 53/63 [01:17<00:14,  1.46s/it, loss=0.562, v_num=9ytj]\n",
      "Validating:  17%|█▋        | 2/12 [00:08<00:33,  3.32s/it]\u001b[A\n",
      "Epoch 13:  87%|████████▋ | 55/63 [01:28<00:12,  1.60s/it, loss=0.562, v_num=9ytj]\n",
      "Epoch 13:  89%|████████▉ | 56/63 [01:29<00:11,  1.61s/it, loss=0.562, v_num=9ytj]\n",
      "Epoch 13:  90%|█████████ | 57/63 [01:39<00:10,  1.74s/it, loss=0.562, v_num=9ytj]\n",
      "Epoch 13:  92%|█████████▏| 58/63 [01:41<00:08,  1.75s/it, loss=0.562, v_num=9ytj]\n",
      "Epoch 13:  94%|█████████▎| 59/63 [01:43<00:07,  1.76s/it, loss=0.562, v_num=9ytj]\n",
      "Epoch 13:  95%|█████████▌| 60/63 [01:46<00:05,  1.77s/it, loss=0.562, v_num=9ytj]\n",
      "Epoch 13:  97%|█████████▋| 61/63 [01:48<00:03,  1.78s/it, loss=0.562, v_num=9ytj]\n",
      "Epoch 13:  98%|█████████▊| 62/63 [01:49<00:01,  1.77s/it, loss=0.562, v_num=9ytj]\n",
      "Epoch 13: 100%|██████████| 63/63 [01:52<00:00,  1.79s/it, loss=0.562, v_num=9ytj]\n",
      "Validating: 100%|██████████| 12/12 [00:40<00:00,  2.76s/it]\u001b[A"
     ]
    },
    {
     "name": "stderr",
     "output_type": "stream",
     "text": [
      "Metric val_loss improved by 0.003 >= min_delta = 0.0. New best score: 0.620\n"
     ]
    },
    {
     "name": "stdout",
     "output_type": "stream",
     "text": [
      "Epoch 13: 100%|██████████| 63/63 [01:55<00:00,  1.84s/it, loss=0.562, v_num=9ytj]\n",
      "                                                           \u001b[A"
     ]
    },
    {
     "name": "stderr",
     "output_type": "stream",
     "text": [
      "Epoch 13, global step 713: val_loss reached 0.61965 (best 0.61965), saving model to \"/notebooks/nbs/colab/wandb/run-20210527_105345-ihi59ytj/files/lung-cancer-detection/ihi59ytj/checkpoints/epoch=13-step=713-val_loss=0.6196.ckpt\" as top 1\n"
     ]
    },
    {
     "name": "stdout",
     "output_type": "stream",
     "text": [
      "Epoch 14:  81%|████████  | 51/63 [01:17<00:18,  1.52s/it, loss=0.555, v_num=9ytj]\n",
      "Validating: 0it [00:00, ?it/s]\u001b[A\n",
      "Validating:   0%|          | 0/12 [00:00<?, ?it/s]\u001b[A\n",
      "Epoch 14:  84%|████████▍ | 53/63 [01:19<00:14,  1.50s/it, loss=0.555, v_num=9ytj]\n",
      "Epoch 14:  86%|████████▌ | 54/63 [01:29<00:14,  1.66s/it, loss=0.555, v_num=9ytj]\n",
      "Epoch 14:  87%|████████▋ | 55/63 [01:30<00:13,  1.64s/it, loss=0.555, v_num=9ytj]\n",
      "Epoch 14:  89%|████████▉ | 56/63 [01:31<00:11,  1.64s/it, loss=0.555, v_num=9ytj]\n",
      "Epoch 14:  90%|█████████ | 57/63 [01:41<00:10,  1.77s/it, loss=0.555, v_num=9ytj]\n",
      "Epoch 14:  92%|█████████▏| 58/63 [01:43<00:08,  1.78s/it, loss=0.555, v_num=9ytj]\n",
      "Epoch 14:  94%|█████████▎| 59/63 [01:45<00:07,  1.79s/it, loss=0.555, v_num=9ytj]\n",
      "Epoch 14:  95%|█████████▌| 60/63 [01:48<00:05,  1.81s/it, loss=0.555, v_num=9ytj]\n",
      "Epoch 14:  97%|█████████▋| 61/63 [01:50<00:03,  1.81s/it, loss=0.555, v_num=9ytj]\n",
      "Epoch 14:  98%|█████████▊| 62/63 [01:51<00:01,  1.80s/it, loss=0.555, v_num=9ytj]\n",
      "Epoch 14: 100%|██████████| 63/63 [01:54<00:00,  1.82s/it, loss=0.555, v_num=9ytj]\n",
      "Validating: 100%|██████████| 12/12 [00:40<00:00,  2.76s/it]\u001b[A"
     ]
    },
    {
     "name": "stderr",
     "output_type": "stream",
     "text": [
      "Metric val_loss improved by 0.004 >= min_delta = 0.0. New best score: 0.616\n"
     ]
    },
    {
     "name": "stdout",
     "output_type": "stream",
     "text": [
      "Epoch 14: 100%|██████████| 63/63 [01:57<00:00,  1.87s/it, loss=0.555, v_num=9ytj]\n",
      "                                                           \u001b[A"
     ]
    },
    {
     "name": "stderr",
     "output_type": "stream",
     "text": [
      "Epoch 14, global step 764: val_loss reached 0.61587 (best 0.61587), saving model to \"/notebooks/nbs/colab/wandb/run-20210527_105345-ihi59ytj/files/lung-cancer-detection/ihi59ytj/checkpoints/epoch=14-step=764-val_loss=0.6159.ckpt\" as top 1\n"
     ]
    },
    {
     "name": "stdout",
     "output_type": "stream",
     "text": [
      "Epoch 15:  81%|████████  | 51/63 [01:19<00:18,  1.56s/it, loss=0.557, v_num=9ytj]\n",
      "Validating: 0it [00:00, ?it/s]\u001b[A\n",
      "Validating:   0%|          | 0/12 [00:00<?, ?it/s]\u001b[A\n",
      "Epoch 15:  84%|████████▍ | 53/63 [01:21<00:15,  1.54s/it, loss=0.557, v_num=9ytj]\n",
      "Validating:  17%|█▋        | 2/12 [00:08<00:31,  3.19s/it]\u001b[A\n",
      "Epoch 15:  87%|████████▋ | 55/63 [01:32<00:13,  1.68s/it, loss=0.557, v_num=9ytj]\n",
      "Epoch 15:  89%|████████▉ | 56/63 [01:34<00:11,  1.69s/it, loss=0.557, v_num=9ytj]\n",
      "Epoch 15:  90%|█████████ | 57/63 [01:43<00:10,  1.82s/it, loss=0.557, v_num=9ytj]\n",
      "Epoch 15:  92%|█████████▏| 58/63 [01:45<00:09,  1.83s/it, loss=0.557, v_num=9ytj]\n",
      "Epoch 15:  94%|█████████▎| 59/63 [01:48<00:07,  1.84s/it, loss=0.557, v_num=9ytj]\n",
      "Epoch 15:  95%|█████████▌| 60/63 [01:51<00:05,  1.85s/it, loss=0.557, v_num=9ytj]\n",
      "Epoch 15:  97%|█████████▋| 61/63 [01:53<00:03,  1.85s/it, loss=0.557, v_num=9ytj]\n",
      "Epoch 15:  98%|█████████▊| 62/63 [01:54<00:01,  1.85s/it, loss=0.557, v_num=9ytj]\n",
      "Epoch 15: 100%|██████████| 63/63 [01:57<00:00,  1.86s/it, loss=0.557, v_num=9ytj]\n",
      "Validating: 100%|██████████| 12/12 [00:40<00:00,  2.77s/it]\u001b[A"
     ]
    },
    {
     "name": "stderr",
     "output_type": "stream",
     "text": [
      "Metric val_loss improved by 0.005 >= min_delta = 0.0. New best score: 0.611\n"
     ]
    },
    {
     "name": "stdout",
     "output_type": "stream",
     "text": [
      "Epoch 15: 100%|██████████| 63/63 [02:00<00:00,  1.92s/it, loss=0.557, v_num=9ytj]\n",
      "                                                           \u001b[A"
     ]
    },
    {
     "name": "stderr",
     "output_type": "stream",
     "text": [
      "Epoch 15, global step 815: val_loss reached 0.61089 (best 0.61089), saving model to \"/notebooks/nbs/colab/wandb/run-20210527_105345-ihi59ytj/files/lung-cancer-detection/ihi59ytj/checkpoints/epoch=15-step=815-val_loss=0.6109.ckpt\" as top 1\n"
     ]
    },
    {
     "name": "stdout",
     "output_type": "stream",
     "text": [
      "Epoch 16:  81%|████████  | 51/63 [01:22<00:19,  1.62s/it, loss=0.541, v_num=9ytj]\n",
      "Validating: 0it [00:00, ?it/s]\u001b[A\n",
      "Validating:   0%|          | 0/12 [00:00<?, ?it/s]\u001b[A\n",
      "Epoch 16:  84%|████████▍ | 53/63 [01:24<00:15,  1.60s/it, loss=0.541, v_num=9ytj]\n",
      "Validating:  17%|█▋        | 2/12 [00:08<00:34,  3.43s/it]\u001b[A\n",
      "Epoch 16:  87%|████████▋ | 55/63 [01:36<00:13,  1.75s/it, loss=0.541, v_num=9ytj]\n",
      "Epoch 16:  89%|████████▉ | 56/63 [01:37<00:12,  1.75s/it, loss=0.541, v_num=9ytj]\n",
      "Epoch 16:  90%|█████████ | 57/63 [01:46<00:11,  1.87s/it, loss=0.541, v_num=9ytj]\n",
      "Epoch 16:  92%|█████████▏| 58/63 [01:48<00:09,  1.87s/it, loss=0.541, v_num=9ytj]\n",
      "Epoch 16:  94%|█████████▎| 59/63 [01:51<00:07,  1.88s/it, loss=0.541, v_num=9ytj]\n",
      "Epoch 16:  95%|█████████▌| 60/63 [01:53<00:05,  1.89s/it, loss=0.541, v_num=9ytj]\n",
      "Epoch 16:  97%|█████████▋| 61/63 [01:55<00:03,  1.90s/it, loss=0.541, v_num=9ytj]\n",
      "Epoch 16:  98%|█████████▊| 62/63 [01:57<00:01,  1.89s/it, loss=0.541, v_num=9ytj]\n",
      "Epoch 16: 100%|██████████| 63/63 [01:59<00:00,  1.90s/it, loss=0.541, v_num=9ytj]\n",
      "Validating: 100%|██████████| 12/12 [00:40<00:00,  2.75s/it]\u001b[A"
     ]
    },
    {
     "name": "stderr",
     "output_type": "stream",
     "text": [
      "Metric val_loss improved by 0.004 >= min_delta = 0.0. New best score: 0.607\n"
     ]
    },
    {
     "name": "stdout",
     "output_type": "stream",
     "text": [
      "Epoch 16: 100%|██████████| 63/63 [02:03<00:00,  1.96s/it, loss=0.541, v_num=9ytj]\n",
      "                                                           \u001b[A"
     ]
    },
    {
     "name": "stderr",
     "output_type": "stream",
     "text": [
      "Epoch 16, global step 866: val_loss reached 0.60691 (best 0.60691), saving model to \"/notebooks/nbs/colab/wandb/run-20210527_105345-ihi59ytj/files/lung-cancer-detection/ihi59ytj/checkpoints/epoch=16-step=866-val_loss=0.6069.ckpt\" as top 1\n"
     ]
    },
    {
     "name": "stdout",
     "output_type": "stream",
     "text": [
      "Epoch 17:  81%|████████  | 51/63 [01:33<00:21,  1.83s/it, loss=0.552, v_num=9ytj]\n",
      "Validating: 0it [00:00, ?it/s]\u001b[A\n",
      "Validating:   0%|          | 0/12 [00:00<?, ?it/s]\u001b[A\n",
      "Epoch 17:  84%|████████▍ | 53/63 [01:35<00:17,  1.80s/it, loss=0.552, v_num=9ytj]\n",
      "Validating:  17%|█▋        | 2/12 [00:08<00:32,  3.26s/it]\u001b[A\n",
      "Epoch 17:  87%|████████▋ | 55/63 [01:46<00:15,  1.94s/it, loss=0.552, v_num=9ytj]\n",
      "Epoch 17:  89%|████████▉ | 56/63 [01:48<00:13,  1.94s/it, loss=0.552, v_num=9ytj]\n",
      "Epoch 17:  90%|█████████ | 57/63 [01:57<00:12,  2.06s/it, loss=0.552, v_num=9ytj]\n",
      "Epoch 17:  92%|█████████▏| 58/63 [01:59<00:10,  2.06s/it, loss=0.552, v_num=9ytj]\n",
      "Epoch 17:  94%|█████████▎| 59/63 [02:02<00:08,  2.07s/it, loss=0.552, v_num=9ytj]\n",
      "Epoch 17:  95%|█████████▌| 60/63 [02:04<00:06,  2.08s/it, loss=0.552, v_num=9ytj]\n",
      "Epoch 17:  97%|█████████▋| 61/63 [02:06<00:04,  2.08s/it, loss=0.552, v_num=9ytj]\n",
      "Epoch 17:  98%|█████████▊| 62/63 [02:08<00:02,  2.07s/it, loss=0.552, v_num=9ytj]\n",
      "Epoch 17: 100%|██████████| 63/63 [02:10<00:00,  2.08s/it, loss=0.552, v_num=9ytj]\n",
      "Validating: 100%|██████████| 12/12 [00:40<00:00,  2.77s/it]\u001b[A"
     ]
    },
    {
     "name": "stderr",
     "output_type": "stream",
     "text": [
      "Metric val_loss improved by 0.005 >= min_delta = 0.0. New best score: 0.602\n"
     ]
    },
    {
     "name": "stdout",
     "output_type": "stream",
     "text": [
      "Epoch 17: 100%|██████████| 63/63 [02:14<00:00,  2.13s/it, loss=0.552, v_num=9ytj]\n",
      "                                                           \u001b[A"
     ]
    },
    {
     "name": "stderr",
     "output_type": "stream",
     "text": [
      "Epoch 17, global step 917: val_loss reached 0.60164 (best 0.60164), saving model to \"/notebooks/nbs/colab/wandb/run-20210527_105345-ihi59ytj/files/lung-cancer-detection/ihi59ytj/checkpoints/epoch=17-step=917-val_loss=0.6016.ckpt\" as top 1\n"
     ]
    },
    {
     "name": "stdout",
     "output_type": "stream",
     "text": [
      "Epoch 18:  81%|████████  | 51/63 [01:24<00:19,  1.66s/it, loss=0.541, v_num=9ytj]\n",
      "Validating: 0it [00:00, ?it/s]\u001b[A\n",
      "Validating:   0%|          | 0/12 [00:00<?, ?it/s]\u001b[A\n",
      "Epoch 18:  84%|████████▍ | 53/63 [01:26<00:16,  1.63s/it, loss=0.541, v_num=9ytj]\n",
      "Validating:  17%|█▋        | 2/12 [00:08<00:33,  3.36s/it]\u001b[A\n",
      "Epoch 18:  87%|████████▋ | 55/63 [01:37<00:14,  1.77s/it, loss=0.541, v_num=9ytj]\n",
      "Epoch 18:  89%|████████▉ | 56/63 [01:39<00:12,  1.77s/it, loss=0.541, v_num=9ytj]\n",
      "Epoch 18:  90%|█████████ | 57/63 [01:50<00:11,  1.94s/it, loss=0.541, v_num=9ytj]\n",
      "Epoch 18:  92%|█████████▏| 58/63 [01:52<00:09,  1.94s/it, loss=0.541, v_num=9ytj]\n",
      "Epoch 18:  94%|█████████▎| 59/63 [01:55<00:07,  1.95s/it, loss=0.541, v_num=9ytj]\n",
      "Epoch 18:  95%|█████████▌| 60/63 [01:57<00:05,  1.96s/it, loss=0.541, v_num=9ytj]\n",
      "Epoch 18:  97%|█████████▋| 61/63 [01:59<00:03,  1.96s/it, loss=0.541, v_num=9ytj]\n",
      "Epoch 18:  98%|█████████▊| 62/63 [02:01<00:01,  1.95s/it, loss=0.541, v_num=9ytj]\n",
      "Epoch 18: 100%|██████████| 63/63 [02:03<00:00,  1.96s/it, loss=0.541, v_num=9ytj]\n",
      "Validating: 100%|██████████| 12/12 [00:42<00:00,  2.80s/it]\u001b[A"
     ]
    },
    {
     "name": "stderr",
     "output_type": "stream",
     "text": [
      "Metric val_loss improved by 0.001 >= min_delta = 0.0. New best score: 0.600\n"
     ]
    },
    {
     "name": "stdout",
     "output_type": "stream",
     "text": [
      "Epoch 18: 100%|██████████| 63/63 [02:07<00:00,  2.02s/it, loss=0.541, v_num=9ytj]\n",
      "                                                           \u001b[A"
     ]
    },
    {
     "name": "stderr",
     "output_type": "stream",
     "text": [
      "Epoch 18, global step 968: val_loss reached 0.60045 (best 0.60045), saving model to \"/notebooks/nbs/colab/wandb/run-20210527_105345-ihi59ytj/files/lung-cancer-detection/ihi59ytj/checkpoints/epoch=18-step=968-val_loss=0.6005.ckpt\" as top 1\n"
     ]
    },
    {
     "name": "stdout",
     "output_type": "stream",
     "text": [
      "Epoch 19:  81%|████████  | 51/63 [01:24<00:19,  1.66s/it, loss=0.541, v_num=9ytj]\n",
      "Validating: 0it [00:00, ?it/s]\u001b[A\n",
      "Validating:   0%|          | 0/12 [00:00<?, ?it/s]\u001b[A\n",
      "Epoch 19:  84%|████████▍ | 53/63 [01:26<00:16,  1.63s/it, loss=0.541, v_num=9ytj]\n",
      "Validating:  17%|█▋        | 2/12 [00:08<00:33,  3.36s/it]\u001b[A\n",
      "Epoch 19:  87%|████████▋ | 55/63 [01:36<00:14,  1.76s/it, loss=0.541, v_num=9ytj]\n",
      "Epoch 19:  89%|████████▉ | 56/63 [01:38<00:12,  1.76s/it, loss=0.541, v_num=9ytj]\n",
      "Epoch 19:  90%|█████████ | 57/63 [01:48<00:11,  1.91s/it, loss=0.541, v_num=9ytj]\n",
      "Epoch 19:  92%|█████████▏| 58/63 [01:50<00:09,  1.91s/it, loss=0.541, v_num=9ytj]\n",
      "Epoch 19:  94%|█████████▎| 59/63 [01:53<00:07,  1.92s/it, loss=0.541, v_num=9ytj]\n",
      "Epoch 19:  95%|█████████▌| 60/63 [01:55<00:05,  1.93s/it, loss=0.541, v_num=9ytj]\n",
      "Epoch 19:  97%|█████████▋| 61/63 [01:57<00:03,  1.93s/it, loss=0.541, v_num=9ytj]\n",
      "Epoch 19:  98%|█████████▊| 62/63 [01:59<00:01,  1.93s/it, loss=0.541, v_num=9ytj]\n",
      "Epoch 19: 100%|██████████| 63/63 [02:02<00:00,  1.94s/it, loss=0.541, v_num=9ytj]\n",
      "Validating: 100%|██████████| 12/12 [00:40<00:00,  2.77s/it]\u001b[A"
     ]
    },
    {
     "name": "stderr",
     "output_type": "stream",
     "text": [
      "Metric val_loss improved by 0.006 >= min_delta = 0.0. New best score: 0.595\n"
     ]
    },
    {
     "name": "stdout",
     "output_type": "stream",
     "text": [
      "Epoch 19: 100%|██████████| 63/63 [02:05<00:00,  1.99s/it, loss=0.541, v_num=9ytj]\n",
      "                                                           \u001b[A"
     ]
    },
    {
     "name": "stderr",
     "output_type": "stream",
     "text": [
      "Epoch 19, global step 1019: val_loss reached 0.59454 (best 0.59454), saving model to \"/notebooks/nbs/colab/wandb/run-20210527_105345-ihi59ytj/files/lung-cancer-detection/ihi59ytj/checkpoints/epoch=19-step=1019-val_loss=0.5945.ckpt\" as top 1\n"
     ]
    },
    {
     "name": "stdout",
     "output_type": "stream",
     "text": [
      "Epoch 20:  81%|████████  | 51/63 [01:18<00:18,  1.54s/it, loss=0.53, v_num=9ytj] \n",
      "Validating: 0it [00:00, ?it/s]\u001b[A\n",
      "Validating:   0%|          | 0/12 [00:00<?, ?it/s]\u001b[A\n",
      "Epoch 20:  84%|████████▍ | 53/63 [01:20<00:15,  1.52s/it, loss=0.53, v_num=9ytj]\n",
      "Validating:  17%|█▋        | 2/12 [00:08<00:31,  3.17s/it]\u001b[A\n",
      "Epoch 20:  87%|████████▋ | 55/63 [01:30<00:13,  1.65s/it, loss=0.53, v_num=9ytj]\n",
      "Epoch 20:  89%|████████▉ | 56/63 [01:32<00:11,  1.65s/it, loss=0.53, v_num=9ytj]\n",
      "Epoch 20:  90%|█████████ | 57/63 [01:42<00:10,  1.80s/it, loss=0.53, v_num=9ytj]\n",
      "Epoch 20:  92%|█████████▏| 58/63 [01:44<00:09,  1.80s/it, loss=0.53, v_num=9ytj]\n",
      "Epoch 20:  94%|█████████▎| 59/63 [01:47<00:07,  1.82s/it, loss=0.53, v_num=9ytj]\n",
      "Epoch 20:  95%|█████████▌| 60/63 [01:49<00:05,  1.83s/it, loss=0.53, v_num=9ytj]\n",
      "Epoch 20:  97%|█████████▋| 61/63 [01:51<00:03,  1.83s/it, loss=0.53, v_num=9ytj]\n",
      "Epoch 20:  98%|█████████▊| 62/63 [01:53<00:01,  1.83s/it, loss=0.53, v_num=9ytj]\n",
      "Epoch 20: 100%|██████████| 63/63 [01:55<00:00,  1.84s/it, loss=0.53, v_num=9ytj]\n",
      "Validating: 100%|██████████| 12/12 [00:40<00:00,  2.77s/it]\u001b[A"
     ]
    },
    {
     "name": "stderr",
     "output_type": "stream",
     "text": [
      "Metric val_loss improved by 0.007 >= min_delta = 0.0. New best score: 0.587\n"
     ]
    },
    {
     "name": "stdout",
     "output_type": "stream",
     "text": [
      "Epoch 20: 100%|██████████| 63/63 [01:59<00:00,  1.89s/it, loss=0.53, v_num=9ytj]\n",
      "                                                           \u001b[A"
     ]
    },
    {
     "name": "stderr",
     "output_type": "stream",
     "text": [
      "Epoch 20, global step 1070: val_loss reached 0.58747 (best 0.58747), saving model to \"/notebooks/nbs/colab/wandb/run-20210527_105345-ihi59ytj/files/lung-cancer-detection/ihi59ytj/checkpoints/epoch=20-step=1070-val_loss=0.5875.ckpt\" as top 1\n"
     ]
    },
    {
     "name": "stdout",
     "output_type": "stream",
     "text": [
      "Epoch 21:  81%|████████  | 51/63 [01:19<00:18,  1.57s/it, loss=0.532, v_num=9ytj]\n",
      "Validating: 0it [00:00, ?it/s]\u001b[A\n",
      "Validating:   0%|          | 0/12 [00:00<?, ?it/s]\u001b[A\n",
      "Epoch 21:  84%|████████▍ | 53/63 [01:21<00:15,  1.54s/it, loss=0.532, v_num=9ytj]\n",
      "Epoch 21:  86%|████████▌ | 54/63 [01:31<00:15,  1.70s/it, loss=0.532, v_num=9ytj]\n",
      "Epoch 21:  87%|████████▋ | 55/63 [01:32<00:13,  1.69s/it, loss=0.532, v_num=9ytj]\n",
      "Epoch 21:  89%|████████▉ | 56/63 [01:34<00:11,  1.69s/it, loss=0.532, v_num=9ytj]\n",
      "Epoch 21:  90%|█████████ | 57/63 [01:43<00:10,  1.82s/it, loss=0.532, v_num=9ytj]\n",
      "Epoch 21:  92%|█████████▏| 58/63 [01:45<00:09,  1.82s/it, loss=0.532, v_num=9ytj]\n",
      "Epoch 21:  94%|█████████▎| 59/63 [01:48<00:07,  1.83s/it, loss=0.532, v_num=9ytj]\n",
      "Epoch 21:  95%|█████████▌| 60/63 [01:50<00:05,  1.85s/it, loss=0.532, v_num=9ytj]\n",
      "Epoch 21:  97%|█████████▋| 61/63 [01:52<00:03,  1.85s/it, loss=0.532, v_num=9ytj]\n",
      "Epoch 21:  98%|█████████▊| 62/63 [01:54<00:01,  1.85s/it, loss=0.532, v_num=9ytj]\n",
      "Epoch 21: 100%|██████████| 63/63 [01:56<00:00,  1.86s/it, loss=0.532, v_num=9ytj]\n",
      "Epoch 21: 100%|██████████| 63/63 [02:00<00:00,  1.91s/it, loss=0.532, v_num=9ytj]\n",
      "                                                           \u001b[A"
     ]
    },
    {
     "name": "stderr",
     "output_type": "stream",
     "text": [
      "Epoch 21, global step 1121: val_loss was not in top 1\n"
     ]
    },
    {
     "name": "stdout",
     "output_type": "stream",
     "text": [
      "Epoch 22:  81%|████████  | 51/63 [01:14<00:17,  1.46s/it, loss=0.524, v_num=9ytj]\n",
      "Validating: 0it [00:00, ?it/s]\u001b[A\n",
      "Validating:   0%|          | 0/12 [00:00<?, ?it/s]\u001b[A\n",
      "Epoch 22:  84%|████████▍ | 53/63 [01:16<00:14,  1.44s/it, loss=0.524, v_num=9ytj]\n",
      "Validating:  17%|█▋        | 2/12 [00:08<00:32,  3.20s/it]\u001b[A\n",
      "Epoch 22:  87%|████████▋ | 55/63 [01:28<00:12,  1.60s/it, loss=0.524, v_num=9ytj]\n",
      "Epoch 22:  89%|████████▉ | 56/63 [01:29<00:11,  1.61s/it, loss=0.524, v_num=9ytj]\n",
      "Epoch 22:  90%|█████████ | 57/63 [01:38<00:10,  1.72s/it, loss=0.524, v_num=9ytj]\n",
      "Epoch 22:  92%|█████████▏| 58/63 [01:40<00:08,  1.73s/it, loss=0.524, v_num=9ytj]\n",
      "Epoch 22:  94%|█████████▎| 59/63 [01:42<00:06,  1.74s/it, loss=0.524, v_num=9ytj]\n",
      "Epoch 22:  95%|█████████▌| 60/63 [01:45<00:05,  1.75s/it, loss=0.524, v_num=9ytj]\n",
      "Epoch 22:  97%|█████████▋| 61/63 [01:47<00:03,  1.76s/it, loss=0.524, v_num=9ytj]\n",
      "Epoch 22:  98%|█████████▊| 62/63 [01:48<00:01,  1.76s/it, loss=0.524, v_num=9ytj]\n",
      "Epoch 22: 100%|██████████| 63/63 [01:51<00:00,  1.77s/it, loss=0.524, v_num=9ytj]\n",
      "Epoch 22: 100%|██████████| 63/63 [01:54<00:00,  1.82s/it, loss=0.524, v_num=9ytj]\n",
      "                                                           \u001b[A"
     ]
    },
    {
     "name": "stderr",
     "output_type": "stream",
     "text": [
      "Epoch 22, global step 1172: val_loss was not in top 1\n"
     ]
    },
    {
     "name": "stdout",
     "output_type": "stream",
     "text": [
      "Epoch 23:  81%|████████  | 51/63 [01:22<00:19,  1.62s/it, loss=0.504, v_num=9ytj]\n",
      "Validating: 0it [00:00, ?it/s]\u001b[A\n",
      "Validating:   0%|          | 0/12 [00:00<?, ?it/s]\u001b[A\n",
      "Epoch 23:  84%|████████▍ | 53/63 [01:24<00:15,  1.60s/it, loss=0.504, v_num=9ytj]\n",
      "Validating:  17%|█▋        | 2/12 [00:08<00:34,  3.40s/it]\u001b[A\n",
      "Epoch 23:  87%|████████▋ | 55/63 [01:35<00:13,  1.74s/it, loss=0.504, v_num=9ytj]\n",
      "Epoch 23:  89%|████████▉ | 56/63 [01:37<00:12,  1.74s/it, loss=0.504, v_num=9ytj]\n",
      "Epoch 23:  90%|█████████ | 57/63 [01:46<00:11,  1.87s/it, loss=0.504, v_num=9ytj]\n",
      "Epoch 23:  92%|█████████▏| 58/63 [01:48<00:09,  1.87s/it, loss=0.504, v_num=9ytj]\n",
      "Epoch 23:  94%|█████████▎| 59/63 [01:50<00:07,  1.88s/it, loss=0.504, v_num=9ytj]\n",
      "Epoch 23:  95%|█████████▌| 60/63 [01:53<00:05,  1.89s/it, loss=0.504, v_num=9ytj]\n",
      "Epoch 23:  97%|█████████▋| 61/63 [01:55<00:03,  1.90s/it, loss=0.504, v_num=9ytj]\n",
      "Epoch 23:  98%|█████████▊| 62/63 [01:57<00:01,  1.89s/it, loss=0.504, v_num=9ytj]\n",
      "Epoch 23: 100%|██████████| 63/63 [01:59<00:00,  1.90s/it, loss=0.504, v_num=9ytj]\n",
      "Validating: 100%|██████████| 12/12 [00:40<00:00,  2.75s/it]\u001b[A"
     ]
    },
    {
     "name": "stderr",
     "output_type": "stream",
     "text": [
      "Metric val_loss improved by 0.008 >= min_delta = 0.0. New best score: 0.579\n"
     ]
    },
    {
     "name": "stdout",
     "output_type": "stream",
     "text": [
      "Epoch 23: 100%|██████████| 63/63 [02:03<00:00,  1.96s/it, loss=0.504, v_num=9ytj]\n",
      "                                                           \u001b[A"
     ]
    },
    {
     "name": "stderr",
     "output_type": "stream",
     "text": [
      "Epoch 23, global step 1223: val_loss reached 0.57909 (best 0.57909), saving model to \"/notebooks/nbs/colab/wandb/run-20210527_105345-ihi59ytj/files/lung-cancer-detection/ihi59ytj/checkpoints/epoch=23-step=1223-val_loss=0.5791.ckpt\" as top 1\n"
     ]
    },
    {
     "name": "stdout",
     "output_type": "stream",
     "text": [
      "Epoch 24:  81%|████████  | 51/63 [01:22<00:19,  1.62s/it, loss=0.52, v_num=9ytj] \n",
      "Validating: 0it [00:00, ?it/s]\u001b[A\n",
      "Validating:   0%|          | 0/12 [00:00<?, ?it/s]\u001b[A\n",
      "Epoch 24:  84%|████████▍ | 53/63 [01:24<00:15,  1.60s/it, loss=0.52, v_num=9ytj]\n",
      "Validating:  17%|█▋        | 2/12 [00:08<00:34,  3.44s/it]\u001b[A\n",
      "Epoch 24:  87%|████████▋ | 55/63 [01:35<00:13,  1.73s/it, loss=0.52, v_num=9ytj]\n",
      "Epoch 24:  89%|████████▉ | 56/63 [01:37<00:12,  1.73s/it, loss=0.52, v_num=9ytj]\n",
      "Epoch 24:  90%|█████████ | 57/63 [01:46<00:11,  1.86s/it, loss=0.52, v_num=9ytj]\n",
      "Epoch 24:  92%|█████████▏| 58/63 [01:48<00:09,  1.87s/it, loss=0.52, v_num=9ytj]\n",
      "Epoch 24:  94%|█████████▎| 59/63 [01:50<00:07,  1.88s/it, loss=0.52, v_num=9ytj]\n",
      "Epoch 24:  95%|█████████▌| 60/63 [01:53<00:05,  1.89s/it, loss=0.52, v_num=9ytj]\n",
      "Epoch 24:  97%|█████████▋| 61/63 [01:55<00:03,  1.89s/it, loss=0.52, v_num=9ytj]\n",
      "Epoch 24:  98%|█████████▊| 62/63 [01:57<00:01,  1.89s/it, loss=0.52, v_num=9ytj]\n",
      "Epoch 24: 100%|██████████| 63/63 [01:59<00:00,  1.90s/it, loss=0.52, v_num=9ytj]\n",
      "Validating: 100%|██████████| 12/12 [00:40<00:00,  2.76s/it]\u001b[A"
     ]
    },
    {
     "name": "stderr",
     "output_type": "stream",
     "text": [
      "Metric val_loss improved by 0.002 >= min_delta = 0.0. New best score: 0.577\n"
     ]
    },
    {
     "name": "stdout",
     "output_type": "stream",
     "text": [
      "Epoch 24: 100%|██████████| 63/63 [02:03<00:00,  1.95s/it, loss=0.52, v_num=9ytj]\n",
      "                                                           \u001b[A"
     ]
    },
    {
     "name": "stderr",
     "output_type": "stream",
     "text": [
      "Epoch 24, global step 1274: val_loss reached 0.57696 (best 0.57696), saving model to \"/notebooks/nbs/colab/wandb/run-20210527_105345-ihi59ytj/files/lung-cancer-detection/ihi59ytj/checkpoints/epoch=24-step=1274-val_loss=0.5770.ckpt\" as top 1\n"
     ]
    },
    {
     "name": "stdout",
     "output_type": "stream",
     "text": [
      "Epoch 25:  81%|████████  | 51/63 [01:17<00:18,  1.52s/it, loss=0.518, v_num=9ytj]\n",
      "Validating: 0it [00:00, ?it/s]\u001b[A\n",
      "Validating:   0%|          | 0/12 [00:00<?, ?it/s]\u001b[A\n",
      "Epoch 25:  84%|████████▍ | 53/63 [01:19<00:15,  1.50s/it, loss=0.518, v_num=9ytj]\n",
      "Validating:  17%|█▋        | 2/12 [00:08<00:34,  3.45s/it]\u001b[A\n",
      "Epoch 25:  87%|████████▋ | 55/63 [01:31<00:13,  1.66s/it, loss=0.518, v_num=9ytj]\n",
      "Epoch 25:  89%|████████▉ | 56/63 [01:32<00:11,  1.66s/it, loss=0.518, v_num=9ytj]\n",
      "Epoch 25:  90%|█████████ | 57/63 [01:43<00:10,  1.81s/it, loss=0.518, v_num=9ytj]\n",
      "Epoch 25:  92%|█████████▏| 58/63 [01:45<00:09,  1.82s/it, loss=0.518, v_num=9ytj]\n",
      "Epoch 25:  94%|█████████▎| 59/63 [01:47<00:07,  1.83s/it, loss=0.518, v_num=9ytj]\n",
      "Epoch 25:  95%|█████████▌| 60/63 [01:50<00:05,  1.84s/it, loss=0.518, v_num=9ytj]\n",
      "Epoch 25:  97%|█████████▋| 61/63 [01:52<00:03,  1.85s/it, loss=0.518, v_num=9ytj]\n",
      "Epoch 25:  98%|█████████▊| 62/63 [01:54<00:01,  1.84s/it, loss=0.518, v_num=9ytj]\n",
      "Epoch 25: 100%|██████████| 63/63 [01:56<00:00,  1.85s/it, loss=0.518, v_num=9ytj]\n",
      "Validating: 100%|██████████| 12/12 [00:42<00:00,  2.80s/it]\u001b[A"
     ]
    },
    {
     "name": "stderr",
     "output_type": "stream",
     "text": [
      "Metric val_loss improved by 0.005 >= min_delta = 0.0. New best score: 0.572\n"
     ]
    },
    {
     "name": "stdout",
     "output_type": "stream",
     "text": [
      "Epoch 25: 100%|██████████| 63/63 [02:00<00:00,  1.91s/it, loss=0.518, v_num=9ytj]\n",
      "                                                           \u001b[A"
     ]
    },
    {
     "name": "stderr",
     "output_type": "stream",
     "text": [
      "Epoch 25, global step 1325: val_loss reached 0.57232 (best 0.57232), saving model to \"/notebooks/nbs/colab/wandb/run-20210527_105345-ihi59ytj/files/lung-cancer-detection/ihi59ytj/checkpoints/epoch=25-step=1325-val_loss=0.5723.ckpt\" as top 1\n"
     ]
    },
    {
     "name": "stdout",
     "output_type": "stream",
     "text": [
      "Epoch 26:  81%|████████  | 51/63 [01:24<00:19,  1.65s/it, loss=0.506, v_num=9ytj]\n",
      "Validating: 0it [00:00, ?it/s]\u001b[A\n",
      "Validating:   0%|          | 0/12 [00:00<?, ?it/s]\u001b[A\n",
      "Epoch 26:  84%|████████▍ | 53/63 [01:25<00:16,  1.62s/it, loss=0.506, v_num=9ytj]\n",
      "Epoch 26:  86%|████████▌ | 54/63 [01:35<00:15,  1.78s/it, loss=0.506, v_num=9ytj]\n",
      "Epoch 26:  87%|████████▋ | 55/63 [01:36<00:14,  1.76s/it, loss=0.506, v_num=9ytj]\n",
      "Epoch 26:  89%|████████▉ | 56/63 [01:38<00:12,  1.76s/it, loss=0.506, v_num=9ytj]\n",
      "Epoch 26:  90%|█████████ | 57/63 [01:47<00:11,  1.88s/it, loss=0.506, v_num=9ytj]\n",
      "Epoch 26:  92%|█████████▏| 58/63 [01:49<00:09,  1.88s/it, loss=0.506, v_num=9ytj]\n",
      "Epoch 26:  94%|█████████▎| 59/63 [01:51<00:07,  1.89s/it, loss=0.506, v_num=9ytj]\n",
      "Epoch 26:  95%|█████████▌| 60/63 [01:54<00:05,  1.91s/it, loss=0.506, v_num=9ytj]\n",
      "Epoch 26:  97%|█████████▋| 61/63 [01:56<00:03,  1.91s/it, loss=0.506, v_num=9ytj]\n",
      "Epoch 26:  98%|█████████▊| 62/63 [01:57<00:01,  1.90s/it, loss=0.506, v_num=9ytj]\n",
      "Epoch 26: 100%|██████████| 63/63 [02:00<00:00,  1.91s/it, loss=0.506, v_num=9ytj]\n",
      "Epoch 26: 100%|██████████| 63/63 [02:03<00:00,  1.97s/it, loss=0.506, v_num=9ytj]\n",
      "                                                           \u001b[A"
     ]
    },
    {
     "name": "stderr",
     "output_type": "stream",
     "text": [
      "Epoch 26, global step 1376: val_loss was not in top 1\n"
     ]
    },
    {
     "name": "stdout",
     "output_type": "stream",
     "text": [
      "Epoch 27:  81%|████████  | 51/63 [01:19<00:18,  1.56s/it, loss=0.503, v_num=9ytj]\n",
      "Validating: 0it [00:00, ?it/s]\u001b[A\n",
      "Validating:   0%|          | 0/12 [00:00<?, ?it/s]\u001b[A\n",
      "Epoch 27:  84%|████████▍ | 53/63 [01:22<00:15,  1.55s/it, loss=0.503, v_num=9ytj]\n",
      "Validating:  17%|█▋        | 2/12 [00:08<00:36,  3.60s/it]\u001b[A\n",
      "Epoch 27:  87%|████████▋ | 55/63 [01:31<00:13,  1.67s/it, loss=0.503, v_num=9ytj]\n",
      "Epoch 27:  89%|████████▉ | 56/63 [01:42<00:12,  1.82s/it, loss=0.503, v_num=9ytj]\n",
      "Epoch 27:  90%|█████████ | 57/63 [01:43<00:10,  1.82s/it, loss=0.503, v_num=9ytj]\n",
      "Epoch 27:  92%|█████████▏| 58/63 [01:46<00:09,  1.83s/it, loss=0.503, v_num=9ytj]\n",
      "Epoch 27:  94%|█████████▎| 59/63 [01:48<00:07,  1.84s/it, loss=0.503, v_num=9ytj]\n",
      "Epoch 27:  95%|█████████▌| 60/63 [01:51<00:05,  1.85s/it, loss=0.503, v_num=9ytj]\n",
      "Epoch 27:  97%|█████████▋| 61/63 [01:53<00:03,  1.86s/it, loss=0.503, v_num=9ytj]\n",
      "Epoch 27:  98%|█████████▊| 62/63 [01:54<00:01,  1.85s/it, loss=0.503, v_num=9ytj]\n",
      "Epoch 27: 100%|██████████| 63/63 [01:57<00:00,  1.86s/it, loss=0.503, v_num=9ytj]\n",
      "Validating: 100%|██████████| 12/12 [00:41<00:00,  2.78s/it]\u001b[A"
     ]
    },
    {
     "name": "stderr",
     "output_type": "stream",
     "text": [
      "Metric val_loss improved by 0.005 >= min_delta = 0.0. New best score: 0.567\n"
     ]
    },
    {
     "name": "stdout",
     "output_type": "stream",
     "text": [
      "Epoch 27: 100%|██████████| 63/63 [02:00<00:00,  1.92s/it, loss=0.503, v_num=9ytj]\n",
      "                                                           \u001b[A"
     ]
    },
    {
     "name": "stderr",
     "output_type": "stream",
     "text": [
      "Epoch 27, global step 1427: val_loss reached 0.56694 (best 0.56694), saving model to \"/notebooks/nbs/colab/wandb/run-20210527_105345-ihi59ytj/files/lung-cancer-detection/ihi59ytj/checkpoints/epoch=27-step=1427-val_loss=0.5669.ckpt\" as top 1\n"
     ]
    },
    {
     "name": "stdout",
     "output_type": "stream",
     "text": [
      "Epoch 28:  81%|████████  | 51/63 [01:19<00:18,  1.57s/it, loss=0.505, v_num=9ytj]\n",
      "Validating: 0it [00:00, ?it/s]\u001b[A\n",
      "Validating:   0%|          | 0/12 [00:00<?, ?it/s]\u001b[A\n",
      "Epoch 28:  84%|████████▍ | 53/63 [01:21<00:15,  1.54s/it, loss=0.505, v_num=9ytj]\n",
      "Validating:  17%|█▋        | 2/12 [00:08<00:31,  3.15s/it]\u001b[A\n",
      "Epoch 28:  87%|████████▋ | 55/63 [01:32<00:13,  1.68s/it, loss=0.505, v_num=9ytj]\n",
      "Epoch 28:  89%|████████▉ | 56/63 [01:34<00:11,  1.68s/it, loss=0.505, v_num=9ytj]\n",
      "Epoch 28:  90%|█████████ | 57/63 [01:44<00:11,  1.84s/it, loss=0.505, v_num=9ytj]\n",
      "Epoch 28:  92%|█████████▏| 58/63 [01:46<00:09,  1.84s/it, loss=0.505, v_num=9ytj]\n",
      "Epoch 28:  94%|█████████▎| 59/63 [01:49<00:07,  1.85s/it, loss=0.505, v_num=9ytj]\n",
      "Epoch 28:  95%|█████████▌| 60/63 [01:52<00:05,  1.87s/it, loss=0.505, v_num=9ytj]\n",
      "Epoch 28:  97%|█████████▋| 61/63 [01:54<00:03,  1.87s/it, loss=0.505, v_num=9ytj]\n",
      "Epoch 28:  98%|█████████▊| 62/63 [01:55<00:01,  1.86s/it, loss=0.505, v_num=9ytj]\n",
      "Epoch 28: 100%|██████████| 63/63 [01:58<00:00,  1.88s/it, loss=0.505, v_num=9ytj]\n",
      "Validating: 100%|██████████| 12/12 [00:41<00:00,  2.79s/it]\u001b[A"
     ]
    },
    {
     "name": "stderr",
     "output_type": "stream",
     "text": [
      "Metric val_loss improved by 0.004 >= min_delta = 0.0. New best score: 0.563\n"
     ]
    },
    {
     "name": "stdout",
     "output_type": "stream",
     "text": [
      "Epoch 28: 100%|██████████| 63/63 [02:01<00:00,  1.93s/it, loss=0.505, v_num=9ytj]\n",
      "                                                           \u001b[A"
     ]
    },
    {
     "name": "stderr",
     "output_type": "stream",
     "text": [
      "Epoch 28, global step 1478: val_loss reached 0.56327 (best 0.56327), saving model to \"/notebooks/nbs/colab/wandb/run-20210527_105345-ihi59ytj/files/lung-cancer-detection/ihi59ytj/checkpoints/epoch=28-step=1478-val_loss=0.5633.ckpt\" as top 1\n"
     ]
    },
    {
     "name": "stdout",
     "output_type": "stream",
     "text": [
      "Epoch 29:  81%|████████  | 51/63 [01:17<00:18,  1.53s/it, loss=0.501, v_num=9ytj]\n",
      "Validating: 0it [00:00, ?it/s]\u001b[A\n",
      "Validating:   0%|          | 0/12 [00:00<?, ?it/s]\u001b[A\n",
      "Epoch 29:  84%|████████▍ | 53/63 [01:19<00:15,  1.51s/it, loss=0.501, v_num=9ytj]\n",
      "Validating:  17%|█▋        | 2/12 [00:08<00:33,  3.38s/it]\u001b[A\n",
      "Epoch 29:  87%|████████▋ | 55/63 [01:30<00:13,  1.64s/it, loss=0.501, v_num=9ytj]\n",
      "Epoch 29:  89%|████████▉ | 56/63 [01:31<00:11,  1.64s/it, loss=0.501, v_num=9ytj]\n",
      "Epoch 29:  90%|█████████ | 57/63 [01:41<00:10,  1.78s/it, loss=0.501, v_num=9ytj]\n",
      "Epoch 29:  92%|█████████▏| 58/63 [01:43<00:08,  1.78s/it, loss=0.501, v_num=9ytj]\n",
      "Epoch 29:  94%|█████████▎| 59/63 [01:45<00:07,  1.80s/it, loss=0.501, v_num=9ytj]\n",
      "Epoch 29:  95%|█████████▌| 60/63 [01:48<00:05,  1.81s/it, loss=0.501, v_num=9ytj]\n",
      "Epoch 29:  97%|█████████▋| 61/63 [01:50<00:03,  1.81s/it, loss=0.501, v_num=9ytj]\n",
      "Epoch 29:  98%|█████████▊| 62/63 [01:52<00:01,  1.81s/it, loss=0.501, v_num=9ytj]\n",
      "Epoch 29: 100%|██████████| 63/63 [01:54<00:00,  1.82s/it, loss=0.501, v_num=9ytj]\n",
      "Validating: 100%|██████████| 12/12 [00:40<00:00,  2.76s/it]\u001b[A"
     ]
    },
    {
     "name": "stderr",
     "output_type": "stream",
     "text": [
      "Metric val_loss improved by 0.004 >= min_delta = 0.0. New best score: 0.559\n"
     ]
    },
    {
     "name": "stdout",
     "output_type": "stream",
     "text": [
      "Epoch 29: 100%|██████████| 63/63 [01:58<00:00,  1.87s/it, loss=0.501, v_num=9ytj]\n",
      "                                                           \u001b[A"
     ]
    },
    {
     "name": "stderr",
     "output_type": "stream",
     "text": [
      "Epoch 29, global step 1529: val_loss reached 0.55886 (best 0.55886), saving model to \"/notebooks/nbs/colab/wandb/run-20210527_105345-ihi59ytj/files/lung-cancer-detection/ihi59ytj/checkpoints/epoch=29-step=1529-val_loss=0.5589.ckpt\" as top 1\n"
     ]
    },
    {
     "name": "stdout",
     "output_type": "stream",
     "text": [
      "Epoch 30:  81%|████████  | 51/63 [01:19<00:18,  1.56s/it, loss=0.472, v_num=9ytj]\n",
      "Validating: 0it [00:00, ?it/s]\u001b[A\n",
      "Validating:   0%|          | 0/12 [00:00<?, ?it/s]\u001b[A\n",
      "Epoch 30:  84%|████████▍ | 53/63 [01:21<00:15,  1.53s/it, loss=0.472, v_num=9ytj]\n",
      "Validating:  17%|█▋        | 2/12 [00:08<00:33,  3.33s/it]\u001b[A\n",
      "Epoch 30:  87%|████████▋ | 55/63 [01:32<00:13,  1.68s/it, loss=0.472, v_num=9ytj]\n",
      "Epoch 30:  89%|████████▉ | 56/63 [01:34<00:11,  1.68s/it, loss=0.472, v_num=9ytj]\n",
      "Epoch 30:  90%|█████████ | 57/63 [01:43<00:10,  1.82s/it, loss=0.472, v_num=9ytj]\n",
      "Epoch 30:  92%|█████████▏| 58/63 [01:45<00:09,  1.82s/it, loss=0.472, v_num=9ytj]\n",
      "Epoch 30:  94%|█████████▎| 59/63 [01:48<00:07,  1.84s/it, loss=0.472, v_num=9ytj]\n",
      "Epoch 30:  95%|█████████▌| 60/63 [01:51<00:05,  1.85s/it, loss=0.472, v_num=9ytj]\n",
      "Epoch 30:  97%|█████████▋| 61/63 [01:53<00:03,  1.85s/it, loss=0.472, v_num=9ytj]\n",
      "Epoch 30:  98%|█████████▊| 62/63 [01:54<00:01,  1.85s/it, loss=0.472, v_num=9ytj]\n",
      "Epoch 30: 100%|██████████| 63/63 [01:57<00:00,  1.86s/it, loss=0.472, v_num=9ytj]\n",
      "Epoch 30: 100%|██████████| 63/63 [02:00<00:00,  1.91s/it, loss=0.472, v_num=9ytj]\n",
      "                                                           \u001b[A"
     ]
    },
    {
     "name": "stderr",
     "output_type": "stream",
     "text": [
      "Epoch 30, global step 1580: val_loss was not in top 1\n"
     ]
    },
    {
     "name": "stdout",
     "output_type": "stream",
     "text": [
      "Epoch 31:  81%|████████  | 51/63 [01:26<00:20,  1.69s/it, loss=0.483, v_num=9ytj]\n",
      "Validating: 0it [00:00, ?it/s]\u001b[A\n",
      "Validating:   0%|          | 0/12 [00:00<?, ?it/s]\u001b[A\n",
      "Epoch 31:  84%|████████▍ | 53/63 [01:28<00:16,  1.66s/it, loss=0.483, v_num=9ytj]\n",
      "Validating:  17%|█▋        | 2/12 [00:08<00:33,  3.31s/it]\u001b[A\n",
      "Epoch 31:  87%|████████▋ | 55/63 [01:39<00:14,  1.80s/it, loss=0.483, v_num=9ytj]\n",
      "Epoch 31:  89%|████████▉ | 56/63 [01:40<00:12,  1.80s/it, loss=0.483, v_num=9ytj]\n",
      "Epoch 31:  90%|█████████ | 57/63 [01:49<00:11,  1.93s/it, loss=0.483, v_num=9ytj]\n",
      "Epoch 31:  92%|█████████▏| 58/63 [01:51<00:09,  1.93s/it, loss=0.483, v_num=9ytj]\n",
      "Epoch 31:  94%|█████████▎| 59/63 [01:54<00:07,  1.94s/it, loss=0.483, v_num=9ytj]\n",
      "Epoch 31:  95%|█████████▌| 60/63 [01:57<00:05,  1.95s/it, loss=0.483, v_num=9ytj]\n",
      "Epoch 31:  97%|█████████▋| 61/63 [01:59<00:03,  1.95s/it, loss=0.483, v_num=9ytj]\n",
      "Epoch 31:  98%|█████████▊| 62/63 [02:00<00:01,  1.95s/it, loss=0.483, v_num=9ytj]\n",
      "Epoch 31: 100%|██████████| 63/63 [02:03<00:00,  1.96s/it, loss=0.483, v_num=9ytj]\n",
      "Validating: 100%|██████████| 12/12 [00:40<00:00,  2.75s/it]\u001b[A"
     ]
    },
    {
     "name": "stderr",
     "output_type": "stream",
     "text": [
      "Metric val_loss improved by 0.003 >= min_delta = 0.0. New best score: 0.556\n"
     ]
    },
    {
     "name": "stdout",
     "output_type": "stream",
     "text": [
      "Epoch 31: 100%|██████████| 63/63 [02:06<00:00,  2.01s/it, loss=0.483, v_num=9ytj]\n",
      "                                                           \u001b[A"
     ]
    },
    {
     "name": "stderr",
     "output_type": "stream",
     "text": [
      "Epoch 31, global step 1631: val_loss reached 0.55601 (best 0.55601), saving model to \"/notebooks/nbs/colab/wandb/run-20210527_105345-ihi59ytj/files/lung-cancer-detection/ihi59ytj/checkpoints/epoch=31-step=1631-val_loss=0.5560.ckpt\" as top 1\n"
     ]
    },
    {
     "name": "stdout",
     "output_type": "stream",
     "text": [
      "Epoch 32:  81%|████████  | 51/63 [01:14<00:17,  1.46s/it, loss=0.481, v_num=9ytj]\n",
      "Validating: 0it [00:00, ?it/s]\u001b[A\n",
      "Validating:   0%|          | 0/12 [00:00<?, ?it/s]\u001b[A\n",
      "Epoch 32:  84%|████████▍ | 53/63 [01:16<00:14,  1.45s/it, loss=0.481, v_num=9ytj]\n",
      "Validating:  17%|█▋        | 2/12 [00:08<00:34,  3.42s/it]\u001b[A\n",
      "Epoch 32:  87%|████████▋ | 55/63 [01:27<00:12,  1.59s/it, loss=0.481, v_num=9ytj]\n",
      "Epoch 32:  89%|████████▉ | 56/63 [01:29<00:11,  1.59s/it, loss=0.481, v_num=9ytj]\n",
      "Epoch 32:  90%|█████████ | 57/63 [01:38<00:10,  1.72s/it, loss=0.481, v_num=9ytj]\n",
      "Epoch 32:  92%|█████████▏| 58/63 [01:40<00:08,  1.73s/it, loss=0.481, v_num=9ytj]\n",
      "Epoch 32:  94%|█████████▎| 59/63 [01:42<00:06,  1.74s/it, loss=0.481, v_num=9ytj]\n",
      "Epoch 32:  95%|█████████▌| 60/63 [01:45<00:05,  1.76s/it, loss=0.481, v_num=9ytj]\n",
      "Epoch 32:  97%|█████████▋| 61/63 [01:47<00:03,  1.76s/it, loss=0.481, v_num=9ytj]\n",
      "Epoch 32:  98%|█████████▊| 62/63 [01:49<00:01,  1.76s/it, loss=0.481, v_num=9ytj]\n",
      "Epoch 32: 100%|██████████| 63/63 [01:51<00:00,  1.77s/it, loss=0.481, v_num=9ytj]\n",
      "Validating: 100%|██████████| 12/12 [00:40<00:00,  2.75s/it]\u001b[A"
     ]
    },
    {
     "name": "stderr",
     "output_type": "stream",
     "text": [
      "Metric val_loss improved by 0.001 >= min_delta = 0.0. New best score: 0.555\n"
     ]
    },
    {
     "name": "stdout",
     "output_type": "stream",
     "text": [
      "Epoch 32: 100%|██████████| 63/63 [01:55<00:00,  1.83s/it, loss=0.481, v_num=9ytj]\n",
      "                                                           \u001b[A"
     ]
    },
    {
     "name": "stderr",
     "output_type": "stream",
     "text": [
      "Epoch 32, global step 1682: val_loss reached 0.55466 (best 0.55466), saving model to \"/notebooks/nbs/colab/wandb/run-20210527_105345-ihi59ytj/files/lung-cancer-detection/ihi59ytj/checkpoints/epoch=32-step=1682-val_loss=0.5547.ckpt\" as top 1\n"
     ]
    },
    {
     "name": "stdout",
     "output_type": "stream",
     "text": [
      "Epoch 33:  81%|████████  | 51/63 [01:30<00:21,  1.77s/it, loss=0.499, v_num=9ytj]\n",
      "Validating: 0it [00:00, ?it/s]\u001b[A\n",
      "Validating:   0%|          | 0/12 [00:00<?, ?it/s]\u001b[A\n",
      "Epoch 33:  84%|████████▍ | 53/63 [01:32<00:17,  1.74s/it, loss=0.499, v_num=9ytj]\n",
      "Validating:  17%|█▋        | 2/12 [00:08<00:33,  3.31s/it]\u001b[A\n",
      "Epoch 33:  87%|████████▋ | 55/63 [01:42<00:14,  1.86s/it, loss=0.499, v_num=9ytj]\n",
      "Epoch 33:  89%|████████▉ | 56/63 [01:45<00:13,  1.88s/it, loss=0.499, v_num=9ytj]\n",
      "Epoch 33:  90%|█████████ | 57/63 [01:54<00:12,  2.00s/it, loss=0.499, v_num=9ytj]\n",
      "Epoch 33:  92%|█████████▏| 58/63 [01:56<00:10,  2.00s/it, loss=0.499, v_num=9ytj]\n",
      "Epoch 33:  94%|█████████▎| 59/63 [01:58<00:08,  2.01s/it, loss=0.499, v_num=9ytj]\n",
      "Epoch 33:  95%|█████████▌| 60/63 [02:01<00:06,  2.02s/it, loss=0.499, v_num=9ytj]\n",
      "Epoch 33:  97%|█████████▋| 61/63 [02:03<00:04,  2.02s/it, loss=0.499, v_num=9ytj]\n",
      "Epoch 33:  98%|█████████▊| 62/63 [02:05<00:02,  2.02s/it, loss=0.499, v_num=9ytj]\n",
      "Epoch 33: 100%|██████████| 63/63 [02:07<00:00,  2.03s/it, loss=0.499, v_num=9ytj]\n",
      "Validating: 100%|██████████| 12/12 [00:40<00:00,  2.76s/it]\u001b[A"
     ]
    },
    {
     "name": "stderr",
     "output_type": "stream",
     "text": [
      "Metric val_loss improved by 0.006 >= min_delta = 0.0. New best score: 0.549\n"
     ]
    },
    {
     "name": "stdout",
     "output_type": "stream",
     "text": [
      "Epoch 33: 100%|██████████| 63/63 [02:11<00:00,  2.08s/it, loss=0.499, v_num=9ytj]\n",
      "                                                           \u001b[A"
     ]
    },
    {
     "name": "stderr",
     "output_type": "stream",
     "text": [
      "Epoch 33, global step 1733: val_loss reached 0.54895 (best 0.54895), saving model to \"/notebooks/nbs/colab/wandb/run-20210527_105345-ihi59ytj/files/lung-cancer-detection/ihi59ytj/checkpoints/epoch=33-step=1733-val_loss=0.5490.ckpt\" as top 1\n"
     ]
    },
    {
     "name": "stdout",
     "output_type": "stream",
     "text": [
      "Epoch 34:  81%|████████  | 51/63 [01:24<00:19,  1.66s/it, loss=0.492, v_num=9ytj]\n",
      "Validating: 0it [00:00, ?it/s]\u001b[A\n",
      "Validating:   0%|          | 0/12 [00:00<?, ?it/s]\u001b[A\n",
      "Epoch 34:  84%|████████▍ | 53/63 [01:26<00:16,  1.63s/it, loss=0.492, v_num=9ytj]\n",
      "Validating:  17%|█▋        | 2/12 [00:08<00:31,  3.17s/it]\u001b[A\n",
      "Epoch 34:  87%|████████▋ | 55/63 [01:38<00:14,  1.79s/it, loss=0.492, v_num=9ytj]\n",
      "Epoch 34:  89%|████████▉ | 56/63 [01:40<00:12,  1.79s/it, loss=0.492, v_num=9ytj]\n",
      "Epoch 34:  90%|█████████ | 57/63 [01:48<00:11,  1.91s/it, loss=0.492, v_num=9ytj]\n",
      "Epoch 34:  92%|█████████▏| 58/63 [01:50<00:09,  1.91s/it, loss=0.492, v_num=9ytj]\n",
      "Epoch 34:  94%|█████████▎| 59/63 [01:53<00:07,  1.92s/it, loss=0.492, v_num=9ytj]\n",
      "Epoch 34:  95%|█████████▌| 60/63 [01:55<00:05,  1.93s/it, loss=0.492, v_num=9ytj]\n",
      "Epoch 34:  97%|█████████▋| 61/63 [01:57<00:03,  1.93s/it, loss=0.492, v_num=9ytj]\n",
      "Epoch 34:  98%|█████████▊| 62/63 [01:59<00:01,  1.93s/it, loss=0.492, v_num=9ytj]\n",
      "Epoch 34: 100%|██████████| 63/63 [02:02<00:00,  1.94s/it, loss=0.492, v_num=9ytj]\n",
      "Validating: 100%|██████████| 12/12 [00:40<00:00,  2.75s/it]\u001b[A"
     ]
    },
    {
     "name": "stderr",
     "output_type": "stream",
     "text": [
      "Metric val_loss improved by 0.001 >= min_delta = 0.0. New best score: 0.548\n"
     ]
    },
    {
     "name": "stdout",
     "output_type": "stream",
     "text": [
      "Epoch 34: 100%|██████████| 63/63 [02:05<00:00,  1.99s/it, loss=0.492, v_num=9ytj]\n",
      "                                                           \u001b[A"
     ]
    },
    {
     "name": "stderr",
     "output_type": "stream",
     "text": [
      "Epoch 34, global step 1784: val_loss reached 0.54812 (best 0.54812), saving model to \"/notebooks/nbs/colab/wandb/run-20210527_105345-ihi59ytj/files/lung-cancer-detection/ihi59ytj/checkpoints/epoch=34-step=1784-val_loss=0.5481.ckpt\" as top 1\n"
     ]
    },
    {
     "name": "stdout",
     "output_type": "stream",
     "text": [
      "Epoch 35:  81%|████████  | 51/63 [01:20<00:18,  1.58s/it, loss=0.461, v_num=9ytj]\n",
      "Validating: 0it [00:00, ?it/s]\u001b[A\n",
      "Validating:   0%|          | 0/12 [00:00<?, ?it/s]\u001b[A\n",
      "Epoch 35:  84%|████████▍ | 53/63 [01:22<00:15,  1.56s/it, loss=0.461, v_num=9ytj]\n",
      "Epoch 35:  86%|████████▌ | 54/63 [01:33<00:15,  1.73s/it, loss=0.461, v_num=9ytj]\n",
      "Epoch 35:  87%|████████▋ | 55/63 [01:34<00:13,  1.71s/it, loss=0.461, v_num=9ytj]\n",
      "Epoch 35:  89%|████████▉ | 56/63 [01:35<00:11,  1.71s/it, loss=0.461, v_num=9ytj]\n",
      "Epoch 35:  90%|█████████ | 57/63 [01:45<00:11,  1.85s/it, loss=0.461, v_num=9ytj]\n",
      "Epoch 35:  92%|█████████▏| 58/63 [01:47<00:09,  1.85s/it, loss=0.461, v_num=9ytj]\n",
      "Epoch 35:  94%|█████████▎| 59/63 [01:49<00:07,  1.86s/it, loss=0.461, v_num=9ytj]\n",
      "Epoch 35:  95%|█████████▌| 60/63 [01:52<00:05,  1.88s/it, loss=0.461, v_num=9ytj]\n",
      "Epoch 35:  97%|█████████▋| 61/63 [01:54<00:03,  1.88s/it, loss=0.461, v_num=9ytj]\n",
      "Epoch 35:  98%|█████████▊| 62/63 [01:56<00:01,  1.87s/it, loss=0.461, v_num=9ytj]\n",
      "Epoch 35: 100%|██████████| 63/63 [01:58<00:00,  1.88s/it, loss=0.461, v_num=9ytj]\n",
      "Validating: 100%|██████████| 12/12 [00:41<00:00,  2.78s/it]\u001b[A"
     ]
    },
    {
     "name": "stderr",
     "output_type": "stream",
     "text": [
      "Metric val_loss improved by 0.003 >= min_delta = 0.0. New best score: 0.545\n"
     ]
    },
    {
     "name": "stdout",
     "output_type": "stream",
     "text": [
      "Epoch 35: 100%|██████████| 63/63 [02:02<00:00,  1.94s/it, loss=0.461, v_num=9ytj]\n",
      "                                                           \u001b[A"
     ]
    },
    {
     "name": "stderr",
     "output_type": "stream",
     "text": [
      "Epoch 35, global step 1835: val_loss reached 0.54502 (best 0.54502), saving model to \"/notebooks/nbs/colab/wandb/run-20210527_105345-ihi59ytj/files/lung-cancer-detection/ihi59ytj/checkpoints/epoch=35-step=1835-val_loss=0.5450.ckpt\" as top 1\n"
     ]
    },
    {
     "name": "stdout",
     "output_type": "stream",
     "text": [
      "Epoch 36:  81%|████████  | 51/63 [01:27<00:20,  1.71s/it, loss=0.473, v_num=9ytj]\n",
      "Validating: 0it [00:00, ?it/s]\u001b[A\n",
      "Validating:   0%|          | 0/12 [00:00<?, ?it/s]\u001b[A\n",
      "Epoch 36:  84%|████████▍ | 53/63 [01:28<00:16,  1.68s/it, loss=0.473, v_num=9ytj]\n",
      "Validating:  17%|█▋        | 2/12 [00:08<00:32,  3.26s/it]\u001b[A\n",
      "Epoch 36:  87%|████████▋ | 55/63 [01:39<00:14,  1.82s/it, loss=0.473, v_num=9ytj]\n",
      "Epoch 36:  89%|████████▉ | 56/63 [01:41<00:12,  1.82s/it, loss=0.473, v_num=9ytj]\n",
      "Epoch 36:  90%|█████████ | 57/63 [01:50<00:11,  1.94s/it, loss=0.473, v_num=9ytj]\n",
      "Epoch 36:  92%|█████████▏| 58/63 [01:52<00:09,  1.94s/it, loss=0.473, v_num=9ytj]\n",
      "Epoch 36:  94%|█████████▎| 59/63 [01:55<00:07,  1.95s/it, loss=0.473, v_num=9ytj]\n",
      "Epoch 36:  95%|█████████▌| 60/63 [01:57<00:05,  1.97s/it, loss=0.473, v_num=9ytj]\n",
      "Epoch 36:  97%|█████████▋| 61/63 [01:59<00:03,  1.97s/it, loss=0.473, v_num=9ytj]\n",
      "Epoch 36:  98%|█████████▊| 62/63 [02:01<00:01,  1.96s/it, loss=0.473, v_num=9ytj]\n",
      "Epoch 36: 100%|██████████| 63/63 [02:04<00:00,  1.97s/it, loss=0.473, v_num=9ytj]\n",
      "Validating: 100%|██████████| 12/12 [00:40<00:00,  2.75s/it]\u001b[A"
     ]
    },
    {
     "name": "stderr",
     "output_type": "stream",
     "text": [
      "Metric val_loss improved by 0.004 >= min_delta = 0.0. New best score: 0.541\n"
     ]
    },
    {
     "name": "stdout",
     "output_type": "stream",
     "text": [
      "Epoch 36: 100%|██████████| 63/63 [02:07<00:00,  2.02s/it, loss=0.473, v_num=9ytj]\n",
      "                                                           \u001b[A"
     ]
    },
    {
     "name": "stderr",
     "output_type": "stream",
     "text": [
      "Epoch 36, global step 1886: val_loss reached 0.54147 (best 0.54147), saving model to \"/notebooks/nbs/colab/wandb/run-20210527_105345-ihi59ytj/files/lung-cancer-detection/ihi59ytj/checkpoints/epoch=36-step=1886-val_loss=0.5415.ckpt\" as top 1\n"
     ]
    },
    {
     "name": "stdout",
     "output_type": "stream",
     "text": [
      "Epoch 37:  81%|████████  | 51/63 [01:18<00:18,  1.54s/it, loss=0.453, v_num=9ytj]\n",
      "Validating: 0it [00:00, ?it/s]\u001b[A\n",
      "Validating:   0%|          | 0/12 [00:00<?, ?it/s]\u001b[A\n",
      "Epoch 37:  84%|████████▍ | 53/63 [01:20<00:15,  1.52s/it, loss=0.453, v_num=9ytj]\n",
      "Validating:  17%|█▋        | 2/12 [00:08<00:32,  3.25s/it]\u001b[A\n",
      "Epoch 37:  87%|████████▋ | 55/63 [01:31<00:13,  1.66s/it, loss=0.453, v_num=9ytj]\n",
      "Epoch 37:  89%|████████▉ | 56/63 [01:33<00:11,  1.67s/it, loss=0.453, v_num=9ytj]\n",
      "Epoch 37:  90%|█████████ | 57/63 [01:42<00:10,  1.80s/it, loss=0.453, v_num=9ytj]\n",
      "Epoch 37:  92%|█████████▏| 58/63 [01:44<00:09,  1.81s/it, loss=0.453, v_num=9ytj]\n",
      "Epoch 37:  94%|█████████▎| 59/63 [01:47<00:07,  1.82s/it, loss=0.453, v_num=9ytj]\n",
      "Epoch 37:  95%|█████████▌| 60/63 [01:49<00:05,  1.83s/it, loss=0.453, v_num=9ytj]\n",
      "Epoch 37:  97%|█████████▋| 61/63 [01:51<00:03,  1.83s/it, loss=0.453, v_num=9ytj]\n",
      "Epoch 37:  98%|█████████▊| 62/63 [01:53<00:01,  1.83s/it, loss=0.453, v_num=9ytj]\n",
      "Epoch 37: 100%|██████████| 63/63 [01:56<00:00,  1.84s/it, loss=0.453, v_num=9ytj]\n",
      "Epoch 37: 100%|██████████| 63/63 [01:59<00:00,  1.90s/it, loss=0.453, v_num=9ytj]\n",
      "                                                           \u001b[A"
     ]
    },
    {
     "name": "stderr",
     "output_type": "stream",
     "text": [
      "Epoch 37, global step 1937: val_loss was not in top 1\n"
     ]
    },
    {
     "name": "stdout",
     "output_type": "stream",
     "text": [
      "Epoch 38:  81%|████████  | 51/63 [01:29<00:20,  1.75s/it, loss=0.472, v_num=9ytj]\n",
      "Validating: 0it [00:00, ?it/s]\u001b[A\n",
      "Validating:   0%|          | 0/12 [00:00<?, ?it/s]\u001b[A\n",
      "Epoch 38:  84%|████████▍ | 53/63 [01:31<00:17,  1.72s/it, loss=0.472, v_num=9ytj]\n",
      "Epoch 38:  86%|████████▌ | 54/63 [01:41<00:16,  1.89s/it, loss=0.472, v_num=9ytj]\n",
      "Epoch 38:  87%|████████▋ | 55/63 [01:42<00:14,  1.86s/it, loss=0.472, v_num=9ytj]\n",
      "Epoch 38:  89%|████████▉ | 56/63 [01:43<00:12,  1.85s/it, loss=0.472, v_num=9ytj]\n",
      "Epoch 38:  90%|█████████ | 57/63 [01:53<00:11,  1.99s/it, loss=0.472, v_num=9ytj]\n",
      "Epoch 38:  92%|█████████▏| 58/63 [01:55<00:09,  1.99s/it, loss=0.472, v_num=9ytj]\n",
      "Epoch 38:  94%|█████████▎| 59/63 [01:57<00:07,  2.00s/it, loss=0.472, v_num=9ytj]\n",
      "Epoch 38:  95%|█████████▌| 60/63 [02:00<00:06,  2.01s/it, loss=0.472, v_num=9ytj]\n",
      "Epoch 38:  97%|█████████▋| 61/63 [02:02<00:04,  2.01s/it, loss=0.472, v_num=9ytj]\n",
      "Epoch 38:  98%|█████████▊| 62/63 [02:04<00:02,  2.00s/it, loss=0.472, v_num=9ytj]\n",
      "Epoch 38: 100%|██████████| 63/63 [02:06<00:00,  2.01s/it, loss=0.472, v_num=9ytj]\n",
      "Validating: 100%|██████████| 12/12 [00:40<00:00,  2.77s/it]\u001b[A"
     ]
    },
    {
     "name": "stderr",
     "output_type": "stream",
     "text": [
      "Metric val_loss improved by 0.003 >= min_delta = 0.0. New best score: 0.539\n"
     ]
    },
    {
     "name": "stdout",
     "output_type": "stream",
     "text": [
      "Epoch 38: 100%|██████████| 63/63 [02:10<00:00,  2.07s/it, loss=0.472, v_num=9ytj]\n",
      "                                                           \u001b[A"
     ]
    },
    {
     "name": "stderr",
     "output_type": "stream",
     "text": [
      "Epoch 38, global step 1988: val_loss reached 0.53885 (best 0.53885), saving model to \"/notebooks/nbs/colab/wandb/run-20210527_105345-ihi59ytj/files/lung-cancer-detection/ihi59ytj/checkpoints/epoch=38-step=1988-val_loss=0.5389.ckpt\" as top 1\n"
     ]
    },
    {
     "name": "stdout",
     "output_type": "stream",
     "text": [
      "Epoch 39:  81%|████████  | 51/63 [01:23<00:19,  1.64s/it, loss=0.432, v_num=9ytj]\n",
      "Validating: 0it [00:00, ?it/s]\u001b[A\n",
      "Validating:   0%|          | 0/12 [00:00<?, ?it/s]\u001b[A\n",
      "Epoch 39:  84%|████████▍ | 53/63 [01:25<00:16,  1.61s/it, loss=0.432, v_num=9ytj]\n",
      "Validating:  17%|█▋        | 2/12 [00:08<00:33,  3.30s/it]\u001b[A\n",
      "Epoch 39:  87%|████████▋ | 55/63 [01:36<00:14,  1.75s/it, loss=0.432, v_num=9ytj]\n",
      "Epoch 39:  89%|████████▉ | 56/63 [01:38<00:12,  1.75s/it, loss=0.432, v_num=9ytj]\n",
      "Epoch 39:  90%|█████████ | 57/63 [01:47<00:11,  1.89s/it, loss=0.432, v_num=9ytj]\n",
      "Epoch 39:  92%|█████████▏| 58/63 [01:49<00:09,  1.89s/it, loss=0.432, v_num=9ytj]\n",
      "Epoch 39:  94%|█████████▎| 59/63 [01:52<00:07,  1.90s/it, loss=0.432, v_num=9ytj]\n",
      "Epoch 39:  95%|█████████▌| 60/63 [01:54<00:05,  1.91s/it, loss=0.432, v_num=9ytj]\n",
      "Epoch 39:  97%|█████████▋| 61/63 [01:56<00:03,  1.91s/it, loss=0.432, v_num=9ytj]\n",
      "Epoch 39:  98%|█████████▊| 62/63 [01:58<00:01,  1.91s/it, loss=0.432, v_num=9ytj]\n",
      "Epoch 39: 100%|██████████| 63/63 [02:00<00:00,  1.92s/it, loss=0.432, v_num=9ytj]\n",
      "Epoch 39: 100%|██████████| 63/63 [02:04<00:00,  1.98s/it, loss=0.432, v_num=9ytj]\n",
      "                                                           \u001b[A"
     ]
    },
    {
     "name": "stderr",
     "output_type": "stream",
     "text": [
      "Epoch 39, global step 2039: val_loss was not in top 1\n"
     ]
    },
    {
     "name": "stdout",
     "output_type": "stream",
     "text": [
      "Epoch 40:  81%|████████  | 51/63 [01:24<00:19,  1.66s/it, loss=0.422, v_num=9ytj]\n",
      "Validating: 0it [00:00, ?it/s]\u001b[A\n",
      "Validating:   0%|          | 0/12 [00:00<?, ?it/s]\u001b[A\n",
      "Epoch 40:  84%|████████▍ | 53/63 [01:26<00:16,  1.64s/it, loss=0.422, v_num=9ytj]\n",
      "Validating:  17%|█▋        | 2/12 [00:08<00:31,  3.18s/it]\u001b[A\n",
      "Epoch 40:  87%|████████▋ | 55/63 [01:37<00:14,  1.77s/it, loss=0.422, v_num=9ytj]\n",
      "Epoch 40:  89%|████████▉ | 56/63 [01:39<00:12,  1.77s/it, loss=0.422, v_num=9ytj]\n",
      "Epoch 40:  90%|█████████ | 57/63 [01:48<00:11,  1.90s/it, loss=0.422, v_num=9ytj]\n",
      "Epoch 40:  92%|█████████▏| 58/63 [01:50<00:09,  1.91s/it, loss=0.422, v_num=9ytj]\n",
      "Epoch 40:  94%|█████████▎| 59/63 [01:53<00:07,  1.92s/it, loss=0.422, v_num=9ytj]\n",
      "Epoch 40:  95%|█████████▌| 60/63 [01:55<00:05,  1.93s/it, loss=0.422, v_num=9ytj]\n",
      "Epoch 40:  97%|█████████▋| 61/63 [01:57<00:03,  1.93s/it, loss=0.422, v_num=9ytj]\n",
      "Epoch 40:  98%|█████████▊| 62/63 [01:59<00:01,  1.93s/it, loss=0.422, v_num=9ytj]\n",
      "Epoch 40: 100%|██████████| 63/63 [02:01<00:00,  1.94s/it, loss=0.422, v_num=9ytj]\n",
      "Validating: 100%|██████████| 12/12 [00:40<00:00,  2.76s/it]\u001b[A"
     ]
    },
    {
     "name": "stderr",
     "output_type": "stream",
     "text": [
      "Metric val_loss improved by 0.002 >= min_delta = 0.0. New best score: 0.536\n"
     ]
    },
    {
     "name": "stdout",
     "output_type": "stream",
     "text": [
      "Epoch 40: 100%|██████████| 63/63 [02:05<00:00,  1.99s/it, loss=0.422, v_num=9ytj]\n",
      "                                                           \u001b[A"
     ]
    },
    {
     "name": "stderr",
     "output_type": "stream",
     "text": [
      "Epoch 40, global step 2090: val_loss reached 0.53645 (best 0.53645), saving model to \"/notebooks/nbs/colab/wandb/run-20210527_105345-ihi59ytj/files/lung-cancer-detection/ihi59ytj/checkpoints/epoch=40-step=2090-val_loss=0.5364.ckpt\" as top 1\n"
     ]
    },
    {
     "name": "stdout",
     "output_type": "stream",
     "text": [
      "Epoch 41:  81%|████████  | 51/63 [01:21<00:19,  1.61s/it, loss=0.446, v_num=9ytj]\n",
      "Validating: 0it [00:00, ?it/s]\u001b[A\n",
      "Validating:   0%|          | 0/12 [00:00<?, ?it/s]\u001b[A\n",
      "Epoch 41:  84%|████████▍ | 53/63 [01:23<00:15,  1.58s/it, loss=0.446, v_num=9ytj]\n",
      "Validating:  17%|█▋        | 2/12 [00:08<00:32,  3.21s/it]\u001b[A\n",
      "Epoch 41:  87%|████████▋ | 55/63 [01:35<00:13,  1.73s/it, loss=0.446, v_num=9ytj]\n",
      "Epoch 41:  89%|████████▉ | 56/63 [01:36<00:12,  1.73s/it, loss=0.446, v_num=9ytj]\n",
      "Epoch 41:  90%|█████████ | 57/63 [01:45<00:11,  1.86s/it, loss=0.446, v_num=9ytj]\n",
      "Epoch 41:  92%|█████████▏| 58/63 [01:47<00:09,  1.86s/it, loss=0.446, v_num=9ytj]\n",
      "Epoch 41:  94%|█████████▎| 59/63 [01:50<00:07,  1.87s/it, loss=0.446, v_num=9ytj]\n",
      "Epoch 41:  95%|█████████▌| 60/63 [01:53<00:05,  1.88s/it, loss=0.446, v_num=9ytj]\n",
      "Epoch 41:  97%|█████████▋| 61/63 [01:55<00:03,  1.89s/it, loss=0.446, v_num=9ytj]\n",
      "Epoch 41:  98%|█████████▊| 62/63 [01:56<00:01,  1.88s/it, loss=0.446, v_num=9ytj]\n",
      "Epoch 41: 100%|██████████| 63/63 [01:59<00:00,  1.89s/it, loss=0.446, v_num=9ytj]\n",
      "Validating: 100%|██████████| 12/12 [00:40<00:00,  2.76s/it]\u001b[A"
     ]
    },
    {
     "name": "stderr",
     "output_type": "stream",
     "text": [
      "Metric val_loss improved by 0.004 >= min_delta = 0.0. New best score: 0.532\n"
     ]
    },
    {
     "name": "stdout",
     "output_type": "stream",
     "text": [
      "Epoch 41: 100%|██████████| 63/63 [02:02<00:00,  1.95s/it, loss=0.446, v_num=9ytj]\n",
      "                                                           \u001b[A"
     ]
    },
    {
     "name": "stderr",
     "output_type": "stream",
     "text": [
      "Epoch 41, global step 2141: val_loss reached 0.53246 (best 0.53246), saving model to \"/notebooks/nbs/colab/wandb/run-20210527_105345-ihi59ytj/files/lung-cancer-detection/ihi59ytj/checkpoints/epoch=41-step=2141-val_loss=0.5325.ckpt\" as top 1\n"
     ]
    },
    {
     "name": "stdout",
     "output_type": "stream",
     "text": [
      "Epoch 42:  81%|████████  | 51/63 [01:19<00:18,  1.55s/it, loss=0.469, v_num=9ytj]\n",
      "Validating: 0it [00:00, ?it/s]\u001b[A\n",
      "Validating:   0%|          | 0/12 [00:00<?, ?it/s]\u001b[A\n",
      "Epoch 42:  84%|████████▍ | 53/63 [01:21<00:15,  1.53s/it, loss=0.469, v_num=9ytj]\n",
      "Validating:  17%|█▋        | 2/12 [00:08<00:33,  3.31s/it]\u001b[A\n",
      "Epoch 42:  87%|████████▋ | 55/63 [01:31<00:13,  1.67s/it, loss=0.469, v_num=9ytj]\n",
      "Epoch 42:  89%|████████▉ | 56/63 [01:33<00:11,  1.67s/it, loss=0.469, v_num=9ytj]\n",
      "Epoch 42:  90%|█████████ | 57/63 [01:42<00:10,  1.80s/it, loss=0.469, v_num=9ytj]\n",
      "Epoch 42:  92%|█████████▏| 58/63 [01:44<00:09,  1.81s/it, loss=0.469, v_num=9ytj]\n",
      "Epoch 42:  94%|█████████▎| 59/63 [01:47<00:07,  1.82s/it, loss=0.469, v_num=9ytj]\n",
      "Epoch 42:  95%|█████████▌| 60/63 [01:50<00:05,  1.83s/it, loss=0.469, v_num=9ytj]\n",
      "Epoch 42:  97%|█████████▋| 61/63 [01:52<00:03,  1.84s/it, loss=0.469, v_num=9ytj]\n",
      "Epoch 42:  98%|█████████▊| 62/63 [01:53<00:01,  1.83s/it, loss=0.469, v_num=9ytj]\n",
      "Epoch 42: 100%|██████████| 63/63 [01:56<00:00,  1.84s/it, loss=0.469, v_num=9ytj]\n",
      "Validating: 100%|██████████| 12/12 [00:40<00:00,  2.76s/it]\u001b[A"
     ]
    },
    {
     "name": "stderr",
     "output_type": "stream",
     "text": [
      "Metric val_loss improved by 0.001 >= min_delta = 0.0. New best score: 0.531\n"
     ]
    },
    {
     "name": "stdout",
     "output_type": "stream",
     "text": [
      "Epoch 42: 100%|██████████| 63/63 [01:59<00:00,  1.90s/it, loss=0.469, v_num=9ytj]\n",
      "                                                           \u001b[A"
     ]
    },
    {
     "name": "stderr",
     "output_type": "stream",
     "text": [
      "Epoch 42, global step 2192: val_loss reached 0.53108 (best 0.53108), saving model to \"/notebooks/nbs/colab/wandb/run-20210527_105345-ihi59ytj/files/lung-cancer-detection/ihi59ytj/checkpoints/epoch=42-step=2192-val_loss=0.5311.ckpt\" as top 1\n"
     ]
    },
    {
     "name": "stdout",
     "output_type": "stream",
     "text": [
      "Epoch 43:  81%|████████  | 51/63 [01:27<00:20,  1.71s/it, loss=0.456, v_num=9ytj]\n",
      "Validating: 0it [00:00, ?it/s]\u001b[A\n",
      "Validating:   0%|          | 0/12 [00:00<?, ?it/s]\u001b[A\n",
      "Epoch 43:  84%|████████▍ | 53/63 [01:29<00:16,  1.68s/it, loss=0.456, v_num=9ytj]\n",
      "Validating:  17%|█▋        | 2/12 [00:08<00:33,  3.32s/it]\u001b[A\n",
      "Epoch 43:  87%|████████▋ | 55/63 [01:40<00:14,  1.84s/it, loss=0.456, v_num=9ytj]\n",
      "Epoch 43:  89%|████████▉ | 56/63 [01:42<00:12,  1.83s/it, loss=0.456, v_num=9ytj]\n",
      "Epoch 43:  90%|█████████ | 57/63 [01:51<00:11,  1.95s/it, loss=0.456, v_num=9ytj]\n",
      "Epoch 43:  92%|█████████▏| 58/63 [01:53<00:09,  1.95s/it, loss=0.456, v_num=9ytj]\n",
      "Epoch 43:  94%|█████████▎| 59/63 [01:55<00:07,  1.96s/it, loss=0.456, v_num=9ytj]\n",
      "Epoch 43:  95%|█████████▌| 60/63 [01:58<00:05,  1.97s/it, loss=0.456, v_num=9ytj]\n",
      "Epoch 43:  97%|█████████▋| 61/63 [02:00<00:03,  1.97s/it, loss=0.456, v_num=9ytj]\n",
      "Epoch 43:  98%|█████████▊| 62/63 [02:01<00:01,  1.97s/it, loss=0.456, v_num=9ytj]\n",
      "Epoch 43: 100%|██████████| 63/63 [02:04<00:00,  1.98s/it, loss=0.456, v_num=9ytj]\n",
      "Validating: 100%|██████████| 12/12 [00:40<00:00,  2.75s/it]\u001b[A"
     ]
    },
    {
     "name": "stderr",
     "output_type": "stream",
     "text": [
      "Metric val_loss improved by 0.003 >= min_delta = 0.0. New best score: 0.528\n"
     ]
    },
    {
     "name": "stdout",
     "output_type": "stream",
     "text": [
      "Epoch 43: 100%|██████████| 63/63 [02:07<00:00,  2.03s/it, loss=0.456, v_num=9ytj]\n",
      "                                                           \u001b[A"
     ]
    },
    {
     "name": "stderr",
     "output_type": "stream",
     "text": [
      "Epoch 43, global step 2243: val_loss reached 0.52823 (best 0.52823), saving model to \"/notebooks/nbs/colab/wandb/run-20210527_105345-ihi59ytj/files/lung-cancer-detection/ihi59ytj/checkpoints/epoch=43-step=2243-val_loss=0.5282.ckpt\" as top 1\n"
     ]
    },
    {
     "name": "stdout",
     "output_type": "stream",
     "text": [
      "Epoch 44:  81%|████████  | 51/63 [01:28<00:20,  1.73s/it, loss=0.422, v_num=9ytj]\n",
      "Validating: 0it [00:00, ?it/s]\u001b[A\n",
      "Validating:   0%|          | 0/12 [00:00<?, ?it/s]\u001b[A\n",
      "Epoch 44:  84%|████████▍ | 53/63 [01:29<00:16,  1.70s/it, loss=0.422, v_num=9ytj]\n",
      "Validating:  17%|█▋        | 2/12 [00:08<00:31,  3.18s/it]\u001b[A\n",
      "Epoch 44:  87%|████████▋ | 55/63 [01:40<00:14,  1.83s/it, loss=0.422, v_num=9ytj]\n",
      "Epoch 44:  89%|████████▉ | 56/63 [01:42<00:12,  1.83s/it, loss=0.422, v_num=9ytj]\n",
      "Epoch 44:  90%|█████████ | 57/63 [01:51<00:11,  1.96s/it, loss=0.422, v_num=9ytj]\n",
      "Epoch 44:  92%|█████████▏| 58/63 [01:53<00:09,  1.96s/it, loss=0.422, v_num=9ytj]\n",
      "Epoch 44:  94%|█████████▎| 59/63 [01:56<00:07,  1.97s/it, loss=0.422, v_num=9ytj]\n",
      "Epoch 44:  95%|█████████▌| 60/63 [01:59<00:05,  1.98s/it, loss=0.422, v_num=9ytj]\n",
      "Epoch 44:  97%|█████████▋| 61/63 [02:01<00:03,  1.99s/it, loss=0.422, v_num=9ytj]\n",
      "Epoch 44:  98%|█████████▊| 62/63 [02:02<00:01,  1.98s/it, loss=0.422, v_num=9ytj]\n",
      "Epoch 44: 100%|██████████| 63/63 [02:05<00:00,  1.99s/it, loss=0.422, v_num=9ytj]\n",
      "Epoch 44: 100%|██████████| 63/63 [02:08<00:00,  2.04s/it, loss=0.422, v_num=9ytj]\n",
      "                                                           \u001b[A"
     ]
    },
    {
     "name": "stderr",
     "output_type": "stream",
     "text": [
      "Epoch 44, global step 2294: val_loss was not in top 1\n"
     ]
    },
    {
     "name": "stdout",
     "output_type": "stream",
     "text": [
      "Epoch 45:  81%|████████  | 51/63 [01:17<00:18,  1.52s/it, loss=0.437, v_num=9ytj]\n",
      "Validating: 0it [00:00, ?it/s]\u001b[A\n",
      "Validating:   0%|          | 0/12 [00:00<?, ?it/s]\u001b[A\n",
      "Epoch 45:  84%|████████▍ | 53/63 [01:19<00:14,  1.50s/it, loss=0.437, v_num=9ytj]\n",
      "Validating:  17%|█▋        | 2/12 [00:08<00:33,  3.35s/it]\u001b[A\n",
      "Epoch 45:  87%|████████▋ | 55/63 [01:30<00:13,  1.64s/it, loss=0.437, v_num=9ytj]\n",
      "Epoch 45:  89%|████████▉ | 56/63 [01:31<00:11,  1.64s/it, loss=0.437, v_num=9ytj]\n",
      "Epoch 45:  90%|█████████ | 57/63 [01:41<00:10,  1.77s/it, loss=0.437, v_num=9ytj]\n",
      "Epoch 45:  92%|█████████▏| 58/63 [01:43<00:08,  1.78s/it, loss=0.437, v_num=9ytj]\n",
      "Epoch 45:  94%|█████████▎| 59/63 [01:45<00:07,  1.79s/it, loss=0.437, v_num=9ytj]\n",
      "Epoch 45:  95%|█████████▌| 60/63 [01:48<00:05,  1.81s/it, loss=0.437, v_num=9ytj]\n",
      "Epoch 45:  97%|█████████▋| 61/63 [01:50<00:03,  1.81s/it, loss=0.437, v_num=9ytj]\n",
      "Epoch 45:  98%|█████████▊| 62/63 [01:51<00:01,  1.81s/it, loss=0.437, v_num=9ytj]\n",
      "Epoch 45: 100%|██████████| 63/63 [01:54<00:00,  1.82s/it, loss=0.437, v_num=9ytj]\n",
      "Validating: 100%|██████████| 12/12 [00:40<00:00,  2.76s/it]\u001b[A"
     ]
    },
    {
     "name": "stderr",
     "output_type": "stream",
     "text": [
      "Metric val_loss improved by 0.001 >= min_delta = 0.0. New best score: 0.527\n"
     ]
    },
    {
     "name": "stdout",
     "output_type": "stream",
     "text": [
      "Epoch 45: 100%|██████████| 63/63 [01:57<00:00,  1.87s/it, loss=0.437, v_num=9ytj]\n",
      "                                                           \u001b[A"
     ]
    },
    {
     "name": "stderr",
     "output_type": "stream",
     "text": [
      "Epoch 45, global step 2345: val_loss reached 0.52685 (best 0.52685), saving model to \"/notebooks/nbs/colab/wandb/run-20210527_105345-ihi59ytj/files/lung-cancer-detection/ihi59ytj/checkpoints/epoch=45-step=2345-val_loss=0.5268.ckpt\" as top 1\n"
     ]
    },
    {
     "name": "stdout",
     "output_type": "stream",
     "text": [
      "Epoch 46:  81%|████████  | 51/63 [01:15<00:17,  1.49s/it, loss=0.442, v_num=9ytj]\n",
      "Validating: 0it [00:00, ?it/s]\u001b[A\n",
      "Validating:   0%|          | 0/12 [00:00<?, ?it/s]\u001b[A\n",
      "Epoch 46:  84%|████████▍ | 53/63 [01:17<00:14,  1.47s/it, loss=0.442, v_num=9ytj]\n",
      "Validating:  17%|█▋        | 2/12 [00:08<00:33,  3.40s/it]\u001b[A\n",
      "Epoch 46:  87%|████████▋ | 55/63 [01:28<00:12,  1.61s/it, loss=0.442, v_num=9ytj]\n",
      "Epoch 46:  89%|████████▉ | 56/63 [01:30<00:11,  1.62s/it, loss=0.442, v_num=9ytj]\n",
      "Epoch 46:  90%|█████████ | 57/63 [01:39<00:10,  1.75s/it, loss=0.442, v_num=9ytj]\n",
      "Epoch 46:  92%|█████████▏| 58/63 [01:41<00:08,  1.75s/it, loss=0.442, v_num=9ytj]\n",
      "Epoch 46:  94%|█████████▎| 59/63 [01:44<00:07,  1.77s/it, loss=0.442, v_num=9ytj]\n",
      "Epoch 46:  95%|█████████▌| 60/63 [01:46<00:05,  1.78s/it, loss=0.442, v_num=9ytj]\n",
      "Epoch 46:  97%|█████████▋| 61/63 [01:48<00:03,  1.79s/it, loss=0.442, v_num=9ytj]\n",
      "Epoch 46:  98%|█████████▊| 62/63 [01:50<00:01,  1.78s/it, loss=0.442, v_num=9ytj]\n",
      "Epoch 46: 100%|██████████| 63/63 [01:53<00:00,  1.80s/it, loss=0.442, v_num=9ytj]\n",
      "Validating: 100%|██████████| 12/12 [00:40<00:00,  2.76s/it]\u001b[A"
     ]
    },
    {
     "name": "stderr",
     "output_type": "stream",
     "text": [
      "Metric val_loss improved by 0.002 >= min_delta = 0.0. New best score: 0.525\n"
     ]
    },
    {
     "name": "stdout",
     "output_type": "stream",
     "text": [
      "Epoch 46: 100%|██████████| 63/63 [01:56<00:00,  1.85s/it, loss=0.442, v_num=9ytj]\n",
      "                                                           \u001b[A"
     ]
    },
    {
     "name": "stderr",
     "output_type": "stream",
     "text": [
      "Epoch 46, global step 2396: val_loss reached 0.52453 (best 0.52453), saving model to \"/notebooks/nbs/colab/wandb/run-20210527_105345-ihi59ytj/files/lung-cancer-detection/ihi59ytj/checkpoints/epoch=46-step=2396-val_loss=0.5245.ckpt\" as top 1\n"
     ]
    },
    {
     "name": "stdout",
     "output_type": "stream",
     "text": [
      "Epoch 47:  81%|████████  | 51/63 [01:22<00:19,  1.61s/it, loss=0.386, v_num=9ytj]\n",
      "Validating: 0it [00:00, ?it/s]\u001b[A\n",
      "Validating:   0%|          | 0/12 [00:00<?, ?it/s]\u001b[A\n",
      "Epoch 47:  84%|████████▍ | 53/63 [01:24<00:15,  1.59s/it, loss=0.386, v_num=9ytj]\n",
      "Validating:  17%|█▋        | 2/12 [00:08<00:33,  3.34s/it]\u001b[A\n",
      "Epoch 47:  87%|████████▋ | 55/63 [01:34<00:13,  1.71s/it, loss=0.386, v_num=9ytj]\n",
      "Epoch 47:  89%|████████▉ | 56/63 [01:36<00:12,  1.72s/it, loss=0.386, v_num=9ytj]\n",
      "Epoch 47:  90%|█████████ | 57/63 [01:46<00:11,  1.86s/it, loss=0.386, v_num=9ytj]\n",
      "Epoch 47:  92%|█████████▏| 58/63 [01:48<00:09,  1.87s/it, loss=0.386, v_num=9ytj]\n",
      "Epoch 47:  94%|█████████▎| 59/63 [01:50<00:07,  1.88s/it, loss=0.386, v_num=9ytj]\n",
      "Epoch 47:  95%|█████████▌| 60/63 [01:53<00:05,  1.89s/it, loss=0.386, v_num=9ytj]\n",
      "Epoch 47:  97%|█████████▋| 61/63 [01:55<00:03,  1.89s/it, loss=0.386, v_num=9ytj]\n",
      "Epoch 47:  98%|█████████▊| 62/63 [01:57<00:01,  1.89s/it, loss=0.386, v_num=9ytj]\n",
      "Epoch 47: 100%|██████████| 63/63 [01:59<00:00,  1.90s/it, loss=0.386, v_num=9ytj]\n",
      "Validating: 100%|██████████| 12/12 [00:40<00:00,  2.78s/it]\u001b[A"
     ]
    },
    {
     "name": "stderr",
     "output_type": "stream",
     "text": [
      "Metric val_loss improved by 0.001 >= min_delta = 0.0. New best score: 0.524\n"
     ]
    },
    {
     "name": "stdout",
     "output_type": "stream",
     "text": [
      "Epoch 47: 100%|██████████| 63/63 [02:03<00:00,  1.95s/it, loss=0.386, v_num=9ytj]\n",
      "                                                           \u001b[A"
     ]
    },
    {
     "name": "stderr",
     "output_type": "stream",
     "text": [
      "Epoch 47, global step 2447: val_loss reached 0.52355 (best 0.52355), saving model to \"/notebooks/nbs/colab/wandb/run-20210527_105345-ihi59ytj/files/lung-cancer-detection/ihi59ytj/checkpoints/epoch=47-step=2447-val_loss=0.5236.ckpt\" as top 1\n"
     ]
    },
    {
     "name": "stdout",
     "output_type": "stream",
     "text": [
      "Epoch 48:  81%|████████  | 51/63 [01:24<00:19,  1.65s/it, loss=0.41, v_num=9ytj] \n",
      "Validating: 0it [00:00, ?it/s]\u001b[A\n",
      "Validating:   0%|          | 0/12 [00:00<?, ?it/s]\u001b[A\n",
      "Epoch 48:  84%|████████▍ | 53/63 [01:26<00:16,  1.62s/it, loss=0.41, v_num=9ytj]\n",
      "Validating:  17%|█▋        | 2/12 [00:08<00:33,  3.36s/it]\u001b[A\n",
      "Epoch 48:  87%|████████▋ | 55/63 [01:37<00:14,  1.77s/it, loss=0.41, v_num=9ytj]\n",
      "Epoch 48:  89%|████████▉ | 56/63 [01:38<00:12,  1.77s/it, loss=0.41, v_num=9ytj]\n",
      "Epoch 48:  90%|█████████ | 57/63 [01:48<00:11,  1.90s/it, loss=0.41, v_num=9ytj]\n",
      "Epoch 48:  92%|█████████▏| 58/63 [01:50<00:09,  1.90s/it, loss=0.41, v_num=9ytj]\n",
      "Epoch 48:  94%|█████████▎| 59/63 [01:52<00:07,  1.91s/it, loss=0.41, v_num=9ytj]\n",
      "Epoch 48:  95%|█████████▌| 60/63 [01:55<00:05,  1.92s/it, loss=0.41, v_num=9ytj]\n",
      "Epoch 48:  97%|█████████▋| 61/63 [01:57<00:03,  1.93s/it, loss=0.41, v_num=9ytj]\n",
      "Epoch 48:  98%|█████████▊| 62/63 [01:59<00:01,  1.92s/it, loss=0.41, v_num=9ytj]\n",
      "Epoch 48: 100%|██████████| 63/63 [02:01<00:00,  1.93s/it, loss=0.41, v_num=9ytj]\n",
      "Epoch 48: 100%|██████████| 63/63 [02:05<00:00,  1.98s/it, loss=0.41, v_num=9ytj]\n",
      "                                                           \u001b[A"
     ]
    },
    {
     "name": "stderr",
     "output_type": "stream",
     "text": [
      "Epoch 48, global step 2498: val_loss was not in top 1\n"
     ]
    },
    {
     "name": "stdout",
     "output_type": "stream",
     "text": [
      "Epoch 49:  81%|████████  | 51/63 [01:18<00:18,  1.53s/it, loss=0.41, v_num=9ytj] \n",
      "Validating: 0it [00:00, ?it/s]\u001b[A\n",
      "Validating:   0%|          | 0/12 [00:00<?, ?it/s]\u001b[A\n",
      "Epoch 49:  84%|████████▍ | 53/63 [01:20<00:15,  1.51s/it, loss=0.41, v_num=9ytj]\n",
      "Validating:  17%|█▋        | 2/12 [00:08<00:33,  3.31s/it]\u001b[A\n",
      "Epoch 49:  87%|████████▋ | 55/63 [01:31<00:13,  1.66s/it, loss=0.41, v_num=9ytj]\n",
      "Epoch 49:  89%|████████▉ | 56/63 [01:32<00:11,  1.66s/it, loss=0.41, v_num=9ytj]\n",
      "Epoch 49:  90%|█████████ | 57/63 [01:41<00:10,  1.78s/it, loss=0.41, v_num=9ytj]\n",
      "Epoch 49:  92%|█████████▏| 58/63 [01:43<00:08,  1.79s/it, loss=0.41, v_num=9ytj]\n",
      "Epoch 49:  94%|█████████▎| 59/63 [01:46<00:07,  1.80s/it, loss=0.41, v_num=9ytj]\n",
      "Epoch 49:  95%|█████████▌| 60/63 [01:48<00:05,  1.82s/it, loss=0.41, v_num=9ytj]\n",
      "Epoch 49:  97%|█████████▋| 61/63 [01:50<00:03,  1.82s/it, loss=0.41, v_num=9ytj]\n",
      "Epoch 49:  98%|█████████▊| 62/63 [01:52<00:01,  1.81s/it, loss=0.41, v_num=9ytj]\n",
      "Epoch 49: 100%|██████████| 63/63 [01:55<00:00,  1.83s/it, loss=0.41, v_num=9ytj]\n",
      "Validating: 100%|██████████| 12/12 [00:40<00:00,  2.75s/it]\u001b[A"
     ]
    },
    {
     "name": "stderr",
     "output_type": "stream",
     "text": [
      "Metric val_loss improved by 0.001 >= min_delta = 0.0. New best score: 0.522\n"
     ]
    },
    {
     "name": "stdout",
     "output_type": "stream",
     "text": [
      "Epoch 49: 100%|██████████| 63/63 [01:58<00:00,  1.88s/it, loss=0.41, v_num=9ytj]\n",
      "                                                           \u001b[A"
     ]
    },
    {
     "name": "stderr",
     "output_type": "stream",
     "text": [
      "Epoch 49, global step 2549: val_loss reached 0.52225 (best 0.52225), saving model to \"/notebooks/nbs/colab/wandb/run-20210527_105345-ihi59ytj/files/lung-cancer-detection/ihi59ytj/checkpoints/epoch=49-step=2549-val_loss=0.5223.ckpt\" as top 1\n"
     ]
    },
    {
     "name": "stdout",
     "output_type": "stream",
     "text": [
      "Epoch 50:  81%|████████  | 51/63 [01:15<00:17,  1.48s/it, loss=0.391, v_num=9ytj]\n",
      "Validating: 0it [00:00, ?it/s]\u001b[A\n",
      "Validating:   0%|          | 0/12 [00:00<?, ?it/s]\u001b[A\n",
      "Epoch 50:  84%|████████▍ | 53/63 [01:17<00:14,  1.46s/it, loss=0.391, v_num=9ytj]\n",
      "Validating:  17%|█▋        | 2/12 [00:08<00:32,  3.26s/it]\u001b[A\n",
      "Epoch 50:  87%|████████▋ | 55/63 [01:28<00:12,  1.61s/it, loss=0.391, v_num=9ytj]\n",
      "Epoch 50:  89%|████████▉ | 56/63 [01:30<00:11,  1.61s/it, loss=0.391, v_num=9ytj]\n",
      "Epoch 50:  90%|█████████ | 57/63 [01:39<00:10,  1.74s/it, loss=0.391, v_num=9ytj]\n",
      "Epoch 50:  92%|█████████▏| 58/63 [01:41<00:08,  1.75s/it, loss=0.391, v_num=9ytj]\n",
      "Epoch 50:  94%|█████████▎| 59/63 [01:43<00:07,  1.76s/it, loss=0.391, v_num=9ytj]\n",
      "Epoch 50:  95%|█████████▌| 60/63 [01:46<00:05,  1.77s/it, loss=0.391, v_num=9ytj]\n",
      "Epoch 50:  97%|█████████▋| 61/63 [01:48<00:03,  1.78s/it, loss=0.391, v_num=9ytj]\n",
      "Epoch 50:  98%|█████████▊| 62/63 [01:50<00:01,  1.77s/it, loss=0.391, v_num=9ytj]\n",
      "Epoch 50: 100%|██████████| 63/63 [01:52<00:00,  1.79s/it, loss=0.391, v_num=9ytj]\n",
      "Validating: 100%|██████████| 12/12 [00:40<00:00,  2.76s/it]\u001b[A"
     ]
    },
    {
     "name": "stderr",
     "output_type": "stream",
     "text": [
      "Metric val_loss improved by 0.003 >= min_delta = 0.0. New best score: 0.519\n"
     ]
    },
    {
     "name": "stdout",
     "output_type": "stream",
     "text": [
      "Epoch 50: 100%|██████████| 63/63 [01:56<00:00,  1.84s/it, loss=0.391, v_num=9ytj]\n",
      "                                                           \u001b[A"
     ]
    },
    {
     "name": "stderr",
     "output_type": "stream",
     "text": [
      "Epoch 50, global step 2600: val_loss reached 0.51935 (best 0.51935), saving model to \"/notebooks/nbs/colab/wandb/run-20210527_105345-ihi59ytj/files/lung-cancer-detection/ihi59ytj/checkpoints/epoch=50-step=2600-val_loss=0.5193.ckpt\" as top 1\n"
     ]
    },
    {
     "name": "stdout",
     "output_type": "stream",
     "text": [
      "Epoch 51:  81%|████████  | 51/63 [01:18<00:18,  1.54s/it, loss=0.422, v_num=9ytj]\n",
      "Validating: 0it [00:00, ?it/s]\u001b[A\n",
      "Validating:   0%|          | 0/12 [00:00<?, ?it/s]\u001b[A\n",
      "Epoch 51:  84%|████████▍ | 53/63 [01:20<00:15,  1.52s/it, loss=0.422, v_num=9ytj]\n",
      "Validating:  17%|█▋        | 2/12 [00:08<00:33,  3.33s/it]\u001b[A\n",
      "Epoch 51:  87%|████████▋ | 55/63 [01:31<00:13,  1.66s/it, loss=0.422, v_num=9ytj]\n",
      "Epoch 51:  89%|████████▉ | 56/63 [01:32<00:11,  1.66s/it, loss=0.422, v_num=9ytj]\n",
      "Epoch 51:  90%|█████████ | 57/63 [01:42<00:10,  1.80s/it, loss=0.422, v_num=9ytj]\n",
      "Epoch 51:  92%|█████████▏| 58/63 [01:44<00:09,  1.80s/it, loss=0.422, v_num=9ytj]\n",
      "Epoch 51:  94%|█████████▎| 59/63 [01:47<00:07,  1.82s/it, loss=0.422, v_num=9ytj]\n",
      "Epoch 51:  95%|█████████▌| 60/63 [01:49<00:05,  1.83s/it, loss=0.422, v_num=9ytj]\n",
      "Epoch 51:  97%|█████████▋| 61/63 [01:51<00:03,  1.83s/it, loss=0.422, v_num=9ytj]\n",
      "Epoch 51:  98%|█████████▊| 62/63 [01:53<00:01,  1.83s/it, loss=0.422, v_num=9ytj]\n",
      "Epoch 51: 100%|██████████| 63/63 [01:55<00:00,  1.84s/it, loss=0.422, v_num=9ytj]\n",
      "Validating: 100%|██████████| 12/12 [00:40<00:00,  2.76s/it]\u001b[A"
     ]
    },
    {
     "name": "stderr",
     "output_type": "stream",
     "text": [
      "Metric val_loss improved by 0.002 >= min_delta = 0.0. New best score: 0.517\n"
     ]
    },
    {
     "name": "stdout",
     "output_type": "stream",
     "text": [
      "Epoch 51: 100%|██████████| 63/63 [01:59<00:00,  1.89s/it, loss=0.422, v_num=9ytj]\n",
      "                                                           \u001b[A"
     ]
    },
    {
     "name": "stderr",
     "output_type": "stream",
     "text": [
      "Epoch 51, global step 2651: val_loss reached 0.51727 (best 0.51727), saving model to \"/notebooks/nbs/colab/wandb/run-20210527_105345-ihi59ytj/files/lung-cancer-detection/ihi59ytj/checkpoints/epoch=51-step=2651-val_loss=0.5173.ckpt\" as top 1\n"
     ]
    },
    {
     "name": "stdout",
     "output_type": "stream",
     "text": [
      "Epoch 52:  81%|████████  | 51/63 [01:17<00:18,  1.53s/it, loss=0.411, v_num=9ytj]\n",
      "Validating: 0it [00:00, ?it/s]\u001b[A\n",
      "Validating:   0%|          | 0/12 [00:00<?, ?it/s]\u001b[A\n",
      "Epoch 52:  84%|████████▍ | 53/63 [01:19<00:15,  1.50s/it, loss=0.411, v_num=9ytj]\n",
      "Validating:  17%|█▋        | 2/12 [00:08<00:33,  3.37s/it]\u001b[A\n",
      "Epoch 52:  87%|████████▋ | 55/63 [01:31<00:13,  1.66s/it, loss=0.411, v_num=9ytj]\n",
      "Epoch 52:  89%|████████▉ | 56/63 [01:32<00:11,  1.65s/it, loss=0.411, v_num=9ytj]\n",
      "Epoch 52:  90%|█████████ | 57/63 [01:42<00:10,  1.79s/it, loss=0.411, v_num=9ytj]\n",
      "Epoch 52:  92%|█████████▏| 58/63 [01:44<00:08,  1.79s/it, loss=0.411, v_num=9ytj]\n",
      "Epoch 52:  94%|█████████▎| 59/63 [01:46<00:07,  1.81s/it, loss=0.411, v_num=9ytj]\n",
      "Epoch 52:  95%|█████████▌| 60/63 [01:49<00:05,  1.82s/it, loss=0.411, v_num=9ytj]\n",
      "Epoch 52:  97%|█████████▋| 61/63 [01:51<00:03,  1.82s/it, loss=0.411, v_num=9ytj]\n",
      "Epoch 52:  98%|█████████▊| 62/63 [01:52<00:01,  1.82s/it, loss=0.411, v_num=9ytj]\n",
      "Epoch 52: 100%|██████████| 63/63 [01:55<00:00,  1.83s/it, loss=0.411, v_num=9ytj]\n",
      "Epoch 52: 100%|██████████| 63/63 [01:58<00:00,  1.89s/it, loss=0.411, v_num=9ytj]\n",
      "                                                           \u001b[A"
     ]
    },
    {
     "name": "stderr",
     "output_type": "stream",
     "text": [
      "Epoch 52, global step 2702: val_loss was not in top 1\n"
     ]
    },
    {
     "name": "stdout",
     "output_type": "stream",
     "text": [
      "Epoch 53:  81%|████████  | 51/63 [01:28<00:20,  1.74s/it, loss=0.406, v_num=9ytj]\n",
      "Validating: 0it [00:00, ?it/s]\u001b[A\n",
      "Validating:   0%|          | 0/12 [00:00<?, ?it/s]\u001b[A\n",
      "Epoch 53:  84%|████████▍ | 53/63 [01:30<00:17,  1.71s/it, loss=0.406, v_num=9ytj]\n",
      "Validating:  17%|█▋        | 2/12 [00:08<00:33,  3.40s/it]\u001b[A\n",
      "Epoch 53:  87%|████████▋ | 55/63 [01:41<00:14,  1.84s/it, loss=0.406, v_num=9ytj]\n",
      "Epoch 53:  89%|████████▉ | 56/63 [01:43<00:12,  1.84s/it, loss=0.406, v_num=9ytj]\n",
      "Epoch 53:  90%|█████████ | 57/63 [01:52<00:11,  1.98s/it, loss=0.406, v_num=9ytj]\n",
      "Epoch 53:  92%|█████████▏| 58/63 [01:54<00:09,  1.98s/it, loss=0.406, v_num=9ytj]\n",
      "Epoch 53:  94%|█████████▎| 59/63 [01:57<00:07,  1.99s/it, loss=0.406, v_num=9ytj]\n",
      "Epoch 53:  95%|█████████▌| 60/63 [01:59<00:05,  2.00s/it, loss=0.406, v_num=9ytj]\n",
      "Epoch 53:  97%|█████████▋| 61/63 [02:01<00:03,  2.00s/it, loss=0.406, v_num=9ytj]\n",
      "Epoch 53:  98%|█████████▊| 62/63 [02:03<00:01,  1.99s/it, loss=0.406, v_num=9ytj]\n",
      "Epoch 53: 100%|██████████| 63/63 [02:06<00:00,  2.00s/it, loss=0.406, v_num=9ytj]\n",
      "Validating: 100%|██████████| 12/12 [00:40<00:00,  2.77s/it]\u001b[A"
     ]
    },
    {
     "name": "stderr",
     "output_type": "stream",
     "text": [
      "Metric val_loss improved by 0.002 >= min_delta = 0.0. New best score: 0.516\n"
     ]
    },
    {
     "name": "stdout",
     "output_type": "stream",
     "text": [
      "Epoch 53: 100%|██████████| 63/63 [02:09<00:00,  2.06s/it, loss=0.406, v_num=9ytj]\n",
      "                                                           \u001b[A"
     ]
    },
    {
     "name": "stderr",
     "output_type": "stream",
     "text": [
      "Epoch 53, global step 2753: val_loss reached 0.51553 (best 0.51553), saving model to \"/notebooks/nbs/colab/wandb/run-20210527_105345-ihi59ytj/files/lung-cancer-detection/ihi59ytj/checkpoints/epoch=53-step=2753-val_loss=0.5155.ckpt\" as top 1\n"
     ]
    },
    {
     "name": "stdout",
     "output_type": "stream",
     "text": [
      "Epoch 54:  81%|████████  | 51/63 [01:21<00:19,  1.60s/it, loss=0.366, v_num=9ytj]\n",
      "Validating: 0it [00:00, ?it/s]\u001b[A\n",
      "Validating:   0%|          | 0/12 [00:00<?, ?it/s]\u001b[A\n",
      "Epoch 54:  84%|████████▍ | 53/63 [01:23<00:15,  1.58s/it, loss=0.366, v_num=9ytj]\n",
      "Validating:  17%|█▋        | 2/12 [00:08<00:33,  3.31s/it]\u001b[A\n",
      "Epoch 54:  87%|████████▋ | 55/63 [01:34<00:13,  1.71s/it, loss=0.366, v_num=9ytj]\n",
      "Epoch 54:  89%|████████▉ | 56/63 [01:36<00:12,  1.72s/it, loss=0.366, v_num=9ytj]\n",
      "Epoch 54:  90%|█████████ | 57/63 [01:45<00:11,  1.85s/it, loss=0.366, v_num=9ytj]\n",
      "Epoch 54:  92%|█████████▏| 58/63 [01:47<00:09,  1.86s/it, loss=0.366, v_num=9ytj]\n",
      "Epoch 54:  94%|█████████▎| 59/63 [01:50<00:07,  1.87s/it, loss=0.366, v_num=9ytj]\n",
      "Epoch 54:  95%|█████████▌| 60/63 [01:52<00:05,  1.88s/it, loss=0.366, v_num=9ytj]\n",
      "Epoch 54:  97%|█████████▋| 61/63 [01:54<00:03,  1.88s/it, loss=0.366, v_num=9ytj]\n",
      "Epoch 54:  98%|█████████▊| 62/63 [01:56<00:01,  1.88s/it, loss=0.366, v_num=9ytj]\n",
      "Epoch 54: 100%|██████████| 63/63 [01:59<00:00,  1.89s/it, loss=0.366, v_num=9ytj]\n",
      "Validating: 100%|██████████| 12/12 [00:40<00:00,  2.77s/it]\u001b[A"
     ]
    },
    {
     "name": "stderr",
     "output_type": "stream",
     "text": [
      "Metric val_loss improved by 0.001 >= min_delta = 0.0. New best score: 0.514\n"
     ]
    },
    {
     "name": "stdout",
     "output_type": "stream",
     "text": [
      "Epoch 54: 100%|██████████| 63/63 [02:02<00:00,  1.94s/it, loss=0.366, v_num=9ytj]\n",
      "                                                           \u001b[A"
     ]
    },
    {
     "name": "stderr",
     "output_type": "stream",
     "text": [
      "Epoch 54, global step 2804: val_loss reached 0.51421 (best 0.51421), saving model to \"/notebooks/nbs/colab/wandb/run-20210527_105345-ihi59ytj/files/lung-cancer-detection/ihi59ytj/checkpoints/epoch=54-step=2804-val_loss=0.5142.ckpt\" as top 1\n"
     ]
    },
    {
     "name": "stdout",
     "output_type": "stream",
     "text": [
      "Epoch 55:  81%|████████  | 51/63 [01:19<00:18,  1.56s/it, loss=0.377, v_num=9ytj]\n",
      "Validating: 0it [00:00, ?it/s]\u001b[A\n",
      "Validating:   0%|          | 0/12 [00:00<?, ?it/s]\u001b[A\n",
      "Epoch 55:  84%|████████▍ | 53/63 [01:21<00:15,  1.54s/it, loss=0.377, v_num=9ytj]\n",
      "Validating:  17%|█▋        | 2/12 [00:08<00:32,  3.24s/it]\u001b[A\n",
      "Epoch 55:  87%|████████▋ | 55/63 [01:33<00:13,  1.70s/it, loss=0.377, v_num=9ytj]\n",
      "Epoch 55:  89%|████████▉ | 56/63 [01:35<00:11,  1.70s/it, loss=0.377, v_num=9ytj]\n",
      "Epoch 55:  90%|█████████ | 57/63 [01:43<00:10,  1.81s/it, loss=0.377, v_num=9ytj]\n",
      "Epoch 55:  92%|█████████▏| 58/63 [01:45<00:09,  1.82s/it, loss=0.377, v_num=9ytj]\n",
      "Epoch 55:  94%|█████████▎| 59/63 [01:47<00:07,  1.83s/it, loss=0.377, v_num=9ytj]\n",
      "Epoch 55:  95%|█████████▌| 60/63 [01:50<00:05,  1.84s/it, loss=0.377, v_num=9ytj]\n",
      "Epoch 55:  97%|█████████▋| 61/63 [01:52<00:03,  1.85s/it, loss=0.377, v_num=9ytj]\n",
      "Epoch 55:  98%|█████████▊| 62/63 [01:54<00:01,  1.84s/it, loss=0.377, v_num=9ytj]\n",
      "Epoch 55: 100%|██████████| 63/63 [01:56<00:00,  1.85s/it, loss=0.377, v_num=9ytj]\n",
      "Epoch 55: 100%|██████████| 63/63 [02:00<00:00,  1.91s/it, loss=0.377, v_num=9ytj]\n",
      "                                                           \u001b[A"
     ]
    },
    {
     "name": "stderr",
     "output_type": "stream",
     "text": [
      "Epoch 55, global step 2855: val_loss was not in top 1\n"
     ]
    },
    {
     "name": "stdout",
     "output_type": "stream",
     "text": [
      "Epoch 56:  81%|████████  | 51/63 [01:22<00:19,  1.61s/it, loss=0.391, v_num=9ytj]\n",
      "Validating: 0it [00:00, ?it/s]\u001b[A\n",
      "Validating:   0%|          | 0/12 [00:00<?, ?it/s]\u001b[A\n",
      "Epoch 56:  84%|████████▍ | 53/63 [01:24<00:15,  1.59s/it, loss=0.391, v_num=9ytj]\n",
      "Validating:  17%|█▋        | 2/12 [00:08<00:32,  3.27s/it]\u001b[A\n",
      "Epoch 56:  87%|████████▋ | 55/63 [01:34<00:13,  1.72s/it, loss=0.391, v_num=9ytj]\n",
      "Epoch 56:  89%|████████▉ | 56/63 [01:36<00:12,  1.73s/it, loss=0.391, v_num=9ytj]\n",
      "Epoch 56:  90%|█████████ | 57/63 [01:45<00:11,  1.86s/it, loss=0.391, v_num=9ytj]\n",
      "Epoch 56:  92%|█████████▏| 58/63 [01:47<00:09,  1.86s/it, loss=0.391, v_num=9ytj]\n",
      "Epoch 56:  94%|█████████▎| 59/63 [01:50<00:07,  1.87s/it, loss=0.391, v_num=9ytj]\n",
      "Epoch 56:  95%|█████████▌| 60/63 [01:53<00:05,  1.89s/it, loss=0.391, v_num=9ytj]\n",
      "Epoch 56:  97%|█████████▋| 61/63 [01:55<00:03,  1.89s/it, loss=0.391, v_num=9ytj]\n",
      "Epoch 56:  98%|█████████▊| 62/63 [01:56<00:01,  1.88s/it, loss=0.391, v_num=9ytj]\n",
      "Epoch 56: 100%|██████████| 63/63 [01:59<00:00,  1.89s/it, loss=0.391, v_num=9ytj]\n",
      "Validating: 100%|██████████| 12/12 [00:40<00:00,  2.76s/it]\u001b[A"
     ]
    },
    {
     "name": "stderr",
     "output_type": "stream",
     "text": [
      "Metric val_loss improved by 0.002 >= min_delta = 0.0. New best score: 0.512\n"
     ]
    },
    {
     "name": "stdout",
     "output_type": "stream",
     "text": [
      "Epoch 56: 100%|██████████| 63/63 [02:02<00:00,  1.95s/it, loss=0.391, v_num=9ytj]\n",
      "                                                           \u001b[A"
     ]
    },
    {
     "name": "stderr",
     "output_type": "stream",
     "text": [
      "Epoch 56, global step 2906: val_loss reached 0.51245 (best 0.51245), saving model to \"/notebooks/nbs/colab/wandb/run-20210527_105345-ihi59ytj/files/lung-cancer-detection/ihi59ytj/checkpoints/epoch=56-step=2906-val_loss=0.5124.ckpt\" as top 1\n"
     ]
    },
    {
     "name": "stdout",
     "output_type": "stream",
     "text": [
      "Epoch 57:  81%|████████  | 51/63 [01:24<00:19,  1.65s/it, loss=0.386, v_num=9ytj]\n",
      "Validating: 0it [00:00, ?it/s]\u001b[A\n",
      "Validating:   0%|          | 0/12 [00:00<?, ?it/s]\u001b[A\n",
      "Epoch 57:  84%|████████▍ | 53/63 [01:26<00:16,  1.62s/it, loss=0.386, v_num=9ytj]\n",
      "Validating:  17%|█▋        | 2/12 [00:08<00:32,  3.24s/it]\u001b[A\n",
      "Epoch 57:  87%|████████▋ | 55/63 [01:36<00:14,  1.75s/it, loss=0.386, v_num=9ytj]\n",
      "Epoch 57:  89%|████████▉ | 56/63 [01:38<00:12,  1.75s/it, loss=0.386, v_num=9ytj]\n",
      "Epoch 57:  90%|█████████ | 57/63 [01:47<00:11,  1.89s/it, loss=0.386, v_num=9ytj]\n",
      "Epoch 57:  92%|█████████▏| 58/63 [01:49<00:09,  1.90s/it, loss=0.386, v_num=9ytj]\n",
      "Epoch 57:  94%|█████████▎| 59/63 [01:52<00:07,  1.91s/it, loss=0.386, v_num=9ytj]\n",
      "Epoch 57:  95%|█████████▌| 60/63 [01:55<00:05,  1.92s/it, loss=0.386, v_num=9ytj]\n",
      "Epoch 57:  97%|█████████▋| 61/63 [01:57<00:03,  1.92s/it, loss=0.386, v_num=9ytj]\n",
      "Epoch 57:  98%|█████████▊| 62/63 [01:58<00:01,  1.91s/it, loss=0.386, v_num=9ytj]\n",
      "Epoch 57: 100%|██████████| 63/63 [02:01<00:00,  1.92s/it, loss=0.386, v_num=9ytj]\n",
      "Epoch 57: 100%|██████████| 63/63 [02:04<00:00,  1.98s/it, loss=0.386, v_num=9ytj]\n",
      "                                                           \u001b[A"
     ]
    },
    {
     "name": "stderr",
     "output_type": "stream",
     "text": [
      "Epoch 57, global step 2957: val_loss was not in top 1\n"
     ]
    },
    {
     "name": "stdout",
     "output_type": "stream",
     "text": [
      "Epoch 58:  81%|████████  | 51/63 [01:17<00:18,  1.52s/it, loss=0.379, v_num=9ytj]\n",
      "Validating: 0it [00:00, ?it/s]\u001b[A\n",
      "Validating:   0%|          | 0/12 [00:00<?, ?it/s]\u001b[A\n",
      "Epoch 58:  84%|████████▍ | 53/63 [01:19<00:14,  1.49s/it, loss=0.379, v_num=9ytj]\n",
      "Validating:  17%|█▋        | 2/12 [00:09<00:34,  3.46s/it]\u001b[A\n",
      "Epoch 58:  87%|████████▋ | 55/63 [01:29<00:13,  1.63s/it, loss=0.379, v_num=9ytj]\n",
      "Epoch 58:  89%|████████▉ | 56/63 [01:31<00:11,  1.64s/it, loss=0.379, v_num=9ytj]\n",
      "Epoch 58:  90%|█████████ | 57/63 [01:41<00:10,  1.78s/it, loss=0.379, v_num=9ytj]\n",
      "Epoch 58:  92%|█████████▏| 58/63 [01:43<00:08,  1.78s/it, loss=0.379, v_num=9ytj]\n",
      "Epoch 58:  94%|█████████▎| 59/63 [01:46<00:07,  1.80s/it, loss=0.379, v_num=9ytj]\n",
      "Epoch 58:  95%|█████████▌| 60/63 [01:48<00:05,  1.81s/it, loss=0.379, v_num=9ytj]\n",
      "Epoch 58:  97%|█████████▋| 61/63 [01:50<00:03,  1.81s/it, loss=0.379, v_num=9ytj]\n",
      "Epoch 58:  98%|█████████▊| 62/63 [01:52<00:01,  1.81s/it, loss=0.379, v_num=9ytj]\n",
      "Epoch 58: 100%|██████████| 63/63 [01:54<00:00,  1.82s/it, loss=0.379, v_num=9ytj]\n",
      "Epoch 58: 100%|██████████| 63/63 [01:58<00:00,  1.88s/it, loss=0.379, v_num=9ytj]\n",
      "                                                           \u001b[A"
     ]
    },
    {
     "name": "stderr",
     "output_type": "stream",
     "text": [
      "Epoch 58, global step 3008: val_loss was not in top 1\n"
     ]
    },
    {
     "name": "stdout",
     "output_type": "stream",
     "text": [
      "Epoch 59:  81%|████████  | 51/63 [01:16<00:18,  1.50s/it, loss=0.35, v_num=9ytj] \n",
      "Validating: 0it [00:00, ?it/s]\u001b[A\n",
      "Validating:   0%|          | 0/12 [00:00<?, ?it/s]\u001b[A\n",
      "Epoch 59:  84%|████████▍ | 53/63 [01:19<00:14,  1.50s/it, loss=0.35, v_num=9ytj]\n",
      "Validating:  17%|█▋        | 2/12 [00:09<00:38,  3.90s/it]\u001b[A\n",
      "Epoch 59:  87%|████████▋ | 55/63 [01:29<00:12,  1.62s/it, loss=0.35, v_num=9ytj]\n",
      "Validating:  33%|███▎      | 4/12 [00:14<00:26,  3.29s/it]\u001b[A\n",
      "Epoch 59:  90%|█████████ | 57/63 [01:41<00:10,  1.77s/it, loss=0.35, v_num=9ytj]\n",
      "Epoch 59:  92%|█████████▏| 58/63 [01:43<00:08,  1.78s/it, loss=0.35, v_num=9ytj]\n",
      "Epoch 59:  94%|█████████▎| 59/63 [01:45<00:07,  1.79s/it, loss=0.35, v_num=9ytj]\n",
      "Epoch 59:  95%|█████████▌| 60/63 [01:48<00:05,  1.80s/it, loss=0.35, v_num=9ytj]\n",
      "Epoch 59:  97%|█████████▋| 61/63 [01:50<00:03,  1.81s/it, loss=0.35, v_num=9ytj]\n",
      "Epoch 59:  98%|█████████▊| 62/63 [01:51<00:01,  1.80s/it, loss=0.35, v_num=9ytj]\n",
      "Epoch 59: 100%|██████████| 63/63 [01:54<00:00,  1.82s/it, loss=0.35, v_num=9ytj]\n",
      "Validating: 100%|██████████| 12/12 [00:40<00:00,  2.78s/it]\u001b[A"
     ]
    },
    {
     "name": "stderr",
     "output_type": "stream",
     "text": [
      "Metric val_loss improved by 0.001 >= min_delta = 0.0. New best score: 0.511\n"
     ]
    },
    {
     "name": "stdout",
     "output_type": "stream",
     "text": [
      "Epoch 59: 100%|██████████| 63/63 [01:57<00:00,  1.87s/it, loss=0.35, v_num=9ytj]\n",
      "                                                           \u001b[A"
     ]
    },
    {
     "name": "stderr",
     "output_type": "stream",
     "text": [
      "Epoch 59, global step 3059: val_loss reached 0.51143 (best 0.51143), saving model to \"/notebooks/nbs/colab/wandb/run-20210527_105345-ihi59ytj/files/lung-cancer-detection/ihi59ytj/checkpoints/epoch=59-step=3059-val_loss=0.5114.ckpt\" as top 1\n"
     ]
    },
    {
     "name": "stdout",
     "output_type": "stream",
     "text": [
      "Epoch 60:  81%|████████  | 51/63 [01:24<00:19,  1.66s/it, loss=0.342, v_num=9ytj]\n",
      "Validating: 0it [00:00, ?it/s]\u001b[A\n",
      "Validating:   0%|          | 0/12 [00:00<?, ?it/s]\u001b[A\n",
      "Epoch 60:  84%|████████▍ | 53/63 [01:26<00:16,  1.63s/it, loss=0.342, v_num=9ytj]\n",
      "Validating:  17%|█▋        | 2/12 [00:08<00:33,  3.33s/it]\u001b[A\n",
      "Epoch 60:  87%|████████▋ | 55/63 [01:37<00:14,  1.77s/it, loss=0.342, v_num=9ytj]\n",
      "Epoch 60:  89%|████████▉ | 56/63 [01:39<00:12,  1.77s/it, loss=0.342, v_num=9ytj]\n",
      "Epoch 60:  90%|█████████ | 57/63 [01:47<00:11,  1.89s/it, loss=0.342, v_num=9ytj]\n",
      "Epoch 60:  92%|█████████▏| 58/63 [01:49<00:09,  1.90s/it, loss=0.342, v_num=9ytj]\n",
      "Epoch 60:  94%|█████████▎| 59/63 [01:52<00:07,  1.91s/it, loss=0.342, v_num=9ytj]\n",
      "Epoch 60:  95%|█████████▌| 60/63 [01:55<00:05,  1.92s/it, loss=0.342, v_num=9ytj]\n",
      "Epoch 60:  97%|█████████▋| 61/63 [01:57<00:03,  1.92s/it, loss=0.342, v_num=9ytj]\n",
      "Epoch 60:  98%|█████████▊| 62/63 [01:58<00:01,  1.91s/it, loss=0.342, v_num=9ytj]\n",
      "Epoch 60: 100%|██████████| 63/63 [02:01<00:00,  1.93s/it, loss=0.342, v_num=9ytj]\n",
      "Validating: 100%|██████████| 12/12 [00:40<00:00,  2.75s/it]\u001b[A"
     ]
    },
    {
     "name": "stderr",
     "output_type": "stream",
     "text": [
      "Metric val_loss improved by 0.000 >= min_delta = 0.0. New best score: 0.511\n"
     ]
    },
    {
     "name": "stdout",
     "output_type": "stream",
     "text": [
      "Epoch 60: 100%|██████████| 63/63 [02:04<00:00,  1.98s/it, loss=0.342, v_num=9ytj]\n",
      "                                                           \u001b[A"
     ]
    },
    {
     "name": "stderr",
     "output_type": "stream",
     "text": [
      "Epoch 60, global step 3110: val_loss reached 0.51131 (best 0.51131), saving model to \"/notebooks/nbs/colab/wandb/run-20210527_105345-ihi59ytj/files/lung-cancer-detection/ihi59ytj/checkpoints/epoch=60-step=3110-val_loss=0.5113.ckpt\" as top 1\n"
     ]
    },
    {
     "name": "stdout",
     "output_type": "stream",
     "text": [
      "Epoch 61:  81%|████████  | 51/63 [01:22<00:19,  1.61s/it, loss=0.354, v_num=9ytj]\n",
      "Validating: 0it [00:00, ?it/s]\u001b[A\n",
      "Validating:   0%|          | 0/12 [00:00<?, ?it/s]\u001b[A\n",
      "Epoch 61:  84%|████████▍ | 53/63 [01:24<00:15,  1.59s/it, loss=0.354, v_num=9ytj]\n",
      "Validating:  17%|█▋        | 2/12 [00:08<00:33,  3.32s/it]\u001b[A\n",
      "Epoch 61:  87%|████████▋ | 55/63 [01:34<00:13,  1.72s/it, loss=0.354, v_num=9ytj]\n",
      "Epoch 61:  89%|████████▉ | 56/63 [01:37<00:12,  1.73s/it, loss=0.354, v_num=9ytj]\n",
      "Epoch 61:  90%|█████████ | 57/63 [01:45<00:11,  1.86s/it, loss=0.354, v_num=9ytj]\n",
      "Epoch 61:  92%|█████████▏| 58/63 [01:48<00:09,  1.86s/it, loss=0.354, v_num=9ytj]\n",
      "Epoch 61:  94%|█████████▎| 59/63 [01:50<00:07,  1.87s/it, loss=0.354, v_num=9ytj]\n",
      "Epoch 61:  95%|█████████▌| 60/63 [01:53<00:05,  1.89s/it, loss=0.354, v_num=9ytj]\n",
      "Epoch 61:  97%|█████████▋| 61/63 [01:55<00:03,  1.89s/it, loss=0.354, v_num=9ytj]\n",
      "Epoch 61:  98%|█████████▊| 62/63 [01:56<00:01,  1.88s/it, loss=0.354, v_num=9ytj]\n",
      "Epoch 61: 100%|██████████| 63/63 [01:59<00:00,  1.89s/it, loss=0.354, v_num=9ytj]\n",
      "Validating: 100%|██████████| 12/12 [00:40<00:00,  2.76s/it]\u001b[A"
     ]
    },
    {
     "name": "stderr",
     "output_type": "stream",
     "text": [
      "Metric val_loss improved by 0.002 >= min_delta = 0.0. New best score: 0.509\n"
     ]
    },
    {
     "name": "stdout",
     "output_type": "stream",
     "text": [
      "Epoch 61: 100%|██████████| 63/63 [02:02<00:00,  1.95s/it, loss=0.354, v_num=9ytj]\n",
      "                                                           \u001b[A"
     ]
    },
    {
     "name": "stderr",
     "output_type": "stream",
     "text": [
      "Epoch 61, global step 3161: val_loss reached 0.50911 (best 0.50911), saving model to \"/notebooks/nbs/colab/wandb/run-20210527_105345-ihi59ytj/files/lung-cancer-detection/ihi59ytj/checkpoints/epoch=61-step=3161-val_loss=0.5091.ckpt\" as top 1\n"
     ]
    },
    {
     "name": "stdout",
     "output_type": "stream",
     "text": [
      "Epoch 62:  81%|████████  | 51/63 [01:19<00:18,  1.56s/it, loss=0.376, v_num=9ytj]\n",
      "Validating: 0it [00:00, ?it/s]\u001b[A\n",
      "Validating:   0%|          | 0/12 [00:00<?, ?it/s]\u001b[A\n",
      "Epoch 62:  84%|████████▍ | 53/63 [01:21<00:15,  1.54s/it, loss=0.376, v_num=9ytj]\n",
      "Epoch 62:  86%|████████▌ | 54/63 [01:31<00:15,  1.70s/it, loss=0.376, v_num=9ytj]\n",
      "Epoch 62:  87%|████████▋ | 55/63 [01:32<00:13,  1.67s/it, loss=0.376, v_num=9ytj]\n",
      "Epoch 62:  89%|████████▉ | 56/63 [01:33<00:11,  1.67s/it, loss=0.376, v_num=9ytj]\n",
      "Epoch 62:  90%|█████████ | 57/63 [01:43<00:10,  1.81s/it, loss=0.376, v_num=9ytj]\n",
      "Epoch 62:  92%|█████████▏| 58/63 [01:45<00:09,  1.81s/it, loss=0.376, v_num=9ytj]\n",
      "Epoch 62:  94%|█████████▎| 59/63 [01:47<00:07,  1.82s/it, loss=0.376, v_num=9ytj]\n",
      "Epoch 62:  95%|█████████▌| 60/63 [01:50<00:05,  1.84s/it, loss=0.376, v_num=9ytj]\n",
      "Epoch 62:  97%|█████████▋| 61/63 [01:52<00:03,  1.84s/it, loss=0.376, v_num=9ytj]\n",
      "Epoch 62:  98%|█████████▊| 62/63 [01:53<00:01,  1.84s/it, loss=0.376, v_num=9ytj]\n",
      "Epoch 62: 100%|██████████| 63/63 [01:56<00:00,  1.85s/it, loss=0.376, v_num=9ytj]\n",
      "Validating: 100%|██████████| 12/12 [00:40<00:00,  2.75s/it]\u001b[A"
     ]
    },
    {
     "name": "stderr",
     "output_type": "stream",
     "text": [
      "Metric val_loss improved by 0.001 >= min_delta = 0.0. New best score: 0.508\n"
     ]
    },
    {
     "name": "stdout",
     "output_type": "stream",
     "text": [
      "Epoch 62: 100%|██████████| 63/63 [01:59<00:00,  1.90s/it, loss=0.376, v_num=9ytj]\n",
      "                                                           \u001b[A"
     ]
    },
    {
     "name": "stderr",
     "output_type": "stream",
     "text": [
      "Epoch 62, global step 3212: val_loss reached 0.50794 (best 0.50794), saving model to \"/notebooks/nbs/colab/wandb/run-20210527_105345-ihi59ytj/files/lung-cancer-detection/ihi59ytj/checkpoints/epoch=62-step=3212-val_loss=0.5079.ckpt\" as top 1\n"
     ]
    },
    {
     "name": "stdout",
     "output_type": "stream",
     "text": [
      "Epoch 63:  81%|████████  | 51/63 [01:20<00:18,  1.57s/it, loss=0.373, v_num=9ytj]\n",
      "Validating: 0it [00:00, ?it/s]\u001b[A\n",
      "Validating:   0%|          | 0/12 [00:00<?, ?it/s]\u001b[A\n",
      "Epoch 63:  84%|████████▍ | 53/63 [01:22<00:15,  1.55s/it, loss=0.373, v_num=9ytj]\n",
      "Validating:  17%|█▋        | 2/12 [00:08<00:32,  3.27s/it]\u001b[A\n",
      "Epoch 63:  87%|████████▋ | 55/63 [01:32<00:13,  1.68s/it, loss=0.373, v_num=9ytj]\n",
      "Epoch 63:  89%|████████▉ | 56/63 [01:34<00:11,  1.68s/it, loss=0.373, v_num=9ytj]\n",
      "Epoch 63:  90%|█████████ | 57/63 [01:43<00:10,  1.82s/it, loss=0.373, v_num=9ytj]\n",
      "Epoch 63:  92%|█████████▏| 58/63 [01:45<00:09,  1.82s/it, loss=0.373, v_num=9ytj]\n",
      "Epoch 63:  94%|█████████▎| 59/63 [01:48<00:07,  1.84s/it, loss=0.373, v_num=9ytj]\n",
      "Epoch 63:  95%|█████████▌| 60/63 [01:50<00:05,  1.85s/it, loss=0.373, v_num=9ytj]\n",
      "Epoch 63:  97%|█████████▋| 61/63 [01:52<00:03,  1.85s/it, loss=0.373, v_num=9ytj]\n",
      "Epoch 63:  98%|█████████▊| 62/63 [01:54<00:01,  1.85s/it, loss=0.373, v_num=9ytj]\n",
      "Epoch 63: 100%|██████████| 63/63 [01:57<00:00,  1.86s/it, loss=0.373, v_num=9ytj]\n",
      "Validating: 100%|██████████| 12/12 [00:40<00:00,  2.76s/it]\u001b[A"
     ]
    },
    {
     "name": "stderr",
     "output_type": "stream",
     "text": [
      "Metric val_loss improved by 0.001 >= min_delta = 0.0. New best score: 0.507\n"
     ]
    },
    {
     "name": "stdout",
     "output_type": "stream",
     "text": [
      "Epoch 63: 100%|██████████| 63/63 [02:00<00:00,  1.91s/it, loss=0.373, v_num=9ytj]\n",
      "                                                           \u001b[A"
     ]
    },
    {
     "name": "stderr",
     "output_type": "stream",
     "text": [
      "Epoch 63, global step 3263: val_loss reached 0.50735 (best 0.50735), saving model to \"/notebooks/nbs/colab/wandb/run-20210527_105345-ihi59ytj/files/lung-cancer-detection/ihi59ytj/checkpoints/epoch=63-step=3263-val_loss=0.5074.ckpt\" as top 1\n"
     ]
    },
    {
     "name": "stdout",
     "output_type": "stream",
     "text": [
      "Epoch 64:  81%|████████  | 51/63 [01:18<00:18,  1.55s/it, loss=0.377, v_num=9ytj]\n",
      "Validating: 0it [00:00, ?it/s]\u001b[A\n",
      "Validating:   0%|          | 0/12 [00:00<?, ?it/s]\u001b[A\n",
      "Epoch 64:  84%|████████▍ | 53/63 [01:20<00:15,  1.52s/it, loss=0.377, v_num=9ytj]\n",
      "Validating:  17%|█▋        | 2/12 [00:08<00:33,  3.32s/it]\u001b[A\n",
      "Epoch 64:  87%|████████▋ | 55/63 [01:30<00:13,  1.65s/it, loss=0.377, v_num=9ytj]\n",
      "Epoch 64:  89%|████████▉ | 56/63 [01:34<00:11,  1.68s/it, loss=0.377, v_num=9ytj]\n",
      "Epoch 64:  90%|█████████ | 57/63 [01:42<00:10,  1.81s/it, loss=0.377, v_num=9ytj]\n",
      "Epoch 64:  92%|█████████▏| 58/63 [01:44<00:09,  1.81s/it, loss=0.377, v_num=9ytj]\n",
      "Epoch 64:  94%|█████████▎| 59/63 [01:47<00:07,  1.82s/it, loss=0.377, v_num=9ytj]\n",
      "Epoch 64:  95%|█████████▌| 60/63 [01:50<00:05,  1.84s/it, loss=0.377, v_num=9ytj]\n",
      "Epoch 64:  97%|█████████▋| 61/63 [01:52<00:03,  1.84s/it, loss=0.377, v_num=9ytj]\n",
      "Epoch 64:  98%|█████████▊| 62/63 [01:53<00:01,  1.83s/it, loss=0.377, v_num=9ytj]\n",
      "Epoch 64: 100%|██████████| 63/63 [01:56<00:00,  1.85s/it, loss=0.377, v_num=9ytj]\n",
      "Validating: 100%|██████████| 12/12 [00:40<00:00,  2.77s/it]\u001b[A"
     ]
    },
    {
     "name": "stderr",
     "output_type": "stream",
     "text": [
      "Metric val_loss improved by 0.001 >= min_delta = 0.0. New best score: 0.506\n"
     ]
    },
    {
     "name": "stdout",
     "output_type": "stream",
     "text": [
      "Epoch 64: 100%|██████████| 63/63 [01:59<00:00,  1.90s/it, loss=0.377, v_num=9ytj]\n",
      "                                                           \u001b[A"
     ]
    },
    {
     "name": "stderr",
     "output_type": "stream",
     "text": [
      "Epoch 64, global step 3314: val_loss reached 0.50617 (best 0.50617), saving model to \"/notebooks/nbs/colab/wandb/run-20210527_105345-ihi59ytj/files/lung-cancer-detection/ihi59ytj/checkpoints/epoch=64-step=3314-val_loss=0.5062.ckpt\" as top 1\n"
     ]
    },
    {
     "name": "stdout",
     "output_type": "stream",
     "text": [
      "Epoch 65:  81%|████████  | 51/63 [01:21<00:19,  1.60s/it, loss=0.359, v_num=9ytj]\n",
      "Validating: 0it [00:00, ?it/s]\u001b[A\n",
      "Validating:   0%|          | 0/12 [00:00<?, ?it/s]\u001b[A\n",
      "Epoch 65:  84%|████████▍ | 53/63 [01:23<00:15,  1.58s/it, loss=0.359, v_num=9ytj]\n",
      "Validating:  17%|█▋        | 2/12 [00:08<00:33,  3.32s/it]\u001b[A\n",
      "Epoch 65:  87%|████████▋ | 55/63 [01:34<00:13,  1.72s/it, loss=0.359, v_num=9ytj]\n",
      "Epoch 65:  89%|████████▉ | 56/63 [01:36<00:12,  1.72s/it, loss=0.359, v_num=9ytj]\n",
      "Epoch 65:  90%|█████████ | 57/63 [01:44<00:11,  1.84s/it, loss=0.359, v_num=9ytj]\n",
      "Epoch 65:  92%|█████████▏| 58/63 [01:47<00:09,  1.85s/it, loss=0.359, v_num=9ytj]\n",
      "Epoch 65:  94%|█████████▎| 59/63 [01:49<00:07,  1.86s/it, loss=0.359, v_num=9ytj]\n",
      "Epoch 65:  95%|█████████▌| 60/63 [01:52<00:05,  1.87s/it, loss=0.359, v_num=9ytj]\n",
      "Epoch 65:  97%|█████████▋| 61/63 [01:54<00:03,  1.87s/it, loss=0.359, v_num=9ytj]\n",
      "Epoch 65:  98%|█████████▊| 62/63 [01:55<00:01,  1.87s/it, loss=0.359, v_num=9ytj]\n",
      "Epoch 65: 100%|██████████| 63/63 [01:58<00:00,  1.88s/it, loss=0.359, v_num=9ytj]\n",
      "Epoch 65: 100%|██████████| 63/63 [02:01<00:00,  1.93s/it, loss=0.359, v_num=9ytj]\n",
      "                                                           \u001b[A"
     ]
    },
    {
     "name": "stderr",
     "output_type": "stream",
     "text": [
      "Epoch 65, global step 3365: val_loss was not in top 1\n"
     ]
    },
    {
     "name": "stdout",
     "output_type": "stream",
     "text": [
      "Epoch 66:  81%|████████  | 51/63 [01:19<00:18,  1.56s/it, loss=0.371, v_num=9ytj]\n",
      "Validating: 0it [00:00, ?it/s]\u001b[A\n",
      "Validating:   0%|          | 0/12 [00:00<?, ?it/s]\u001b[A\n",
      "Epoch 66:  84%|████████▍ | 53/63 [01:21<00:15,  1.53s/it, loss=0.371, v_num=9ytj]\n",
      "Validating:  17%|█▋        | 2/12 [00:08<00:33,  3.36s/it]\u001b[A\n",
      "Epoch 66:  87%|████████▋ | 55/63 [01:31<00:13,  1.66s/it, loss=0.371, v_num=9ytj]\n",
      "Validating:  33%|███▎      | 4/12 [00:14<00:24,  3.07s/it]\u001b[A\n",
      "Epoch 66:  90%|█████████ | 57/63 [01:43<00:10,  1.81s/it, loss=0.371, v_num=9ytj]\n",
      "Epoch 66:  92%|█████████▏| 58/63 [01:45<00:09,  1.82s/it, loss=0.371, v_num=9ytj]\n",
      "Epoch 66:  94%|█████████▎| 59/63 [01:48<00:07,  1.83s/it, loss=0.371, v_num=9ytj]\n",
      "Epoch 66:  95%|█████████▌| 60/63 [01:50<00:05,  1.84s/it, loss=0.371, v_num=9ytj]\n",
      "Epoch 66:  97%|█████████▋| 61/63 [01:52<00:03,  1.85s/it, loss=0.371, v_num=9ytj]\n",
      "Epoch 66:  98%|█████████▊| 62/63 [01:54<00:01,  1.84s/it, loss=0.371, v_num=9ytj]\n",
      "Epoch 66: 100%|██████████| 63/63 [01:56<00:00,  1.85s/it, loss=0.371, v_num=9ytj]\n",
      "Validating: 100%|██████████| 12/12 [00:40<00:00,  2.77s/it]\u001b[A"
     ]
    },
    {
     "name": "stderr",
     "output_type": "stream",
     "text": [
      "Metric val_loss improved by 0.001 >= min_delta = 0.0. New best score: 0.505\n"
     ]
    },
    {
     "name": "stdout",
     "output_type": "stream",
     "text": [
      "Epoch 66: 100%|██████████| 63/63 [02:00<00:00,  1.91s/it, loss=0.371, v_num=9ytj]\n",
      "                                                           \u001b[A"
     ]
    },
    {
     "name": "stderr",
     "output_type": "stream",
     "text": [
      "Epoch 66, global step 3416: val_loss reached 0.50481 (best 0.50481), saving model to \"/notebooks/nbs/colab/wandb/run-20210527_105345-ihi59ytj/files/lung-cancer-detection/ihi59ytj/checkpoints/epoch=66-step=3416-val_loss=0.5048.ckpt\" as top 1\n"
     ]
    },
    {
     "name": "stdout",
     "output_type": "stream",
     "text": [
      "Epoch 67:  81%|████████  | 51/63 [01:18<00:18,  1.54s/it, loss=0.317, v_num=9ytj]\n",
      "Validating: 0it [00:00, ?it/s]\u001b[A\n",
      "Validating:   0%|          | 0/12 [00:00<?, ?it/s]\u001b[A\n",
      "Epoch 67:  84%|████████▍ | 53/63 [01:20<00:15,  1.52s/it, loss=0.317, v_num=9ytj]\n",
      "Validating:  17%|█▋        | 2/12 [00:08<00:33,  3.38s/it]\u001b[A\n",
      "Epoch 67:  87%|████████▋ | 55/63 [01:31<00:13,  1.66s/it, loss=0.317, v_num=9ytj]\n",
      "Epoch 67:  89%|████████▉ | 56/63 [01:33<00:11,  1.67s/it, loss=0.317, v_num=9ytj]\n",
      "Epoch 67:  90%|█████████ | 57/63 [01:42<00:10,  1.80s/it, loss=0.317, v_num=9ytj]\n",
      "Epoch 67:  92%|█████████▏| 58/63 [01:44<00:08,  1.80s/it, loss=0.317, v_num=9ytj]\n",
      "Epoch 67:  94%|█████████▎| 59/63 [01:46<00:07,  1.81s/it, loss=0.317, v_num=9ytj]\n",
      "Epoch 67:  95%|█████████▌| 60/63 [01:49<00:05,  1.83s/it, loss=0.317, v_num=9ytj]\n",
      "Epoch 67:  97%|█████████▋| 61/63 [01:51<00:03,  1.83s/it, loss=0.317, v_num=9ytj]\n",
      "Epoch 67:  98%|█████████▊| 62/63 [01:53<00:01,  1.82s/it, loss=0.317, v_num=9ytj]\n",
      "Epoch 67: 100%|██████████| 63/63 [01:55<00:00,  1.84s/it, loss=0.317, v_num=9ytj]\n",
      "Validating: 100%|██████████| 12/12 [00:40<00:00,  2.76s/it]\u001b[A"
     ]
    },
    {
     "name": "stderr",
     "output_type": "stream",
     "text": [
      "Metric val_loss improved by 0.002 >= min_delta = 0.0. New best score: 0.503\n"
     ]
    },
    {
     "name": "stdout",
     "output_type": "stream",
     "text": [
      "Epoch 67: 100%|██████████| 63/63 [01:59<00:00,  1.89s/it, loss=0.317, v_num=9ytj]\n",
      "                                                           \u001b[A"
     ]
    },
    {
     "name": "stderr",
     "output_type": "stream",
     "text": [
      "Epoch 67, global step 3467: val_loss reached 0.50329 (best 0.50329), saving model to \"/notebooks/nbs/colab/wandb/run-20210527_105345-ihi59ytj/files/lung-cancer-detection/ihi59ytj/checkpoints/epoch=67-step=3467-val_loss=0.5033.ckpt\" as top 1\n"
     ]
    },
    {
     "name": "stdout",
     "output_type": "stream",
     "text": [
      "Epoch 68:  81%|████████  | 51/63 [01:18<00:18,  1.55s/it, loss=0.324, v_num=9ytj]\n",
      "Validating: 0it [00:00, ?it/s]\u001b[A\n",
      "Validating:   0%|          | 0/12 [00:00<?, ?it/s]\u001b[A\n",
      "Epoch 68:  84%|████████▍ | 53/63 [01:20<00:15,  1.53s/it, loss=0.324, v_num=9ytj]\n",
      "Validating:  17%|█▋        | 2/12 [00:08<00:33,  3.32s/it]\u001b[A\n",
      "Epoch 68:  87%|████████▋ | 55/63 [01:32<00:13,  1.68s/it, loss=0.324, v_num=9ytj]\n",
      "Epoch 68:  89%|████████▉ | 56/63 [01:33<00:11,  1.67s/it, loss=0.324, v_num=9ytj]\n",
      "Epoch 68:  90%|█████████ | 57/63 [01:42<00:10,  1.80s/it, loss=0.324, v_num=9ytj]\n",
      "Epoch 68:  92%|█████████▏| 58/63 [01:44<00:09,  1.80s/it, loss=0.324, v_num=9ytj]\n",
      "Epoch 68:  94%|█████████▎| 59/63 [01:47<00:07,  1.82s/it, loss=0.324, v_num=9ytj]\n",
      "Epoch 68:  95%|█████████▌| 60/63 [01:49<00:05,  1.83s/it, loss=0.324, v_num=9ytj]\n",
      "Epoch 68:  97%|█████████▋| 61/63 [01:51<00:03,  1.83s/it, loss=0.324, v_num=9ytj]\n",
      "Epoch 68:  98%|█████████▊| 62/63 [01:53<00:01,  1.83s/it, loss=0.324, v_num=9ytj]\n",
      "Epoch 68: 100%|██████████| 63/63 [01:56<00:00,  1.84s/it, loss=0.324, v_num=9ytj]\n",
      "Epoch 68: 100%|██████████| 63/63 [01:59<00:00,  1.90s/it, loss=0.324, v_num=9ytj]\n",
      "                                                           \u001b[A"
     ]
    },
    {
     "name": "stderr",
     "output_type": "stream",
     "text": [
      "Epoch 68, global step 3518: val_loss was not in top 1\n"
     ]
    },
    {
     "name": "stdout",
     "output_type": "stream",
     "text": [
      "Epoch 69:  81%|████████  | 51/63 [01:18<00:18,  1.53s/it, loss=0.299, v_num=9ytj]\n",
      "Validating: 0it [00:00, ?it/s]\u001b[A\n",
      "Validating:   0%|          | 0/12 [00:00<?, ?it/s]\u001b[A\n",
      "Epoch 69:  84%|████████▍ | 53/63 [01:20<00:15,  1.51s/it, loss=0.299, v_num=9ytj]\n",
      "Validating:  17%|█▋        | 2/12 [00:09<00:34,  3.45s/it]\u001b[A\n",
      "Epoch 69:  87%|████████▋ | 55/63 [01:30<00:13,  1.65s/it, loss=0.299, v_num=9ytj]\n",
      "Epoch 69:  89%|████████▉ | 56/63 [01:32<00:11,  1.65s/it, loss=0.299, v_num=9ytj]\n",
      "Epoch 69:  90%|█████████ | 57/63 [01:42<00:10,  1.79s/it, loss=0.299, v_num=9ytj]\n",
      "Epoch 69:  92%|█████████▏| 58/63 [01:44<00:08,  1.79s/it, loss=0.299, v_num=9ytj]\n",
      "Epoch 69:  94%|█████████▎| 59/63 [01:46<00:07,  1.81s/it, loss=0.299, v_num=9ytj]\n",
      "Epoch 69:  95%|█████████▌| 60/63 [01:49<00:05,  1.82s/it, loss=0.299, v_num=9ytj]\n",
      "Epoch 69:  97%|█████████▋| 61/63 [01:51<00:03,  1.82s/it, loss=0.299, v_num=9ytj]\n",
      "Epoch 69:  98%|█████████▊| 62/63 [01:52<00:01,  1.82s/it, loss=0.299, v_num=9ytj]\n",
      "Epoch 69: 100%|██████████| 63/63 [01:55<00:00,  1.83s/it, loss=0.299, v_num=9ytj]\n",
      "Epoch 69: 100%|██████████| 63/63 [01:58<00:00,  1.89s/it, loss=0.299, v_num=9ytj]\n",
      "                                                           \u001b[A"
     ]
    },
    {
     "name": "stderr",
     "output_type": "stream",
     "text": [
      "Epoch 69, global step 3569: val_loss was not in top 1\n"
     ]
    },
    {
     "name": "stdout",
     "output_type": "stream",
     "text": [
      "Epoch 70:  81%|████████  | 51/63 [01:23<00:19,  1.64s/it, loss=0.332, v_num=9ytj]\n",
      "Validating: 0it [00:00, ?it/s]\u001b[A\n",
      "Validating:   0%|          | 0/12 [00:00<?, ?it/s]\u001b[A\n",
      "Epoch 70:  84%|████████▍ | 53/63 [01:25<00:16,  1.61s/it, loss=0.332, v_num=9ytj]\n",
      "Validating:  17%|█▋        | 2/12 [00:08<00:33,  3.33s/it]\u001b[A\n",
      "Epoch 70:  87%|████████▋ | 55/63 [01:35<00:13,  1.74s/it, loss=0.332, v_num=9ytj]\n",
      "Epoch 70:  89%|████████▉ | 56/63 [01:38<00:12,  1.76s/it, loss=0.332, v_num=9ytj]\n",
      "Epoch 70:  90%|█████████ | 57/63 [01:49<00:11,  1.92s/it, loss=0.332, v_num=9ytj]\n",
      "Epoch 70:  92%|█████████▏| 58/63 [01:51<00:09,  1.92s/it, loss=0.332, v_num=9ytj]\n",
      "Epoch 70:  94%|█████████▎| 59/63 [01:53<00:07,  1.93s/it, loss=0.332, v_num=9ytj]\n",
      "Epoch 70:  95%|█████████▌| 60/63 [01:56<00:05,  1.94s/it, loss=0.332, v_num=9ytj]\n",
      "Epoch 70:  97%|█████████▋| 61/63 [01:58<00:03,  1.94s/it, loss=0.332, v_num=9ytj]\n",
      "Epoch 70:  98%|█████████▊| 62/63 [02:00<00:01,  1.94s/it, loss=0.332, v_num=9ytj]\n",
      "Epoch 70: 100%|██████████| 63/63 [02:02<00:00,  1.95s/it, loss=0.332, v_num=9ytj]\n",
      "Validating: 100%|██████████| 12/12 [00:42<00:00,  2.81s/it]\u001b[A"
     ]
    },
    {
     "name": "stderr",
     "output_type": "stream",
     "text": [
      "Metric val_loss improved by 0.001 >= min_delta = 0.0. New best score: 0.502\n"
     ]
    },
    {
     "name": "stdout",
     "output_type": "stream",
     "text": [
      "Epoch 70: 100%|██████████| 63/63 [02:06<00:00,  2.00s/it, loss=0.332, v_num=9ytj]\n",
      "                                                           \u001b[A"
     ]
    },
    {
     "name": "stderr",
     "output_type": "stream",
     "text": [
      "Epoch 70, global step 3620: val_loss reached 0.50191 (best 0.50191), saving model to \"/notebooks/nbs/colab/wandb/run-20210527_105345-ihi59ytj/files/lung-cancer-detection/ihi59ytj/checkpoints/epoch=70-step=3620-val_loss=0.5019.ckpt\" as top 1\n"
     ]
    },
    {
     "name": "stdout",
     "output_type": "stream",
     "text": [
      "Epoch 71:  81%|████████  | 51/63 [01:19<00:18,  1.57s/it, loss=0.346, v_num=9ytj]\n",
      "Validating: 0it [00:00, ?it/s]\u001b[A\n",
      "Validating:   0%|          | 0/12 [00:00<?, ?it/s]\u001b[A\n",
      "Epoch 71:  84%|████████▍ | 53/63 [01:21<00:15,  1.54s/it, loss=0.346, v_num=9ytj]\n",
      "Validating:  17%|█▋        | 2/12 [00:08<00:32,  3.27s/it]\u001b[A\n",
      "Epoch 71:  87%|████████▋ | 55/63 [01:32<00:13,  1.68s/it, loss=0.346, v_num=9ytj]\n",
      "Epoch 71:  89%|████████▉ | 56/63 [01:34<00:11,  1.68s/it, loss=0.346, v_num=9ytj]\n",
      "Epoch 71:  90%|█████████ | 57/63 [01:43<00:10,  1.81s/it, loss=0.346, v_num=9ytj]\n",
      "Epoch 71:  92%|█████████▏| 58/63 [01:45<00:09,  1.82s/it, loss=0.346, v_num=9ytj]\n",
      "Epoch 71:  94%|█████████▎| 59/63 [01:47<00:07,  1.83s/it, loss=0.346, v_num=9ytj]\n",
      "Epoch 71:  95%|█████████▌| 60/63 [01:50<00:05,  1.84s/it, loss=0.346, v_num=9ytj]\n",
      "Epoch 71:  97%|█████████▋| 61/63 [01:52<00:03,  1.84s/it, loss=0.346, v_num=9ytj]\n",
      "Epoch 71:  98%|█████████▊| 62/63 [01:54<00:01,  1.84s/it, loss=0.346, v_num=9ytj]\n",
      "Epoch 71: 100%|██████████| 63/63 [01:56<00:00,  1.85s/it, loss=0.346, v_num=9ytj]\n",
      "Validating: 100%|██████████| 12/12 [00:39<00:00,  2.75s/it]\u001b[A"
     ]
    },
    {
     "name": "stderr",
     "output_type": "stream",
     "text": [
      "Metric val_loss improved by 0.000 >= min_delta = 0.0. New best score: 0.502\n"
     ]
    },
    {
     "name": "stdout",
     "output_type": "stream",
     "text": [
      "Epoch 71: 100%|██████████| 63/63 [02:00<00:00,  1.91s/it, loss=0.346, v_num=9ytj]\n",
      "                                                           \u001b[A"
     ]
    },
    {
     "name": "stderr",
     "output_type": "stream",
     "text": [
      "Epoch 71, global step 3671: val_loss reached 0.50172 (best 0.50172), saving model to \"/notebooks/nbs/colab/wandb/run-20210527_105345-ihi59ytj/files/lung-cancer-detection/ihi59ytj/checkpoints/epoch=71-step=3671-val_loss=0.5017.ckpt\" as top 1\n"
     ]
    },
    {
     "name": "stdout",
     "output_type": "stream",
     "text": [
      "Epoch 72:  81%|████████  | 51/63 [01:23<00:19,  1.64s/it, loss=0.345, v_num=9ytj]\n",
      "Validating: 0it [00:00, ?it/s]\u001b[A\n",
      "Validating:   0%|          | 0/12 [00:00<?, ?it/s]\u001b[A\n",
      "Epoch 72:  84%|████████▍ | 53/63 [01:25<00:16,  1.62s/it, loss=0.345, v_num=9ytj]\n",
      "Epoch 72:  86%|████████▌ | 54/63 [01:35<00:15,  1.78s/it, loss=0.345, v_num=9ytj]\n",
      "Epoch 72:  87%|████████▋ | 55/63 [01:36<00:14,  1.76s/it, loss=0.345, v_num=9ytj]\n",
      "Epoch 72:  89%|████████▉ | 56/63 [01:38<00:12,  1.76s/it, loss=0.345, v_num=9ytj]\n",
      "Epoch 72:  90%|█████████ | 57/63 [01:48<00:11,  1.90s/it, loss=0.345, v_num=9ytj]\n",
      "Epoch 72:  92%|█████████▏| 58/63 [01:50<00:09,  1.90s/it, loss=0.345, v_num=9ytj]\n",
      "Epoch 72:  94%|█████████▎| 59/63 [01:52<00:07,  1.91s/it, loss=0.345, v_num=9ytj]\n",
      "Epoch 72:  95%|█████████▌| 60/63 [01:55<00:05,  1.92s/it, loss=0.345, v_num=9ytj]\n",
      "Epoch 72:  97%|█████████▋| 61/63 [01:57<00:03,  1.92s/it, loss=0.345, v_num=9ytj]\n",
      "Epoch 72:  98%|█████████▊| 62/63 [01:58<00:01,  1.92s/it, loss=0.345, v_num=9ytj]\n",
      "Epoch 72: 100%|██████████| 63/63 [02:01<00:00,  1.93s/it, loss=0.345, v_num=9ytj]\n",
      "Validating: 100%|██████████| 12/12 [00:40<00:00,  2.77s/it]\u001b[A"
     ]
    },
    {
     "name": "stderr",
     "output_type": "stream",
     "text": [
      "Metric val_loss improved by 0.001 >= min_delta = 0.0. New best score: 0.501\n"
     ]
    },
    {
     "name": "stdout",
     "output_type": "stream",
     "text": [
      "Epoch 72: 100%|██████████| 63/63 [02:04<00:00,  1.98s/it, loss=0.345, v_num=9ytj]\n",
      "                                                           \u001b[A"
     ]
    },
    {
     "name": "stderr",
     "output_type": "stream",
     "text": [
      "Epoch 72, global step 3722: val_loss reached 0.50111 (best 0.50111), saving model to \"/notebooks/nbs/colab/wandb/run-20210527_105345-ihi59ytj/files/lung-cancer-detection/ihi59ytj/checkpoints/epoch=72-step=3722-val_loss=0.5011.ckpt\" as top 1\n"
     ]
    },
    {
     "name": "stdout",
     "output_type": "stream",
     "text": [
      "Epoch 73:  81%|████████  | 51/63 [01:19<00:18,  1.56s/it, loss=0.283, v_num=9ytj]\n",
      "Validating: 0it [00:00, ?it/s]\u001b[A\n",
      "Validating:   0%|          | 0/12 [00:00<?, ?it/s]\u001b[A\n",
      "Epoch 73:  84%|████████▍ | 53/63 [01:21<00:15,  1.54s/it, loss=0.283, v_num=9ytj]\n",
      "Validating:  17%|█▋        | 2/12 [00:08<00:33,  3.39s/it]\u001b[A\n",
      "Epoch 73:  87%|████████▋ | 55/63 [01:32<00:13,  1.68s/it, loss=0.283, v_num=9ytj]\n",
      "Epoch 73:  89%|████████▉ | 56/63 [01:34<00:11,  1.68s/it, loss=0.283, v_num=9ytj]\n",
      "Epoch 73:  90%|█████████ | 57/63 [01:43<00:10,  1.82s/it, loss=0.283, v_num=9ytj]\n",
      "Epoch 73:  92%|█████████▏| 58/63 [01:45<00:09,  1.82s/it, loss=0.283, v_num=9ytj]\n",
      "Epoch 73:  94%|█████████▎| 59/63 [01:48<00:07,  1.83s/it, loss=0.283, v_num=9ytj]\n",
      "Epoch 73:  95%|█████████▌| 60/63 [01:50<00:05,  1.85s/it, loss=0.283, v_num=9ytj]\n",
      "Epoch 73:  97%|█████████▋| 61/63 [01:52<00:03,  1.85s/it, loss=0.283, v_num=9ytj]\n",
      "Epoch 73:  98%|█████████▊| 62/63 [01:54<00:01,  1.84s/it, loss=0.283, v_num=9ytj]\n",
      "Epoch 73: 100%|██████████| 63/63 [01:56<00:00,  1.86s/it, loss=0.283, v_num=9ytj]\n",
      "Validating: 100%|██████████| 12/12 [00:40<00:00,  2.76s/it]\u001b[A"
     ]
    },
    {
     "name": "stderr",
     "output_type": "stream",
     "text": [
      "Metric val_loss improved by 0.003 >= min_delta = 0.0. New best score: 0.498\n"
     ]
    },
    {
     "name": "stdout",
     "output_type": "stream",
     "text": [
      "Epoch 73: 100%|██████████| 63/63 [02:00<00:00,  1.91s/it, loss=0.283, v_num=9ytj]\n",
      "                                                           \u001b[A"
     ]
    },
    {
     "name": "stderr",
     "output_type": "stream",
     "text": [
      "Epoch 73, global step 3773: val_loss reached 0.49835 (best 0.49835), saving model to \"/notebooks/nbs/colab/wandb/run-20210527_105345-ihi59ytj/files/lung-cancer-detection/ihi59ytj/checkpoints/epoch=73-step=3773-val_loss=0.4983.ckpt\" as top 1\n"
     ]
    },
    {
     "name": "stdout",
     "output_type": "stream",
     "text": [
      "Epoch 74:  81%|████████  | 51/63 [01:20<00:18,  1.58s/it, loss=0.304, v_num=9ytj]\n",
      "Validating: 0it [00:00, ?it/s]\u001b[A\n",
      "Validating:   0%|          | 0/12 [00:00<?, ?it/s]\u001b[A\n",
      "Epoch 74:  84%|████████▍ | 53/63 [01:22<00:15,  1.56s/it, loss=0.304, v_num=9ytj]\n",
      "Validating:  17%|█▋        | 2/12 [00:08<00:34,  3.40s/it]\u001b[A\n",
      "Epoch 74:  87%|████████▋ | 55/63 [01:33<00:13,  1.69s/it, loss=0.304, v_num=9ytj]\n",
      "Epoch 74:  89%|████████▉ | 56/63 [01:35<00:11,  1.70s/it, loss=0.304, v_num=9ytj]\n",
      "Epoch 74:  90%|█████████ | 57/63 [01:44<00:11,  1.84s/it, loss=0.304, v_num=9ytj]\n",
      "Epoch 74:  92%|█████████▏| 58/63 [01:46<00:09,  1.84s/it, loss=0.304, v_num=9ytj]\n",
      "Epoch 74:  94%|█████████▎| 59/63 [01:49<00:07,  1.85s/it, loss=0.304, v_num=9ytj]\n",
      "Epoch 74:  95%|█████████▌| 60/63 [01:51<00:05,  1.86s/it, loss=0.304, v_num=9ytj]\n",
      "Epoch 74:  97%|█████████▋| 61/63 [01:53<00:03,  1.87s/it, loss=0.304, v_num=9ytj]\n",
      "Epoch 74:  98%|█████████▊| 62/63 [01:55<00:01,  1.86s/it, loss=0.304, v_num=9ytj]\n",
      "Epoch 74: 100%|██████████| 63/63 [01:58<00:00,  1.87s/it, loss=0.304, v_num=9ytj]\n",
      "Epoch 74: 100%|██████████| 63/63 [02:01<00:00,  1.93s/it, loss=0.304, v_num=9ytj]\n",
      "                                                           \u001b[A"
     ]
    },
    {
     "name": "stderr",
     "output_type": "stream",
     "text": [
      "Epoch 74, global step 3824: val_loss was not in top 1\n"
     ]
    },
    {
     "name": "stdout",
     "output_type": "stream",
     "text": [
      "Epoch 75:  81%|████████  | 51/63 [01:20<00:19,  1.58s/it, loss=0.309, v_num=9ytj]\n",
      "Validating: 0it [00:00, ?it/s]\u001b[A\n",
      "Validating:   0%|          | 0/12 [00:00<?, ?it/s]\u001b[A\n",
      "Epoch 75:  84%|████████▍ | 53/63 [01:22<00:15,  1.56s/it, loss=0.309, v_num=9ytj]\n",
      "Validating:  17%|█▋        | 2/12 [00:08<00:32,  3.25s/it]\u001b[A\n",
      "Epoch 75:  87%|████████▋ | 55/63 [01:34<00:13,  1.71s/it, loss=0.309, v_num=9ytj]\n",
      "Epoch 75:  89%|████████▉ | 56/63 [01:35<00:11,  1.71s/it, loss=0.309, v_num=9ytj]\n",
      "Epoch 75:  90%|█████████ | 57/63 [01:45<00:11,  1.85s/it, loss=0.309, v_num=9ytj]\n",
      "Epoch 75:  92%|█████████▏| 58/63 [01:47<00:09,  1.86s/it, loss=0.309, v_num=9ytj]\n",
      "Epoch 75:  94%|█████████▎| 59/63 [01:50<00:07,  1.87s/it, loss=0.309, v_num=9ytj]\n",
      "Epoch 75:  95%|█████████▌| 60/63 [01:52<00:05,  1.88s/it, loss=0.309, v_num=9ytj]\n",
      "Epoch 75:  97%|█████████▋| 61/63 [01:54<00:03,  1.88s/it, loss=0.309, v_num=9ytj]\n",
      "Epoch 75:  98%|█████████▊| 62/63 [01:56<00:01,  1.88s/it, loss=0.309, v_num=9ytj]\n",
      "Epoch 75: 100%|██████████| 63/63 [01:59<00:00,  1.89s/it, loss=0.309, v_num=9ytj]\n",
      "Epoch 75: 100%|██████████| 63/63 [02:02<00:00,  1.94s/it, loss=0.309, v_num=9ytj]\n",
      "                                                           \u001b[A"
     ]
    },
    {
     "name": "stderr",
     "output_type": "stream",
     "text": [
      "Epoch 75, global step 3875: val_loss was not in top 1\n"
     ]
    },
    {
     "name": "stdout",
     "output_type": "stream",
     "text": [
      "Epoch 76:  81%|████████  | 51/63 [01:17<00:18,  1.51s/it, loss=0.273, v_num=9ytj]\n",
      "Validating: 0it [00:00, ?it/s]\u001b[A\n",
      "Validating:   0%|          | 0/12 [00:00<?, ?it/s]\u001b[A\n",
      "Epoch 76:  84%|████████▍ | 53/63 [01:18<00:14,  1.49s/it, loss=0.273, v_num=9ytj]\n",
      "Validating:  17%|█▋        | 2/12 [00:07<00:31,  3.13s/it]\u001b[A\n",
      "Epoch 76:  87%|████████▋ | 55/63 [01:29<00:13,  1.64s/it, loss=0.273, v_num=9ytj]\n",
      "Epoch 76:  89%|████████▉ | 56/63 [01:31<00:11,  1.64s/it, loss=0.273, v_num=9ytj]\n",
      "Epoch 76:  90%|█████████ | 57/63 [01:40<00:10,  1.76s/it, loss=0.273, v_num=9ytj]\n",
      "Epoch 76:  92%|█████████▏| 58/63 [01:42<00:08,  1.77s/it, loss=0.273, v_num=9ytj]\n",
      "Epoch 76:  94%|█████████▎| 59/63 [01:45<00:07,  1.78s/it, loss=0.273, v_num=9ytj]\n",
      "Epoch 76:  95%|█████████▌| 60/63 [01:47<00:05,  1.80s/it, loss=0.273, v_num=9ytj]\n",
      "Epoch 76:  97%|█████████▋| 61/63 [01:49<00:03,  1.80s/it, loss=0.273, v_num=9ytj]\n",
      "Epoch 76:  98%|█████████▊| 62/63 [01:51<00:01,  1.80s/it, loss=0.273, v_num=9ytj]\n",
      "Epoch 76: 100%|██████████| 63/63 [01:53<00:00,  1.81s/it, loss=0.273, v_num=9ytj]\n",
      "Validating: 100%|██████████| 12/12 [00:40<00:00,  2.75s/it]\u001b[A"
     ]
    },
    {
     "name": "stderr",
     "output_type": "stream",
     "text": [
      "Metric val_loss improved by 0.001 >= min_delta = 0.0. New best score: 0.497\n"
     ]
    },
    {
     "name": "stdout",
     "output_type": "stream",
     "text": [
      "Epoch 76: 100%|██████████| 63/63 [01:57<00:00,  1.86s/it, loss=0.273, v_num=9ytj]\n",
      "                                                           \u001b[A"
     ]
    },
    {
     "name": "stderr",
     "output_type": "stream",
     "text": [
      "Epoch 76, global step 3926: val_loss reached 0.49713 (best 0.49713), saving model to \"/notebooks/nbs/colab/wandb/run-20210527_105345-ihi59ytj/files/lung-cancer-detection/ihi59ytj/checkpoints/epoch=76-step=3926-val_loss=0.4971.ckpt\" as top 1\n"
     ]
    },
    {
     "name": "stdout",
     "output_type": "stream",
     "text": [
      "Epoch 77:  81%|████████  | 51/63 [01:21<00:19,  1.60s/it, loss=0.326, v_num=9ytj]\n",
      "Validating: 0it [00:00, ?it/s]\u001b[A\n",
      "Validating:   0%|          | 0/12 [00:00<?, ?it/s]\u001b[A\n",
      "Epoch 77:  84%|████████▍ | 53/63 [01:23<00:15,  1.57s/it, loss=0.326, v_num=9ytj]\n",
      "Validating:  17%|█▋        | 2/12 [00:09<00:36,  3.66s/it]\u001b[A\n",
      "Epoch 77:  87%|████████▋ | 55/63 [01:34<00:13,  1.71s/it, loss=0.326, v_num=9ytj]\n",
      "Epoch 77:  89%|████████▉ | 56/63 [01:35<00:11,  1.71s/it, loss=0.326, v_num=9ytj]\n",
      "Epoch 77:  90%|█████████ | 57/63 [01:45<00:11,  1.85s/it, loss=0.326, v_num=9ytj]\n",
      "Epoch 77:  92%|█████████▏| 58/63 [01:47<00:09,  1.85s/it, loss=0.326, v_num=9ytj]\n",
      "Epoch 77:  94%|█████████▎| 59/63 [01:49<00:07,  1.86s/it, loss=0.326, v_num=9ytj]\n",
      "Epoch 77:  95%|█████████▌| 60/63 [01:52<00:05,  1.87s/it, loss=0.326, v_num=9ytj]\n",
      "Epoch 77:  97%|█████████▋| 61/63 [01:54<00:03,  1.88s/it, loss=0.326, v_num=9ytj]\n",
      "Epoch 77:  98%|█████████▊| 62/63 [01:55<00:01,  1.87s/it, loss=0.326, v_num=9ytj]\n",
      "Epoch 77: 100%|██████████| 63/63 [01:58<00:00,  1.88s/it, loss=0.326, v_num=9ytj]\n",
      "Epoch 77: 100%|██████████| 63/63 [02:01<00:00,  1.94s/it, loss=0.326, v_num=9ytj]\n",
      "                                                           \u001b[A"
     ]
    },
    {
     "name": "stderr",
     "output_type": "stream",
     "text": [
      "Epoch 77, global step 3977: val_loss was not in top 1\n"
     ]
    },
    {
     "name": "stdout",
     "output_type": "stream",
     "text": [
      "Epoch 78:  81%|████████  | 51/63 [01:23<00:19,  1.63s/it, loss=0.274, v_num=9ytj]\n",
      "Validating: 0it [00:00, ?it/s]\u001b[A\n",
      "Validating:   0%|          | 0/12 [00:00<?, ?it/s]\u001b[A\n",
      "Epoch 78:  84%|████████▍ | 53/63 [01:24<00:16,  1.60s/it, loss=0.274, v_num=9ytj]\n",
      "Validating:  17%|█▋        | 2/12 [00:09<00:36,  3.66s/it]\u001b[A\n",
      "Epoch 78:  87%|████████▋ | 55/63 [01:35<00:13,  1.73s/it, loss=0.274, v_num=9ytj]\n",
      "Epoch 78:  89%|████████▉ | 56/63 [01:37<00:12,  1.74s/it, loss=0.274, v_num=9ytj]\n",
      "Epoch 78:  90%|█████████ | 57/63 [01:46<00:11,  1.88s/it, loss=0.274, v_num=9ytj]\n",
      "Epoch 78:  92%|█████████▏| 58/63 [01:48<00:09,  1.88s/it, loss=0.274, v_num=9ytj]\n",
      "Epoch 78:  94%|█████████▎| 59/63 [01:51<00:07,  1.89s/it, loss=0.274, v_num=9ytj]\n",
      "Epoch 78:  95%|█████████▌| 60/63 [01:54<00:05,  1.90s/it, loss=0.274, v_num=9ytj]\n",
      "Epoch 78:  97%|█████████▋| 61/63 [01:56<00:03,  1.90s/it, loss=0.274, v_num=9ytj]\n",
      "Epoch 78:  98%|█████████▊| 62/63 [01:57<00:01,  1.90s/it, loss=0.274, v_num=9ytj]\n",
      "Epoch 78: 100%|██████████| 63/63 [02:00<00:00,  1.91s/it, loss=0.274, v_num=9ytj]\n",
      "Validating: 100%|██████████| 12/12 [00:40<00:00,  2.76s/it]\u001b[A"
     ]
    },
    {
     "name": "stderr",
     "output_type": "stream",
     "text": [
      "Metric val_loss improved by 0.001 >= min_delta = 0.0. New best score: 0.496\n"
     ]
    },
    {
     "name": "stdout",
     "output_type": "stream",
     "text": [
      "Epoch 78: 100%|██████████| 63/63 [02:03<00:00,  1.96s/it, loss=0.274, v_num=9ytj]\n",
      "                                                           \u001b[A"
     ]
    },
    {
     "name": "stderr",
     "output_type": "stream",
     "text": [
      "Epoch 78, global step 4028: val_loss reached 0.49600 (best 0.49600), saving model to \"/notebooks/nbs/colab/wandb/run-20210527_105345-ihi59ytj/files/lung-cancer-detection/ihi59ytj/checkpoints/epoch=78-step=4028-val_loss=0.4960.ckpt\" as top 1\n"
     ]
    },
    {
     "name": "stdout",
     "output_type": "stream",
     "text": [
      "Epoch 79:  81%|████████  | 51/63 [01:18<00:18,  1.55s/it, loss=0.289, v_num=9ytj]\n",
      "Validating: 0it [00:00, ?it/s]\u001b[A\n",
      "Validating:   0%|          | 0/12 [00:00<?, ?it/s]\u001b[A\n",
      "Epoch 79:  84%|████████▍ | 53/63 [01:20<00:15,  1.52s/it, loss=0.289, v_num=9ytj]\n",
      "Validating:  17%|█▋        | 2/12 [00:08<00:33,  3.37s/it]\u001b[A\n",
      "Epoch 79:  87%|████████▋ | 55/63 [01:31<00:13,  1.67s/it, loss=0.289, v_num=9ytj]\n",
      "Epoch 79:  89%|████████▉ | 56/63 [01:33<00:11,  1.67s/it, loss=0.289, v_num=9ytj]\n",
      "Epoch 79:  90%|█████████ | 57/63 [01:44<00:10,  1.83s/it, loss=0.289, v_num=9ytj]\n",
      "Epoch 79:  92%|█████████▏| 58/63 [01:46<00:09,  1.83s/it, loss=0.289, v_num=9ytj]\n",
      "Epoch 79:  94%|█████████▎| 59/63 [01:48<00:07,  1.84s/it, loss=0.289, v_num=9ytj]\n",
      "Epoch 79:  95%|█████████▌| 60/63 [01:51<00:05,  1.86s/it, loss=0.289, v_num=9ytj]\n",
      "Epoch 79:  97%|█████████▋| 61/63 [01:53<00:03,  1.86s/it, loss=0.289, v_num=9ytj]\n",
      "Epoch 79:  98%|█████████▊| 62/63 [01:54<00:01,  1.85s/it, loss=0.289, v_num=9ytj]\n",
      "Epoch 79: 100%|██████████| 63/63 [01:57<00:00,  1.86s/it, loss=0.289, v_num=9ytj]\n",
      "Epoch 79: 100%|██████████| 63/63 [02:00<00:00,  1.92s/it, loss=0.289, v_num=9ytj]\n",
      "                                                           \u001b[A"
     ]
    },
    {
     "name": "stderr",
     "output_type": "stream",
     "text": [
      "Epoch 79, global step 4079: val_loss was not in top 1\n"
     ]
    },
    {
     "name": "stdout",
     "output_type": "stream",
     "text": [
      "Epoch 80:  81%|████████  | 51/63 [01:20<00:18,  1.58s/it, loss=0.277, v_num=9ytj]\n",
      "Validating: 0it [00:00, ?it/s]\u001b[A\n",
      "Validating:   0%|          | 0/12 [00:00<?, ?it/s]\u001b[A\n",
      "Epoch 80:  84%|████████▍ | 53/63 [01:22<00:15,  1.56s/it, loss=0.277, v_num=9ytj]\n",
      "Validating:  17%|█▋        | 2/12 [00:08<00:34,  3.44s/it]\u001b[A\n",
      "Epoch 80:  87%|████████▋ | 55/63 [01:33<00:13,  1.70s/it, loss=0.277, v_num=9ytj]\n",
      "Epoch 80:  89%|████████▉ | 56/63 [01:35<00:11,  1.71s/it, loss=0.277, v_num=9ytj]\n",
      "Epoch 80:  90%|█████████ | 57/63 [01:44<00:11,  1.84s/it, loss=0.277, v_num=9ytj]\n",
      "Epoch 80:  92%|█████████▏| 58/63 [01:46<00:09,  1.84s/it, loss=0.277, v_num=9ytj]\n",
      "Epoch 80:  94%|█████████▎| 59/63 [01:49<00:07,  1.85s/it, loss=0.277, v_num=9ytj]\n",
      "Epoch 80:  95%|█████████▌| 60/63 [01:51<00:05,  1.86s/it, loss=0.277, v_num=9ytj]\n",
      "Epoch 80:  97%|█████████▋| 61/63 [01:53<00:03,  1.87s/it, loss=0.277, v_num=9ytj]\n",
      "Epoch 80:  98%|█████████▊| 62/63 [01:55<00:01,  1.86s/it, loss=0.277, v_num=9ytj]\n",
      "Epoch 80: 100%|██████████| 63/63 [01:58<00:00,  1.87s/it, loss=0.277, v_num=9ytj]\n",
      "Validating: 100%|██████████| 12/12 [00:40<00:00,  2.76s/it]\u001b[A"
     ]
    },
    {
     "name": "stderr",
     "output_type": "stream",
     "text": [
      "Metric val_loss improved by 0.002 >= min_delta = 0.0. New best score: 0.494\n"
     ]
    },
    {
     "name": "stdout",
     "output_type": "stream",
     "text": [
      "Epoch 80: 100%|██████████| 63/63 [02:01<00:00,  1.93s/it, loss=0.277, v_num=9ytj]\n",
      "                                                           \u001b[A"
     ]
    },
    {
     "name": "stderr",
     "output_type": "stream",
     "text": [
      "Epoch 80, global step 4130: val_loss reached 0.49418 (best 0.49418), saving model to \"/notebooks/nbs/colab/wandb/run-20210527_105345-ihi59ytj/files/lung-cancer-detection/ihi59ytj/checkpoints/epoch=80-step=4130-val_loss=0.4942.ckpt\" as top 1\n"
     ]
    },
    {
     "name": "stdout",
     "output_type": "stream",
     "text": [
      "Epoch 81:  81%|████████  | 51/63 [01:24<00:19,  1.66s/it, loss=0.277, v_num=9ytj]\n",
      "Validating: 0it [00:00, ?it/s]\u001b[A\n",
      "Validating:   0%|          | 0/12 [00:00<?, ?it/s]\u001b[A\n",
      "Epoch 81:  84%|████████▍ | 53/63 [01:26<00:16,  1.64s/it, loss=0.277, v_num=9ytj]\n",
      "Validating:  17%|█▋        | 2/12 [00:08<00:31,  3.18s/it]\u001b[A\n",
      "Epoch 81:  87%|████████▋ | 55/63 [01:36<00:14,  1.76s/it, loss=0.277, v_num=9ytj]\n",
      "Epoch 81:  89%|████████▉ | 56/63 [01:39<00:12,  1.77s/it, loss=0.277, v_num=9ytj]\n",
      "Epoch 81:  90%|█████████ | 57/63 [01:48<00:11,  1.91s/it, loss=0.277, v_num=9ytj]\n",
      "Epoch 81:  92%|█████████▏| 58/63 [01:50<00:09,  1.91s/it, loss=0.277, v_num=9ytj]\n",
      "Epoch 81:  94%|█████████▎| 59/63 [01:53<00:07,  1.92s/it, loss=0.277, v_num=9ytj]\n",
      "Epoch 81:  95%|█████████▌| 60/63 [01:56<00:05,  1.93s/it, loss=0.277, v_num=9ytj]\n",
      "Epoch 81:  97%|█████████▋| 61/63 [01:58<00:03,  1.94s/it, loss=0.277, v_num=9ytj]\n",
      "Epoch 81:  98%|█████████▊| 62/63 [01:59<00:01,  1.93s/it, loss=0.277, v_num=9ytj]\n",
      "Epoch 81: 100%|██████████| 63/63 [02:02<00:00,  1.94s/it, loss=0.277, v_num=9ytj]\n",
      "Epoch 81: 100%|██████████| 63/63 [02:05<00:00,  1.99s/it, loss=0.277, v_num=9ytj]\n",
      "                                                           \u001b[A"
     ]
    },
    {
     "name": "stderr",
     "output_type": "stream",
     "text": [
      "Epoch 81, global step 4181: val_loss was not in top 1\n"
     ]
    },
    {
     "name": "stdout",
     "output_type": "stream",
     "text": [
      "Epoch 82:  81%|████████  | 51/63 [01:17<00:18,  1.52s/it, loss=0.307, v_num=9ytj]\n",
      "Validating: 0it [00:00, ?it/s]\u001b[A\n",
      "Validating:   0%|          | 0/12 [00:00<?, ?it/s]\u001b[A\n",
      "Epoch 82:  84%|████████▍ | 53/63 [01:19<00:14,  1.50s/it, loss=0.307, v_num=9ytj]\n",
      "Validating:  17%|█▋        | 2/12 [00:08<00:33,  3.40s/it]\u001b[A\n",
      "Epoch 82:  87%|████████▋ | 55/63 [01:30<00:13,  1.65s/it, loss=0.307, v_num=9ytj]\n",
      "Epoch 82:  89%|████████▉ | 56/63 [01:32<00:11,  1.65s/it, loss=0.307, v_num=9ytj]\n",
      "Epoch 82:  90%|█████████ | 57/63 [01:41<00:10,  1.77s/it, loss=0.307, v_num=9ytj]\n",
      "Epoch 82:  92%|█████████▏| 58/63 [01:43<00:08,  1.78s/it, loss=0.307, v_num=9ytj]\n",
      "Epoch 82:  94%|█████████▎| 59/63 [01:45<00:07,  1.79s/it, loss=0.307, v_num=9ytj]\n",
      "Epoch 82:  95%|█████████▌| 60/63 [01:48<00:05,  1.81s/it, loss=0.307, v_num=9ytj]\n",
      "Epoch 82:  97%|█████████▋| 61/63 [01:50<00:03,  1.81s/it, loss=0.307, v_num=9ytj]\n",
      "Epoch 82:  98%|█████████▊| 62/63 [01:51<00:01,  1.81s/it, loss=0.307, v_num=9ytj]\n",
      "Epoch 82: 100%|██████████| 63/63 [01:54<00:00,  1.82s/it, loss=0.307, v_num=9ytj]\n",
      "Epoch 82: 100%|██████████| 63/63 [01:57<00:00,  1.87s/it, loss=0.307, v_num=9ytj]\n",
      "                                                           \u001b[A"
     ]
    },
    {
     "name": "stderr",
     "output_type": "stream",
     "text": [
      "Epoch 82, global step 4232: val_loss was not in top 1\n"
     ]
    },
    {
     "name": "stdout",
     "output_type": "stream",
     "text": [
      "Epoch 83:  81%|████████  | 51/63 [01:19<00:18,  1.55s/it, loss=0.284, v_num=9ytj]\n",
      "Validating: 0it [00:00, ?it/s]\u001b[A\n",
      "Validating:   0%|          | 0/12 [00:00<?, ?it/s]\u001b[A\n",
      "Epoch 83:  84%|████████▍ | 53/63 [01:21<00:15,  1.53s/it, loss=0.284, v_num=9ytj]\n",
      "Validating:  17%|█▋        | 2/12 [00:08<00:34,  3.42s/it]\u001b[A\n",
      "Epoch 83:  87%|████████▋ | 55/63 [01:32<00:13,  1.68s/it, loss=0.284, v_num=9ytj]\n",
      "Epoch 83:  89%|████████▉ | 56/63 [01:34<00:11,  1.68s/it, loss=0.284, v_num=9ytj]\n",
      "Epoch 83:  90%|█████████ | 57/63 [01:43<00:10,  1.82s/it, loss=0.284, v_num=9ytj]\n",
      "Epoch 83:  92%|█████████▏| 58/63 [01:45<00:09,  1.83s/it, loss=0.284, v_num=9ytj]\n",
      "Epoch 83:  94%|█████████▎| 59/63 [01:48<00:07,  1.84s/it, loss=0.284, v_num=9ytj]\n",
      "Epoch 83:  95%|█████████▌| 60/63 [01:51<00:05,  1.85s/it, loss=0.284, v_num=9ytj]\n",
      "Epoch 83:  97%|█████████▋| 61/63 [01:53<00:03,  1.85s/it, loss=0.284, v_num=9ytj]\n",
      "Epoch 83:  98%|█████████▊| 62/63 [01:54<00:01,  1.85s/it, loss=0.284, v_num=9ytj]\n",
      "Epoch 83: 100%|██████████| 63/63 [01:57<00:00,  1.86s/it, loss=0.284, v_num=9ytj]\n",
      "Validating: 100%|██████████| 12/12 [00:41<00:00,  2.78s/it]\u001b[A"
     ]
    },
    {
     "name": "stderr",
     "output_type": "stream",
     "text": [
      "Monitored metric val_loss did not improve in the last 3 records. Best score: 0.494. Signaling Trainer to stop.\n"
     ]
    },
    {
     "name": "stdout",
     "output_type": "stream",
     "text": [
      "Epoch 83: 100%|██████████| 63/63 [02:00<00:00,  1.92s/it, loss=0.284, v_num=9ytj]\n",
      "                                                           \u001b[A"
     ]
    },
    {
     "name": "stderr",
     "output_type": "stream",
     "text": [
      "Epoch 83, global step 4283: val_loss was not in top 1\n"
     ]
    },
    {
     "name": "stdout",
     "output_type": "stream",
     "text": [
      "Epoch 83: 100%|██████████| 63/63 [02:00<00:00,  1.92s/it, loss=0.284, v_num=9ytj]\n"
     ]
    }
   ],
   "source": [
    "trainer.fit(model, datamodule=dm)"
   ]
  },
  {
   "cell_type": "code",
   "execution_count": 19,
   "metadata": {},
   "outputs": [
    {
     "data": {
      "text/html": [
       "<br/>Waiting for W&B process to finish, PID 12148<br/>Program ended successfully."
      ],
      "text/plain": [
       "<IPython.core.display.HTML object>"
      ]
     },
     "metadata": {},
     "output_type": "display_data"
    },
    {
     "data": {
      "text/html": [
       "Find user logs for this run at: <code>/notebooks/nbs/colab/wandb/run-20210527_105345-ihi59ytj/logs/debug.log</code>"
      ],
      "text/plain": [
       "<IPython.core.display.HTML object>"
      ]
     },
     "metadata": {},
     "output_type": "display_data"
    },
    {
     "data": {
      "text/html": [
       "Find internal logs for this run at: <code>/notebooks/nbs/colab/wandb/run-20210527_105345-ihi59ytj/logs/debug-internal.log</code>"
      ],
      "text/plain": [
       "<IPython.core.display.HTML object>"
      ]
     },
     "metadata": {},
     "output_type": "display_data"
    },
    {
     "data": {
      "text/html": [
       "<h3>Run summary:</h3><br/><style>\n",
       "    table.wandb td:nth-child(1) { padding: 0 10px; text-align: right }\n",
       "    </style><table class=\"wandb\">\n",
       "<tr><td>train_loss</td><td>0.27743</td></tr><tr><td>epoch</td><td>83</td></tr><tr><td>trainer/global_step</td><td>4283</td></tr><tr><td>_runtime</td><td>10372</td></tr><tr><td>_timestamp</td><td>1622123197</td></tr><tr><td>_step</td><td>168</td></tr><tr><td>val_loss</td><td>0.49809</td></tr></table>"
      ],
      "text/plain": [
       "<IPython.core.display.HTML object>"
      ]
     },
     "metadata": {},
     "output_type": "display_data"
    },
    {
     "data": {
      "text/html": [
       "<h3>Run history:</h3><br/><style>\n",
       "    table.wandb td:nth-child(1) { padding: 0 10px; text-align: right }\n",
       "    </style><table class=\"wandb\">\n",
       "<tr><td>train_loss</td><td>██▇▇▇▇▇▇▇▄▆▇▆▆▆▆▆▆▃▆▆▆▆▄▆▅▃▅▃▅▄▃▅▂▁▄▄▄▆▃</td></tr><tr><td>epoch</td><td>▁▁▁▂▂▂▂▂▂▃▃▃▃▃▃▄▄▄▄▄▅▅▅▅▅▅▆▆▆▆▆▆▇▇▇▇▇███</td></tr><tr><td>trainer/global_step</td><td>▁▁▁▂▂▂▂▂▂▃▃▃▃▃▃▄▄▄▄▄▅▅▅▅▅▅▆▆▆▆▆▆▇▇▇▇▇███</td></tr><tr><td>_runtime</td><td>▁▁▁▂▂▂▂▂▂▃▃▃▃▃▃▄▄▄▄▄▅▅▅▅▅▅▆▆▆▆▆▇▇▇▇▇▇███</td></tr><tr><td>_timestamp</td><td>▁▁▁▂▂▂▂▂▂▃▃▃▃▃▃▄▄▄▄▄▅▅▅▅▅▅▆▆▆▆▆▇▇▇▇▇▇███</td></tr><tr><td>_step</td><td>▁▁▁▂▂▂▂▂▂▃▃▃▃▃▃▄▄▄▄▄▅▅▅▅▅▅▆▆▆▆▆▆▇▇▇▇▇███</td></tr><tr><td>val_loss</td><td>█▇▇▆▆▆▆▅▅▅▄▄▄▄▃▃▃▃▃▂▂▂▂▂▂▂▂▂▂▂▁▁▁▁▁▁▁▁▁▁</td></tr></table><br/>"
      ],
      "text/plain": [
       "<IPython.core.display.HTML object>"
      ]
     },
     "metadata": {},
     "output_type": "display_data"
    },
    {
     "data": {
      "text/html": [
       "Synced 5 W&B file(s), 0 media file(s), 0 artifact file(s) and 1 other file(s)"
      ],
      "text/plain": [
       "<IPython.core.display.HTML object>"
      ]
     },
     "metadata": {},
     "output_type": "display_data"
    },
    {
     "data": {
      "text/html": [
       "\n",
       "                    <br/>Synced <strong style=\"color:#cdcd00\">hearty-bush-49</strong>: <a href=\"https://wandb.ai/felixpeters/lung-cancer-detection/runs/ihi59ytj\" target=\"_blank\">https://wandb.ai/felixpeters/lung-cancer-detection/runs/ihi59ytj</a><br/>\n",
       "                "
      ],
      "text/plain": [
       "<IPython.core.display.HTML object>"
      ]
     },
     "metadata": {},
     "output_type": "display_data"
    }
   ],
   "source": [
    "wandb.finish()"
   ]
  },
  {
   "cell_type": "code",
   "execution_count": null,
   "metadata": {},
   "outputs": [],
   "source": []
  }
 ],
 "metadata": {
  "accelerator": "GPU",
  "colab": {
   "authorship_tag": "ABX9TyP3G1ko0lEfgyHZcdXhckug",
   "collapsed_sections": [],
   "include_colab_link": true,
   "name": "01_MSD_Lung_Nodule_Segmentation.ipynb",
   "provenance": []
  },
  "environment": {
   "name": "pytorch-gpu.1-9.m74",
   "type": "gcloud",
   "uri": "gcr.io/deeplearning-platform-release/pytorch-gpu.1-9:m74"
  },
  "kernelspec": {
   "display_name": "Python 3",
   "language": "python",
   "name": "python3"
  },
  "language_info": {
   "codemirror_mode": {
    "name": "ipython",
    "version": 3
   },
   "file_extension": ".py",
   "mimetype": "text/x-python",
   "name": "python",
   "nbconvert_exporter": "python",
   "pygments_lexer": "ipython3",
   "version": "3.8.5"
  },
  "toc": {
   "base_numbering": 1,
   "nav_menu": {},
   "number_sections": true,
   "sideBar": true,
   "skip_h1_title": true,
   "title_cell": "Table of Contents",
   "title_sidebar": "Contents",
   "toc_cell": false,
   "toc_position": {},
   "toc_section_display": true,
   "toc_window_display": false
  }
 },
 "nbformat": 4,
 "nbformat_minor": 4
}
