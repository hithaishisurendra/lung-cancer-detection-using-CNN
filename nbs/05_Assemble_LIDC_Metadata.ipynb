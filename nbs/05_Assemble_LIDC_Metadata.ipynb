{
 "cells": [
  {
   "cell_type": "markdown",
   "metadata": {},
   "source": [
    "# Store metadata of LIDC-IDRI dataset"
   ]
  },
  {
   "cell_type": "markdown",
   "metadata": {},
   "source": [
    "## Imports and configuration"
   ]
  },
  {
   "cell_type": "code",
   "execution_count": 1,
   "metadata": {},
   "outputs": [],
   "source": [
    "import os\n",
    "import random\n",
    "from statistics import median_high\n",
    "from pathlib import Path\n",
    "\n",
    "import pylidc as pl\n",
    "import pandas as pd\n",
    "import numpy as np\n",
    "from tqdm import tqdm\n",
    "import pydicom as dicom"
   ]
  },
  {
   "cell_type": "code",
   "execution_count": 45,
   "metadata": {},
   "outputs": [],
   "source": [
    "import warnings\n",
    "warnings.filterwarnings('ignore')"
   ]
  },
  {
   "cell_type": "code",
   "execution_count": 2,
   "metadata": {},
   "outputs": [
    {
     "data": {
      "text/plain": [
       "[PosixPath('/Volumes/LaCie/data/lung-cancer-detection/lidc-idri/LIDC-IDRI'),\n",
       " PosixPath('/Volumes/LaCie/data/lung-cancer-detection/lidc-idri/._LIDC-IDRI'),\n",
       " PosixPath('/Volumes/LaCie/data/lung-cancer-detection/lidc-idri/LIDC-XML-only.zip'),\n",
       " PosixPath('/Volumes/LaCie/data/lung-cancer-detection/lidc-idri/._LIDC-XML-only.zip'),\n",
       " PosixPath('/Volumes/LaCie/data/lung-cancer-detection/lidc-idri/LIDC-IDRI_MetaData.csv'),\n",
       " PosixPath('/Volumes/LaCie/data/lung-cancer-detection/lidc-idri/._LIDC-IDRI_MetaData.csv'),\n",
       " PosixPath('/Volumes/LaCie/data/lung-cancer-detection/lidc-idri/tcia-diagnosis-data-2012-04-20.xls'),\n",
       " PosixPath('/Volumes/LaCie/data/lung-cancer-detection/lidc-idri/._tcia-diagnosis-data-2012-04-20.xls'),\n",
       " PosixPath('/Volumes/LaCie/data/lung-cancer-detection/lidc-idri/list3.2.csv'),\n",
       " PosixPath('/Volumes/LaCie/data/lung-cancer-detection/lidc-idri/._list3.2.csv'),\n",
       " PosixPath('/Volumes/LaCie/data/lung-cancer-detection/lidc-idri/processed')]"
      ]
     },
     "execution_count": 2,
     "metadata": {},
     "output_type": "execute_result"
    }
   ],
   "source": [
    "LIDC_DIR = Path(\"/Volumes/LaCie/data/lung-cancer-detection/lidc-idri/\")\n",
    "DICOM_DIR = LIDC_DIR / \"LIDC-IDRI\"\n",
    "list(LIDC_DIR.iterdir())"
   ]
  },
  {
   "cell_type": "markdown",
   "metadata": {},
   "source": [
    "**Notes:**\n",
    "\n",
    "- `LIDC-IDRI_MetaData.csv` does only contain very basic information about series => not particularly useful!\n",
    "- `list3.2.csv` contains detailed information about each nodule => not particularly useful, as `pylidc` already filters this information for us!\n",
    "- `tcia-diagnosis-data-2012-04-20.xls` contains diagnostic data associated with the case for a select number of 157 cases => might be useful for selecting cases"
   ]
  },
  {
   "cell_type": "markdown",
   "metadata": {},
   "source": [
    "## Load DICOM metadata"
   ]
  },
  {
   "cell_type": "markdown",
   "metadata": {},
   "source": [
    "**Note:** This is the cleaned metadata from the previous notebook!"
   ]
  },
  {
   "cell_type": "code",
   "execution_count": 3,
   "metadata": {},
   "outputs": [
    {
     "name": "stderr",
     "output_type": "stream",
     "text": [
      "/Users/felix/code/ml/lung-cancer-detection/venv/lib/python3.8/site-packages/IPython/core/interactiveshell.py:3146: DtypeWarning: Columns (33,34) have mixed types.Specify dtype option on import or set low_memory=False.\n",
      "  has_raised = await self.run_ast_nodes(code_ast.body, cell_name,\n"
     ]
    },
    {
     "name": "stdout",
     "output_type": "stream",
     "text": [
      "(243992, 37)\n",
      "Index(['BitsAllocated', 'PxMean', 'PxMin', 'PxMax', 'BitsStored',\n",
      "       'BodyPartExamined', 'Columns', 'FrameOfReferenceUID',\n",
      "       'ImageOrientationPatient', 'ImagePositionPatient', 'ImageType',\n",
      "       'Manufacturer', 'ManufacturerModelName', 'Modality', 'PatientID',\n",
      "       'PatientPosition', 'PatientSex', 'PixelPaddingValue',\n",
      "       'PixelRepresentation', 'PixelSpacing', 'RescaleIntercept',\n",
      "       'RescaleSlope', 'RotationDirection', 'Rows', 'SOPClassUID',\n",
      "       'SOPInstanceUID', 'SamplesPerPixel', 'SeriesInstanceUID',\n",
      "       'SeriesNumber', 'SliceLocation', 'SliceThickness', 'StudyID',\n",
      "       'StudyInstanceUID', 'WindowCenter', 'WindowWidth', 'zPos', 'path'],\n",
      "      dtype='object')\n"
     ]
    },
    {
     "data": {
      "text/html": [
       "<div>\n",
       "<style scoped>\n",
       "    .dataframe tbody tr th:only-of-type {\n",
       "        vertical-align: middle;\n",
       "    }\n",
       "\n",
       "    .dataframe tbody tr th {\n",
       "        vertical-align: top;\n",
       "    }\n",
       "\n",
       "    .dataframe thead th {\n",
       "        text-align: right;\n",
       "    }\n",
       "</style>\n",
       "<table border=\"1\" class=\"dataframe\">\n",
       "  <thead>\n",
       "    <tr style=\"text-align: right;\">\n",
       "      <th></th>\n",
       "      <th>BitsAllocated</th>\n",
       "      <th>PxMean</th>\n",
       "      <th>PxMin</th>\n",
       "      <th>PxMax</th>\n",
       "      <th>BitsStored</th>\n",
       "      <th>BodyPartExamined</th>\n",
       "      <th>Columns</th>\n",
       "      <th>FrameOfReferenceUID</th>\n",
       "      <th>ImageOrientationPatient</th>\n",
       "      <th>ImagePositionPatient</th>\n",
       "      <th>...</th>\n",
       "      <th>SeriesInstanceUID</th>\n",
       "      <th>SeriesNumber</th>\n",
       "      <th>SliceLocation</th>\n",
       "      <th>SliceThickness</th>\n",
       "      <th>StudyID</th>\n",
       "      <th>StudyInstanceUID</th>\n",
       "      <th>WindowCenter</th>\n",
       "      <th>WindowWidth</th>\n",
       "      <th>zPos</th>\n",
       "      <th>path</th>\n",
       "    </tr>\n",
       "  </thead>\n",
       "  <tbody>\n",
       "    <tr>\n",
       "      <th>0</th>\n",
       "      <td>16</td>\n",
       "      <td>-91.907864</td>\n",
       "      <td>-2000</td>\n",
       "      <td>2607</td>\n",
       "      <td>16</td>\n",
       "      <td>CHEST</td>\n",
       "      <td>512</td>\n",
       "      <td>1.3.6.1.4.1.14519.5.2.1.6279.6001.317612173882...</td>\n",
       "      <td>[1.000000, 0.000000, 0.000000, 0.000000, 1.000...</td>\n",
       "      <td>[-175.500000, -174.500000, -9.500000]</td>\n",
       "      <td>...</td>\n",
       "      <td>1.3.6.1.4.1.14519.5.2.1.6279.6001.619372068417...</td>\n",
       "      <td>3000522.0</td>\n",
       "      <td>-9.50</td>\n",
       "      <td>1.25</td>\n",
       "      <td>NaN</td>\n",
       "      <td>1.3.6.1.4.1.14519.5.2.1.6279.6001.490157381160...</td>\n",
       "      <td>40</td>\n",
       "      <td>350</td>\n",
       "      <td>-9.50</td>\n",
       "      <td>/Volumes/LaCie/data/lung-cancer-detection/lidc...</td>\n",
       "    </tr>\n",
       "    <tr>\n",
       "      <th>1</th>\n",
       "      <td>16</td>\n",
       "      <td>-86.287533</td>\n",
       "      <td>-2000</td>\n",
       "      <td>2580</td>\n",
       "      <td>16</td>\n",
       "      <td>CHEST</td>\n",
       "      <td>512</td>\n",
       "      <td>1.3.6.1.4.1.14519.5.2.1.6279.6001.317612173882...</td>\n",
       "      <td>[1.000000, 0.000000, 0.000000, 0.000000, 1.000...</td>\n",
       "      <td>[-175.500000, -174.500000, -10.750000]</td>\n",
       "      <td>...</td>\n",
       "      <td>1.3.6.1.4.1.14519.5.2.1.6279.6001.619372068417...</td>\n",
       "      <td>3000522.0</td>\n",
       "      <td>-10.75</td>\n",
       "      <td>1.25</td>\n",
       "      <td>NaN</td>\n",
       "      <td>1.3.6.1.4.1.14519.5.2.1.6279.6001.490157381160...</td>\n",
       "      <td>40</td>\n",
       "      <td>350</td>\n",
       "      <td>-10.75</td>\n",
       "      <td>/Volumes/LaCie/data/lung-cancer-detection/lidc...</td>\n",
       "    </tr>\n",
       "    <tr>\n",
       "      <th>2</th>\n",
       "      <td>16</td>\n",
       "      <td>-80.395668</td>\n",
       "      <td>-2000</td>\n",
       "      <td>2622</td>\n",
       "      <td>16</td>\n",
       "      <td>CHEST</td>\n",
       "      <td>512</td>\n",
       "      <td>1.3.6.1.4.1.14519.5.2.1.6279.6001.317612173882...</td>\n",
       "      <td>[1.000000, 0.000000, 0.000000, 0.000000, 1.000...</td>\n",
       "      <td>[-175.500000, -174.500000, -12.000000]</td>\n",
       "      <td>...</td>\n",
       "      <td>1.3.6.1.4.1.14519.5.2.1.6279.6001.619372068417...</td>\n",
       "      <td>3000522.0</td>\n",
       "      <td>-12.00</td>\n",
       "      <td>1.25</td>\n",
       "      <td>NaN</td>\n",
       "      <td>1.3.6.1.4.1.14519.5.2.1.6279.6001.490157381160...</td>\n",
       "      <td>40</td>\n",
       "      <td>350</td>\n",
       "      <td>-12.00</td>\n",
       "      <td>/Volumes/LaCie/data/lung-cancer-detection/lidc...</td>\n",
       "    </tr>\n",
       "    <tr>\n",
       "      <th>3</th>\n",
       "      <td>16</td>\n",
       "      <td>-74.869011</td>\n",
       "      <td>-2000</td>\n",
       "      <td>2527</td>\n",
       "      <td>16</td>\n",
       "      <td>CHEST</td>\n",
       "      <td>512</td>\n",
       "      <td>1.3.6.1.4.1.14519.5.2.1.6279.6001.317612173882...</td>\n",
       "      <td>[1.000000, 0.000000, 0.000000, 0.000000, 1.000...</td>\n",
       "      <td>[-175.500000, -174.500000, -13.250000]</td>\n",
       "      <td>...</td>\n",
       "      <td>1.3.6.1.4.1.14519.5.2.1.6279.6001.619372068417...</td>\n",
       "      <td>3000522.0</td>\n",
       "      <td>-13.25</td>\n",
       "      <td>1.25</td>\n",
       "      <td>NaN</td>\n",
       "      <td>1.3.6.1.4.1.14519.5.2.1.6279.6001.490157381160...</td>\n",
       "      <td>40</td>\n",
       "      <td>350</td>\n",
       "      <td>-13.25</td>\n",
       "      <td>/Volumes/LaCie/data/lung-cancer-detection/lidc...</td>\n",
       "    </tr>\n",
       "    <tr>\n",
       "      <th>4</th>\n",
       "      <td>16</td>\n",
       "      <td>-69.924225</td>\n",
       "      <td>-2000</td>\n",
       "      <td>2589</td>\n",
       "      <td>16</td>\n",
       "      <td>CHEST</td>\n",
       "      <td>512</td>\n",
       "      <td>1.3.6.1.4.1.14519.5.2.1.6279.6001.317612173882...</td>\n",
       "      <td>[1.000000, 0.000000, 0.000000, 0.000000, 1.000...</td>\n",
       "      <td>[-175.500000, -174.500000, -14.500000]</td>\n",
       "      <td>...</td>\n",
       "      <td>1.3.6.1.4.1.14519.5.2.1.6279.6001.619372068417...</td>\n",
       "      <td>3000522.0</td>\n",
       "      <td>-14.50</td>\n",
       "      <td>1.25</td>\n",
       "      <td>NaN</td>\n",
       "      <td>1.3.6.1.4.1.14519.5.2.1.6279.6001.490157381160...</td>\n",
       "      <td>40</td>\n",
       "      <td>350</td>\n",
       "      <td>-14.50</td>\n",
       "      <td>/Volumes/LaCie/data/lung-cancer-detection/lidc...</td>\n",
       "    </tr>\n",
       "  </tbody>\n",
       "</table>\n",
       "<p>5 rows × 37 columns</p>\n",
       "</div>"
      ],
      "text/plain": [
       "   BitsAllocated     PxMean  PxMin  PxMax  BitsStored BodyPartExamined  \\\n",
       "0             16 -91.907864  -2000   2607          16            CHEST   \n",
       "1             16 -86.287533  -2000   2580          16            CHEST   \n",
       "2             16 -80.395668  -2000   2622          16            CHEST   \n",
       "3             16 -74.869011  -2000   2527          16            CHEST   \n",
       "4             16 -69.924225  -2000   2589          16            CHEST   \n",
       "\n",
       "   Columns                                FrameOfReferenceUID  \\\n",
       "0      512  1.3.6.1.4.1.14519.5.2.1.6279.6001.317612173882...   \n",
       "1      512  1.3.6.1.4.1.14519.5.2.1.6279.6001.317612173882...   \n",
       "2      512  1.3.6.1.4.1.14519.5.2.1.6279.6001.317612173882...   \n",
       "3      512  1.3.6.1.4.1.14519.5.2.1.6279.6001.317612173882...   \n",
       "4      512  1.3.6.1.4.1.14519.5.2.1.6279.6001.317612173882...   \n",
       "\n",
       "                             ImageOrientationPatient  \\\n",
       "0  [1.000000, 0.000000, 0.000000, 0.000000, 1.000...   \n",
       "1  [1.000000, 0.000000, 0.000000, 0.000000, 1.000...   \n",
       "2  [1.000000, 0.000000, 0.000000, 0.000000, 1.000...   \n",
       "3  [1.000000, 0.000000, 0.000000, 0.000000, 1.000...   \n",
       "4  [1.000000, 0.000000, 0.000000, 0.000000, 1.000...   \n",
       "\n",
       "                     ImagePositionPatient  ...  \\\n",
       "0   [-175.500000, -174.500000, -9.500000]  ...   \n",
       "1  [-175.500000, -174.500000, -10.750000]  ...   \n",
       "2  [-175.500000, -174.500000, -12.000000]  ...   \n",
       "3  [-175.500000, -174.500000, -13.250000]  ...   \n",
       "4  [-175.500000, -174.500000, -14.500000]  ...   \n",
       "\n",
       "                                   SeriesInstanceUID SeriesNumber  \\\n",
       "0  1.3.6.1.4.1.14519.5.2.1.6279.6001.619372068417...    3000522.0   \n",
       "1  1.3.6.1.4.1.14519.5.2.1.6279.6001.619372068417...    3000522.0   \n",
       "2  1.3.6.1.4.1.14519.5.2.1.6279.6001.619372068417...    3000522.0   \n",
       "3  1.3.6.1.4.1.14519.5.2.1.6279.6001.619372068417...    3000522.0   \n",
       "4  1.3.6.1.4.1.14519.5.2.1.6279.6001.619372068417...    3000522.0   \n",
       "\n",
       "  SliceLocation SliceThickness StudyID  \\\n",
       "0         -9.50           1.25     NaN   \n",
       "1        -10.75           1.25     NaN   \n",
       "2        -12.00           1.25     NaN   \n",
       "3        -13.25           1.25     NaN   \n",
       "4        -14.50           1.25     NaN   \n",
       "\n",
       "                                    StudyInstanceUID WindowCenter  \\\n",
       "0  1.3.6.1.4.1.14519.5.2.1.6279.6001.490157381160...           40   \n",
       "1  1.3.6.1.4.1.14519.5.2.1.6279.6001.490157381160...           40   \n",
       "2  1.3.6.1.4.1.14519.5.2.1.6279.6001.490157381160...           40   \n",
       "3  1.3.6.1.4.1.14519.5.2.1.6279.6001.490157381160...           40   \n",
       "4  1.3.6.1.4.1.14519.5.2.1.6279.6001.490157381160...           40   \n",
       "\n",
       "   WindowWidth   zPos                                               path  \n",
       "0          350  -9.50  /Volumes/LaCie/data/lung-cancer-detection/lidc...  \n",
       "1          350 -10.75  /Volumes/LaCie/data/lung-cancer-detection/lidc...  \n",
       "2          350 -12.00  /Volumes/LaCie/data/lung-cancer-detection/lidc...  \n",
       "3          350 -13.25  /Volumes/LaCie/data/lung-cancer-detection/lidc...  \n",
       "4          350 -14.50  /Volumes/LaCie/data/lung-cancer-detection/lidc...  \n",
       "\n",
       "[5 rows x 37 columns]"
      ]
     },
     "execution_count": 3,
     "metadata": {},
     "output_type": "execute_result"
    }
   ],
   "source": [
    "img_meta = pd.read_csv(LIDC_DIR/\"LIDC-IDRI/lidc_dicom_meta_clean.csv\")\n",
    "print(img_meta.shape)\n",
    "print(img_meta.columns)\n",
    "img_meta.head()"
   ]
  },
  {
   "cell_type": "markdown",
   "metadata": {},
   "source": [
    "## Load patient metadata"
   ]
  },
  {
   "cell_type": "markdown",
   "metadata": {},
   "source": [
    "### Load raw diagnosis data"
   ]
  },
  {
   "cell_type": "code",
   "execution_count": 4,
   "metadata": {},
   "outputs": [
    {
     "name": "stdout",
     "output_type": "stream",
     "text": [
      "(157, 14)\n"
     ]
    },
    {
     "data": {
      "text/html": [
       "<div>\n",
       "<style scoped>\n",
       "    .dataframe tbody tr th:only-of-type {\n",
       "        vertical-align: middle;\n",
       "    }\n",
       "\n",
       "    .dataframe tbody tr th {\n",
       "        vertical-align: top;\n",
       "    }\n",
       "\n",
       "    .dataframe thead th {\n",
       "        text-align: right;\n",
       "    }\n",
       "</style>\n",
       "<table border=\"1\" class=\"dataframe\">\n",
       "  <thead>\n",
       "    <tr style=\"text-align: right;\">\n",
       "      <th></th>\n",
       "      <th>TCIA Patient ID</th>\n",
       "      <th>Diagnosis at the Patient Level\\n0=Unknown\\n1=benign or non-malignant disease\\n2= malignant, primary lung cancer\\n3 = malignant metastatic\\n</th>\n",
       "      <th>Diagnosis Method\\n0 = unknown\\n1 = review of radiological images to show 2 years of stable nodule\\n2 = biopsy\\n3 = surgical resection\\n4 = progression or response</th>\n",
       "      <th>Primary tumor site for metastatic disease</th>\n",
       "      <th>Nodule 1\\nDiagnosis at the Nodule Level \\n0=Unknown\\n1=benign or non-malignant disease\\n2= malignant, primary lung cancer\\n3 = malignant metastatic)\\n</th>\n",
       "      <th>Nodule 1\\nDiagnosis Method at the Nodule Level\\n0 = unknown\\n1 = review of radiological images to show 2 years of stable nodule\\n2 = biopsy\\n3 = surgical resection\\n4 = progression or response\\n</th>\n",
       "      <th>Nodule 2\\nDiagnosis at the Nodule Level \\n0=Unknown\\n1=benign or non-malignant disease\\n2= malignant, primary lung cancer\\n3 = malignant metastatic)\\n</th>\n",
       "      <th>Nodule 2\\nDiagnosis Method at the Nodule Level\\n0 = unknown\\n1 = review of radiological images to show 2 years of stable nodule\\n2 = biopsy\\n3 = surgical resection\\n4 = progression or response\\n</th>\n",
       "      <th>Nodule 3\\nDiagnosis at the Nodule Level \\n0=Unknown\\n1=benign or non-malignant disease\\n2= malignant, primary lung cancer\\n3 = malignant metastatic)\\n</th>\n",
       "      <th>Nodule 3\\nDiagnosis Method at the Nodule Level\\n0 = unknown\\n1 = review of radiological images to show 2 years of stable nodule\\n2 = biopsy\\n3 = surgical resection\\n4 = progression or response\\n</th>\n",
       "      <th>Nodule 4\\nDiagnosis at the Nodule Level \\n0=Unknown\\n1=benign or non-malignant disease\\n2= malignant, primary lung cancer\\n3 = malignant metastatic)\\n</th>\n",
       "      <th>Nodule 4\\nDiagnosis Method at the Nodule Level\\n0 = unknown\\n1 = review of radiological images to show 2 years of stable nodule\\n2 = biopsy\\n3 = surgical resection\\n4 = progression or response\\n</th>\n",
       "      <th>Nodule 5\\nDiagnosis at the Nodule Level \\n0=Unknown\\n1=benign or non-malignant disease\\n2= malignant, primary lung cancer\\n3 = malignant metastatic)\\n</th>\n",
       "      <th>Nodule 5\\nDiagnosis Method at the Nodule Level\\n0 = unknown\\n1 = review of radiological images to show 2 years of stable nodule\\n2 = biopsy\\n3 = surgical resection\\n4 = progression or response\\n</th>\n",
       "    </tr>\n",
       "  </thead>\n",
       "  <tbody>\n",
       "    <tr>\n",
       "      <th>0</th>\n",
       "      <td>LIDC-IDRI-0068</td>\n",
       "      <td>3</td>\n",
       "      <td>4</td>\n",
       "      <td>Head &amp; Neck Cancer</td>\n",
       "      <td>3.0</td>\n",
       "      <td>4.0</td>\n",
       "      <td>NaN</td>\n",
       "      <td>NaN</td>\n",
       "      <td>NaN</td>\n",
       "      <td>NaN</td>\n",
       "      <td>NaN</td>\n",
       "      <td>NaN</td>\n",
       "      <td>NaN</td>\n",
       "      <td>NaN</td>\n",
       "    </tr>\n",
       "    <tr>\n",
       "      <th>1</th>\n",
       "      <td>LIDC-IDRI-0071</td>\n",
       "      <td>3</td>\n",
       "      <td>1</td>\n",
       "      <td>Head &amp; Neck</td>\n",
       "      <td>1.0</td>\n",
       "      <td>1.0</td>\n",
       "      <td>NaN</td>\n",
       "      <td>NaN</td>\n",
       "      <td>NaN</td>\n",
       "      <td>NaN</td>\n",
       "      <td>NaN</td>\n",
       "      <td>NaN</td>\n",
       "      <td>NaN</td>\n",
       "      <td>NaN</td>\n",
       "    </tr>\n",
       "    <tr>\n",
       "      <th>2</th>\n",
       "      <td>LIDC-IDRI-0072</td>\n",
       "      <td>2</td>\n",
       "      <td>4</td>\n",
       "      <td>Lung Cancer</td>\n",
       "      <td>1.0</td>\n",
       "      <td>4.0</td>\n",
       "      <td>NaN</td>\n",
       "      <td>NaN</td>\n",
       "      <td>NaN</td>\n",
       "      <td>NaN</td>\n",
       "      <td>NaN</td>\n",
       "      <td>NaN</td>\n",
       "      <td>NaN</td>\n",
       "      <td>NaN</td>\n",
       "    </tr>\n",
       "    <tr>\n",
       "      <th>3</th>\n",
       "      <td>LIDC-IDRI-0088</td>\n",
       "      <td>3</td>\n",
       "      <td>0</td>\n",
       "      <td>Uterine Cancer</td>\n",
       "      <td>0.0</td>\n",
       "      <td>0.0</td>\n",
       "      <td>NaN</td>\n",
       "      <td>NaN</td>\n",
       "      <td>NaN</td>\n",
       "      <td>NaN</td>\n",
       "      <td>NaN</td>\n",
       "      <td>NaN</td>\n",
       "      <td>NaN</td>\n",
       "      <td>NaN</td>\n",
       "    </tr>\n",
       "    <tr>\n",
       "      <th>4</th>\n",
       "      <td>LIDC-IDRI-0090</td>\n",
       "      <td>2</td>\n",
       "      <td>3</td>\n",
       "      <td>NSCLC</td>\n",
       "      <td>2.0</td>\n",
       "      <td>3.0</td>\n",
       "      <td>NaN</td>\n",
       "      <td>NaN</td>\n",
       "      <td>NaN</td>\n",
       "      <td>NaN</td>\n",
       "      <td>NaN</td>\n",
       "      <td>NaN</td>\n",
       "      <td>NaN</td>\n",
       "      <td>NaN</td>\n",
       "    </tr>\n",
       "  </tbody>\n",
       "</table>\n",
       "</div>"
      ],
      "text/plain": [
       "  TCIA Patient ID  \\\n",
       "0  LIDC-IDRI-0068   \n",
       "1  LIDC-IDRI-0071   \n",
       "2  LIDC-IDRI-0072   \n",
       "3  LIDC-IDRI-0088   \n",
       "4  LIDC-IDRI-0090   \n",
       "\n",
       "   Diagnosis at the Patient Level\\n0=Unknown\\n1=benign or non-malignant disease\\n2= malignant, primary lung cancer\\n3 = malignant metastatic\\n  \\\n",
       "0                                                  3                                                                                             \n",
       "1                                                  3                                                                                             \n",
       "2                                                  2                                                                                             \n",
       "3                                                  3                                                                                             \n",
       "4                                                  2                                                                                             \n",
       "\n",
       "   Diagnosis Method\\n0 = unknown\\n1 = review of radiological images to show 2 years of stable nodule\\n2 = biopsy\\n3 = surgical resection\\n4 = progression or response  \\\n",
       "0                                                  4                                                                                                                    \n",
       "1                                                  1                                                                                                                    \n",
       "2                                                  4                                                                                                                    \n",
       "3                                                  0                                                                                                                    \n",
       "4                                                  3                                                                                                                    \n",
       "\n",
       "  Primary tumor site for metastatic disease  \\\n",
       "0                        Head & Neck Cancer   \n",
       "1                              Head & Neck    \n",
       "2                               Lung Cancer   \n",
       "3                            Uterine Cancer   \n",
       "4                                     NSCLC   \n",
       "\n",
       "   Nodule 1\\nDiagnosis at the Nodule Level \\n0=Unknown\\n1=benign or non-malignant disease\\n2= malignant, primary lung cancer\\n3 = malignant metastatic)\\n  \\\n",
       "0                                                3.0                                                                                                        \n",
       "1                                                1.0                                                                                                        \n",
       "2                                                1.0                                                                                                        \n",
       "3                                                0.0                                                                                                        \n",
       "4                                                2.0                                                                                                        \n",
       "\n",
       "   Nodule 1\\nDiagnosis Method at the Nodule Level\\n0 = unknown\\n1 = review of radiological images to show 2 years of stable nodule\\n2 = biopsy\\n3 = surgical resection\\n4 = progression or response\\n  \\\n",
       "0                                                4.0                                                                                                                                                    \n",
       "1                                                1.0                                                                                                                                                    \n",
       "2                                                4.0                                                                                                                                                    \n",
       "3                                                0.0                                                                                                                                                    \n",
       "4                                                3.0                                                                                                                                                    \n",
       "\n",
       "   Nodule 2\\nDiagnosis at the Nodule Level \\n0=Unknown\\n1=benign or non-malignant disease\\n2= malignant, primary lung cancer\\n3 = malignant metastatic)\\n  \\\n",
       "0                                                NaN                                                                                                        \n",
       "1                                                NaN                                                                                                        \n",
       "2                                                NaN                                                                                                        \n",
       "3                                                NaN                                                                                                        \n",
       "4                                                NaN                                                                                                        \n",
       "\n",
       "   Nodule 2\\nDiagnosis Method at the Nodule Level\\n0 = unknown\\n1 = review of radiological images to show 2 years of stable nodule\\n2 = biopsy\\n3 = surgical resection\\n4 = progression or response\\n  \\\n",
       "0                                                NaN                                                                                                                                                    \n",
       "1                                                NaN                                                                                                                                                    \n",
       "2                                                NaN                                                                                                                                                    \n",
       "3                                                NaN                                                                                                                                                    \n",
       "4                                                NaN                                                                                                                                                    \n",
       "\n",
       "  Nodule 3\\nDiagnosis at the Nodule Level \\n0=Unknown\\n1=benign or non-malignant disease\\n2= malignant, primary lung cancer\\n3 = malignant metastatic)\\n  \\\n",
       "0                                                NaN                                                                                                       \n",
       "1                                                NaN                                                                                                       \n",
       "2                                                NaN                                                                                                       \n",
       "3                                                NaN                                                                                                       \n",
       "4                                                NaN                                                                                                       \n",
       "\n",
       "  Nodule 3\\nDiagnosis Method at the Nodule Level\\n0 = unknown\\n1 = review of radiological images to show 2 years of stable nodule\\n2 = biopsy\\n3 = surgical resection\\n4 = progression or response\\n  \\\n",
       "0                                                NaN                                                                                                                                                   \n",
       "1                                                NaN                                                                                                                                                   \n",
       "2                                                NaN                                                                                                                                                   \n",
       "3                                                NaN                                                                                                                                                   \n",
       "4                                                NaN                                                                                                                                                   \n",
       "\n",
       "   Nodule 4\\nDiagnosis at the Nodule Level \\n0=Unknown\\n1=benign or non-malignant disease\\n2= malignant, primary lung cancer\\n3 = malignant metastatic)\\n  \\\n",
       "0                                                NaN                                                                                                        \n",
       "1                                                NaN                                                                                                        \n",
       "2                                                NaN                                                                                                        \n",
       "3                                                NaN                                                                                                        \n",
       "4                                                NaN                                                                                                        \n",
       "\n",
       "   Nodule 4\\nDiagnosis Method at the Nodule Level\\n0 = unknown\\n1 = review of radiological images to show 2 years of stable nodule\\n2 = biopsy\\n3 = surgical resection\\n4 = progression or response\\n  \\\n",
       "0                                                NaN                                                                                                                                                    \n",
       "1                                                NaN                                                                                                                                                    \n",
       "2                                                NaN                                                                                                                                                    \n",
       "3                                                NaN                                                                                                                                                    \n",
       "4                                                NaN                                                                                                                                                    \n",
       "\n",
       "   Nodule 5\\nDiagnosis at the Nodule Level \\n0=Unknown\\n1=benign or non-malignant disease\\n2= malignant, primary lung cancer\\n3 = malignant metastatic)\\n  \\\n",
       "0                                                NaN                                                                                                        \n",
       "1                                                NaN                                                                                                        \n",
       "2                                                NaN                                                                                                        \n",
       "3                                                NaN                                                                                                        \n",
       "4                                                NaN                                                                                                        \n",
       "\n",
       "   Nodule 5\\nDiagnosis Method at the Nodule Level\\n0 = unknown\\n1 = review of radiological images to show 2 years of stable nodule\\n2 = biopsy\\n3 = surgical resection\\n4 = progression or response\\n  \n",
       "0                                                NaN                                                                                                                                                   \n",
       "1                                                NaN                                                                                                                                                   \n",
       "2                                                NaN                                                                                                                                                   \n",
       "3                                                NaN                                                                                                                                                   \n",
       "4                                                NaN                                                                                                                                                   "
      ]
     },
     "execution_count": 4,
     "metadata": {},
     "output_type": "execute_result"
    }
   ],
   "source": [
    "raw = pd.read_excel(LIDC_DIR/\"tcia-diagnosis-data-2012-04-20.xls\")\n",
    "print(raw.shape)\n",
    "raw.head()"
   ]
  },
  {
   "cell_type": "code",
   "execution_count": 5,
   "metadata": {},
   "outputs": [
    {
     "data": {
      "text/plain": [
       "Index(['TCIA Patient ID',\n",
       "       'Diagnosis at the Patient Level\\n0=Unknown\\n1=benign or non-malignant disease\\n2= malignant, primary lung cancer\\n3 = malignant metastatic\\n',\n",
       "       'Diagnosis Method\\n0 = unknown\\n1 = review of radiological images to show 2 years of stable nodule\\n2 = biopsy\\n3 = surgical resection\\n4 = progression or response',\n",
       "       'Primary tumor site for metastatic disease',\n",
       "       'Nodule 1\\nDiagnosis at the Nodule Level \\n0=Unknown\\n1=benign or non-malignant disease\\n2= malignant, primary lung cancer\\n3 = malignant metastatic)\\n',\n",
       "       'Nodule 1\\nDiagnosis Method at the Nodule Level\\n0 = unknown\\n1 = review of radiological images to show 2 years of stable nodule\\n2 = biopsy\\n3 = surgical resection\\n4 = progression or response\\n',\n",
       "       'Nodule 2\\nDiagnosis at the Nodule Level \\n0=Unknown\\n1=benign or non-malignant disease\\n2= malignant, primary lung cancer\\n3 = malignant metastatic)\\n',\n",
       "       'Nodule 2\\nDiagnosis Method at the Nodule Level\\n0 = unknown\\n1 = review of radiological images to show 2 years of stable nodule\\n2 = biopsy\\n3 = surgical resection\\n4 = progression or response\\n',\n",
       "       'Nodule 3\\nDiagnosis at the Nodule Level \\n0=Unknown\\n1=benign or non-malignant disease\\n2= malignant, primary lung cancer\\n3 = malignant metastatic)\\n',\n",
       "       'Nodule 3\\nDiagnosis Method at the Nodule Level\\n0 = unknown\\n1 = review of radiological images to show 2 years of stable nodule\\n2 = biopsy\\n3 = surgical resection\\n4 = progression or response\\n',\n",
       "       'Nodule 4\\nDiagnosis at the Nodule Level \\n0=Unknown\\n1=benign or non-malignant disease\\n2= malignant, primary lung cancer\\n3 = malignant metastatic)\\n',\n",
       "       'Nodule 4\\nDiagnosis Method at the Nodule Level\\n0 = unknown\\n1 = review of radiological images to show 2 years of stable nodule\\n2 = biopsy\\n3 = surgical resection\\n4 = progression or response\\n',\n",
       "       'Nodule 5\\nDiagnosis at the Nodule Level \\n0=Unknown\\n1=benign or non-malignant disease\\n2= malignant, primary lung cancer\\n3 = malignant metastatic)\\n',\n",
       "       'Nodule 5\\nDiagnosis Method at the Nodule Level\\n0 = unknown\\n1 = review of radiological images to show 2 years of stable nodule\\n2 = biopsy\\n3 = surgical resection\\n4 = progression or response\\n'],\n",
       "      dtype='object')"
      ]
     },
     "execution_count": 5,
     "metadata": {},
     "output_type": "execute_result"
    }
   ],
   "source": [
    "raw.columns"
   ]
  },
  {
   "cell_type": "markdown",
   "metadata": {},
   "source": [
    "### Store most relevant data in new dataframe"
   ]
  },
  {
   "cell_type": "code",
   "execution_count": 6,
   "metadata": {},
   "outputs": [
    {
     "data": {
      "text/plain": [
       "(0, 4)"
      ]
     },
     "execution_count": 6,
     "metadata": {},
     "output_type": "execute_result"
    }
   ],
   "source": [
    "pat_meta = pd.DataFrame(columns=[\"PatientID\", \"Diagnosis\", \"DiagnosisMethod\", \"PrimaryTumorSiteMetastaticDisease\"])\n",
    "pat_meta.shape"
   ]
  },
  {
   "cell_type": "code",
   "execution_count": 7,
   "metadata": {},
   "outputs": [],
   "source": [
    "pat_meta[\"PatientID\"] = raw[\"TCIA Patient ID\"].copy()\n",
    "pat_meta[\"Diagnosis\"] = raw[\"Diagnosis at the Patient Level\\n0=Unknown\\n1=benign or non-malignant disease\\n2= malignant, primary lung cancer\\n3 = malignant metastatic\\n\"].copy()\n",
    "pat_meta[\"DiagnosisMethod\"] = raw[\"Diagnosis Method\\n0 = unknown\\n1 = review of radiological images to show 2 years of stable nodule\\n2 = biopsy\\n3 = surgical resection\\n4 = progression or response\"].copy()\n",
    "pat_meta[\"PrimaryTumorSiteMetastaticDisease\"] = raw[\"Primary tumor site for metastatic disease\"].copy()"
   ]
  },
  {
   "cell_type": "code",
   "execution_count": 8,
   "metadata": {},
   "outputs": [
    {
     "data": {
      "text/html": [
       "<div>\n",
       "<style scoped>\n",
       "    .dataframe tbody tr th:only-of-type {\n",
       "        vertical-align: middle;\n",
       "    }\n",
       "\n",
       "    .dataframe tbody tr th {\n",
       "        vertical-align: top;\n",
       "    }\n",
       "\n",
       "    .dataframe thead th {\n",
       "        text-align: right;\n",
       "    }\n",
       "</style>\n",
       "<table border=\"1\" class=\"dataframe\">\n",
       "  <thead>\n",
       "    <tr style=\"text-align: right;\">\n",
       "      <th></th>\n",
       "      <th>PatientID</th>\n",
       "      <th>Diagnosis</th>\n",
       "      <th>DiagnosisMethod</th>\n",
       "      <th>PrimaryTumorSiteMetastaticDisease</th>\n",
       "    </tr>\n",
       "  </thead>\n",
       "  <tbody>\n",
       "    <tr>\n",
       "      <th>0</th>\n",
       "      <td>LIDC-IDRI-0068</td>\n",
       "      <td>3</td>\n",
       "      <td>4</td>\n",
       "      <td>Head &amp; Neck Cancer</td>\n",
       "    </tr>\n",
       "    <tr>\n",
       "      <th>1</th>\n",
       "      <td>LIDC-IDRI-0071</td>\n",
       "      <td>3</td>\n",
       "      <td>1</td>\n",
       "      <td>Head &amp; Neck</td>\n",
       "    </tr>\n",
       "    <tr>\n",
       "      <th>2</th>\n",
       "      <td>LIDC-IDRI-0072</td>\n",
       "      <td>2</td>\n",
       "      <td>4</td>\n",
       "      <td>Lung Cancer</td>\n",
       "    </tr>\n",
       "    <tr>\n",
       "      <th>3</th>\n",
       "      <td>LIDC-IDRI-0088</td>\n",
       "      <td>3</td>\n",
       "      <td>0</td>\n",
       "      <td>Uterine Cancer</td>\n",
       "    </tr>\n",
       "    <tr>\n",
       "      <th>4</th>\n",
       "      <td>LIDC-IDRI-0090</td>\n",
       "      <td>2</td>\n",
       "      <td>3</td>\n",
       "      <td>NSCLC</td>\n",
       "    </tr>\n",
       "  </tbody>\n",
       "</table>\n",
       "</div>"
      ],
      "text/plain": [
       "        PatientID  Diagnosis  DiagnosisMethod  \\\n",
       "0  LIDC-IDRI-0068          3                4   \n",
       "1  LIDC-IDRI-0071          3                1   \n",
       "2  LIDC-IDRI-0072          2                4   \n",
       "3  LIDC-IDRI-0088          3                0   \n",
       "4  LIDC-IDRI-0090          2                3   \n",
       "\n",
       "  PrimaryTumorSiteMetastaticDisease  \n",
       "0                Head & Neck Cancer  \n",
       "1                      Head & Neck   \n",
       "2                       Lung Cancer  \n",
       "3                    Uterine Cancer  \n",
       "4                             NSCLC  "
      ]
     },
     "execution_count": 8,
     "metadata": {},
     "output_type": "execute_result"
    }
   ],
   "source": [
    "pat_meta.head()"
   ]
  },
  {
   "cell_type": "code",
   "execution_count": 9,
   "metadata": {},
   "outputs": [
    {
     "name": "stdout",
     "output_type": "stream",
     "text": [
      "Diagnosis at the Patient Level\n",
      "0=Unknown\n",
      "1=benign or non-malignant disease\n",
      "2= malignant, primary lung cancer\n",
      "3 = malignant metastatic\n",
      " \n",
      " Diagnosis Method\n",
      "0 = unknown\n",
      "1 = review of radiological images to show 2 years of stable nodule\n",
      "2 = biopsy\n",
      "3 = surgical resection\n",
      "4 = progression or response\n"
     ]
    }
   ],
   "source": [
    "print(raw.columns[1],\"\\n\", raw.columns[2])"
   ]
  },
  {
   "cell_type": "code",
   "execution_count": 10,
   "metadata": {},
   "outputs": [],
   "source": [
    "pat_meta.to_csv(LIDC_DIR/\"LIDC-IDRI/lidc_patient_meta.csv\", index=False)"
   ]
  },
  {
   "cell_type": "markdown",
   "metadata": {},
   "source": [
    "## Load scan metadata"
   ]
  },
  {
   "cell_type": "markdown",
   "metadata": {},
   "source": [
    "### Get list of patient IDs"
   ]
  },
  {
   "cell_type": "code",
   "execution_count": 11,
   "metadata": {},
   "outputs": [
    {
     "name": "stdout",
     "output_type": "stream",
     "text": [
      "1010\n"
     ]
    }
   ],
   "source": [
    "patients = [f for f in os.listdir(DICOM_DIR) if not f.startswith('.') and not f.endswith('.csv')]\n",
    "patients.sort()\n",
    "print(len(patients))"
   ]
  },
  {
   "cell_type": "markdown",
   "metadata": {},
   "source": [
    "### Get all scans for each patient"
   ]
  },
  {
   "cell_type": "code",
   "execution_count": 12,
   "metadata": {},
   "outputs": [
    {
     "data": {
      "text/plain": [
       "Scan(id=12,patient_id=LIDC-IDRI-0001)"
      ]
     },
     "execution_count": 12,
     "metadata": {},
     "output_type": "execute_result"
    }
   ],
   "source": [
    "scan = pl.query(pl.Scan).filter(pl.Scan.patient_id == patients[0]).all()[0]\n",
    "scan"
   ]
  },
  {
   "cell_type": "code",
   "execution_count": 13,
   "metadata": {},
   "outputs": [
    {
     "name": "stderr",
     "output_type": "stream",
     "text": [
      "100%|██████████| 1010/1010 [00:01<00:00, 515.31it/s]\n"
     ]
    },
    {
     "data": {
      "text/plain": [
       "1018"
      ]
     },
     "execution_count": 13,
     "metadata": {},
     "output_type": "execute_result"
    }
   ],
   "source": [
    "scans = []\n",
    "for pid in tqdm(patients):\n",
    "    pscans = pl.query(pl.Scan).filter(pl.Scan.patient_id == pid).all()\n",
    "    scans += pscans\n",
    "len(scans)"
   ]
  },
  {
   "cell_type": "markdown",
   "metadata": {},
   "source": [
    "### Extract metadata from scans"
   ]
  },
  {
   "cell_type": "code",
   "execution_count": 14,
   "metadata": {},
   "outputs": [],
   "source": [
    "def get_scan_meta(scan):\n",
    "    meta = {\n",
    "        \"StudyID\": scan.study_instance_uid,\n",
    "        \"SeriesID\": scan.series_instance_uid,\n",
    "        \"PatientID\": scan.patient_id,\n",
    "        \"SliceThickness\": scan.slice_thickness,\n",
    "        \"SliceSpacing\": scan.slice_spacing,\n",
    "        \"PixelSpacing\": scan.pixel_spacing,\n",
    "        \"ContrastUsed\": scan.contrast_used,\n",
    "    }\n",
    "    return meta"
   ]
  },
  {
   "cell_type": "code",
   "execution_count": 15,
   "metadata": {},
   "outputs": [
    {
     "data": {
      "text/plain": [
       "{'StudyID': '1.3.6.1.4.1.14519.5.2.1.6279.6001.298806137288633453246975630178',\n",
       " 'SeriesID': '1.3.6.1.4.1.14519.5.2.1.6279.6001.179049373636438705059720603192',\n",
       " 'PatientID': 'LIDC-IDRI-0001',\n",
       " 'SliceThickness': 2.5,\n",
       " 'SliceSpacing': 2.5,\n",
       " 'PixelSpacing': 0.703125,\n",
       " 'ContrastUsed': True}"
      ]
     },
     "execution_count": 15,
     "metadata": {},
     "output_type": "execute_result"
    }
   ],
   "source": [
    "get_scan_meta(scan)"
   ]
  },
  {
   "cell_type": "markdown",
   "metadata": {},
   "source": [
    "### Extract additional image metadata"
   ]
  },
  {
   "cell_type": "code",
   "execution_count": 16,
   "metadata": {},
   "outputs": [
    {
     "name": "stderr",
     "output_type": "stream",
     "text": [
      "100%|██████████| 1018/1018 [04:41<00:00,  3.62it/s]\n"
     ]
    }
   ],
   "source": [
    "# Question: can we assume that all images of a series have the same metadata?\n",
    "for s in tqdm(scans):\n",
    "    path = Path(s.get_path_to_dicom_files())\n",
    "    fnames = sorted([fname for fname in os.listdir(path) if fname.endswith('.dcm')])\n",
    "    dcm1 = dicom.dcmread(path/fnames[0])\n",
    "    dcm2 = dicom.dcmread(path/random.choice(fnames))\n",
    "    if not dcm1.PixelSpacing == dcm2.PixelSpacing:\n",
    "        print(\"Pixel Spacing\", s.patient_id, dcm1.PixelSpacing, dcm2.PixelSpacing)\n",
    "    if not dcm1.ImagePositionPatient[:2] == dcm2.ImagePositionPatient[:2]:\n",
    "        print(\"Image Position\", s.patient_id, dcm1.ImagePositionPatient, dcm2.ImagePositionPatient)\n",
    "    if not dcm1.ImageOrientationPatient == dcm2.ImageOrientationPatient:\n",
    "        print(\"Image Orientation\", s.patient_id, dcm1.ImageOrientationPatient, dcm2.ImageOrientationPatient)"
   ]
  },
  {
   "cell_type": "markdown",
   "metadata": {},
   "source": [
    "Thus, it's safe to assume that the first image of each series is representative of all images."
   ]
  },
  {
   "cell_type": "code",
   "execution_count": 17,
   "metadata": {},
   "outputs": [],
   "source": [
    "def get_img_meta(scan):\n",
    "    path = Path(scan.get_path_to_dicom_files())\n",
    "    fnames = sorted([fname for fname in os.listdir(path) if fname.endswith('.dcm')])\n",
    "    dcm = dicom.dcmread(path/fnames[0])\n",
    "    meta = {\n",
    "        \"ImagePositionPatient\": getattr(dcm, \"ImagePositionPatient\", np.nan),\n",
    "        \"ImageOrientationPatient\": getattr(dcm, \"ImageOrientationPatient\", np.nan),\n",
    "        \"Rows\": getattr(dcm, \"Rows\", np.nan),\n",
    "        \"Columns\": getattr(dcm, \"Columns\", np.nan),\n",
    "        \"RescaleIntercept\": getattr(dcm, \"RescaleIntercept\", np.nan),\n",
    "        \"RescaleSlope\": getattr(dcm, \"RescaleSlope\", np.nan),\n",
    "        \"WindowCenter\": getattr(dcm, \"WindowCenter\", np.nan),\n",
    "        \"WindowWidth\": getattr(dcm, \"WindowWidth\", np.nan),\n",
    "        \"BitsAllocated\": getattr(dcm, \"BitsAllocated\", np.nan),\n",
    "        \"PixelRepresentation\": getattr(dcm, \"PixelRepresentation\", np.nan),\n",
    "        \"Manufacturer\": getattr(dcm, \"Manufacturer\", \"\"),\n",
    "        \"ManufacturerModelName\": getattr(dcm, \"ManufacturerModelName\", \"\"),\n",
    "    }\n",
    "    return meta"
   ]
  },
  {
   "cell_type": "code",
   "execution_count": 18,
   "metadata": {},
   "outputs": [
    {
     "data": {
      "text/plain": [
       "{'ImagePositionPatient': [-166.000000, -171.699997, -10.000000],\n",
       " 'ImageOrientationPatient': [1.000000, 0.000000, 0.000000, 0.000000, 1.000000, 0.000000],\n",
       " 'Rows': 512,\n",
       " 'Columns': 512,\n",
       " 'RescaleIntercept': \"-1024.0\",\n",
       " 'RescaleSlope': \"1.0\",\n",
       " 'WindowCenter': \"-600.0\",\n",
       " 'WindowWidth': \"1600.0\",\n",
       " 'BitsAllocated': 16,\n",
       " 'PixelRepresentation': 1,\n",
       " 'Manufacturer': 'GE MEDICAL SYSTEMS',\n",
       " 'ManufacturerModelName': 'LightSpeed Plus'}"
      ]
     },
     "execution_count": 18,
     "metadata": {},
     "output_type": "execute_result"
    }
   ],
   "source": [
    "get_img_meta(scan)"
   ]
  },
  {
   "cell_type": "markdown",
   "metadata": {},
   "source": [
    "### Extract basic nodule metadata"
   ]
  },
  {
   "cell_type": "code",
   "execution_count": 19,
   "metadata": {},
   "outputs": [],
   "source": [
    "def get_nodule_meta(scan):\n",
    "    ann_clusters = scan.cluster_annotations(verbose=False)\n",
    "    maligs = [median_high([ann.malignancy for ann in cluster]) for cluster in ann_clusters]\n",
    "    meta = {\n",
    "        \"NumAnnotations\": len(scan.annotations),\n",
    "        \"NumNodules\": len(ann_clusters),\n",
    "        \"MaxMalignancy\": np.max(maligs) if len(maligs) > 0 else np.nan,\n",
    "    }\n",
    "    return meta"
   ]
  },
  {
   "cell_type": "code",
   "execution_count": 20,
   "metadata": {},
   "outputs": [
    {
     "data": {
      "text/plain": [
       "{'NumAnnotations': 4, 'NumNodules': 1, 'MaxMalignancy': 5}"
      ]
     },
     "execution_count": 20,
     "metadata": {},
     "output_type": "execute_result"
    }
   ],
   "source": [
    "get_nodule_meta(scan)"
   ]
  },
  {
   "cell_type": "markdown",
   "metadata": {},
   "source": [
    "### Putting it all together"
   ]
  },
  {
   "cell_type": "code",
   "execution_count": 21,
   "metadata": {},
   "outputs": [
    {
     "name": "stderr",
     "output_type": "stream",
     "text": [
      "100%|██████████| 1018/1018 [10:18<00:00,  1.65it/s]\n"
     ]
    },
    {
     "data": {
      "text/plain": [
       "1018"
      ]
     },
     "execution_count": 21,
     "metadata": {},
     "output_type": "execute_result"
    }
   ],
   "source": [
    "data = []\n",
    "for scan in tqdm(scans):\n",
    "    meta = {}\n",
    "    scan_meta = get_scan_meta(scan)\n",
    "    meta.update(scan_meta)\n",
    "    img_meta = get_img_meta(scan)\n",
    "    meta.update(img_meta)\n",
    "    nodule_meta = get_nodule_meta(scan)\n",
    "    meta.update(nodule_meta)\n",
    "    data.append(meta)\n",
    "len(data)"
   ]
  },
  {
   "cell_type": "code",
   "execution_count": 22,
   "metadata": {},
   "outputs": [
    {
     "data": {
      "text/plain": [
       "(1018, 22)"
      ]
     },
     "execution_count": 22,
     "metadata": {},
     "output_type": "execute_result"
    }
   ],
   "source": [
    "df = pd.DataFrame(data=data)\n",
    "df.shape"
   ]
  },
  {
   "cell_type": "code",
   "execution_count": 23,
   "metadata": {},
   "outputs": [
    {
     "data": {
      "text/html": [
       "<div>\n",
       "<style scoped>\n",
       "    .dataframe tbody tr th:only-of-type {\n",
       "        vertical-align: middle;\n",
       "    }\n",
       "\n",
       "    .dataframe tbody tr th {\n",
       "        vertical-align: top;\n",
       "    }\n",
       "\n",
       "    .dataframe thead th {\n",
       "        text-align: right;\n",
       "    }\n",
       "</style>\n",
       "<table border=\"1\" class=\"dataframe\">\n",
       "  <thead>\n",
       "    <tr style=\"text-align: right;\">\n",
       "      <th></th>\n",
       "      <th>StudyID</th>\n",
       "      <th>SeriesID</th>\n",
       "      <th>PatientID</th>\n",
       "      <th>SliceThickness</th>\n",
       "      <th>SliceSpacing</th>\n",
       "      <th>PixelSpacing</th>\n",
       "      <th>ContrastUsed</th>\n",
       "      <th>ImagePositionPatient</th>\n",
       "      <th>ImageOrientationPatient</th>\n",
       "      <th>Rows</th>\n",
       "      <th>...</th>\n",
       "      <th>RescaleSlope</th>\n",
       "      <th>WindowCenter</th>\n",
       "      <th>WindowWidth</th>\n",
       "      <th>BitsAllocated</th>\n",
       "      <th>PixelRepresentation</th>\n",
       "      <th>Manufacturer</th>\n",
       "      <th>ManufacturerModelName</th>\n",
       "      <th>NumAnnotations</th>\n",
       "      <th>NumNodules</th>\n",
       "      <th>MaxMalignancy</th>\n",
       "    </tr>\n",
       "  </thead>\n",
       "  <tbody>\n",
       "    <tr>\n",
       "      <th>0</th>\n",
       "      <td>1.3.6.1.4.1.14519.5.2.1.6279.6001.298806137288...</td>\n",
       "      <td>1.3.6.1.4.1.14519.5.2.1.6279.6001.179049373636...</td>\n",
       "      <td>LIDC-IDRI-0001</td>\n",
       "      <td>2.50</td>\n",
       "      <td>2.50</td>\n",
       "      <td>0.703125</td>\n",
       "      <td>True</td>\n",
       "      <td>[-166.000000, -171.699997, -10.000000]</td>\n",
       "      <td>[1.000000, 0.000000, 0.000000, 0.000000, 1.000...</td>\n",
       "      <td>512</td>\n",
       "      <td>...</td>\n",
       "      <td>1.0</td>\n",
       "      <td>-600.0</td>\n",
       "      <td>1600.0</td>\n",
       "      <td>16</td>\n",
       "      <td>1</td>\n",
       "      <td>GE MEDICAL SYSTEMS</td>\n",
       "      <td>LightSpeed Plus</td>\n",
       "      <td>4</td>\n",
       "      <td>1</td>\n",
       "      <td>5.0</td>\n",
       "    </tr>\n",
       "    <tr>\n",
       "      <th>1</th>\n",
       "      <td>1.3.6.1.4.1.14519.5.2.1.6279.6001.490157381160...</td>\n",
       "      <td>1.3.6.1.4.1.14519.5.2.1.6279.6001.619372068417...</td>\n",
       "      <td>LIDC-IDRI-0002</td>\n",
       "      <td>1.25</td>\n",
       "      <td>1.25</td>\n",
       "      <td>0.681641</td>\n",
       "      <td>False</td>\n",
       "      <td>[-175.500000, -174.500000, -9.500000]</td>\n",
       "      <td>[1.000000, 0.000000, 0.000000, 0.000000, 1.000...</td>\n",
       "      <td>512</td>\n",
       "      <td>...</td>\n",
       "      <td>1.0</td>\n",
       "      <td>40.0</td>\n",
       "      <td>350.0</td>\n",
       "      <td>16</td>\n",
       "      <td>1</td>\n",
       "      <td>GE MEDICAL SYSTEMS</td>\n",
       "      <td>LightSpeed16</td>\n",
       "      <td>2</td>\n",
       "      <td>1</td>\n",
       "      <td>5.0</td>\n",
       "    </tr>\n",
       "    <tr>\n",
       "      <th>2</th>\n",
       "      <td>1.3.6.1.4.1.14519.5.2.1.6279.6001.101370605276...</td>\n",
       "      <td>1.3.6.1.4.1.14519.5.2.1.6279.6001.170706757615...</td>\n",
       "      <td>LIDC-IDRI-0003</td>\n",
       "      <td>2.50</td>\n",
       "      <td>2.50</td>\n",
       "      <td>0.820312</td>\n",
       "      <td>True</td>\n",
       "      <td>[-228.800003, -210.000000, -31.500000]</td>\n",
       "      <td>[1.000000, 0.000000, 0.000000, 0.000000, 1.000...</td>\n",
       "      <td>512</td>\n",
       "      <td>...</td>\n",
       "      <td>1.0</td>\n",
       "      <td>-600.0</td>\n",
       "      <td>1600.0</td>\n",
       "      <td>16</td>\n",
       "      <td>1</td>\n",
       "      <td>GE MEDICAL SYSTEMS</td>\n",
       "      <td>LightSpeed16</td>\n",
       "      <td>13</td>\n",
       "      <td>4</td>\n",
       "      <td>5.0</td>\n",
       "    </tr>\n",
       "    <tr>\n",
       "      <th>3</th>\n",
       "      <td>1.3.6.1.4.1.14519.5.2.1.6279.6001.191425307197...</td>\n",
       "      <td>1.3.6.1.4.1.14519.5.2.1.6279.6001.323541312620...</td>\n",
       "      <td>LIDC-IDRI-0004</td>\n",
       "      <td>1.25</td>\n",
       "      <td>1.25</td>\n",
       "      <td>0.822266</td>\n",
       "      <td>True</td>\n",
       "      <td>[-234.800003, -170.500000, -25.000000]</td>\n",
       "      <td>[1.000000, 0.000000, 0.000000, 0.000000, 1.000...</td>\n",
       "      <td>512</td>\n",
       "      <td>...</td>\n",
       "      <td>1.0</td>\n",
       "      <td>40.0</td>\n",
       "      <td>400.0</td>\n",
       "      <td>16</td>\n",
       "      <td>1</td>\n",
       "      <td>GE MEDICAL SYSTEMS</td>\n",
       "      <td>LightSpeed16</td>\n",
       "      <td>4</td>\n",
       "      <td>1</td>\n",
       "      <td>1.0</td>\n",
       "    </tr>\n",
       "    <tr>\n",
       "      <th>4</th>\n",
       "      <td>1.3.6.1.4.1.14519.5.2.1.6279.6001.190188259083...</td>\n",
       "      <td>1.3.6.1.4.1.14519.5.2.1.6279.6001.129007566048...</td>\n",
       "      <td>LIDC-IDRI-0005</td>\n",
       "      <td>2.50</td>\n",
       "      <td>2.50</td>\n",
       "      <td>0.664062</td>\n",
       "      <td>True</td>\n",
       "      <td>[-163.300003, -170.000000, -10.045000]</td>\n",
       "      <td>[1.000000, 0.000000, 0.000000, 0.000000, 1.000...</td>\n",
       "      <td>512</td>\n",
       "      <td>...</td>\n",
       "      <td>1.0</td>\n",
       "      <td>-600.0</td>\n",
       "      <td>1600.0</td>\n",
       "      <td>16</td>\n",
       "      <td>1</td>\n",
       "      <td>GE MEDICAL SYSTEMS</td>\n",
       "      <td>LightSpeed Plus</td>\n",
       "      <td>9</td>\n",
       "      <td>3</td>\n",
       "      <td>3.0</td>\n",
       "    </tr>\n",
       "  </tbody>\n",
       "</table>\n",
       "<p>5 rows × 22 columns</p>\n",
       "</div>"
      ],
      "text/plain": [
       "                                             StudyID  \\\n",
       "0  1.3.6.1.4.1.14519.5.2.1.6279.6001.298806137288...   \n",
       "1  1.3.6.1.4.1.14519.5.2.1.6279.6001.490157381160...   \n",
       "2  1.3.6.1.4.1.14519.5.2.1.6279.6001.101370605276...   \n",
       "3  1.3.6.1.4.1.14519.5.2.1.6279.6001.191425307197...   \n",
       "4  1.3.6.1.4.1.14519.5.2.1.6279.6001.190188259083...   \n",
       "\n",
       "                                            SeriesID       PatientID  \\\n",
       "0  1.3.6.1.4.1.14519.5.2.1.6279.6001.179049373636...  LIDC-IDRI-0001   \n",
       "1  1.3.6.1.4.1.14519.5.2.1.6279.6001.619372068417...  LIDC-IDRI-0002   \n",
       "2  1.3.6.1.4.1.14519.5.2.1.6279.6001.170706757615...  LIDC-IDRI-0003   \n",
       "3  1.3.6.1.4.1.14519.5.2.1.6279.6001.323541312620...  LIDC-IDRI-0004   \n",
       "4  1.3.6.1.4.1.14519.5.2.1.6279.6001.129007566048...  LIDC-IDRI-0005   \n",
       "\n",
       "   SliceThickness  SliceSpacing  PixelSpacing  ContrastUsed  \\\n",
       "0            2.50          2.50      0.703125          True   \n",
       "1            1.25          1.25      0.681641         False   \n",
       "2            2.50          2.50      0.820312          True   \n",
       "3            1.25          1.25      0.822266          True   \n",
       "4            2.50          2.50      0.664062          True   \n",
       "\n",
       "                     ImagePositionPatient  \\\n",
       "0  [-166.000000, -171.699997, -10.000000]   \n",
       "1   [-175.500000, -174.500000, -9.500000]   \n",
       "2  [-228.800003, -210.000000, -31.500000]   \n",
       "3  [-234.800003, -170.500000, -25.000000]   \n",
       "4  [-163.300003, -170.000000, -10.045000]   \n",
       "\n",
       "                             ImageOrientationPatient  Rows  ...  RescaleSlope  \\\n",
       "0  [1.000000, 0.000000, 0.000000, 0.000000, 1.000...   512  ...           1.0   \n",
       "1  [1.000000, 0.000000, 0.000000, 0.000000, 1.000...   512  ...           1.0   \n",
       "2  [1.000000, 0.000000, 0.000000, 0.000000, 1.000...   512  ...           1.0   \n",
       "3  [1.000000, 0.000000, 0.000000, 0.000000, 1.000...   512  ...           1.0   \n",
       "4  [1.000000, 0.000000, 0.000000, 0.000000, 1.000...   512  ...           1.0   \n",
       "\n",
       "   WindowCenter  WindowWidth BitsAllocated PixelRepresentation  \\\n",
       "0        -600.0       1600.0            16                   1   \n",
       "1          40.0        350.0            16                   1   \n",
       "2        -600.0       1600.0            16                   1   \n",
       "3          40.0        400.0            16                   1   \n",
       "4        -600.0       1600.0            16                   1   \n",
       "\n",
       "         Manufacturer  ManufacturerModelName NumAnnotations NumNodules  \\\n",
       "0  GE MEDICAL SYSTEMS        LightSpeed Plus              4          1   \n",
       "1  GE MEDICAL SYSTEMS           LightSpeed16              2          1   \n",
       "2  GE MEDICAL SYSTEMS           LightSpeed16             13          4   \n",
       "3  GE MEDICAL SYSTEMS           LightSpeed16              4          1   \n",
       "4  GE MEDICAL SYSTEMS        LightSpeed Plus              9          3   \n",
       "\n",
       "   MaxMalignancy  \n",
       "0            5.0  \n",
       "1            5.0  \n",
       "2            5.0  \n",
       "3            1.0  \n",
       "4            3.0  \n",
       "\n",
       "[5 rows x 22 columns]"
      ]
     },
     "execution_count": 23,
     "metadata": {},
     "output_type": "execute_result"
    }
   ],
   "source": [
    "df.head()"
   ]
  },
  {
   "cell_type": "code",
   "execution_count": 24,
   "metadata": {},
   "outputs": [],
   "source": [
    "df.to_csv(LIDC_DIR/\"LIDC-IDRI/lidc_scan_meta.csv\", index=False)"
   ]
  },
  {
   "cell_type": "markdown",
   "metadata": {},
   "source": [
    "## Load nodule metadata"
   ]
  },
  {
   "cell_type": "code",
   "execution_count": 42,
   "metadata": {},
   "outputs": [],
   "source": [
    "def detailed_nodule_meta(scan):\n",
    "    ann_clusters = scan.cluster_annotations(verbose=False)\n",
    "    meta = []\n",
    "    for i, cluster in enumerate(ann_clusters):\n",
    "        nod_meta = {\n",
    "            'PatientID': scan.patient_id,\n",
    "            'StudyID': scan.study_instance_uid,\n",
    "            'SeriesID': scan.series_instance_uid,\n",
    "            'NoduleID': i,\n",
    "            'NumAnnotations': len(cluster),\n",
    "            'Diameter': np.mean([ann.diameter for ann in cluster]),\n",
    "            'SurfaceArea': np.mean([ann.surface_area for ann in cluster]),\n",
    "            'Volume': np.mean([ann.volume for ann in cluster]),\n",
    "            'Malignancy': median_high([ann.malignancy for ann in cluster]),\n",
    "            'Texture': median_high([ann.texture for ann in cluster]),\n",
    "            'Spiculation': median_high([ann.spiculation for ann in cluster]),\n",
    "            'Lobulation': median_high([ann.lobulation for ann in cluster]),\n",
    "            'Margin': median_high([ann.margin for ann in cluster]),\n",
    "            'Sphericity': median_high([ann.sphericity for ann in cluster]),\n",
    "            'Calcification': median_high([ann.calcification for ann in cluster]),\n",
    "            'InternalStructure': median_high([ann.internalStructure for ann in cluster]),\n",
    "            'Subtlety': median_high([ann.subtlety for ann in cluster]),\n",
    "        }\n",
    "        meta.append(nod_meta)\n",
    "    return meta"
   ]
  },
  {
   "cell_type": "code",
   "execution_count": 43,
   "metadata": {},
   "outputs": [
    {
     "data": {
      "text/plain": [
       "[{'PatientID': 'LIDC-IDRI-1012',\n",
       "  'StudyID': '1.3.6.1.4.1.14519.5.2.1.6279.6001.676549258486738448212921834668',\n",
       "  'SeriesID': '1.3.6.1.4.1.14519.5.2.1.6279.6001.153646219551578201092527860224',\n",
       "  'NoduleID': 0,\n",
       "  'NumAnnotations': 4,\n",
       "  'Diameter': 9.267563364103658,\n",
       "  'SurfaceArea': 187.58368677254273,\n",
       "  'Volume': 171.16143781863138,\n",
       "  'Malignancy': 2,\n",
       "  'Texture': 5,\n",
       "  'Spiculation': 1,\n",
       "  'Lobulation': 1,\n",
       "  'Margin': 4,\n",
       "  'Sphericity': 4,\n",
       "  'Calcification': 6,\n",
       "  'InternalStructure': 1,\n",
       "  'Subtlety': 4}]"
      ]
     },
     "execution_count": 43,
     "metadata": {},
     "output_type": "execute_result"
    }
   ],
   "source": [
    "detailed_nodule_meta(scan)"
   ]
  },
  {
   "cell_type": "code",
   "execution_count": 52,
   "metadata": {},
   "outputs": [
    {
     "name": "stderr",
     "output_type": "stream",
     "text": [
      "100%|██████████| 1018/1018 [05:02<00:00,  3.36it/s]\n"
     ]
    }
   ],
   "source": [
    "data = []\n",
    "for scan in tqdm(scans):\n",
    "    meta = detailed_nodule_meta(scan)\n",
    "    data += meta"
   ]
  },
  {
   "cell_type": "code",
   "execution_count": 53,
   "metadata": {},
   "outputs": [
    {
     "data": {
      "text/plain": [
       "(2651, 17)"
      ]
     },
     "execution_count": 53,
     "metadata": {},
     "output_type": "execute_result"
    }
   ],
   "source": [
    "df = pd.DataFrame(data=data)\n",
    "df.shape"
   ]
  },
  {
   "cell_type": "code",
   "execution_count": 54,
   "metadata": {},
   "outputs": [
    {
     "data": {
      "text/html": [
       "<div>\n",
       "<style scoped>\n",
       "    .dataframe tbody tr th:only-of-type {\n",
       "        vertical-align: middle;\n",
       "    }\n",
       "\n",
       "    .dataframe tbody tr th {\n",
       "        vertical-align: top;\n",
       "    }\n",
       "\n",
       "    .dataframe thead th {\n",
       "        text-align: right;\n",
       "    }\n",
       "</style>\n",
       "<table border=\"1\" class=\"dataframe\">\n",
       "  <thead>\n",
       "    <tr style=\"text-align: right;\">\n",
       "      <th></th>\n",
       "      <th>PatientID</th>\n",
       "      <th>StudyID</th>\n",
       "      <th>SeriesID</th>\n",
       "      <th>NoduleID</th>\n",
       "      <th>NumAnnotations</th>\n",
       "      <th>Diameter</th>\n",
       "      <th>SurfaceArea</th>\n",
       "      <th>Volume</th>\n",
       "      <th>Malignancy</th>\n",
       "      <th>Texture</th>\n",
       "      <th>Spiculation</th>\n",
       "      <th>Lobulation</th>\n",
       "      <th>Margin</th>\n",
       "      <th>Sphericity</th>\n",
       "      <th>Calcification</th>\n",
       "      <th>InternalStructure</th>\n",
       "      <th>Subtlety</th>\n",
       "    </tr>\n",
       "  </thead>\n",
       "  <tbody>\n",
       "    <tr>\n",
       "      <th>0</th>\n",
       "      <td>LIDC-IDRI-0001</td>\n",
       "      <td>1.3.6.1.4.1.14519.5.2.1.6279.6001.298806137288...</td>\n",
       "      <td>1.3.6.1.4.1.14519.5.2.1.6279.6001.179049373636...</td>\n",
       "      <td>0</td>\n",
       "      <td>4</td>\n",
       "      <td>32.755812</td>\n",
       "      <td>2491.466573</td>\n",
       "      <td>6989.673615</td>\n",
       "      <td>5</td>\n",
       "      <td>5</td>\n",
       "      <td>5</td>\n",
       "      <td>3</td>\n",
       "      <td>4</td>\n",
       "      <td>4</td>\n",
       "      <td>6</td>\n",
       "      <td>1</td>\n",
       "      <td>5</td>\n",
       "    </tr>\n",
       "    <tr>\n",
       "      <th>1</th>\n",
       "      <td>LIDC-IDRI-0002</td>\n",
       "      <td>1.3.6.1.4.1.14519.5.2.1.6279.6001.490157381160...</td>\n",
       "      <td>1.3.6.1.4.1.14519.5.2.1.6279.6001.619372068417...</td>\n",
       "      <td>0</td>\n",
       "      <td>2</td>\n",
       "      <td>30.781671</td>\n",
       "      <td>2807.198994</td>\n",
       "      <td>7244.667508</td>\n",
       "      <td>5</td>\n",
       "      <td>2</td>\n",
       "      <td>1</td>\n",
       "      <td>1</td>\n",
       "      <td>2</td>\n",
       "      <td>5</td>\n",
       "      <td>6</td>\n",
       "      <td>1</td>\n",
       "      <td>2</td>\n",
       "    </tr>\n",
       "    <tr>\n",
       "      <th>2</th>\n",
       "      <td>LIDC-IDRI-0003</td>\n",
       "      <td>1.3.6.1.4.1.14519.5.2.1.6279.6001.101370605276...</td>\n",
       "      <td>1.3.6.1.4.1.14519.5.2.1.6279.6001.170706757615...</td>\n",
       "      <td>0</td>\n",
       "      <td>1</td>\n",
       "      <td>31.664468</td>\n",
       "      <td>1996.252117</td>\n",
       "      <td>4731.410934</td>\n",
       "      <td>2</td>\n",
       "      <td>1</td>\n",
       "      <td>1</td>\n",
       "      <td>1</td>\n",
       "      <td>2</td>\n",
       "      <td>5</td>\n",
       "      <td>6</td>\n",
       "      <td>1</td>\n",
       "      <td>1</td>\n",
       "    </tr>\n",
       "    <tr>\n",
       "      <th>3</th>\n",
       "      <td>LIDC-IDRI-0003</td>\n",
       "      <td>1.3.6.1.4.1.14519.5.2.1.6279.6001.101370605276...</td>\n",
       "      <td>1.3.6.1.4.1.14519.5.2.1.6279.6001.170706757615...</td>\n",
       "      <td>1</td>\n",
       "      <td>4</td>\n",
       "      <td>31.001964</td>\n",
       "      <td>2225.677350</td>\n",
       "      <td>6519.463698</td>\n",
       "      <td>5</td>\n",
       "      <td>4</td>\n",
       "      <td>3</td>\n",
       "      <td>2</td>\n",
       "      <td>3</td>\n",
       "      <td>4</td>\n",
       "      <td>6</td>\n",
       "      <td>1</td>\n",
       "      <td>5</td>\n",
       "    </tr>\n",
       "    <tr>\n",
       "      <th>4</th>\n",
       "      <td>LIDC-IDRI-0003</td>\n",
       "      <td>1.3.6.1.4.1.14519.5.2.1.6279.6001.101370605276...</td>\n",
       "      <td>1.3.6.1.4.1.14519.5.2.1.6279.6001.170706757615...</td>\n",
       "      <td>2</td>\n",
       "      <td>4</td>\n",
       "      <td>13.309155</td>\n",
       "      <td>321.183599</td>\n",
       "      <td>472.089669</td>\n",
       "      <td>4</td>\n",
       "      <td>5</td>\n",
       "      <td>2</td>\n",
       "      <td>2</td>\n",
       "      <td>4</td>\n",
       "      <td>4</td>\n",
       "      <td>6</td>\n",
       "      <td>1</td>\n",
       "      <td>4</td>\n",
       "    </tr>\n",
       "  </tbody>\n",
       "</table>\n",
       "</div>"
      ],
      "text/plain": [
       "        PatientID                                            StudyID  \\\n",
       "0  LIDC-IDRI-0001  1.3.6.1.4.1.14519.5.2.1.6279.6001.298806137288...   \n",
       "1  LIDC-IDRI-0002  1.3.6.1.4.1.14519.5.2.1.6279.6001.490157381160...   \n",
       "2  LIDC-IDRI-0003  1.3.6.1.4.1.14519.5.2.1.6279.6001.101370605276...   \n",
       "3  LIDC-IDRI-0003  1.3.6.1.4.1.14519.5.2.1.6279.6001.101370605276...   \n",
       "4  LIDC-IDRI-0003  1.3.6.1.4.1.14519.5.2.1.6279.6001.101370605276...   \n",
       "\n",
       "                                            SeriesID  NoduleID  \\\n",
       "0  1.3.6.1.4.1.14519.5.2.1.6279.6001.179049373636...         0   \n",
       "1  1.3.6.1.4.1.14519.5.2.1.6279.6001.619372068417...         0   \n",
       "2  1.3.6.1.4.1.14519.5.2.1.6279.6001.170706757615...         0   \n",
       "3  1.3.6.1.4.1.14519.5.2.1.6279.6001.170706757615...         1   \n",
       "4  1.3.6.1.4.1.14519.5.2.1.6279.6001.170706757615...         2   \n",
       "\n",
       "   NumAnnotations   Diameter  SurfaceArea       Volume  Malignancy  Texture  \\\n",
       "0               4  32.755812  2491.466573  6989.673615           5        5   \n",
       "1               2  30.781671  2807.198994  7244.667508           5        2   \n",
       "2               1  31.664468  1996.252117  4731.410934           2        1   \n",
       "3               4  31.001964  2225.677350  6519.463698           5        4   \n",
       "4               4  13.309155   321.183599   472.089669           4        5   \n",
       "\n",
       "   Spiculation  Lobulation  Margin  Sphericity  Calcification  \\\n",
       "0            5           3       4           4              6   \n",
       "1            1           1       2           5              6   \n",
       "2            1           1       2           5              6   \n",
       "3            3           2       3           4              6   \n",
       "4            2           2       4           4              6   \n",
       "\n",
       "   InternalStructure  Subtlety  \n",
       "0                  1         5  \n",
       "1                  1         2  \n",
       "2                  1         1  \n",
       "3                  1         5  \n",
       "4                  1         4  "
      ]
     },
     "execution_count": 54,
     "metadata": {},
     "output_type": "execute_result"
    }
   ],
   "source": [
    "df.head()"
   ]
  },
  {
   "cell_type": "code",
   "execution_count": 55,
   "metadata": {},
   "outputs": [],
   "source": [
    "df.to_csv(DICOM_DIR/\"lidc_nodule_meta.csv\", index=False)"
   ]
  },
  {
   "cell_type": "code",
   "execution_count": null,
   "metadata": {},
   "outputs": [],
   "source": []
  }
 ],
 "metadata": {
  "kernelspec": {
   "display_name": "Python 3",
   "language": "python",
   "name": "python3"
  },
  "language_info": {
   "codemirror_mode": {
    "name": "ipython",
    "version": 3
   },
   "file_extension": ".py",
   "mimetype": "text/x-python",
   "name": "python",
   "nbconvert_exporter": "python",
   "pygments_lexer": "ipython3",
   "version": "3.8.5"
  },
  "toc": {
   "base_numbering": 1,
   "nav_menu": {
    "height": "246px",
    "width": "316px"
   },
   "number_sections": true,
   "sideBar": true,
   "skip_h1_title": true,
   "title_cell": "Table of Contents",
   "title_sidebar": "Contents",
   "toc_cell": false,
   "toc_position": {},
   "toc_section_display": true,
   "toc_window_display": false
  }
 },
 "nbformat": 4,
 "nbformat_minor": 4
}
