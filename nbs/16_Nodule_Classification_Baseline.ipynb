{
 "cells": [
  {
   "cell_type": "markdown",
   "id": "20487ae3",
   "metadata": {},
   "source": [
    "# Train baseline model for nodule classification"
   ]
  },
  {
   "cell_type": "markdown",
   "id": "2a60dae9",
   "metadata": {},
   "source": [
    "## Setup environment"
   ]
  },
  {
   "cell_type": "markdown",
   "id": "c53cf7b4",
   "metadata": {},
   "source": [
    "### [Optional]: Install dependencies"
   ]
  },
  {
   "cell_type": "code",
   "execution_count": null,
   "id": "b973c68e",
   "metadata": {},
   "outputs": [],
   "source": [
    "!pip install \"monai[nibabel,skimage,pillow,tqdm]\" pytorch_lightning wandb"
   ]
  },
  {
   "cell_type": "markdown",
   "id": "5b49cb9a",
   "metadata": {},
   "source": [
    "### [Optional]: Download data"
   ]
  },
  {
   "cell_type": "code",
   "execution_count": null,
   "id": "26158b5f",
   "metadata": {},
   "outputs": [],
   "source": [
    "!mkdir -p ../data/full/processed/images ../data/full/processed/masks ../data/full/cache"
   ]
  },
  {
   "cell_type": "code",
   "execution_count": null,
   "id": "41107fbf",
   "metadata": {},
   "outputs": [],
   "source": [
    "!gsutil cp gs://lung-cancer-detection/lidc-idri/processed/nodules.zip ../data/full/processed"
   ]
  },
  {
   "cell_type": "code",
   "execution_count": null,
   "id": "fda04129",
   "metadata": {},
   "outputs": [],
   "source": [
    "!gsutil cp gs://lung-cancer-detection/lidc-idri/processed/meta.zip ../data/full/processed"
   ]
  },
  {
   "cell_type": "code",
   "execution_count": null,
   "id": "a5030704",
   "metadata": {},
   "outputs": [],
   "source": [
    "!gsutil cp gs://lung-cancer-detection/lidc-idri/splits.zip ../data/full/"
   ]
  },
  {
   "cell_type": "code",
   "execution_count": null,
   "id": "96f61144",
   "metadata": {},
   "outputs": [],
   "source": [
    "!unzip ../data/full/processed/nodules.zip -d ../data/full/processed"
   ]
  },
  {
   "cell_type": "code",
   "execution_count": null,
   "id": "1d2051fc",
   "metadata": {},
   "outputs": [],
   "source": [
    "!unzip ../data/full/processed/meta.zip -d ../data/full/processed"
   ]
  },
  {
   "cell_type": "code",
   "execution_count": null,
   "id": "1b4b3052",
   "metadata": {},
   "outputs": [],
   "source": [
    "!unzip ../data/full/splits.zip -d ../data/full"
   ]
  },
  {
   "cell_type": "markdown",
   "id": "a176d724",
   "metadata": {},
   "source": [
    "### [Optional]: Enable module import"
   ]
  },
  {
   "cell_type": "code",
   "execution_count": null,
   "id": "28d7ad03",
   "metadata": {},
   "outputs": [],
   "source": [
    "!ln -s ./../lung_cancer_detection"
   ]
  },
  {
   "cell_type": "markdown",
   "id": "8c53f9bc",
   "metadata": {},
   "source": [
    "## Load modules and configuration"
   ]
  },
  {
   "cell_type": "markdown",
   "id": "b40972df",
   "metadata": {},
   "source": [
    "### Import modules"
   ]
  },
  {
   "cell_type": "code",
   "execution_count": 1,
   "id": "79b898ba",
   "metadata": {},
   "outputs": [],
   "source": [
    "from pathlib import Path\n",
    "\n",
    "import numpy as np\n",
    "import wandb\n",
    "import torch\n",
    "from monai.networks.nets import DenseNet\n",
    "from pytorch_lightning import Trainer\n",
    "from pytorch_lightning.callbacks import EarlyStopping, ModelCheckpoint\n",
    "from pytorch_lightning.loggers import WandbLogger\n",
    "\n",
    "from lung_cancer_detection.data.nodule import ClassificationDataModule\n",
    "from lung_cancer_detection.models.classification import NoduleClassificationModule\n",
    "from lung_cancer_detection.utils import load_config, load_json, preview_dataset"
   ]
  },
  {
   "cell_type": "markdown",
   "id": "cb35cc75",
   "metadata": {},
   "source": [
    "### Load configuration file"
   ]
  },
  {
   "cell_type": "code",
   "execution_count": 2,
   "id": "6e53b6af",
   "metadata": {},
   "outputs": [
    {
     "data": {
      "text/plain": [
       "True"
      ]
     },
     "execution_count": 2,
     "metadata": {},
     "output_type": "execute_result"
    }
   ],
   "source": [
    "cp = Path(\"../configs/cloud.yaml\").absolute()\n",
    "cp.exists()"
   ]
  },
  {
   "cell_type": "code",
   "execution_count": 3,
   "id": "88131076",
   "metadata": {},
   "outputs": [
    {
     "data": {
      "text/plain": [
       "{'random_seed': 47,\n",
       " 'wandb': {'offline': False, 'project': 'lung-cancer-detection'},\n",
       " 'artifacts': {'data': {'name': 'lidc-idri-raw',\n",
       "   'version': 'v1',\n",
       "   'type': 'dataset',\n",
       "   'description': 'Zipped dataset of all chest CT scans, masks and nodule volumes in npy format, including scan and nodule metadata. Updated with new volume size for nodules.'},\n",
       "  'train': {'name': 'lidc-train',\n",
       "   'version': 'v1',\n",
       "   'type': 'dataset',\n",
       "   'description': 'List of patient IDs included in the training set'},\n",
       "  'valid': {'name': 'lidc-valid',\n",
       "   'version': 'v1',\n",
       "   'type': 'dataset',\n",
       "   'description': 'List of patient IDs included in the validation set'},\n",
       "  'class_model': {'name': 'nodule-classification-model',\n",
       "   'version': 'v0',\n",
       "   'type': 'model',\n",
       "   'description': 'Basic DenseNet for classifying lung nodules regarding their malignancy'},\n",
       "  'seg_model': {'name': 'nodule-segmentation-model',\n",
       "   'version': 'v1',\n",
       "   'type': 'model',\n",
       "   'description': 'Basic UNet for segmenting lung nodules in chest CTs'}},\n",
       " 'data': {'data_dir': '../data/full/processed/',\n",
       "  'split_dir': '../data/full/splits/',\n",
       "  'cache_dir': '../data/full/cache',\n",
       "  'sample': False,\n",
       "  'batch_size': 128,\n",
       "  'val_split': 0.2,\n",
       "  'min_anns': 1},\n",
       " 'seg_model': {'features': [32, 32, 64, 128, 256, 32],\n",
       "  'dropout': 0.0,\n",
       "  'lr': 0.0001,\n",
       "  'norm': ['instance', {'affine': True}]},\n",
       " 'class_model': {'num_classes': 2,\n",
       "  'spatial_dims': 3,\n",
       "  'in_channels': 1,\n",
       "  'out_channels': 2,\n",
       "  'lr': 0.0001,\n",
       "  'dropout': 0.0},\n",
       " 'experiment': {'max_epochs': 100,\n",
       "  'max_time': {'hours': 12},\n",
       "  'auto_lr_find': True,\n",
       "  'gpus': -1,\n",
       "  'auto_select_gpus': True,\n",
       "  'auto_scale_batch_size': False}}"
      ]
     },
     "execution_count": 3,
     "metadata": {},
     "output_type": "execute_result"
    }
   ],
   "source": [
    "config = load_config(cp)\n",
    "config"
   ]
  },
  {
   "cell_type": "markdown",
   "id": "12370063",
   "metadata": {},
   "source": [
    "## Explore datasets"
   ]
  },
  {
   "cell_type": "code",
   "execution_count": 4,
   "id": "1083a009",
   "metadata": {},
   "outputs": [],
   "source": [
    "splits = [\n",
    "    load_json(Path(config[\"data\"][\"split_dir\"])/\"train.json\"), \n",
    "    load_json(Path(config[\"data\"][\"split_dir\"])/\"valid.json\")\n",
    "]\n",
    "label_mapping = ([1,2,3,4,5], [0,0,0,1,1])"
   ]
  },
  {
   "cell_type": "code",
   "execution_count": 5,
   "id": "ac9c8793",
   "metadata": {},
   "outputs": [],
   "source": [
    "dm = ClassificationDataModule(\n",
    "    data_dir=Path(config[\"data\"][\"data_dir\"]),\n",
    "    cache_dir=(Path()/\"../data/cache/\").absolute(),\n",
    "    splits=splits,\n",
    "    min_anns=config[\"data\"][\"min_anns\"],\n",
    "    exclude_labels=[],\n",
    "    label_mapping=label_mapping,\n",
    "    batch_size=config[\"data\"][\"batch_size\"]\n",
    ")"
   ]
  },
  {
   "cell_type": "code",
   "execution_count": 6,
   "id": "b83d62bf",
   "metadata": {},
   "outputs": [],
   "source": [
    "dm.setup()"
   ]
  },
  {
   "cell_type": "code",
   "execution_count": 7,
   "id": "01f0e7b9",
   "metadata": {},
   "outputs": [
    {
     "name": "stdout",
     "output_type": "stream",
     "text": [
      "Number of training examples: 2155\n",
      "Number of validation examples: 470\n"
     ]
    }
   ],
   "source": [
    "print(f\"Number of training examples: {len(dm.train_ds)}\")\n",
    "print(f\"Number of validation examples: {len(dm.val_ds)}\")"
   ]
  },
  {
   "cell_type": "code",
   "execution_count": 8,
   "id": "00467f4c",
   "metadata": {},
   "outputs": [],
   "source": [
    "train_labels = np.array([image[\"label\"].numpy() for image in dm.train_ds])\n",
    "valid_labels = np.array([image[\"label\"].numpy() for image in dm.val_ds])"
   ]
  },
  {
   "cell_type": "code",
   "execution_count": 9,
   "id": "263656e2",
   "metadata": {},
   "outputs": [
    {
     "name": "stdout",
     "output_type": "stream",
     "text": [
      "Percentage of malignant training nodules: 0.2158\n",
      "Percentage of malignant training nodules: 0.2234\n"
     ]
    }
   ],
   "source": [
    "print(f\"Percentage of malignant training nodules: {np.mean(train_labels):.4f}\")\n",
    "print(f\"Percentage of malignant training nodules: {np.mean(valid_labels):.4f}\")"
   ]
  },
  {
   "cell_type": "markdown",
   "id": "12aabd7a",
   "metadata": {},
   "source": [
    "## Validation check: overfit one batch"
   ]
  },
  {
   "cell_type": "code",
   "execution_count": 10,
   "id": "5045b1dd",
   "metadata": {},
   "outputs": [],
   "source": [
    "dm = ClassificationDataModule(\n",
    "    data_dir=Path(config[\"data\"][\"data_dir\"]),\n",
    "    cache_dir=(Path()/\"../data/cache/\").absolute(),\n",
    "    splits=splits,\n",
    "    min_anns=config[\"data\"][\"min_anns\"],\n",
    "    exclude_labels=[],\n",
    "    label_mapping=label_mapping,\n",
    "    aug_prob=0.1,\n",
    "    batch_size=config[\"data\"][\"batch_size\"]\n",
    ")"
   ]
  },
  {
   "cell_type": "code",
   "execution_count": 11,
   "id": "9c5aaa44",
   "metadata": {},
   "outputs": [],
   "source": [
    "net = DenseNet(\n",
    "    spatial_dims=config[\"class_model\"][\"spatial_dims\"],\n",
    "    in_channels=config[\"class_model\"][\"in_channels\"],\n",
    "    out_channels=config[\"class_model\"][\"out_channels\"],\n",
    ")"
   ]
  },
  {
   "cell_type": "code",
   "execution_count": 12,
   "id": "9567ab7b",
   "metadata": {},
   "outputs": [],
   "source": [
    "model = NoduleClassificationModule(net, num_classes=config[\"class_model\"][\"num_classes\"])"
   ]
  },
  {
   "cell_type": "code",
   "execution_count": 13,
   "id": "206f4bc3",
   "metadata": {},
   "outputs": [
    {
     "name": "stderr",
     "output_type": "stream",
     "text": [
      "GPU available: True, used: True\n",
      "TPU available: False, using: 0 TPU cores\n"
     ]
    }
   ],
   "source": [
    "trainer = Trainer(gpus=1, overfit_batches=1, max_epochs=20)"
   ]
  },
  {
   "cell_type": "code",
   "execution_count": 14,
   "id": "69307072",
   "metadata": {},
   "outputs": [
    {
     "name": "stderr",
     "output_type": "stream",
     "text": [
      "LOCAL_RANK: 0 - CUDA_VISIBLE_DEVICES: [0]\n",
      "\n",
      "  | Name      | Type             | Params\n",
      "-----------------------------------------------\n",
      "0 | model     | DenseNet         | 11.2 M\n",
      "1 | loss      | CrossEntropyLoss | 0     \n",
      "2 | train_acc | Accuracy         | 0     \n",
      "3 | val_acc   | Accuracy         | 0     \n",
      "-----------------------------------------------\n",
      "11.2 M    Trainable params\n",
      "0         Non-trainable params\n",
      "11.2 M    Total params\n",
      "44.979    Total estimated model params size (MB)\n"
     ]
    },
    {
     "data": {
      "application/vnd.jupyter.widget-view+json": {
       "model_id": "",
       "version_major": 2,
       "version_minor": 0
      },
      "text/plain": [
       "Validation sanity check: 0it [00:00, ?it/s]"
      ]
     },
     "metadata": {},
     "output_type": "display_data"
    },
    {
     "name": "stderr",
     "output_type": "stream",
     "text": [
      "/opt/conda/lib/python3.7/site-packages/pytorch_lightning/trainer/data_loading.py:342: UserWarning: You requested to overfit but enabled val/test dataloader shuffling. We are turning it off for you.\n",
      "  'You requested to overfit but enabled val/test dataloader shuffling.'\n",
      "/opt/conda/lib/python3.7/site-packages/pytorch_lightning/trainer/data_loading.py:240: UserWarning: You requested to overfit but enabled training dataloader shuffling. We are turning it off for you.\n",
      "  'You requested to overfit but enabled training dataloader shuffling.'\n"
     ]
    },
    {
     "data": {
      "application/vnd.jupyter.widget-view+json": {
       "model_id": "17980adfbc144d579e9594bc37055ec5",
       "version_major": 2,
       "version_minor": 0
      },
      "text/plain": [
       "Training: 0it [00:00, ?it/s]"
      ]
     },
     "metadata": {},
     "output_type": "display_data"
    },
    {
     "data": {
      "application/vnd.jupyter.widget-view+json": {
       "model_id": "",
       "version_major": 2,
       "version_minor": 0
      },
      "text/plain": [
       "Validating: 0it [00:00, ?it/s]"
      ]
     },
     "metadata": {},
     "output_type": "display_data"
    },
    {
     "name": "stderr",
     "output_type": "stream",
     "text": [
      "/opt/conda/lib/python3.7/site-packages/pytorch_lightning/callbacks/model_checkpoint.py:611: LightningDeprecationWarning: Relying on `self.log('val_loss', ...)` to set the ModelCheckpoint monitor is deprecated in v1.2 and will be removed in v1.4. Please, create your own `mc = ModelCheckpoint(monitor='your_monitor')` and use it as `Trainer(callbacks=[mc])`.\n",
      "  \"Relying on `self.log('val_loss', ...)` to set the ModelCheckpoint monitor is deprecated in v1.2\"\n"
     ]
    },
    {
     "data": {
      "application/vnd.jupyter.widget-view+json": {
       "model_id": "",
       "version_major": 2,
       "version_minor": 0
      },
      "text/plain": [
       "Validating: 0it [00:00, ?it/s]"
      ]
     },
     "metadata": {},
     "output_type": "display_data"
    },
    {
     "data": {
      "application/vnd.jupyter.widget-view+json": {
       "model_id": "",
       "version_major": 2,
       "version_minor": 0
      },
      "text/plain": [
       "Validating: 0it [00:00, ?it/s]"
      ]
     },
     "metadata": {},
     "output_type": "display_data"
    },
    {
     "data": {
      "application/vnd.jupyter.widget-view+json": {
       "model_id": "",
       "version_major": 2,
       "version_minor": 0
      },
      "text/plain": [
       "Validating: 0it [00:00, ?it/s]"
      ]
     },
     "metadata": {},
     "output_type": "display_data"
    },
    {
     "data": {
      "application/vnd.jupyter.widget-view+json": {
       "model_id": "",
       "version_major": 2,
       "version_minor": 0
      },
      "text/plain": [
       "Validating: 0it [00:00, ?it/s]"
      ]
     },
     "metadata": {},
     "output_type": "display_data"
    },
    {
     "data": {
      "application/vnd.jupyter.widget-view+json": {
       "model_id": "",
       "version_major": 2,
       "version_minor": 0
      },
      "text/plain": [
       "Validating: 0it [00:00, ?it/s]"
      ]
     },
     "metadata": {},
     "output_type": "display_data"
    },
    {
     "data": {
      "application/vnd.jupyter.widget-view+json": {
       "model_id": "",
       "version_major": 2,
       "version_minor": 0
      },
      "text/plain": [
       "Validating: 0it [00:00, ?it/s]"
      ]
     },
     "metadata": {},
     "output_type": "display_data"
    },
    {
     "data": {
      "application/vnd.jupyter.widget-view+json": {
       "model_id": "",
       "version_major": 2,
       "version_minor": 0
      },
      "text/plain": [
       "Validating: 0it [00:00, ?it/s]"
      ]
     },
     "metadata": {},
     "output_type": "display_data"
    },
    {
     "data": {
      "application/vnd.jupyter.widget-view+json": {
       "model_id": "",
       "version_major": 2,
       "version_minor": 0
      },
      "text/plain": [
       "Validating: 0it [00:00, ?it/s]"
      ]
     },
     "metadata": {},
     "output_type": "display_data"
    },
    {
     "data": {
      "application/vnd.jupyter.widget-view+json": {
       "model_id": "",
       "version_major": 2,
       "version_minor": 0
      },
      "text/plain": [
       "Validating: 0it [00:00, ?it/s]"
      ]
     },
     "metadata": {},
     "output_type": "display_data"
    },
    {
     "data": {
      "application/vnd.jupyter.widget-view+json": {
       "model_id": "",
       "version_major": 2,
       "version_minor": 0
      },
      "text/plain": [
       "Validating: 0it [00:00, ?it/s]"
      ]
     },
     "metadata": {},
     "output_type": "display_data"
    },
    {
     "data": {
      "application/vnd.jupyter.widget-view+json": {
       "model_id": "",
       "version_major": 2,
       "version_minor": 0
      },
      "text/plain": [
       "Validating: 0it [00:00, ?it/s]"
      ]
     },
     "metadata": {},
     "output_type": "display_data"
    },
    {
     "data": {
      "application/vnd.jupyter.widget-view+json": {
       "model_id": "",
       "version_major": 2,
       "version_minor": 0
      },
      "text/plain": [
       "Validating: 0it [00:00, ?it/s]"
      ]
     },
     "metadata": {},
     "output_type": "display_data"
    },
    {
     "data": {
      "application/vnd.jupyter.widget-view+json": {
       "model_id": "",
       "version_major": 2,
       "version_minor": 0
      },
      "text/plain": [
       "Validating: 0it [00:00, ?it/s]"
      ]
     },
     "metadata": {},
     "output_type": "display_data"
    },
    {
     "data": {
      "application/vnd.jupyter.widget-view+json": {
       "model_id": "",
       "version_major": 2,
       "version_minor": 0
      },
      "text/plain": [
       "Validating: 0it [00:00, ?it/s]"
      ]
     },
     "metadata": {},
     "output_type": "display_data"
    },
    {
     "data": {
      "application/vnd.jupyter.widget-view+json": {
       "model_id": "",
       "version_major": 2,
       "version_minor": 0
      },
      "text/plain": [
       "Validating: 0it [00:00, ?it/s]"
      ]
     },
     "metadata": {},
     "output_type": "display_data"
    },
    {
     "data": {
      "application/vnd.jupyter.widget-view+json": {
       "model_id": "",
       "version_major": 2,
       "version_minor": 0
      },
      "text/plain": [
       "Validating: 0it [00:00, ?it/s]"
      ]
     },
     "metadata": {},
     "output_type": "display_data"
    },
    {
     "data": {
      "application/vnd.jupyter.widget-view+json": {
       "model_id": "",
       "version_major": 2,
       "version_minor": 0
      },
      "text/plain": [
       "Validating: 0it [00:00, ?it/s]"
      ]
     },
     "metadata": {},
     "output_type": "display_data"
    },
    {
     "data": {
      "application/vnd.jupyter.widget-view+json": {
       "model_id": "",
       "version_major": 2,
       "version_minor": 0
      },
      "text/plain": [
       "Validating: 0it [00:00, ?it/s]"
      ]
     },
     "metadata": {},
     "output_type": "display_data"
    },
    {
     "data": {
      "application/vnd.jupyter.widget-view+json": {
       "model_id": "",
       "version_major": 2,
       "version_minor": 0
      },
      "text/plain": [
       "Validating: 0it [00:00, ?it/s]"
      ]
     },
     "metadata": {},
     "output_type": "display_data"
    }
   ],
   "source": [
    "trainer.fit(model, datamodule=dm)"
   ]
  },
  {
   "cell_type": "markdown",
   "id": "16be53a6",
   "metadata": {},
   "source": [
    "## Run experiment"
   ]
  },
  {
   "cell_type": "markdown",
   "id": "7983a682",
   "metadata": {},
   "source": [
    "### Configure experiment"
   ]
  },
  {
   "cell_type": "code",
   "execution_count": 88,
   "id": "174be54f",
   "metadata": {},
   "outputs": [],
   "source": [
    "config = load_config(cp)"
   ]
  },
  {
   "cell_type": "code",
   "execution_count": 89,
   "id": "85b7b794",
   "metadata": {},
   "outputs": [],
   "source": [
    "dm = ClassificationDataModule(\n",
    "    data_dir=Path(config[\"data\"][\"data_dir\"]),\n",
    "    cache_dir=(Path()/\"../data/cache/\").absolute(),\n",
    "    splits=splits,\n",
    "    min_anns=config[\"data\"][\"min_anns\"],\n",
    "    exclude_labels=[],\n",
    "    label_mapping=label_mapping,\n",
    "    batch_size=config[\"data\"][\"batch_size\"]\n",
    ")"
   ]
  },
  {
   "cell_type": "code",
   "execution_count": 90,
   "id": "dc8d880a",
   "metadata": {},
   "outputs": [],
   "source": [
    "net = DenseNet(\n",
    "    spatial_dims=config[\"class_model\"][\"spatial_dims\"],\n",
    "    in_channels=config[\"class_model\"][\"in_channels\"],\n",
    "    out_channels=config[\"class_model\"][\"out_channels\"],\n",
    "    dropout_prob=config[\"class_model\"][\"dropout\"],\n",
    ")\n",
    "model = NoduleClassificationModule(net, num_classes=config[\"class_model\"][\"num_classes\"], lr=config[\"class_model\"][\"lr\"])"
   ]
  },
  {
   "cell_type": "code",
   "execution_count": 91,
   "id": "5f362a0d",
   "metadata": {},
   "outputs": [
    {
     "data": {
      "text/plain": [
       "True"
      ]
     },
     "execution_count": 91,
     "metadata": {},
     "output_type": "execute_result"
    }
   ],
   "source": [
    "wandb.login()"
   ]
  },
  {
   "cell_type": "code",
   "execution_count": 92,
   "id": "da238ba3",
   "metadata": {},
   "outputs": [],
   "source": [
    "logger = WandbLogger(project=config[\"wandb\"][\"project\"], job_type=\"training\")"
   ]
  },
  {
   "cell_type": "code",
   "execution_count": 93,
   "id": "df9a3a34",
   "metadata": {},
   "outputs": [],
   "source": [
    "es = EarlyStopping(monitor=\"val_loss\", verbose=True)\n",
    "mc = ModelCheckpoint(monitor=\"val_loss\", filename=\"{epoch}-{step}-{val_loss:.4f}-{val_acc:.4f}\", verbose=True, save_top_k=1)\n",
    "callbacks = [es, mc]"
   ]
  },
  {
   "cell_type": "code",
   "execution_count": 94,
   "id": "0e2d0c26",
   "metadata": {},
   "outputs": [
    {
     "name": "stderr",
     "output_type": "stream",
     "text": [
      "GPU available: True, used: True\n",
      "TPU available: False, using: 0 TPU cores\n"
     ]
    }
   ],
   "source": [
    "trainer = Trainer(\n",
    "    logger=logger,\n",
    "    callbacks=callbacks,\n",
    "    **config[\"experiment\"]\n",
    ")"
   ]
  },
  {
   "cell_type": "code",
   "execution_count": 95,
   "id": "4b74e055",
   "metadata": {},
   "outputs": [
    {
     "data": {
      "text/html": [
       "\n",
       "                Tracking run with wandb version 0.10.33<br/>\n",
       "                Syncing run <strong style=\"color:#cdcd00\">northern-vortex-58</strong> to <a href=\"https://wandb.ai\" target=\"_blank\">Weights & Biases</a> <a href=\"https://docs.wandb.com/integrations/jupyter.html\" target=\"_blank\">(Documentation)</a>.<br/>\n",
       "                Project page: <a href=\"https://wandb.ai/felixpeters/lung-cancer-detection\" target=\"_blank\">https://wandb.ai/felixpeters/lung-cancer-detection</a><br/>\n",
       "                Run page: <a href=\"https://wandb.ai/felixpeters/lung-cancer-detection/runs/iru4609w\" target=\"_blank\">https://wandb.ai/felixpeters/lung-cancer-detection/runs/iru4609w</a><br/>\n",
       "                Run data is saved locally in <code>/home/jupyter/lung-cancer-detection/nbs/wandb/run-20210712_085128-iru4609w</code><br/><br/>\n",
       "            "
      ],
      "text/plain": [
       "<IPython.core.display.HTML object>"
      ]
     },
     "metadata": {},
     "output_type": "display_data"
    },
    {
     "data": {
      "text/plain": [
       "<Artifact QXJ0aWZhY3Q6NDIzMjE4OA==>"
      ]
     },
     "execution_count": 95,
     "metadata": {},
     "output_type": "execute_result"
    }
   ],
   "source": [
    "trainer.logger.experiment.use_artifact(config[\"artifacts\"][\"train\"][\"name\"] + \":\" + config[\"artifacts\"][\"train\"][\"version\"])\n",
    "trainer.logger.experiment.use_artifact(config[\"artifacts\"][\"valid\"][\"name\"] + \":\" + config[\"artifacts\"][\"valid\"][\"version\"])"
   ]
  },
  {
   "cell_type": "markdown",
   "id": "09a9f055",
   "metadata": {},
   "source": [
    "### Train model"
   ]
  },
  {
   "cell_type": "code",
   "execution_count": 96,
   "id": "72bb5aee",
   "metadata": {},
   "outputs": [
    {
     "name": "stderr",
     "output_type": "stream",
     "text": [
      "LOCAL_RANK: 0 - CUDA_VISIBLE_DEVICES: [0]\n",
      "\n",
      "  | Name      | Type             | Params\n",
      "-----------------------------------------------\n",
      "0 | model     | DenseNet         | 11.2 M\n",
      "1 | loss      | CrossEntropyLoss | 0     \n",
      "2 | train_acc | Accuracy         | 0     \n",
      "3 | val_acc   | Accuracy         | 0     \n",
      "-----------------------------------------------\n",
      "11.2 M    Trainable params\n",
      "0         Non-trainable params\n",
      "11.2 M    Total params\n",
      "44.979    Total estimated model params size (MB)\n"
     ]
    },
    {
     "data": {
      "application/vnd.jupyter.widget-view+json": {
       "model_id": "",
       "version_major": 2,
       "version_minor": 0
      },
      "text/plain": [
       "Validation sanity check: 0it [00:00, ?it/s]"
      ]
     },
     "metadata": {},
     "output_type": "display_data"
    },
    {
     "data": {
      "application/vnd.jupyter.widget-view+json": {
       "model_id": "36106fbcc32241579f230bf83ee85ab6",
       "version_major": 2,
       "version_minor": 0
      },
      "text/plain": [
       "Training: 0it [00:00, ?it/s]"
      ]
     },
     "metadata": {},
     "output_type": "display_data"
    },
    {
     "data": {
      "application/vnd.jupyter.widget-view+json": {
       "model_id": "",
       "version_major": 2,
       "version_minor": 0
      },
      "text/plain": [
       "Validating: 0it [00:00, ?it/s]"
      ]
     },
     "metadata": {},
     "output_type": "display_data"
    },
    {
     "name": "stderr",
     "output_type": "stream",
     "text": [
      "Metric val_loss improved. New best score: 0.646\n",
      "Epoch 0, global step 67: val_loss reached 0.64597 (best 0.64597), saving model to \"/home/jupyter/lung-cancer-detection/nbs/wandb/run-20210712_085128-iru4609w/files/lung-cancer-detection/iru4609w/checkpoints/epoch=0-step=67-val_loss=0.6460-val_acc=0.6170.ckpt\" as top 1\n"
     ]
    },
    {
     "data": {
      "application/vnd.jupyter.widget-view+json": {
       "model_id": "",
       "version_major": 2,
       "version_minor": 0
      },
      "text/plain": [
       "Validating: 0it [00:00, ?it/s]"
      ]
     },
     "metadata": {},
     "output_type": "display_data"
    },
    {
     "name": "stderr",
     "output_type": "stream",
     "text": [
      "Metric val_loss improved by 0.075 >= min_delta = 0.0. New best score: 0.571\n",
      "Epoch 1, global step 135: val_loss reached 0.57072 (best 0.57072), saving model to \"/home/jupyter/lung-cancer-detection/nbs/wandb/run-20210712_085128-iru4609w/files/lung-cancer-detection/iru4609w/checkpoints/epoch=1-step=135-val_loss=0.5707-val_acc=0.7574.ckpt\" as top 1\n"
     ]
    },
    {
     "data": {
      "application/vnd.jupyter.widget-view+json": {
       "model_id": "",
       "version_major": 2,
       "version_minor": 0
      },
      "text/plain": [
       "Validating: 0it [00:00, ?it/s]"
      ]
     },
     "metadata": {},
     "output_type": "display_data"
    },
    {
     "name": "stderr",
     "output_type": "stream",
     "text": [
      "Metric val_loss improved by 0.019 >= min_delta = 0.0. New best score: 0.552\n",
      "Epoch 2, global step 203: val_loss reached 0.55154 (best 0.55154), saving model to \"/home/jupyter/lung-cancer-detection/nbs/wandb/run-20210712_085128-iru4609w/files/lung-cancer-detection/iru4609w/checkpoints/epoch=2-step=203-val_loss=0.5515-val_acc=0.7723.ckpt\" as top 1\n"
     ]
    },
    {
     "data": {
      "application/vnd.jupyter.widget-view+json": {
       "model_id": "",
       "version_major": 2,
       "version_minor": 0
      },
      "text/plain": [
       "Validating: 0it [00:00, ?it/s]"
      ]
     },
     "metadata": {},
     "output_type": "display_data"
    },
    {
     "name": "stderr",
     "output_type": "stream",
     "text": [
      "Metric val_loss improved by 0.012 >= min_delta = 0.0. New best score: 0.540\n",
      "Epoch 3, global step 271: val_loss reached 0.53967 (best 0.53967), saving model to \"/home/jupyter/lung-cancer-detection/nbs/wandb/run-20210712_085128-iru4609w/files/lung-cancer-detection/iru4609w/checkpoints/epoch=3-step=271-val_loss=0.5397-val_acc=0.7787.ckpt\" as top 1\n"
     ]
    },
    {
     "data": {
      "application/vnd.jupyter.widget-view+json": {
       "model_id": "",
       "version_major": 2,
       "version_minor": 0
      },
      "text/plain": [
       "Validating: 0it [00:00, ?it/s]"
      ]
     },
     "metadata": {},
     "output_type": "display_data"
    },
    {
     "name": "stderr",
     "output_type": "stream",
     "text": [
      "Metric val_loss improved by 0.004 >= min_delta = 0.0. New best score: 0.536\n",
      "Epoch 4, global step 339: val_loss reached 0.53580 (best 0.53580), saving model to \"/home/jupyter/lung-cancer-detection/nbs/wandb/run-20210712_085128-iru4609w/files/lung-cancer-detection/iru4609w/checkpoints/epoch=4-step=339-val_loss=0.5358-val_acc=0.7745.ckpt\" as top 1\n"
     ]
    },
    {
     "data": {
      "application/vnd.jupyter.widget-view+json": {
       "model_id": "",
       "version_major": 2,
       "version_minor": 0
      },
      "text/plain": [
       "Validating: 0it [00:00, ?it/s]"
      ]
     },
     "metadata": {},
     "output_type": "display_data"
    },
    {
     "name": "stderr",
     "output_type": "stream",
     "text": [
      "Epoch 5, global step 407: val_loss was not in top 1\n"
     ]
    },
    {
     "data": {
      "application/vnd.jupyter.widget-view+json": {
       "model_id": "",
       "version_major": 2,
       "version_minor": 0
      },
      "text/plain": [
       "Validating: 0it [00:00, ?it/s]"
      ]
     },
     "metadata": {},
     "output_type": "display_data"
    },
    {
     "name": "stderr",
     "output_type": "stream",
     "text": [
      "Epoch 6, global step 475: val_loss was not in top 1\n"
     ]
    },
    {
     "data": {
      "application/vnd.jupyter.widget-view+json": {
       "model_id": "",
       "version_major": 2,
       "version_minor": 0
      },
      "text/plain": [
       "Validating: 0it [00:00, ?it/s]"
      ]
     },
     "metadata": {},
     "output_type": "display_data"
    },
    {
     "name": "stderr",
     "output_type": "stream",
     "text": [
      "Monitored metric val_loss did not improve in the last 3 records. Best score: 0.536. Signaling Trainer to stop.\n",
      "Epoch 7, global step 543: val_loss was not in top 1\n"
     ]
    }
   ],
   "source": [
    "trainer.fit(model, datamodule=dm)"
   ]
  },
  {
   "cell_type": "markdown",
   "id": "3e01aa74",
   "metadata": {},
   "source": [
    "### Finish experiment"
   ]
  },
  {
   "cell_type": "code",
   "execution_count": 97,
   "id": "2ff1e5f8",
   "metadata": {},
   "outputs": [
    {
     "data": {
      "text/plain": [
       "<wandb.sdk.wandb_artifacts.Artifact at 0x7fe74501c250>"
      ]
     },
     "execution_count": 97,
     "metadata": {},
     "output_type": "execute_result"
    }
   ],
   "source": [
    "model_artifact = wandb.Artifact(\n",
    "    config[\"artifacts\"][\"class_model\"][\"name\"],\n",
    "    type=config[\"artifacts\"][\"class_model\"][\"type\"],\n",
    "    description=config[\"artifacts\"][\"class_model\"][\"description\"],\n",
    ")\n",
    "model_artifact.add_file(mc.best_model_path)\n",
    "trainer.logger.experiment.log_artifact(model_artifact)"
   ]
  },
  {
   "cell_type": "code",
   "execution_count": 98,
   "id": "db6ab037",
   "metadata": {},
   "outputs": [
    {
     "data": {
      "text/html": [
       "<br/>Waiting for W&B process to finish, PID 11753<br/>Program ended successfully."
      ],
      "text/plain": [
       "<IPython.core.display.HTML object>"
      ]
     },
     "metadata": {},
     "output_type": "display_data"
    },
    {
     "data": {
      "application/vnd.jupyter.widget-view+json": {
       "model_id": "",
       "version_major": 2,
       "version_minor": 0
      },
      "text/plain": [
       "VBox(children=(Label(value=' 129.67MB of 129.67MB uploaded (0.00MB deduped)\\r'), FloatProgress(value=1.0, max=…"
      ]
     },
     "metadata": {},
     "output_type": "display_data"
    },
    {
     "data": {
      "text/html": [
       "Find user logs for this run at: <code>/home/jupyter/lung-cancer-detection/nbs/wandb/run-20210712_085128-iru4609w/logs/debug.log</code>"
      ],
      "text/plain": [
       "<IPython.core.display.HTML object>"
      ]
     },
     "metadata": {},
     "output_type": "display_data"
    },
    {
     "data": {
      "text/html": [
       "Find internal logs for this run at: <code>/home/jupyter/lung-cancer-detection/nbs/wandb/run-20210712_085128-iru4609w/logs/debug-internal.log</code>"
      ],
      "text/plain": [
       "<IPython.core.display.HTML object>"
      ]
     },
     "metadata": {},
     "output_type": "display_data"
    },
    {
     "data": {
      "text/html": [
       "<h3>Run summary:</h3><br/><style>\n",
       "    table.wandb td:nth-child(1) { padding: 0 10px; text-align: right }\n",
       "    </style><table class=\"wandb\">\n",
       "<tr><td>train_loss</td><td>0.25847</td></tr><tr><td>train_acc</td><td>0.96875</td></tr><tr><td>epoch</td><td>7</td></tr><tr><td>trainer/global_step</td><td>543</td></tr><tr><td>_runtime</td><td>144</td></tr><tr><td>_timestamp</td><td>1626080032</td></tr><tr><td>_step</td><td>17</td></tr><tr><td>val_loss</td><td>0.54732</td></tr><tr><td>val_acc</td><td>0.78298</td></tr></table>"
      ],
      "text/plain": [
       "<IPython.core.display.HTML object>"
      ]
     },
     "metadata": {},
     "output_type": "display_data"
    },
    {
     "data": {
      "text/html": [
       "<h3>Run history:</h3><br/><style>\n",
       "    table.wandb td:nth-child(1) { padding: 0 10px; text-align: right }\n",
       "    </style><table class=\"wandb\">\n",
       "<tr><td>train_loss</td><td>█▇▆▆▇▅▂▃▃▁</td></tr><tr><td>train_acc</td><td>▁▄▃▃▁▃▆▆▅█</td></tr><tr><td>epoch</td><td>▁▁▂▂▃▃▃▄▄▅▅▆▆▆▇▇██</td></tr><tr><td>trainer/global_step</td><td>▁▁▂▂▂▃▃▄▄▅▅▅▆▆▇▇▇█</td></tr><tr><td>_runtime</td><td>▁▁▂▂▃▃▃▄▄▅▅▅▆▆▇▇▇█</td></tr><tr><td>_timestamp</td><td>▁▁▂▂▃▃▃▄▄▅▅▅▆▆▇▇▇█</td></tr><tr><td>_step</td><td>▁▁▂▂▃▃▃▄▄▅▅▆▆▆▇▇██</td></tr><tr><td>val_loss</td><td>█▃▂▁▁▂▁▂</td></tr><tr><td>val_acc</td><td>▁▇██████</td></tr></table><br/>"
      ],
      "text/plain": [
       "<IPython.core.display.HTML object>"
      ]
     },
     "metadata": {},
     "output_type": "display_data"
    },
    {
     "data": {
      "text/html": [
       "Synced 6 W&B file(s), 0 media file(s), 1 artifact file(s) and 1 other file(s)"
      ],
      "text/plain": [
       "<IPython.core.display.HTML object>"
      ]
     },
     "metadata": {},
     "output_type": "display_data"
    },
    {
     "data": {
      "text/html": [
       "\n",
       "                    <br/>Synced <strong style=\"color:#cdcd00\">northern-vortex-58</strong>: <a href=\"https://wandb.ai/felixpeters/lung-cancer-detection/runs/iru4609w\" target=\"_blank\">https://wandb.ai/felixpeters/lung-cancer-detection/runs/iru4609w</a><br/>\n",
       "                "
      ],
      "text/plain": [
       "<IPython.core.display.HTML object>"
      ]
     },
     "metadata": {},
     "output_type": "display_data"
    }
   ],
   "source": [
    "wandb.finish()"
   ]
  },
  {
   "cell_type": "code",
   "execution_count": null,
   "id": "a6c46201",
   "metadata": {},
   "outputs": [],
   "source": []
  }
 ],
 "metadata": {
  "environment": {
   "name": "pytorch-gpu.1-9.m74",
   "type": "gcloud",
   "uri": "gcr.io/deeplearning-platform-release/pytorch-gpu.1-9:m74"
  },
  "kernelspec": {
   "display_name": "Python 3",
   "language": "python",
   "name": "python3"
  },
  "language_info": {
   "codemirror_mode": {
    "name": "ipython",
    "version": 3
   },
   "file_extension": ".py",
   "mimetype": "text/x-python",
   "name": "python",
   "nbconvert_exporter": "python",
   "pygments_lexer": "ipython3",
   "version": "3.8.5"
  },
  "toc": {
   "base_numbering": 1,
   "nav_menu": {},
   "number_sections": true,
   "sideBar": true,
   "skip_h1_title": true,
   "title_cell": "Table of Contents",
   "title_sidebar": "Contents",
   "toc_cell": false,
   "toc_position": {},
   "toc_section_display": true,
   "toc_window_display": false
  }
 },
 "nbformat": 4,
 "nbformat_minor": 5
}
