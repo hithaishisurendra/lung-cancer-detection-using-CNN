{
 "cells": [
  {
   "cell_type": "markdown",
   "metadata": {},
   "source": [
    "## Setup"
   ]
  },
  {
   "cell_type": "code",
   "execution_count": 1,
   "metadata": {},
   "outputs": [
    {
     "name": "stdout",
     "output_type": "stream",
     "text": [
      "ln: ./lung_cancer_detection: File exists\r\n"
     ]
    }
   ],
   "source": [
    "!ln -s ./../lung_cancer_detection"
   ]
  },
  {
   "cell_type": "code",
   "execution_count": 2,
   "metadata": {},
   "outputs": [],
   "source": [
    "from pathlib import Path\n",
    "\n",
    "from pytorch_lightning.loggers import WandbLogger\n",
    "from pytorch_lightning.callbacks import EarlyStopping, ModelCheckpoint\n",
    "import wandb\n",
    "\n",
    "from lung_cancer_detection.data.data_module import LIDCDataModule\n",
    "from lung_cancer_detection.models.nodule_segmentation import NoduleSegmentationUNet\n",
    "from lung_cancer_detection.experiment import Experiment\n",
    "from lung_cancer_detection.utils import load_config"
   ]
  },
  {
   "cell_type": "code",
   "execution_count": 3,
   "metadata": {},
   "outputs": [],
   "source": [
    "%load_ext autoreload\n",
    "%autoreload 2"
   ]
  },
  {
   "cell_type": "code",
   "execution_count": 4,
   "metadata": {},
   "outputs": [
    {
     "data": {
      "text/plain": [
       "True"
      ]
     },
     "execution_count": 4,
     "metadata": {},
     "output_type": "execute_result"
    }
   ],
   "source": [
    "config_path = Path().absolute().parents[0] / \"configs/test.yaml\"\n",
    "config_path.exists()"
   ]
  },
  {
   "cell_type": "markdown",
   "metadata": {},
   "source": [
    "## Load configuration"
   ]
  },
  {
   "cell_type": "code",
   "execution_count": 5,
   "metadata": {},
   "outputs": [
    {
     "data": {
      "text/plain": [
       "{'random_seed': 47,\n",
       " 'wandb': {'offline': False,\n",
       "  'project': 'lung-cancer-detection',\n",
       "  'tags': ['nodule-segmentation', 'testing']},\n",
       " 'artifacts': {'seg_data_artifact': {'name': 'lidc-idri-cts',\n",
       "   'version': 'v0',\n",
       "   'type': 'dataset',\n",
       "   'description': 'Ten chest CT scans from LIDC-IDRI dataset including metadata'},\n",
       "  'seg_model_artifact': {'name': 'nodule-segmentation-model',\n",
       "   'version': 'v0',\n",
       "   'type': 'model',\n",
       "   'description': 'Downsized UNet for segmenting lung nodules in chest CTs'}},\n",
       " 'data': {'raw_dir': '/Volumes/LaCie/data/lung-cancer-detection/lidc-idri/LIDC-IDRI/',\n",
       "  'data_dir': 'data/test/',\n",
       "  'cache_dir': 'data/cache/',\n",
       "  'sample_size': False,\n",
       "  'batch_size': 2,\n",
       "  'val_split': 0.2},\n",
       " 'seg_model': {'features': [4, 4, 8, 16, 32, 4],\n",
       "  'dropout': 0.0,\n",
       "  'lr': 0.0001,\n",
       "  'norm': ['instance', {'affine': True}]},\n",
       " 'experiment': {'max_epochs': 2,\n",
       "  'auto_lr_find': True,\n",
       "  'gpus': 0,\n",
       "  'auto_select_gpus': False}}"
      ]
     },
     "execution_count": 5,
     "metadata": {},
     "output_type": "execute_result"
    }
   ],
   "source": [
    "config = load_config(config_path)\n",
    "config"
   ]
  },
  {
   "cell_type": "code",
   "execution_count": 6,
   "metadata": {},
   "outputs": [
    {
     "name": "stdout",
     "output_type": "stream",
     "text": [
      "/Users/felix/code/ml/lung-cancer-detection/data/test\n",
      "/Users/felix/code/ml/lung-cancer-detection/data/cache\n",
      "True True\n"
     ]
    }
   ],
   "source": [
    "config[\"data\"][\"data_dir\"] = Path().absolute().parents[0] / config[\"data\"][\"data_dir\"]\n",
    "config[\"data\"][\"cache_dir\"] = Path().absolute().parents[0] / config[\"data\"][\"cache_dir\"]\n",
    "print(config[\"data\"][\"data_dir\"])\n",
    "print(config[\"data\"][\"cache_dir\"])\n",
    "print(config[\"data\"][\"data_dir\"].exists(), config[\"data\"][\"cache_dir\"].exists())"
   ]
  },
  {
   "cell_type": "markdown",
   "metadata": {},
   "source": [
    "## Create model and data modules"
   ]
  },
  {
   "cell_type": "code",
   "execution_count": 7,
   "metadata": {},
   "outputs": [
    {
     "name": "stdout",
     "output_type": "stream",
     "text": [
      "BasicUNet features: (4, 4, 8, 16, 32, 4).\n"
     ]
    }
   ],
   "source": [
    "model = NoduleSegmentationUNet(**config[\"seg_model\"])"
   ]
  },
  {
   "cell_type": "code",
   "execution_count": 8,
   "metadata": {},
   "outputs": [],
   "source": [
    "data = LIDCDataModule(**config[\"data\"])"
   ]
  },
  {
   "cell_type": "markdown",
   "metadata": {},
   "source": [
    "## Create logger"
   ]
  },
  {
   "cell_type": "code",
   "execution_count": 9,
   "metadata": {},
   "outputs": [],
   "source": [
    "logger = WandbLogger(**config[\"wandb\"], job_type=\"training\")"
   ]
  },
  {
   "cell_type": "markdown",
   "metadata": {},
   "source": [
    "## Create callbacks"
   ]
  },
  {
   "cell_type": "code",
   "execution_count": 10,
   "metadata": {},
   "outputs": [
    {
     "name": "stderr",
     "output_type": "stream",
     "text": [
      "EarlyStopping mode set to min for monitoring val_loss.\n"
     ]
    }
   ],
   "source": [
    "es = EarlyStopping(monitor=\"val_loss\", verbose=True)\n",
    "mc = ModelCheckpoint(monitor=\"val_loss\", filename=\"{epoch}-{step}-{val_loss:.4f}\", verbose=True, save_top_k=1)\n",
    "callbacks = [es, mc]"
   ]
  },
  {
   "cell_type": "markdown",
   "metadata": {},
   "source": [
    "## Create experiment"
   ]
  },
  {
   "cell_type": "code",
   "execution_count": 11,
   "metadata": {},
   "outputs": [
    {
     "name": "stderr",
     "output_type": "stream",
     "text": [
      "Global seed set to 47\n",
      "\u001b[34m\u001b[1mwandb\u001b[0m: Currently logged in as: \u001b[33mfelixpeters\u001b[0m (use `wandb login --relogin` to force relogin)\n"
     ]
    },
    {
     "data": {
      "text/html": [
       "\n",
       "                Tracking run with wandb version 0.10.27<br/>\n",
       "                Syncing run <strong style=\"color:#cdcd00\">exalted-fog-21</strong> to <a href=\"https://wandb.ai\" target=\"_blank\">Weights & Biases</a> <a href=\"https://docs.wandb.com/integrations/jupyter.html\" target=\"_blank\">(Documentation)</a>.<br/>\n",
       "                Project page: <a href=\"https://wandb.ai/felixpeters/lung-cancer-detection\" target=\"_blank\">https://wandb.ai/felixpeters/lung-cancer-detection</a><br/>\n",
       "                Run page: <a href=\"https://wandb.ai/felixpeters/lung-cancer-detection/runs/3mrmskp5\" target=\"_blank\">https://wandb.ai/felixpeters/lung-cancer-detection/runs/3mrmskp5</a><br/>\n",
       "                Run data is saved locally in <code>/Users/felix/code/ml/lung-cancer-detection/nbs/wandb/run-20210427_105528-3mrmskp5</code><br/><br/>\n",
       "            "
      ],
      "text/plain": [
       "<IPython.core.display.HTML object>"
      ]
     },
     "metadata": {},
     "output_type": "display_data"
    },
    {
     "name": "stderr",
     "output_type": "stream",
     "text": [
      "GPU available: False, used: False\n",
      "TPU available: None, using: 0 TPU cores\n"
     ]
    }
   ],
   "source": [
    "exp = Experiment(model, \n",
    "                 data, \n",
    "                 logger, \n",
    "                 input_artifact=config[\"artifacts\"][\"seg_data_artifact\"],\n",
    "                 callbacks=callbacks, **config[\"experiment\"])"
   ]
  },
  {
   "cell_type": "code",
   "execution_count": 12,
   "metadata": {},
   "outputs": [
    {
     "name": "stderr",
     "output_type": "stream",
     "text": [
      "\n",
      "  | Name  | Type      | Params\n",
      "------------------------------------\n",
      "0 | model | BasicUNet | 90.5 K\n",
      "1 | loss  | DiceLoss  | 0     \n",
      "------------------------------------\n",
      "90.5 K    Trainable params\n",
      "0         Non-trainable params\n",
      "90.5 K    Total params\n",
      "0.362     Total estimated model params size (MB)\n"
     ]
    },
    {
     "data": {
      "application/vnd.jupyter.widget-view+json": {
       "model_id": "",
       "version_major": 2,
       "version_minor": 0
      },
      "text/plain": [
       "Validation sanity check: 0it [00:00, ?it/s]"
      ]
     },
     "metadata": {},
     "output_type": "display_data"
    },
    {
     "data": {
      "application/vnd.jupyter.widget-view+json": {
       "model_id": "c44eef5bb1b84dcc914d4beb35612989",
       "version_major": 2,
       "version_minor": 0
      },
      "text/plain": [
       "Training: 0it [00:00, ?it/s]"
      ]
     },
     "metadata": {},
     "output_type": "display_data"
    },
    {
     "data": {
      "application/vnd.jupyter.widget-view+json": {
       "model_id": "",
       "version_major": 2,
       "version_minor": 0
      },
      "text/plain": [
       "Validating: 0it [00:00, ?it/s]"
      ]
     },
     "metadata": {},
     "output_type": "display_data"
    },
    {
     "name": "stderr",
     "output_type": "stream",
     "text": [
      "Epoch 0, global step 3: val_loss reached 0.69889 (best 0.69889), saving model to \"/Users/felix/code/ml/lung-cancer-detection/nbs/wandb/run-20210427_105528-3mrmskp5/files/lung-cancer-detection/3mrmskp5/checkpoints/epoch=0-step=3-val_loss=0.6989.ckpt\" as top 1\n"
     ]
    },
    {
     "data": {
      "application/vnd.jupyter.widget-view+json": {
       "model_id": "",
       "version_major": 2,
       "version_minor": 0
      },
      "text/plain": [
       "Validating: 0it [00:00, ?it/s]"
      ]
     },
     "metadata": {},
     "output_type": "display_data"
    },
    {
     "name": "stderr",
     "output_type": "stream",
     "text": [
      "Epoch 1, global step 7: val_loss reached 0.69810 (best 0.69810), saving model to \"/Users/felix/code/ml/lung-cancer-detection/nbs/wandb/run-20210427_105528-3mrmskp5/files/lung-cancer-detection/3mrmskp5/checkpoints/epoch=1-step=7-val_loss=0.6981.ckpt\" as top 1\n"
     ]
    }
   ],
   "source": [
    "exp.run()"
   ]
  },
  {
   "cell_type": "code",
   "execution_count": 13,
   "metadata": {},
   "outputs": [],
   "source": [
    "output_artifact = config[\"artifacts\"][\"seg_model_artifact\"]\n",
    "output_artifact[\"path\"] = Path(mc.best_model_path).absolute()"
   ]
  },
  {
   "cell_type": "code",
   "execution_count": 14,
   "metadata": {},
   "outputs": [],
   "source": [
    "exp.finish(output_artifact)"
   ]
  },
  {
   "cell_type": "code",
   "execution_count": 15,
   "metadata": {},
   "outputs": [
    {
     "data": {
      "text/html": [
       "<br/>Waiting for W&B process to finish, PID 91925<br/>Program ended successfully."
      ],
      "text/plain": [
       "<IPython.core.display.HTML object>"
      ]
     },
     "metadata": {},
     "output_type": "display_data"
    },
    {
     "data": {
      "application/vnd.jupyter.widget-view+json": {
       "model_id": "",
       "version_major": 2,
       "version_minor": 0
      },
      "text/plain": [
       "VBox(children=(Label(value=' 1.12MB of 1.12MB uploaded (0.00MB deduped)\\r'), FloatProgress(value=1.0, max=1.0)…"
      ]
     },
     "metadata": {},
     "output_type": "display_data"
    },
    {
     "data": {
      "text/html": [
       "Find user logs for this run at: <code>/Users/felix/code/ml/lung-cancer-detection/nbs/wandb/run-20210427_105528-3mrmskp5/logs/debug.log</code>"
      ],
      "text/plain": [
       "<IPython.core.display.HTML object>"
      ]
     },
     "metadata": {},
     "output_type": "display_data"
    },
    {
     "data": {
      "text/html": [
       "Find internal logs for this run at: <code>/Users/felix/code/ml/lung-cancer-detection/nbs/wandb/run-20210427_105528-3mrmskp5/logs/debug-internal.log</code>"
      ],
      "text/plain": [
       "<IPython.core.display.HTML object>"
      ]
     },
     "metadata": {},
     "output_type": "display_data"
    },
    {
     "data": {
      "text/html": [
       "<h3>Run summary:</h3><br/><style>\n",
       "    table.wandb td:nth-child(1) { padding: 0 10px; text-align: right }\n",
       "    </style><table class=\"wandb\">\n",
       "<tr><td>train_loss_epoch</td><td>0.70166</td></tr><tr><td>epoch</td><td>1</td></tr><tr><td>trainer/global_step</td><td>7</td></tr><tr><td>_runtime</td><td>246</td></tr><tr><td>_timestamp</td><td>1619513974</td></tr><tr><td>_step</td><td>5</td></tr><tr><td>val_loss_step/epoch_0</td><td>0.69889</td></tr><tr><td>val_loss_epoch</td><td>0.6981</td></tr><tr><td>val_loss_step/epoch_1</td><td>0.6981</td></tr></table>"
      ],
      "text/plain": [
       "<IPython.core.display.HTML object>"
      ]
     },
     "metadata": {},
     "output_type": "display_data"
    },
    {
     "data": {
      "text/html": [
       "<h3>Run history:</h3><br/><style>\n",
       "    table.wandb td:nth-child(1) { padding: 0 10px; text-align: right }\n",
       "    </style><table class=\"wandb\">\n",
       "<tr><td>train_loss_epoch</td><td>█▁</td></tr><tr><td>epoch</td><td>▁▁██</td></tr><tr><td>trainer/global_step</td><td>▄▁▄█▁█</td></tr><tr><td>_runtime</td><td>▁▂▂▇██</td></tr><tr><td>_timestamp</td><td>▁▂▂▇██</td></tr><tr><td>_step</td><td>▁▂▄▅▇█</td></tr><tr><td>val_loss_step/epoch_0</td><td>▁</td></tr><tr><td>val_loss_epoch</td><td>█▁</td></tr><tr><td>val_loss_step/epoch_1</td><td>▁</td></tr></table><br/>"
      ],
      "text/plain": [
       "<IPython.core.display.HTML object>"
      ]
     },
     "metadata": {},
     "output_type": "display_data"
    },
    {
     "data": {
      "text/html": [
       "Synced 5 W&B file(s), 0 media file(s), 1 artifact file(s) and 1 other file(s)"
      ],
      "text/plain": [
       "<IPython.core.display.HTML object>"
      ]
     },
     "metadata": {},
     "output_type": "display_data"
    },
    {
     "data": {
      "text/html": [
       "\n",
       "                    <br/>Synced <strong style=\"color:#cdcd00\">exalted-fog-21</strong>: <a href=\"https://wandb.ai/felixpeters/lung-cancer-detection/runs/3mrmskp5\" target=\"_blank\">https://wandb.ai/felixpeters/lung-cancer-detection/runs/3mrmskp5</a><br/>\n",
       "                "
      ],
      "text/plain": [
       "<IPython.core.display.HTML object>"
      ]
     },
     "metadata": {},
     "output_type": "display_data"
    }
   ],
   "source": [
    "wandb.finish()"
   ]
  },
  {
   "cell_type": "code",
   "execution_count": null,
   "metadata": {},
   "outputs": [],
   "source": []
  }
 ],
 "metadata": {
  "kernelspec": {
   "display_name": "Python 3",
   "language": "python",
   "name": "python3"
  },
  "language_info": {
   "codemirror_mode": {
    "name": "ipython",
    "version": 3
   },
   "file_extension": ".py",
   "mimetype": "text/x-python",
   "name": "python",
   "nbconvert_exporter": "python",
   "pygments_lexer": "ipython3",
   "version": "3.8.5"
  },
  "toc": {
   "base_numbering": 1,
   "nav_menu": {},
   "number_sections": true,
   "sideBar": true,
   "skip_h1_title": true,
   "title_cell": "Table of Contents",
   "title_sidebar": "Contents",
   "toc_cell": false,
   "toc_position": {},
   "toc_section_display": true,
   "toc_window_display": false
  }
 },
 "nbformat": 4,
 "nbformat_minor": 4
}
