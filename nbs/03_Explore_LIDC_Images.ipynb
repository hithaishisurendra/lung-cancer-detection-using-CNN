{
 "cells": [
  {
   "cell_type": "markdown",
   "metadata": {},
   "source": [
    "# Explore LIDC chest CT scans"
   ]
  },
  {
   "cell_type": "markdown",
   "metadata": {},
   "source": [
    "## Setup and configuration"
   ]
  },
  {
   "cell_type": "code",
   "execution_count": 1,
   "metadata": {},
   "outputs": [],
   "source": [
    "import os\n",
    "from pathlib import Path\n",
    "\n",
    "import pandas as pd\n",
    "import numpy as np\n",
    "import pydicom as dicom\n",
    "import pylidc as pl\n",
    "from tqdm import tqdm\n",
    "from fastai.medical.imaging import *"
   ]
  },
  {
   "cell_type": "code",
   "execution_count": 2,
   "metadata": {},
   "outputs": [],
   "source": [
    "LIDC_DIR = Path(\"/Volumes/LaCie/data/lung-cancer-detection/lidc-idri/\")\n",
    "DICOM_DIR = LIDC_DIR / \"LIDC-IDRI\""
   ]
  },
  {
   "cell_type": "code",
   "execution_count": 3,
   "metadata": {},
   "outputs": [
    {
     "name": "stdout",
     "output_type": "stream",
     "text": [
      "True\n",
      "True\n"
     ]
    }
   ],
   "source": [
    "print(LIDC_DIR.exists())\n",
    "print(DICOM_DIR.exists())"
   ]
  },
  {
   "cell_type": "markdown",
   "metadata": {},
   "source": [
    "## Assemble patient list"
   ]
  },
  {
   "cell_type": "code",
   "execution_count": 4,
   "metadata": {},
   "outputs": [
    {
     "name": "stdout",
     "output_type": "stream",
     "text": [
      "1010\n"
     ]
    }
   ],
   "source": [
    "patient_list= [f for f in os.listdir(DICOM_DIR) if not f.startswith('.')]\n",
    "patient_list.sort()\n",
    "print(len(patient_list))"
   ]
  },
  {
   "cell_type": "markdown",
   "metadata": {},
   "source": [
    "## Count number of series per patient"
   ]
  },
  {
   "cell_type": "code",
   "execution_count": 5,
   "metadata": {},
   "outputs": [
    {
     "data": {
      "text/plain": [
       "1    1002\n",
       "2       8\n",
       "dtype: int64"
      ]
     },
     "execution_count": 5,
     "metadata": {},
     "output_type": "execute_result"
    }
   ],
   "source": [
    "series_counts = [pl.query(pl.Scan).filter(pl.Scan.patient_id == pid).count() for pid in patient_list]\n",
    "pd.Series(series_counts).value_counts()"
   ]
  },
  {
   "cell_type": "markdown",
   "metadata": {},
   "source": [
    "## Extract meta data from all DICOM files"
   ]
  },
  {
   "cell_type": "code",
   "execution_count": 6,
   "metadata": {},
   "outputs": [
    {
     "name": "stdout",
     "output_type": "stream",
     "text": [
      "244527\n"
     ]
    }
   ],
   "source": [
    "dcms = get_dicom_files(DICOM_DIR, recurse=True)\n",
    "print(len(dcms))"
   ]
  },
  {
   "cell_type": "code",
   "execution_count": 48,
   "metadata": {},
   "outputs": [
    {
     "data": {
      "text/plain": [
       "(#244527) [Path('/Volumes/LaCie/data/lung-cancer-detection/lidc-idri/LIDC-IDRI/LIDC-IDRI-0002/01-01-2000-26851/3000972.000000-22902/1-1.dcm'),Path('/Volumes/LaCie/data/lung-cancer-detection/lidc-idri/LIDC-IDRI/LIDC-IDRI-0002/01-01-2000-98329/3000522.000000-04919/1-001.dcm'),Path('/Volumes/LaCie/data/lung-cancer-detection/lidc-idri/LIDC-IDRI/LIDC-IDRI-0002/01-01-2000-98329/3000522.000000-04919/1-002.dcm'),Path('/Volumes/LaCie/data/lung-cancer-detection/lidc-idri/LIDC-IDRI/LIDC-IDRI-0002/01-01-2000-98329/3000522.000000-04919/1-003.dcm'),Path('/Volumes/LaCie/data/lung-cancer-detection/lidc-idri/LIDC-IDRI/LIDC-IDRI-0002/01-01-2000-98329/3000522.000000-04919/1-004.dcm'),Path('/Volumes/LaCie/data/lung-cancer-detection/lidc-idri/LIDC-IDRI/LIDC-IDRI-0002/01-01-2000-98329/3000522.000000-04919/1-005.dcm'),Path('/Volumes/LaCie/data/lung-cancer-detection/lidc-idri/LIDC-IDRI/LIDC-IDRI-0002/01-01-2000-98329/3000522.000000-04919/1-006.dcm'),Path('/Volumes/LaCie/data/lung-cancer-detection/lidc-idri/LIDC-IDRI/LIDC-IDRI-0002/01-01-2000-98329/3000522.000000-04919/1-007.dcm'),Path('/Volumes/LaCie/data/lung-cancer-detection/lidc-idri/LIDC-IDRI/LIDC-IDRI-0002/01-01-2000-98329/3000522.000000-04919/1-008.dcm'),Path('/Volumes/LaCie/data/lung-cancer-detection/lidc-idri/LIDC-IDRI/LIDC-IDRI-0002/01-01-2000-98329/3000522.000000-04919/1-009.dcm')...]"
      ]
     },
     "execution_count": 48,
     "metadata": {},
     "output_type": "execute_result"
    }
   ],
   "source": [
    "dcms"
   ]
  },
  {
   "cell_type": "code",
   "execution_count": 7,
   "metadata": {},
   "outputs": [],
   "source": [
    "attrs = [\n",
    " 'BitsAllocated',\n",
    " 'BitsStored',\n",
    " 'BodyPartExamined',\n",
    " 'Columns',\n",
    " 'FrameOfReferenceUID',\n",
    " 'ImageOrientationPatient',\n",
    " 'ImagePositionPatient',\n",
    " 'ImageType',\n",
    " 'Manufacturer',\n",
    " 'ManufacturerModelName',\n",
    " 'Modality',\n",
    " 'PatientID',\n",
    " 'PatientPosition',\n",
    " 'PatientSex',\n",
    " 'PixelPaddingValue',\n",
    " 'PixelRepresentation',\n",
    " 'PixelSpacing',\n",
    " 'RescaleIntercept',\n",
    " 'RescaleSlope',\n",
    " 'RotationDirection',\n",
    " 'Rows',\n",
    " 'SOPClassUID',\n",
    " 'SOPInstanceUID',\n",
    " 'SamplesPerPixel',\n",
    " 'SeriesInstanceUID',\n",
    " 'SeriesNumber',\n",
    " 'SliceLocation',\n",
    " 'SliceThickness',\n",
    " 'StudyID',\n",
    " 'StudyInstanceUID',\n",
    " 'WindowCenter',\n",
    " 'WindowWidth',\n",
    "]"
   ]
  },
  {
   "cell_type": "code",
   "execution_count": 10,
   "metadata": {},
   "outputs": [
    {
     "name": "stderr",
     "output_type": "stream",
     "text": [
      "100%|██████████| 244527/244527 [2:03:35<00:00, 32.98it/s]  \n"
     ]
    }
   ],
   "source": [
    "results = []\n",
    "for dcm in tqdm(dcms):\n",
    "    img = dicom.dcmread(dcm)\n",
    "    img_meta = {}\n",
    "    for attr in attrs:\n",
    "        if hasattr(img, attr):\n",
    "            img_meta[attr] = getattr(img, attr)\n",
    "        else:\n",
    "            img_meta[attr] = None\n",
    "        pxs = img.pixel_array\n",
    "        img_meta[\"PxMean\"] = np.mean(pxs)\n",
    "        img_meta[\"PxMin\"] = np.min(pxs)\n",
    "        img_meta[\"PxMax\"] = np.max(pxs)\n",
    "    results.append(img_meta)"
   ]
  },
  {
   "cell_type": "code",
   "execution_count": 11,
   "metadata": {},
   "outputs": [],
   "source": [
    "df = pd.DataFrame(data=results)"
   ]
  },
  {
   "cell_type": "code",
   "execution_count": 12,
   "metadata": {},
   "outputs": [
    {
     "data": {
      "text/plain": [
       "(244527, 35)"
      ]
     },
     "execution_count": 12,
     "metadata": {},
     "output_type": "execute_result"
    }
   ],
   "source": [
    "df.shape"
   ]
  },
  {
   "cell_type": "code",
   "execution_count": 13,
   "metadata": {},
   "outputs": [
    {
     "data": {
      "text/html": [
       "<div>\n",
       "<style scoped>\n",
       "    .dataframe tbody tr th:only-of-type {\n",
       "        vertical-align: middle;\n",
       "    }\n",
       "\n",
       "    .dataframe tbody tr th {\n",
       "        vertical-align: top;\n",
       "    }\n",
       "\n",
       "    .dataframe thead th {\n",
       "        text-align: right;\n",
       "    }\n",
       "</style>\n",
       "<table border=\"1\" class=\"dataframe\">\n",
       "  <thead>\n",
       "    <tr style=\"text-align: right;\">\n",
       "      <th></th>\n",
       "      <th>BitsAllocated</th>\n",
       "      <th>PxMean</th>\n",
       "      <th>PxMin</th>\n",
       "      <th>PxMax</th>\n",
       "      <th>BitsStored</th>\n",
       "      <th>BodyPartExamined</th>\n",
       "      <th>Columns</th>\n",
       "      <th>FrameOfReferenceUID</th>\n",
       "      <th>ImageOrientationPatient</th>\n",
       "      <th>ImagePositionPatient</th>\n",
       "      <th>...</th>\n",
       "      <th>SOPInstanceUID</th>\n",
       "      <th>SamplesPerPixel</th>\n",
       "      <th>SeriesInstanceUID</th>\n",
       "      <th>SeriesNumber</th>\n",
       "      <th>SliceLocation</th>\n",
       "      <th>SliceThickness</th>\n",
       "      <th>StudyID</th>\n",
       "      <th>StudyInstanceUID</th>\n",
       "      <th>WindowCenter</th>\n",
       "      <th>WindowWidth</th>\n",
       "    </tr>\n",
       "  </thead>\n",
       "  <tbody>\n",
       "    <tr>\n",
       "      <th>0</th>\n",
       "      <td>16</td>\n",
       "      <td>1274.787065</td>\n",
       "      <td>0</td>\n",
       "      <td>2121</td>\n",
       "      <td>14</td>\n",
       "      <td>CHEST</td>\n",
       "      <td>1721</td>\n",
       "      <td>1.3.6.1.4.1.14519.5.2.1.6279.6001.290742320286378838161032436197</td>\n",
       "      <td>None</td>\n",
       "      <td>None</td>\n",
       "      <td>...</td>\n",
       "      <td>1.3.6.1.4.1.14519.5.2.1.6279.6001.278396232245593731333696036781</td>\n",
       "      <td>1</td>\n",
       "      <td>1.3.6.1.4.1.14519.5.2.1.6279.6001.493562949900213760403901722902</td>\n",
       "      <td>3000972.0</td>\n",
       "      <td>NaN</td>\n",
       "      <td>NaN</td>\n",
       "      <td></td>\n",
       "      <td>1.3.6.1.4.1.14519.5.2.1.6279.6001.116951808801102574107980626851</td>\n",
       "      <td>[1149, 1149, 1149]</td>\n",
       "      <td>[695, 521, 1043]</td>\n",
       "    </tr>\n",
       "    <tr>\n",
       "      <th>1</th>\n",
       "      <td>16</td>\n",
       "      <td>-91.907864</td>\n",
       "      <td>-2000</td>\n",
       "      <td>2607</td>\n",
       "      <td>16</td>\n",
       "      <td>CHEST</td>\n",
       "      <td>512</td>\n",
       "      <td>1.3.6.1.4.1.14519.5.2.1.6279.6001.317612173882565644891105935364</td>\n",
       "      <td>[1.000000, 0.000000, 0.000000, 0.000000, 1.000000, 0.000000]</td>\n",
       "      <td>[-175.500000, -174.500000, -9.500000]</td>\n",
       "      <td>...</td>\n",
       "      <td>1.3.6.1.4.1.14519.5.2.1.6279.6001.995654199437862485099260177642</td>\n",
       "      <td>1</td>\n",
       "      <td>1.3.6.1.4.1.14519.5.2.1.6279.6001.619372068417051974713149104919</td>\n",
       "      <td>3000522.0</td>\n",
       "      <td>-9.50</td>\n",
       "      <td>1.25</td>\n",
       "      <td></td>\n",
       "      <td>1.3.6.1.4.1.14519.5.2.1.6279.6001.490157381160200744295382098329</td>\n",
       "      <td>40.0</td>\n",
       "      <td>350.0</td>\n",
       "    </tr>\n",
       "    <tr>\n",
       "      <th>2</th>\n",
       "      <td>16</td>\n",
       "      <td>-86.287533</td>\n",
       "      <td>-2000</td>\n",
       "      <td>2580</td>\n",
       "      <td>16</td>\n",
       "      <td>CHEST</td>\n",
       "      <td>512</td>\n",
       "      <td>1.3.6.1.4.1.14519.5.2.1.6279.6001.317612173882565644891105935364</td>\n",
       "      <td>[1.000000, 0.000000, 0.000000, 0.000000, 1.000000, 0.000000]</td>\n",
       "      <td>[-175.500000, -174.500000, -10.750000]</td>\n",
       "      <td>...</td>\n",
       "      <td>1.3.6.1.4.1.14519.5.2.1.6279.6001.306789031543980493707890947898</td>\n",
       "      <td>1</td>\n",
       "      <td>1.3.6.1.4.1.14519.5.2.1.6279.6001.619372068417051974713149104919</td>\n",
       "      <td>3000522.0</td>\n",
       "      <td>-10.75</td>\n",
       "      <td>1.25</td>\n",
       "      <td></td>\n",
       "      <td>1.3.6.1.4.1.14519.5.2.1.6279.6001.490157381160200744295382098329</td>\n",
       "      <td>40.0</td>\n",
       "      <td>350.0</td>\n",
       "    </tr>\n",
       "    <tr>\n",
       "      <th>3</th>\n",
       "      <td>16</td>\n",
       "      <td>-80.395668</td>\n",
       "      <td>-2000</td>\n",
       "      <td>2622</td>\n",
       "      <td>16</td>\n",
       "      <td>CHEST</td>\n",
       "      <td>512</td>\n",
       "      <td>1.3.6.1.4.1.14519.5.2.1.6279.6001.317612173882565644891105935364</td>\n",
       "      <td>[1.000000, 0.000000, 0.000000, 0.000000, 1.000000, 0.000000]</td>\n",
       "      <td>[-175.500000, -174.500000, -12.000000]</td>\n",
       "      <td>...</td>\n",
       "      <td>1.3.6.1.4.1.14519.5.2.1.6279.6001.193334668820347030701611993369</td>\n",
       "      <td>1</td>\n",
       "      <td>1.3.6.1.4.1.14519.5.2.1.6279.6001.619372068417051974713149104919</td>\n",
       "      <td>3000522.0</td>\n",
       "      <td>-12.00</td>\n",
       "      <td>1.25</td>\n",
       "      <td></td>\n",
       "      <td>1.3.6.1.4.1.14519.5.2.1.6279.6001.490157381160200744295382098329</td>\n",
       "      <td>40.0</td>\n",
       "      <td>350.0</td>\n",
       "    </tr>\n",
       "    <tr>\n",
       "      <th>4</th>\n",
       "      <td>16</td>\n",
       "      <td>-74.869011</td>\n",
       "      <td>-2000</td>\n",
       "      <td>2527</td>\n",
       "      <td>16</td>\n",
       "      <td>CHEST</td>\n",
       "      <td>512</td>\n",
       "      <td>1.3.6.1.4.1.14519.5.2.1.6279.6001.317612173882565644891105935364</td>\n",
       "      <td>[1.000000, 0.000000, 0.000000, 0.000000, 1.000000, 0.000000]</td>\n",
       "      <td>[-175.500000, -174.500000, -13.250000]</td>\n",
       "      <td>...</td>\n",
       "      <td>1.3.6.1.4.1.14519.5.2.1.6279.6001.162166008518220075719972878036</td>\n",
       "      <td>1</td>\n",
       "      <td>1.3.6.1.4.1.14519.5.2.1.6279.6001.619372068417051974713149104919</td>\n",
       "      <td>3000522.0</td>\n",
       "      <td>-13.25</td>\n",
       "      <td>1.25</td>\n",
       "      <td></td>\n",
       "      <td>1.3.6.1.4.1.14519.5.2.1.6279.6001.490157381160200744295382098329</td>\n",
       "      <td>40.0</td>\n",
       "      <td>350.0</td>\n",
       "    </tr>\n",
       "  </tbody>\n",
       "</table>\n",
       "<p>5 rows × 35 columns</p>\n",
       "</div>"
      ],
      "text/plain": [
       "   BitsAllocated       PxMean  PxMin  PxMax  BitsStored BodyPartExamined  \\\n",
       "0             16  1274.787065      0   2121          14            CHEST   \n",
       "1             16   -91.907864  -2000   2607          16            CHEST   \n",
       "2             16   -86.287533  -2000   2580          16            CHEST   \n",
       "3             16   -80.395668  -2000   2622          16            CHEST   \n",
       "4             16   -74.869011  -2000   2527          16            CHEST   \n",
       "\n",
       "   Columns                                               FrameOfReferenceUID  \\\n",
       "0     1721  1.3.6.1.4.1.14519.5.2.1.6279.6001.290742320286378838161032436197   \n",
       "1      512  1.3.6.1.4.1.14519.5.2.1.6279.6001.317612173882565644891105935364   \n",
       "2      512  1.3.6.1.4.1.14519.5.2.1.6279.6001.317612173882565644891105935364   \n",
       "3      512  1.3.6.1.4.1.14519.5.2.1.6279.6001.317612173882565644891105935364   \n",
       "4      512  1.3.6.1.4.1.14519.5.2.1.6279.6001.317612173882565644891105935364   \n",
       "\n",
       "                                        ImageOrientationPatient  \\\n",
       "0                                                          None   \n",
       "1  [1.000000, 0.000000, 0.000000, 0.000000, 1.000000, 0.000000]   \n",
       "2  [1.000000, 0.000000, 0.000000, 0.000000, 1.000000, 0.000000]   \n",
       "3  [1.000000, 0.000000, 0.000000, 0.000000, 1.000000, 0.000000]   \n",
       "4  [1.000000, 0.000000, 0.000000, 0.000000, 1.000000, 0.000000]   \n",
       "\n",
       "                     ImagePositionPatient  ...  \\\n",
       "0                                    None  ...   \n",
       "1   [-175.500000, -174.500000, -9.500000]  ...   \n",
       "2  [-175.500000, -174.500000, -10.750000]  ...   \n",
       "3  [-175.500000, -174.500000, -12.000000]  ...   \n",
       "4  [-175.500000, -174.500000, -13.250000]  ...   \n",
       "\n",
       "                                                     SOPInstanceUID  \\\n",
       "0  1.3.6.1.4.1.14519.5.2.1.6279.6001.278396232245593731333696036781   \n",
       "1  1.3.6.1.4.1.14519.5.2.1.6279.6001.995654199437862485099260177642   \n",
       "2  1.3.6.1.4.1.14519.5.2.1.6279.6001.306789031543980493707890947898   \n",
       "3  1.3.6.1.4.1.14519.5.2.1.6279.6001.193334668820347030701611993369   \n",
       "4  1.3.6.1.4.1.14519.5.2.1.6279.6001.162166008518220075719972878036   \n",
       "\n",
       "  SamplesPerPixel  \\\n",
       "0               1   \n",
       "1               1   \n",
       "2               1   \n",
       "3               1   \n",
       "4               1   \n",
       "\n",
       "                                                  SeriesInstanceUID  \\\n",
       "0  1.3.6.1.4.1.14519.5.2.1.6279.6001.493562949900213760403901722902   \n",
       "1  1.3.6.1.4.1.14519.5.2.1.6279.6001.619372068417051974713149104919   \n",
       "2  1.3.6.1.4.1.14519.5.2.1.6279.6001.619372068417051974713149104919   \n",
       "3  1.3.6.1.4.1.14519.5.2.1.6279.6001.619372068417051974713149104919   \n",
       "4  1.3.6.1.4.1.14519.5.2.1.6279.6001.619372068417051974713149104919   \n",
       "\n",
       "  SeriesNumber SliceLocation SliceThickness StudyID  \\\n",
       "0    3000972.0           NaN            NaN           \n",
       "1    3000522.0         -9.50           1.25           \n",
       "2    3000522.0        -10.75           1.25           \n",
       "3    3000522.0        -12.00           1.25           \n",
       "4    3000522.0        -13.25           1.25           \n",
       "\n",
       "                                                   StudyInstanceUID  \\\n",
       "0  1.3.6.1.4.1.14519.5.2.1.6279.6001.116951808801102574107980626851   \n",
       "1  1.3.6.1.4.1.14519.5.2.1.6279.6001.490157381160200744295382098329   \n",
       "2  1.3.6.1.4.1.14519.5.2.1.6279.6001.490157381160200744295382098329   \n",
       "3  1.3.6.1.4.1.14519.5.2.1.6279.6001.490157381160200744295382098329   \n",
       "4  1.3.6.1.4.1.14519.5.2.1.6279.6001.490157381160200744295382098329   \n",
       "\n",
       "         WindowCenter       WindowWidth  \n",
       "0  [1149, 1149, 1149]  [695, 521, 1043]  \n",
       "1                40.0             350.0  \n",
       "2                40.0             350.0  \n",
       "3                40.0             350.0  \n",
       "4                40.0             350.0  \n",
       "\n",
       "[5 rows x 35 columns]"
      ]
     },
     "execution_count": 13,
     "metadata": {},
     "output_type": "execute_result"
    }
   ],
   "source": [
    "df.head()"
   ]
  },
  {
   "cell_type": "code",
   "execution_count": 14,
   "metadata": {},
   "outputs": [
    {
     "name": "stdout",
     "output_type": "stream",
     "text": [
      "16    165016\n",
      "12     78976\n",
      "14       510\n",
      "15        16\n",
      "10         9\n",
      "Name: BitsStored, dtype: int64\n",
      "1    165016\n",
      "0     79511\n",
      "Name: PixelRepresentation, dtype: int64\n"
     ]
    }
   ],
   "source": [
    "print(df.BitsStored.value_counts())\n",
    "print(df.PixelRepresentation.value_counts())"
   ]
  },
  {
   "cell_type": "code",
   "execution_count": 15,
   "metadata": {},
   "outputs": [
    {
     "name": "stdout",
     "output_type": "stream",
     "text": [
      "count    244527.000000\n",
      "mean        515.414024\n",
      "std          71.929356\n",
      "min         512.000000\n",
      "25%         512.000000\n",
      "50%         512.000000\n",
      "75%         512.000000\n",
      "max        3000.000000\n",
      "Name: Columns, dtype: float64\n"
     ]
    },
    {
     "data": {
      "text/plain": [
       "<AxesSubplot:>"
      ]
     },
     "execution_count": 15,
     "metadata": {},
     "output_type": "execute_result"
    },
    {
     "data": {
      "image/png": "[encoded data removed]",
      "text/plain": [
       "<Figure size 432x288 with 1 Axes>"
      ]
     },
     "metadata": {
      "needs_background": "light"
     },
     "output_type": "display_data"
    }
   ],
   "source": [
    "print(df.Columns.describe())\n",
    "df.Columns.hist()"
   ]
  },
  {
   "cell_type": "code",
   "execution_count": 16,
   "metadata": {},
   "outputs": [
    {
     "name": "stdout",
     "output_type": "stream",
     "text": [
      "count    244527.000000\n",
      "mean        515.646595\n",
      "std          76.169181\n",
      "min         512.000000\n",
      "25%         512.000000\n",
      "50%         512.000000\n",
      "75%         512.000000\n",
      "max        2991.000000\n",
      "Name: Rows, dtype: float64\n"
     ]
    },
    {
     "data": {
      "text/plain": [
       "<AxesSubplot:>"
      ]
     },
     "execution_count": 16,
     "metadata": {},
     "output_type": "execute_result"
    },
    {
     "data": {
      "image/png": "[encoded data removed]",
      "text/plain": [
       "<Figure size 432x288 with 1 Axes>"
      ]
     },
     "metadata": {
      "needs_background": "light"
     },
     "output_type": "display_data"
    }
   ],
   "source": [
    "print(df.Rows.describe())\n",
    "df.Rows.hist()"
   ]
  },
  {
   "cell_type": "code",
   "execution_count": 17,
   "metadata": {},
   "outputs": [
    {
     "name": "stdout",
     "output_type": "stream",
     "text": [
      "count    243958.000000\n",
      "mean          1.610888\n",
      "std           0.667770\n",
      "min           0.600000\n",
      "25%           1.250000\n",
      "50%           1.250000\n",
      "75%           2.000000\n",
      "max           5.000000\n",
      "Name: SliceThickness, dtype: float64\n"
     ]
    },
    {
     "data": {
      "text/plain": [
       "<AxesSubplot:>"
      ]
     },
     "execution_count": 17,
     "metadata": {},
     "output_type": "execute_result"
    },
    {
     "data": {
      "image/png": "[encoded data removed]",
      "text/plain": [
       "<Figure size 432x288 with 1 Axes>"
      ]
     },
     "metadata": {
      "needs_background": "light"
     },
     "output_type": "display_data"
    }
   ],
   "source": [
    "print(df.SliceThickness.describe())\n",
    "df.SliceThickness.hist()"
   ]
  },
  {
   "cell_type": "code",
   "execution_count": 18,
   "metadata": {},
   "outputs": [],
   "source": [
    "df.PixelSpacing = df.PixelSpacing.apply(lambda x: x[0] if x is not None else None)"
   ]
  },
  {
   "cell_type": "code",
   "execution_count": 37,
   "metadata": {},
   "outputs": [],
   "source": [
    "df[\"zPos\"] = df.ImagePositionPatient.apply(lambda x: x[-1] if x is not None else None)"
   ]
  },
  {
   "cell_type": "code",
   "execution_count": 50,
   "metadata": {},
   "outputs": [],
   "source": [
    "df[\"path\"] = [str(p) for p in dcms]"
   ]
  },
  {
   "cell_type": "code",
   "execution_count": 19,
   "metadata": {},
   "outputs": [
    {
     "name": "stdout",
     "output_type": "stream",
     "text": [
      "count    243990.000000\n",
      "mean          0.681723\n",
      "std           0.082773\n",
      "min           0.141000\n",
      "25%           0.625000\n",
      "50%           0.683594\n",
      "75%           0.722656\n",
      "max           0.976562\n",
      "Name: PixelSpacing, dtype: float64\n"
     ]
    },
    {
     "data": {
      "text/plain": [
       "<AxesSubplot:>"
      ]
     },
     "execution_count": 19,
     "metadata": {},
     "output_type": "execute_result"
    },
    {
     "data": {
      "image/png": "[encoded data removed]",
      "text/plain": [
       "<Figure size 432x288 with 1 Axes>"
      ]
     },
     "metadata": {
      "needs_background": "light"
     },
     "output_type": "display_data"
    }
   ],
   "source": [
    "print(df.PixelSpacing.describe())\n",
    "df.PixelSpacing.hist()"
   ]
  },
  {
   "cell_type": "code",
   "execution_count": 20,
   "metadata": {},
   "outputs": [
    {
     "name": "stdout",
     "output_type": "stream",
     "text": [
      "count    244527.000000\n",
      "mean         14.703644\n",
      "std           1.869974\n",
      "min          10.000000\n",
      "25%          12.000000\n",
      "50%          16.000000\n",
      "75%          16.000000\n",
      "max          16.000000\n",
      "Name: BitsStored, dtype: float64\n"
     ]
    },
    {
     "data": {
      "text/plain": [
       "<AxesSubplot:>"
      ]
     },
     "execution_count": 20,
     "metadata": {},
     "output_type": "execute_result"
    },
    {
     "data": {
      "image/png": "[encoded data removed]",
      "text/plain": [
       "<Figure size 432x288 with 1 Axes>"
      ]
     },
     "metadata": {
      "needs_background": "light"
     },
     "output_type": "display_data"
    }
   ],
   "source": [
    "print(df.BitsStored.describe())\n",
    "df.BitsStored.hist()"
   ]
  },
  {
   "cell_type": "code",
   "execution_count": 21,
   "metadata": {},
   "outputs": [
    {
     "name": "stdout",
     "output_type": "stream",
     "text": [
      "1    165016\n",
      "0     79511\n",
      "Name: PixelRepresentation, dtype: int64\n"
     ]
    },
    {
     "data": {
      "text/plain": [
       "<AxesSubplot:>"
      ]
     },
     "execution_count": 21,
     "metadata": {},
     "output_type": "execute_result"
    },
    {
     "data": {
      "image/png": "[encoded data removed]",
      "text/plain": [
       "<Figure size 432x288 with 1 Axes>"
      ]
     },
     "metadata": {
      "needs_background": "light"
     },
     "output_type": "display_data"
    }
   ],
   "source": [
    "print(df.PixelRepresentation.value_counts())\n",
    "df.PixelRepresentation.hist()"
   ]
  },
  {
   "cell_type": "code",
   "execution_count": 22,
   "metadata": {},
   "outputs": [
    {
     "name": "stdout",
     "output_type": "stream",
     "text": [
      "count    244471.000000\n",
      "mean       -985.732754\n",
      "std         188.951403\n",
      "min       -1024.000000\n",
      "25%       -1024.000000\n",
      "50%       -1024.000000\n",
      "75%       -1024.000000\n",
      "max           0.000000\n",
      "Name: RescaleIntercept, dtype: float64\n"
     ]
    },
    {
     "data": {
      "text/plain": [
       "<AxesSubplot:>"
      ]
     },
     "execution_count": 22,
     "metadata": {},
     "output_type": "execute_result"
    },
    {
     "data": {
      "image/png": "[encoded data removed]",
      "text/plain": [
       "<Figure size 432x288 with 1 Axes>"
      ]
     },
     "metadata": {
      "needs_background": "light"
     },
     "output_type": "display_data"
    }
   ],
   "source": [
    "print(df.RescaleIntercept.describe())\n",
    "df.RescaleIntercept.hist()"
   ]
  },
  {
   "cell_type": "code",
   "execution_count": 23,
   "metadata": {},
   "outputs": [
    {
     "name": "stdout",
     "output_type": "stream",
     "text": [
      "count    244471.0\n",
      "mean          1.0\n",
      "std           0.0\n",
      "min           1.0\n",
      "25%           1.0\n",
      "50%           1.0\n",
      "75%           1.0\n",
      "max           1.0\n",
      "Name: RescaleSlope, dtype: float64\n"
     ]
    },
    {
     "data": {
      "text/plain": [
       "<AxesSubplot:>"
      ]
     },
     "execution_count": 23,
     "metadata": {},
     "output_type": "execute_result"
    },
    {
     "data": {
      "image/png": "[encoded data removed]",
      "text/plain": [
       "<Figure size 432x288 with 1 Axes>"
      ]
     },
     "metadata": {
      "needs_background": "light"
     },
     "output_type": "display_data"
    }
   ],
   "source": [
    "print(df.RescaleSlope.describe())\n",
    "df.RescaleSlope.hist()"
   ]
  },
  {
   "cell_type": "code",
   "execution_count": 41,
   "metadata": {},
   "outputs": [
    {
     "data": {
      "text/html": [
       "<div>\n",
       "<style scoped>\n",
       "    .dataframe tbody tr th:only-of-type {\n",
       "        vertical-align: middle;\n",
       "    }\n",
       "\n",
       "    .dataframe tbody tr th {\n",
       "        vertical-align: top;\n",
       "    }\n",
       "\n",
       "    .dataframe thead tr th {\n",
       "        text-align: left;\n",
       "    }\n",
       "\n",
       "    .dataframe thead tr:last-of-type th {\n",
       "        text-align: right;\n",
       "    }\n",
       "</style>\n",
       "<table border=\"1\" class=\"dataframe\">\n",
       "  <thead>\n",
       "    <tr>\n",
       "      <th></th>\n",
       "      <th></th>\n",
       "      <th colspan=\"2\" halign=\"left\">PatientID</th>\n",
       "      <th>PxMax</th>\n",
       "      <th>PxMean</th>\n",
       "      <th colspan=\"4\" halign=\"left\">PxMin</th>\n",
       "      <th colspan=\"4\" halign=\"left\">RescaleIntercept</th>\n",
       "      <th>zPos</th>\n",
       "    </tr>\n",
       "    <tr>\n",
       "      <th></th>\n",
       "      <th></th>\n",
       "      <th>count</th>\n",
       "      <th>nunique</th>\n",
       "      <th>max</th>\n",
       "      <th>mean</th>\n",
       "      <th>max</th>\n",
       "      <th>mean</th>\n",
       "      <th>median</th>\n",
       "      <th>min</th>\n",
       "      <th>max</th>\n",
       "      <th>mean</th>\n",
       "      <th>median</th>\n",
       "      <th>min</th>\n",
       "      <th>count</th>\n",
       "    </tr>\n",
       "    <tr>\n",
       "      <th>BitsStored</th>\n",
       "      <th>PixelRepresentation</th>\n",
       "      <th></th>\n",
       "      <th></th>\n",
       "      <th></th>\n",
       "      <th></th>\n",
       "      <th></th>\n",
       "      <th></th>\n",
       "      <th></th>\n",
       "      <th></th>\n",
       "      <th></th>\n",
       "      <th></th>\n",
       "      <th></th>\n",
       "      <th></th>\n",
       "      <th></th>\n",
       "    </tr>\n",
       "  </thead>\n",
       "  <tbody>\n",
       "    <tr>\n",
       "      <th>10</th>\n",
       "      <th>0</th>\n",
       "      <td>9</td>\n",
       "      <td>6</td>\n",
       "      <td>1023</td>\n",
       "      <td>415.465788</td>\n",
       "      <td>126.0</td>\n",
       "      <td>14.888889</td>\n",
       "      <td>0.0</td>\n",
       "      <td>0.0</td>\n",
       "      <td>NaN</td>\n",
       "      <td>NaN</td>\n",
       "      <td>NaN</td>\n",
       "      <td>NaN</td>\n",
       "      <td>0</td>\n",
       "    </tr>\n",
       "    <tr>\n",
       "      <th>12</th>\n",
       "      <th>0</th>\n",
       "      <td>78976</td>\n",
       "      <td>304</td>\n",
       "      <td>4095</td>\n",
       "      <td>548.627279</td>\n",
       "      <td>783.0</td>\n",
       "      <td>0.021146</td>\n",
       "      <td>0.0</td>\n",
       "      <td>0.0</td>\n",
       "      <td>0.0</td>\n",
       "      <td>-1017.709443</td>\n",
       "      <td>-1024.0</td>\n",
       "      <td>-1024.0</td>\n",
       "      <td>78942</td>\n",
       "    </tr>\n",
       "    <tr>\n",
       "      <th>14</th>\n",
       "      <th>0</th>\n",
       "      <td>510</td>\n",
       "      <td>234</td>\n",
       "      <td>16383</td>\n",
       "      <td>6880.764948</td>\n",
       "      <td>2550.0</td>\n",
       "      <td>91.988235</td>\n",
       "      <td>2.0</td>\n",
       "      <td>0.0</td>\n",
       "      <td>0.0</td>\n",
       "      <td>0.000000</td>\n",
       "      <td>0.0</td>\n",
       "      <td>0.0</td>\n",
       "      <td>0</td>\n",
       "    </tr>\n",
       "    <tr>\n",
       "      <th>15</th>\n",
       "      <th>0</th>\n",
       "      <td>16</td>\n",
       "      <td>16</td>\n",
       "      <td>32767</td>\n",
       "      <td>16650.852709</td>\n",
       "      <td>5272.0</td>\n",
       "      <td>642.312500</td>\n",
       "      <td>0.0</td>\n",
       "      <td>0.0</td>\n",
       "      <td>NaN</td>\n",
       "      <td>NaN</td>\n",
       "      <td>NaN</td>\n",
       "      <td>NaN</td>\n",
       "      <td>0</td>\n",
       "    </tr>\n",
       "    <tr>\n",
       "      <th>16</th>\n",
       "      <th>1</th>\n",
       "      <td>165016</td>\n",
       "      <td>730</td>\n",
       "      <td>32767</td>\n",
       "      <td>62.923317</td>\n",
       "      <td>-1024.0</td>\n",
       "      <td>-1831.921765</td>\n",
       "      <td>-2000.0</td>\n",
       "      <td>-32768.0</td>\n",
       "      <td>0.0</td>\n",
       "      <td>-973.481359</td>\n",
       "      <td>-1024.0</td>\n",
       "      <td>-1024.0</td>\n",
       "      <td>165016</td>\n",
       "    </tr>\n",
       "  </tbody>\n",
       "</table>\n",
       "</div>"
      ],
      "text/plain": [
       "                               PatientID          PxMax        PxMean   PxMin  \\\n",
       "                                   count nunique    max          mean     max   \n",
       "BitsStored PixelRepresentation                                                  \n",
       "10         0                           9       6   1023    415.465788   126.0   \n",
       "12         0                       78976     304   4095    548.627279   783.0   \n",
       "14         0                         510     234  16383   6880.764948  2550.0   \n",
       "15         0                          16      16  32767  16650.852709  5272.0   \n",
       "16         1                      165016     730  32767     62.923317 -1024.0   \n",
       "\n",
       "                                                             RescaleIntercept  \\\n",
       "                                       mean  median      min              max   \n",
       "BitsStored PixelRepresentation                                                  \n",
       "10         0                      14.888889     0.0      0.0              NaN   \n",
       "12         0                       0.021146     0.0      0.0              0.0   \n",
       "14         0                      91.988235     2.0      0.0              0.0   \n",
       "15         0                     642.312500     0.0      0.0              NaN   \n",
       "16         1                   -1831.921765 -2000.0 -32768.0              0.0   \n",
       "\n",
       "                                                               zPos  \n",
       "                                       mean  median     min   count  \n",
       "BitsStored PixelRepresentation                                       \n",
       "10         0                            NaN     NaN     NaN       0  \n",
       "12         0                   -1017.709443 -1024.0 -1024.0   78942  \n",
       "14         0                       0.000000     0.0     0.0       0  \n",
       "15         0                            NaN     NaN     NaN       0  \n",
       "16         1                    -973.481359 -1024.0 -1024.0  165016  "
      ]
     },
     "execution_count": 41,
     "metadata": {},
     "output_type": "execute_result"
    }
   ],
   "source": [
    "df.pivot_table(\n",
    "    values=[\"PatientID\", \"RescaleIntercept\", \"PxMean\", \"PxMin\", \"PxMax\", \"zPos\"], \n",
    "    index=[\"BitsStored\", \"PixelRepresentation\"], \n",
    "    aggfunc={\n",
    "        \"PatientID\": [\"nunique\", \"count\"], \n",
    "        \"RescaleIntercept\": [\"min\", \"mean\", \"median\", \"max\"],\n",
    "        \"PxMean\": \"mean\",\n",
    "        \"PxMin\": [\"min\", \"mean\", \"median\", \"max\"],\n",
    "        \"PxMax\": \"max\",\n",
    "        \"zPos\": \"count\",\n",
    "    },\n",
    ")"
   ]
  },
  {
   "cell_type": "code",
   "execution_count": 52,
   "metadata": {},
   "outputs": [
    {
     "data": {
      "text/html": [
       "<div>\n",
       "<style scoped>\n",
       "    .dataframe tbody tr th:only-of-type {\n",
       "        vertical-align: middle;\n",
       "    }\n",
       "\n",
       "    .dataframe tbody tr th {\n",
       "        vertical-align: top;\n",
       "    }\n",
       "\n",
       "    .dataframe thead th {\n",
       "        text-align: right;\n",
       "    }\n",
       "</style>\n",
       "<table border=\"1\" class=\"dataframe\">\n",
       "  <thead>\n",
       "    <tr style=\"text-align: right;\">\n",
       "      <th></th>\n",
       "      <th>BitsAllocated</th>\n",
       "      <th>PxMean</th>\n",
       "      <th>PxMin</th>\n",
       "      <th>PxMax</th>\n",
       "      <th>BitsStored</th>\n",
       "      <th>BodyPartExamined</th>\n",
       "      <th>Columns</th>\n",
       "      <th>FrameOfReferenceUID</th>\n",
       "      <th>ImageOrientationPatient</th>\n",
       "      <th>ImagePositionPatient</th>\n",
       "      <th>...</th>\n",
       "      <th>SeriesInstanceUID</th>\n",
       "      <th>SeriesNumber</th>\n",
       "      <th>SliceLocation</th>\n",
       "      <th>SliceThickness</th>\n",
       "      <th>StudyID</th>\n",
       "      <th>StudyInstanceUID</th>\n",
       "      <th>WindowCenter</th>\n",
       "      <th>WindowWidth</th>\n",
       "      <th>zPos</th>\n",
       "      <th>path</th>\n",
       "    </tr>\n",
       "  </thead>\n",
       "  <tbody>\n",
       "    <tr>\n",
       "      <th>0</th>\n",
       "      <td>16</td>\n",
       "      <td>1274.787065</td>\n",
       "      <td>0</td>\n",
       "      <td>2121</td>\n",
       "      <td>14</td>\n",
       "      <td>CHEST</td>\n",
       "      <td>1721</td>\n",
       "      <td>1.3.6.1.4.1.14519.5.2.1.6279.6001.290742320286378838161032436197</td>\n",
       "      <td>None</td>\n",
       "      <td>None</td>\n",
       "      <td>...</td>\n",
       "      <td>1.3.6.1.4.1.14519.5.2.1.6279.6001.493562949900213760403901722902</td>\n",
       "      <td>3000972.0</td>\n",
       "      <td>NaN</td>\n",
       "      <td>NaN</td>\n",
       "      <td></td>\n",
       "      <td>1.3.6.1.4.1.14519.5.2.1.6279.6001.116951808801102574107980626851</td>\n",
       "      <td>[1149, 1149, 1149]</td>\n",
       "      <td>[695, 521, 1043]</td>\n",
       "      <td>NaN</td>\n",
       "      <td>/Volumes/LaCie/data/lung-cancer-detection/lidc-idri/LIDC-IDRI/LIDC-IDRI-0002/01-01-2000-26851/3000972.000000-22902/1-1.dcm</td>\n",
       "    </tr>\n",
       "    <tr>\n",
       "      <th>1</th>\n",
       "      <td>16</td>\n",
       "      <td>-91.907864</td>\n",
       "      <td>-2000</td>\n",
       "      <td>2607</td>\n",
       "      <td>16</td>\n",
       "      <td>CHEST</td>\n",
       "      <td>512</td>\n",
       "      <td>1.3.6.1.4.1.14519.5.2.1.6279.6001.317612173882565644891105935364</td>\n",
       "      <td>[1.000000, 0.000000, 0.000000, 0.000000, 1.000000, 0.000000]</td>\n",
       "      <td>[-175.500000, -174.500000, -9.500000]</td>\n",
       "      <td>...</td>\n",
       "      <td>1.3.6.1.4.1.14519.5.2.1.6279.6001.619372068417051974713149104919</td>\n",
       "      <td>3000522.0</td>\n",
       "      <td>-9.50</td>\n",
       "      <td>1.25</td>\n",
       "      <td></td>\n",
       "      <td>1.3.6.1.4.1.14519.5.2.1.6279.6001.490157381160200744295382098329</td>\n",
       "      <td>40.0</td>\n",
       "      <td>350.0</td>\n",
       "      <td>-9.50</td>\n",
       "      <td>/Volumes/LaCie/data/lung-cancer-detection/lidc-idri/LIDC-IDRI/LIDC-IDRI-0002/01-01-2000-98329/3000522.000000-04919/1-001.dcm</td>\n",
       "    </tr>\n",
       "    <tr>\n",
       "      <th>2</th>\n",
       "      <td>16</td>\n",
       "      <td>-86.287533</td>\n",
       "      <td>-2000</td>\n",
       "      <td>2580</td>\n",
       "      <td>16</td>\n",
       "      <td>CHEST</td>\n",
       "      <td>512</td>\n",
       "      <td>1.3.6.1.4.1.14519.5.2.1.6279.6001.317612173882565644891105935364</td>\n",
       "      <td>[1.000000, 0.000000, 0.000000, 0.000000, 1.000000, 0.000000]</td>\n",
       "      <td>[-175.500000, -174.500000, -10.750000]</td>\n",
       "      <td>...</td>\n",
       "      <td>1.3.6.1.4.1.14519.5.2.1.6279.6001.619372068417051974713149104919</td>\n",
       "      <td>3000522.0</td>\n",
       "      <td>-10.75</td>\n",
       "      <td>1.25</td>\n",
       "      <td></td>\n",
       "      <td>1.3.6.1.4.1.14519.5.2.1.6279.6001.490157381160200744295382098329</td>\n",
       "      <td>40.0</td>\n",
       "      <td>350.0</td>\n",
       "      <td>-10.75</td>\n",
       "      <td>/Volumes/LaCie/data/lung-cancer-detection/lidc-idri/LIDC-IDRI/LIDC-IDRI-0002/01-01-2000-98329/3000522.000000-04919/1-002.dcm</td>\n",
       "    </tr>\n",
       "    <tr>\n",
       "      <th>3</th>\n",
       "      <td>16</td>\n",
       "      <td>-80.395668</td>\n",
       "      <td>-2000</td>\n",
       "      <td>2622</td>\n",
       "      <td>16</td>\n",
       "      <td>CHEST</td>\n",
       "      <td>512</td>\n",
       "      <td>1.3.6.1.4.1.14519.5.2.1.6279.6001.317612173882565644891105935364</td>\n",
       "      <td>[1.000000, 0.000000, 0.000000, 0.000000, 1.000000, 0.000000]</td>\n",
       "      <td>[-175.500000, -174.500000, -12.000000]</td>\n",
       "      <td>...</td>\n",
       "      <td>1.3.6.1.4.1.14519.5.2.1.6279.6001.619372068417051974713149104919</td>\n",
       "      <td>3000522.0</td>\n",
       "      <td>-12.00</td>\n",
       "      <td>1.25</td>\n",
       "      <td></td>\n",
       "      <td>1.3.6.1.4.1.14519.5.2.1.6279.6001.490157381160200744295382098329</td>\n",
       "      <td>40.0</td>\n",
       "      <td>350.0</td>\n",
       "      <td>-12.00</td>\n",
       "      <td>/Volumes/LaCie/data/lung-cancer-detection/lidc-idri/LIDC-IDRI/LIDC-IDRI-0002/01-01-2000-98329/3000522.000000-04919/1-003.dcm</td>\n",
       "    </tr>\n",
       "    <tr>\n",
       "      <th>4</th>\n",
       "      <td>16</td>\n",
       "      <td>-74.869011</td>\n",
       "      <td>-2000</td>\n",
       "      <td>2527</td>\n",
       "      <td>16</td>\n",
       "      <td>CHEST</td>\n",
       "      <td>512</td>\n",
       "      <td>1.3.6.1.4.1.14519.5.2.1.6279.6001.317612173882565644891105935364</td>\n",
       "      <td>[1.000000, 0.000000, 0.000000, 0.000000, 1.000000, 0.000000]</td>\n",
       "      <td>[-175.500000, -174.500000, -13.250000]</td>\n",
       "      <td>...</td>\n",
       "      <td>1.3.6.1.4.1.14519.5.2.1.6279.6001.619372068417051974713149104919</td>\n",
       "      <td>3000522.0</td>\n",
       "      <td>-13.25</td>\n",
       "      <td>1.25</td>\n",
       "      <td></td>\n",
       "      <td>1.3.6.1.4.1.14519.5.2.1.6279.6001.490157381160200744295382098329</td>\n",
       "      <td>40.0</td>\n",
       "      <td>350.0</td>\n",
       "      <td>-13.25</td>\n",
       "      <td>/Volumes/LaCie/data/lung-cancer-detection/lidc-idri/LIDC-IDRI/LIDC-IDRI-0002/01-01-2000-98329/3000522.000000-04919/1-004.dcm</td>\n",
       "    </tr>\n",
       "  </tbody>\n",
       "</table>\n",
       "<p>5 rows × 37 columns</p>\n",
       "</div>"
      ],
      "text/plain": [
       "   BitsAllocated       PxMean  PxMin  PxMax  BitsStored BodyPartExamined  \\\n",
       "0             16  1274.787065      0   2121          14            CHEST   \n",
       "1             16   -91.907864  -2000   2607          16            CHEST   \n",
       "2             16   -86.287533  -2000   2580          16            CHEST   \n",
       "3             16   -80.395668  -2000   2622          16            CHEST   \n",
       "4             16   -74.869011  -2000   2527          16            CHEST   \n",
       "\n",
       "   Columns                                               FrameOfReferenceUID  \\\n",
       "0     1721  1.3.6.1.4.1.14519.5.2.1.6279.6001.290742320286378838161032436197   \n",
       "1      512  1.3.6.1.4.1.14519.5.2.1.6279.6001.317612173882565644891105935364   \n",
       "2      512  1.3.6.1.4.1.14519.5.2.1.6279.6001.317612173882565644891105935364   \n",
       "3      512  1.3.6.1.4.1.14519.5.2.1.6279.6001.317612173882565644891105935364   \n",
       "4      512  1.3.6.1.4.1.14519.5.2.1.6279.6001.317612173882565644891105935364   \n",
       "\n",
       "                                        ImageOrientationPatient  \\\n",
       "0                                                          None   \n",
       "1  [1.000000, 0.000000, 0.000000, 0.000000, 1.000000, 0.000000]   \n",
       "2  [1.000000, 0.000000, 0.000000, 0.000000, 1.000000, 0.000000]   \n",
       "3  [1.000000, 0.000000, 0.000000, 0.000000, 1.000000, 0.000000]   \n",
       "4  [1.000000, 0.000000, 0.000000, 0.000000, 1.000000, 0.000000]   \n",
       "\n",
       "                     ImagePositionPatient  ...  \\\n",
       "0                                    None  ...   \n",
       "1   [-175.500000, -174.500000, -9.500000]  ...   \n",
       "2  [-175.500000, -174.500000, -10.750000]  ...   \n",
       "3  [-175.500000, -174.500000, -12.000000]  ...   \n",
       "4  [-175.500000, -174.500000, -13.250000]  ...   \n",
       "\n",
       "                                                  SeriesInstanceUID  \\\n",
       "0  1.3.6.1.4.1.14519.5.2.1.6279.6001.493562949900213760403901722902   \n",
       "1  1.3.6.1.4.1.14519.5.2.1.6279.6001.619372068417051974713149104919   \n",
       "2  1.3.6.1.4.1.14519.5.2.1.6279.6001.619372068417051974713149104919   \n",
       "3  1.3.6.1.4.1.14519.5.2.1.6279.6001.619372068417051974713149104919   \n",
       "4  1.3.6.1.4.1.14519.5.2.1.6279.6001.619372068417051974713149104919   \n",
       "\n",
       "  SeriesNumber SliceLocation SliceThickness StudyID  \\\n",
       "0    3000972.0           NaN            NaN           \n",
       "1    3000522.0         -9.50           1.25           \n",
       "2    3000522.0        -10.75           1.25           \n",
       "3    3000522.0        -12.00           1.25           \n",
       "4    3000522.0        -13.25           1.25           \n",
       "\n",
       "                                                   StudyInstanceUID  \\\n",
       "0  1.3.6.1.4.1.14519.5.2.1.6279.6001.116951808801102574107980626851   \n",
       "1  1.3.6.1.4.1.14519.5.2.1.6279.6001.490157381160200744295382098329   \n",
       "2  1.3.6.1.4.1.14519.5.2.1.6279.6001.490157381160200744295382098329   \n",
       "3  1.3.6.1.4.1.14519.5.2.1.6279.6001.490157381160200744295382098329   \n",
       "4  1.3.6.1.4.1.14519.5.2.1.6279.6001.490157381160200744295382098329   \n",
       "\n",
       "         WindowCenter       WindowWidth   zPos  \\\n",
       "0  [1149, 1149, 1149]  [695, 521, 1043]    NaN   \n",
       "1                40.0             350.0  -9.50   \n",
       "2                40.0             350.0 -10.75   \n",
       "3                40.0             350.0 -12.00   \n",
       "4                40.0             350.0 -13.25   \n",
       "\n",
       "                                                                                                                           path  \n",
       "0    /Volumes/LaCie/data/lung-cancer-detection/lidc-idri/LIDC-IDRI/LIDC-IDRI-0002/01-01-2000-26851/3000972.000000-22902/1-1.dcm  \n",
       "1  /Volumes/LaCie/data/lung-cancer-detection/lidc-idri/LIDC-IDRI/LIDC-IDRI-0002/01-01-2000-98329/3000522.000000-04919/1-001.dcm  \n",
       "2  /Volumes/LaCie/data/lung-cancer-detection/lidc-idri/LIDC-IDRI/LIDC-IDRI-0002/01-01-2000-98329/3000522.000000-04919/1-002.dcm  \n",
       "3  /Volumes/LaCie/data/lung-cancer-detection/lidc-idri/LIDC-IDRI/LIDC-IDRI-0002/01-01-2000-98329/3000522.000000-04919/1-003.dcm  \n",
       "4  /Volumes/LaCie/data/lung-cancer-detection/lidc-idri/LIDC-IDRI/LIDC-IDRI-0002/01-01-2000-98329/3000522.000000-04919/1-004.dcm  \n",
       "\n",
       "[5 rows x 37 columns]"
      ]
     },
     "execution_count": 52,
     "metadata": {},
     "output_type": "execute_result"
    }
   ],
   "source": [
    "df.head()"
   ]
  },
  {
   "cell_type": "code",
   "execution_count": 53,
   "metadata": {},
   "outputs": [],
   "source": [
    "df.to_csv(DICOM_DIR/\"lidc_dicom_meta_raw.csv\", index=False)"
   ]
  },
  {
   "cell_type": "markdown",
   "metadata": {},
   "source": [
    "We can remove all scans that have `BitsStored` values other than 12 or 16, because they don't contain the z coordinate that is used for ordering scans."
   ]
  },
  {
   "cell_type": "code",
   "execution_count": 54,
   "metadata": {},
   "outputs": [
    {
     "data": {
      "text/plain": [
       "(243992, 37)"
      ]
     },
     "execution_count": 54,
     "metadata": {},
     "output_type": "execute_result"
    }
   ],
   "source": [
    "df = df.drop(df.query(\"(BitsStored != 12) & (BitsStored != 16)\").index)\n",
    "df.shape"
   ]
  },
  {
   "cell_type": "code",
   "execution_count": 55,
   "metadata": {},
   "outputs": [
    {
     "data": {
      "text/html": [
       "<div>\n",
       "<style scoped>\n",
       "    .dataframe tbody tr th:only-of-type {\n",
       "        vertical-align: middle;\n",
       "    }\n",
       "\n",
       "    .dataframe tbody tr th {\n",
       "        vertical-align: top;\n",
       "    }\n",
       "\n",
       "    .dataframe thead tr th {\n",
       "        text-align: left;\n",
       "    }\n",
       "\n",
       "    .dataframe thead tr:last-of-type th {\n",
       "        text-align: right;\n",
       "    }\n",
       "</style>\n",
       "<table border=\"1\" class=\"dataframe\">\n",
       "  <thead>\n",
       "    <tr>\n",
       "      <th></th>\n",
       "      <th></th>\n",
       "      <th colspan=\"2\" halign=\"left\">PatientID</th>\n",
       "      <th>PxMax</th>\n",
       "      <th>PxMean</th>\n",
       "      <th colspan=\"4\" halign=\"left\">PxMin</th>\n",
       "      <th colspan=\"4\" halign=\"left\">RescaleIntercept</th>\n",
       "      <th>zPos</th>\n",
       "    </tr>\n",
       "    <tr>\n",
       "      <th></th>\n",
       "      <th></th>\n",
       "      <th>count</th>\n",
       "      <th>nunique</th>\n",
       "      <th>max</th>\n",
       "      <th>mean</th>\n",
       "      <th>max</th>\n",
       "      <th>mean</th>\n",
       "      <th>median</th>\n",
       "      <th>min</th>\n",
       "      <th>max</th>\n",
       "      <th>mean</th>\n",
       "      <th>median</th>\n",
       "      <th>min</th>\n",
       "      <th>count</th>\n",
       "    </tr>\n",
       "    <tr>\n",
       "      <th>BitsStored</th>\n",
       "      <th>PixelRepresentation</th>\n",
       "      <th></th>\n",
       "      <th></th>\n",
       "      <th></th>\n",
       "      <th></th>\n",
       "      <th></th>\n",
       "      <th></th>\n",
       "      <th></th>\n",
       "      <th></th>\n",
       "      <th></th>\n",
       "      <th></th>\n",
       "      <th></th>\n",
       "      <th></th>\n",
       "      <th></th>\n",
       "    </tr>\n",
       "  </thead>\n",
       "  <tbody>\n",
       "    <tr>\n",
       "      <th>12</th>\n",
       "      <th>0</th>\n",
       "      <td>78976</td>\n",
       "      <td>304</td>\n",
       "      <td>4095</td>\n",
       "      <td>548.627279</td>\n",
       "      <td>783.0</td>\n",
       "      <td>0.021146</td>\n",
       "      <td>0.0</td>\n",
       "      <td>0.0</td>\n",
       "      <td>0.0</td>\n",
       "      <td>-1017.709443</td>\n",
       "      <td>-1024.0</td>\n",
       "      <td>-1024.0</td>\n",
       "      <td>78942</td>\n",
       "    </tr>\n",
       "    <tr>\n",
       "      <th>16</th>\n",
       "      <th>1</th>\n",
       "      <td>165016</td>\n",
       "      <td>730</td>\n",
       "      <td>32767</td>\n",
       "      <td>62.923317</td>\n",
       "      <td>-1024.0</td>\n",
       "      <td>-1831.921765</td>\n",
       "      <td>-2000.0</td>\n",
       "      <td>-32768.0</td>\n",
       "      <td>0.0</td>\n",
       "      <td>-973.481359</td>\n",
       "      <td>-1024.0</td>\n",
       "      <td>-1024.0</td>\n",
       "      <td>165016</td>\n",
       "    </tr>\n",
       "  </tbody>\n",
       "</table>\n",
       "</div>"
      ],
      "text/plain": [
       "                               PatientID          PxMax      PxMean   PxMin  \\\n",
       "                                   count nunique    max        mean     max   \n",
       "BitsStored PixelRepresentation                                                \n",
       "12         0                       78976     304   4095  548.627279   783.0   \n",
       "16         1                      165016     730  32767   62.923317 -1024.0   \n",
       "\n",
       "                                                             RescaleIntercept  \\\n",
       "                                       mean  median      min              max   \n",
       "BitsStored PixelRepresentation                                                  \n",
       "12         0                       0.021146     0.0      0.0              0.0   \n",
       "16         1                   -1831.921765 -2000.0 -32768.0              0.0   \n",
       "\n",
       "                                                               zPos  \n",
       "                                       mean  median     min   count  \n",
       "BitsStored PixelRepresentation                                       \n",
       "12         0                   -1017.709443 -1024.0 -1024.0   78942  \n",
       "16         1                    -973.481359 -1024.0 -1024.0  165016  "
      ]
     },
     "execution_count": 55,
     "metadata": {},
     "output_type": "execute_result"
    }
   ],
   "source": [
    "df.pivot_table(\n",
    "    values=[\"PatientID\", \"RescaleIntercept\", \"PxMean\", \"PxMin\", \"PxMax\", \"zPos\"], \n",
    "    index=[\"BitsStored\", \"PixelRepresentation\"], \n",
    "    aggfunc={\n",
    "        \"PatientID\": [\"nunique\", \"count\"], \n",
    "        \"RescaleIntercept\": [\"min\", \"mean\", \"median\", \"max\"],\n",
    "        \"PxMean\": \"mean\",\n",
    "        \"PxMin\": [\"min\", \"mean\", \"median\", \"max\"],\n",
    "        \"PxMax\": \"max\",\n",
    "        \"zPos\": \"count\",\n",
    "    },\n",
    ")"
   ]
  },
  {
   "cell_type": "code",
   "execution_count": 60,
   "metadata": {},
   "outputs": [
    {
     "name": "stdout",
     "output_type": "stream",
     "text": [
      "1010\n",
      "1052\n",
      "1052\n"
     ]
    }
   ],
   "source": [
    "print(len(pd.unique(df.PatientID)))\n",
    "print(len(pd.unique(df.SeriesInstanceUID)))\n",
    "print(len(pd.unique(df.StudyInstanceUID)))"
   ]
  },
  {
   "cell_type": "code",
   "execution_count": 61,
   "metadata": {},
   "outputs": [],
   "source": [
    "df.to_csv(DICOM_DIR/\"lidc_dicom_meta_clean.csv\", index=False)"
   ]
  },
  {
   "cell_type": "code",
   "execution_count": null,
   "metadata": {},
   "outputs": [],
   "source": []
  }
 ],
 "metadata": {
  "kernelspec": {
   "display_name": "Python 3",
   "language": "python",
   "name": "python3"
  },
  "language_info": {
   "codemirror_mode": {
    "name": "ipython",
    "version": 3
   },
   "file_extension": ".py",
   "mimetype": "text/x-python",
   "name": "python",
   "nbconvert_exporter": "python",
   "pygments_lexer": "ipython3",
   "version": "3.8.5"
  },
  "toc": {
   "base_numbering": 1,
   "nav_menu": {},
   "number_sections": true,
   "sideBar": true,
   "skip_h1_title": true,
   "title_cell": "Table of Contents",
   "title_sidebar": "Contents",
   "toc_cell": false,
   "toc_position": {},
   "toc_section_display": true,
   "toc_window_display": false
  }
 },
 "nbformat": 4,
 "nbformat_minor": 4
}
