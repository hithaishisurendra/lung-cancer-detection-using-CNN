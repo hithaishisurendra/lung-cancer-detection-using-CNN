{
 "cells": [
  {
   "cell_type": "markdown",
   "metadata": {},
   "source": [
    "# Prepare cases for Streamlit app"
   ]
  },
  {
   "cell_type": "markdown",
   "metadata": {},
   "source": [
    "## Imports and configuration"
   ]
  },
  {
   "cell_type": "code",
   "execution_count": 20,
   "metadata": {},
   "outputs": [],
   "source": [
    "from pathlib import Path\n",
    "import math\n",
    "\n",
    "import pylidc as pl\n",
    "from pylidc.utils import consensus\n",
    "import pandas as pd\n",
    "import numpy as np\n",
    "from tqdm import tqdm\n",
    "import pydicom as dicom\n",
    "import matplotlib.pyplot as plt\n",
    "\n",
    "%matplotlib widget\n",
    "\n",
    "import warnings\n",
    "warnings.filterwarnings('ignore')\n",
    "\n",
    "plt.rcParams['figure.figsize'] = [12, 8]\n",
    "pd.set_option('display.max_columns', None)\n",
    "\n",
    "LIDC_DIR = Path(\"/Volumes/LaCie/data/lung-cancer-detection/lidc-idri/\")\n",
    "DICOM_DIR = LIDC_DIR / \"LIDC-IDRI\"\n",
    "APP_DIR = Path().absolute().parents[0] / \"app/data\"\n",
    "APP_DIR.mkdir(parents=True, exist_ok=True)"
   ]
  },
  {
   "cell_type": "markdown",
   "metadata": {},
   "source": [
    "## Load and prepare metadata"
   ]
  },
  {
   "cell_type": "code",
   "execution_count": 2,
   "metadata": {},
   "outputs": [
    {
     "name": "stdout",
     "output_type": "stream",
     "text": [
      "(157, 3)\n",
      "(1018, 22)\n",
      "(2651, 16)\n"
     ]
    }
   ],
   "source": [
    "patient_df = pd.read_csv(DICOM_DIR/\"lidc_patient_meta.csv\", index_col=\"PatientID\")\n",
    "print(patient_df.shape)\n",
    "scan_df = pd.read_csv(DICOM_DIR/\"lidc_scan_meta.csv\")\n",
    "print(scan_df.shape)\n",
    "nodule_df = pd.read_csv(DICOM_DIR/\"lidc_nodule_meta.csv\", index_col=\"SeriesID\")\n",
    "print(nodule_df.shape)"
   ]
  },
  {
   "cell_type": "code",
   "execution_count": 3,
   "metadata": {},
   "outputs": [
    {
     "data": {
      "text/plain": [
       "(1018, 25)"
      ]
     },
     "execution_count": 3,
     "metadata": {},
     "output_type": "execute_result"
    }
   ],
   "source": [
    "scan_df = scan_df.join(patient_df, on=\"PatientID\")\n",
    "scan_df.shape"
   ]
  },
  {
   "cell_type": "markdown",
   "metadata": {},
   "source": [
    "## Select interesting cases"
   ]
  },
  {
   "cell_type": "markdown",
   "metadata": {},
   "source": [
    "For our UI experiments, we are looking for cases with these characteristics:\n",
    "\n",
    "- Betweeen 5 and 10 nodules\n",
    "- At least one of these nodules should be malignant\n",
    "- Diagnosis and diagnosis method for the patient are available\n",
    "\n",
    "Let's query for these attributes."
   ]
  },
  {
   "cell_type": "code",
   "execution_count": 4,
   "metadata": {},
   "outputs": [
    {
     "data": {
      "text/plain": [
       "count    158.000000\n",
       "mean       1.753165\n",
       "std        1.086611\n",
       "min        0.000000\n",
       "25%        1.000000\n",
       "50%        2.000000\n",
       "75%        3.000000\n",
       "max        3.000000\n",
       "Name: Diagnosis, dtype: float64"
      ]
     },
     "execution_count": 4,
     "metadata": {},
     "output_type": "execute_result"
    }
   ],
   "source": [
    "scan_df.Diagnosis.describe()"
   ]
  },
  {
   "cell_type": "code",
   "execution_count": 5,
   "metadata": {
    "scrolled": true
   },
   "outputs": [
    {
     "name": "stdout",
     "output_type": "stream",
     "text": [
      "Found 4 cases with the specified characteristics.\n"
     ]
    }
   ],
   "source": [
    "cases = scan_df.query('(NumNodules >= 5) & (NumNodules <= 10) & (MaxMalignancy == 5) & (Diagnosis > 1)')\n",
    "print(f\"Found {len(cases)} cases with the specified characteristics.\")"
   ]
  },
  {
   "cell_type": "code",
   "execution_count": 6,
   "metadata": {},
   "outputs": [
    {
     "data": {
      "text/html": [
       "<div>\n",
       "<style scoped>\n",
       "    .dataframe tbody tr th:only-of-type {\n",
       "        vertical-align: middle;\n",
       "    }\n",
       "\n",
       "    .dataframe tbody tr th {\n",
       "        vertical-align: top;\n",
       "    }\n",
       "\n",
       "    .dataframe thead th {\n",
       "        text-align: right;\n",
       "    }\n",
       "</style>\n",
       "<table border=\"1\" class=\"dataframe\">\n",
       "  <thead>\n",
       "    <tr style=\"text-align: right;\">\n",
       "      <th></th>\n",
       "      <th>StudyID</th>\n",
       "      <th>SeriesID</th>\n",
       "      <th>PatientID</th>\n",
       "      <th>SliceThickness</th>\n",
       "      <th>SliceSpacing</th>\n",
       "      <th>PixelSpacing</th>\n",
       "      <th>ContrastUsed</th>\n",
       "      <th>ImagePositionPatient</th>\n",
       "      <th>ImageOrientationPatient</th>\n",
       "      <th>Rows</th>\n",
       "      <th>Columns</th>\n",
       "      <th>RescaleIntercept</th>\n",
       "      <th>RescaleSlope</th>\n",
       "      <th>WindowCenter</th>\n",
       "      <th>WindowWidth</th>\n",
       "      <th>BitsAllocated</th>\n",
       "      <th>PixelRepresentation</th>\n",
       "      <th>Manufacturer</th>\n",
       "      <th>ManufacturerModelName</th>\n",
       "      <th>NumAnnotations</th>\n",
       "      <th>NumNodules</th>\n",
       "      <th>MaxMalignancy</th>\n",
       "      <th>Diagnosis</th>\n",
       "      <th>DiagnosisMethod</th>\n",
       "      <th>PrimaryTumorSiteMetastaticDisease</th>\n",
       "    </tr>\n",
       "  </thead>\n",
       "  <tbody>\n",
       "    <tr>\n",
       "      <th>187</th>\n",
       "      <td>1.3.6.1.4.1.14519.5.2.1.6279.6001.300568323537...</td>\n",
       "      <td>1.3.6.1.4.1.14519.5.2.1.6279.6001.204566802718...</td>\n",
       "      <td>LIDC-IDRI-0186</td>\n",
       "      <td>2.50</td>\n",
       "      <td>2.500</td>\n",
       "      <td>0.644531</td>\n",
       "      <td>True</td>\n",
       "      <td>[-165.000000, -165.000000, -20.000000]</td>\n",
       "      <td>[1.000000, 0.000000, 0.000000, 0.000000, 1.000...</td>\n",
       "      <td>512</td>\n",
       "      <td>512</td>\n",
       "      <td>-1024.0</td>\n",
       "      <td>1.0</td>\n",
       "      <td>-600</td>\n",
       "      <td>1600</td>\n",
       "      <td>16</td>\n",
       "      <td>1</td>\n",
       "      <td>GE MEDICAL SYSTEMS</td>\n",
       "      <td>LightSpeed Plus</td>\n",
       "      <td>11</td>\n",
       "      <td>5</td>\n",
       "      <td>5.0</td>\n",
       "      <td>2.0</td>\n",
       "      <td>2.0</td>\n",
       "      <td>nonsmall cell lung cancer</td>\n",
       "    </tr>\n",
       "    <tr>\n",
       "      <th>459</th>\n",
       "      <td>1.3.6.1.4.1.14519.5.2.1.6279.6001.154309317539...</td>\n",
       "      <td>1.3.6.1.4.1.14519.5.2.1.6279.6001.259123825760...</td>\n",
       "      <td>LIDC-IDRI-0454</td>\n",
       "      <td>1.00</td>\n",
       "      <td>1.000</td>\n",
       "      <td>0.724609</td>\n",
       "      <td>False</td>\n",
       "      <td>[-194.605842, -64.1392937, -317]</td>\n",
       "      <td>[1, 0, 0, 0, 1, 0]</td>\n",
       "      <td>512</td>\n",
       "      <td>512</td>\n",
       "      <td>-1000.0</td>\n",
       "      <td>1.0</td>\n",
       "      <td>[-0450, -0450]</td>\n",
       "      <td>[02000, 02000]</td>\n",
       "      <td>16</td>\n",
       "      <td>0</td>\n",
       "      <td>Philips</td>\n",
       "      <td>Brilliance 16P</td>\n",
       "      <td>21</td>\n",
       "      <td>7</td>\n",
       "      <td>5.0</td>\n",
       "      <td>2.0</td>\n",
       "      <td>2.0</td>\n",
       "      <td>non-small cell carcinoma</td>\n",
       "    </tr>\n",
       "    <tr>\n",
       "      <th>926</th>\n",
       "      <td>1.3.6.1.4.1.14519.5.2.1.6279.6001.242293704887...</td>\n",
       "      <td>1.3.6.1.4.1.14519.5.2.1.6279.6001.211956804948...</td>\n",
       "      <td>LIDC-IDRI-0921</td>\n",
       "      <td>2.00</td>\n",
       "      <td>1.000</td>\n",
       "      <td>0.679688</td>\n",
       "      <td>False</td>\n",
       "      <td>[-162, 18, -453.099976]</td>\n",
       "      <td>[1, 0, 0, 0, 1, 0]</td>\n",
       "      <td>512</td>\n",
       "      <td>512</td>\n",
       "      <td>-1000.0</td>\n",
       "      <td>1.0</td>\n",
       "      <td>[-0450, -0450]</td>\n",
       "      <td>[02000, 02000]</td>\n",
       "      <td>16</td>\n",
       "      <td>0</td>\n",
       "      <td>Philips</td>\n",
       "      <td>Brilliance 16P</td>\n",
       "      <td>14</td>\n",
       "      <td>5</td>\n",
       "      <td>5.0</td>\n",
       "      <td>2.0</td>\n",
       "      <td>2.0</td>\n",
       "      <td>small cell carcinoma</td>\n",
       "    </tr>\n",
       "    <tr>\n",
       "      <th>999</th>\n",
       "      <td>1.3.6.1.4.1.14519.5.2.1.6279.6001.300829918445...</td>\n",
       "      <td>1.3.6.1.4.1.14519.5.2.1.6279.6001.534006575256...</td>\n",
       "      <td>LIDC-IDRI-0994</td>\n",
       "      <td>1.25</td>\n",
       "      <td>0.625</td>\n",
       "      <td>0.722656</td>\n",
       "      <td>False</td>\n",
       "      <td>[-205.199997, -198.500000, 6.190000]</td>\n",
       "      <td>[1.000000, 0.000000, 0.000000, 0.000000, 1.000...</td>\n",
       "      <td>512</td>\n",
       "      <td>512</td>\n",
       "      <td>-1024.0</td>\n",
       "      <td>1.0</td>\n",
       "      <td>40</td>\n",
       "      <td>400</td>\n",
       "      <td>16</td>\n",
       "      <td>1</td>\n",
       "      <td>GE MEDICAL SYSTEMS</td>\n",
       "      <td>LightSpeed Pro 16</td>\n",
       "      <td>14</td>\n",
       "      <td>6</td>\n",
       "      <td>5.0</td>\n",
       "      <td>2.0</td>\n",
       "      <td>3.0</td>\n",
       "      <td>LUL Large cell CA</td>\n",
       "    </tr>\n",
       "  </tbody>\n",
       "</table>\n",
       "</div>"
      ],
      "text/plain": [
       "                                               StudyID  \\\n",
       "187  1.3.6.1.4.1.14519.5.2.1.6279.6001.300568323537...   \n",
       "459  1.3.6.1.4.1.14519.5.2.1.6279.6001.154309317539...   \n",
       "926  1.3.6.1.4.1.14519.5.2.1.6279.6001.242293704887...   \n",
       "999  1.3.6.1.4.1.14519.5.2.1.6279.6001.300829918445...   \n",
       "\n",
       "                                              SeriesID       PatientID  \\\n",
       "187  1.3.6.1.4.1.14519.5.2.1.6279.6001.204566802718...  LIDC-IDRI-0186   \n",
       "459  1.3.6.1.4.1.14519.5.2.1.6279.6001.259123825760...  LIDC-IDRI-0454   \n",
       "926  1.3.6.1.4.1.14519.5.2.1.6279.6001.211956804948...  LIDC-IDRI-0921   \n",
       "999  1.3.6.1.4.1.14519.5.2.1.6279.6001.534006575256...  LIDC-IDRI-0994   \n",
       "\n",
       "     SliceThickness  SliceSpacing  PixelSpacing  ContrastUsed  \\\n",
       "187            2.50         2.500      0.644531          True   \n",
       "459            1.00         1.000      0.724609         False   \n",
       "926            2.00         1.000      0.679688         False   \n",
       "999            1.25         0.625      0.722656         False   \n",
       "\n",
       "                       ImagePositionPatient  \\\n",
       "187  [-165.000000, -165.000000, -20.000000]   \n",
       "459        [-194.605842, -64.1392937, -317]   \n",
       "926                 [-162, 18, -453.099976]   \n",
       "999    [-205.199997, -198.500000, 6.190000]   \n",
       "\n",
       "                               ImageOrientationPatient  Rows  Columns  \\\n",
       "187  [1.000000, 0.000000, 0.000000, 0.000000, 1.000...   512      512   \n",
       "459                                 [1, 0, 0, 0, 1, 0]   512      512   \n",
       "926                                 [1, 0, 0, 0, 1, 0]   512      512   \n",
       "999  [1.000000, 0.000000, 0.000000, 0.000000, 1.000...   512      512   \n",
       "\n",
       "     RescaleIntercept  RescaleSlope    WindowCenter     WindowWidth  \\\n",
       "187           -1024.0           1.0            -600            1600   \n",
       "459           -1000.0           1.0  [-0450, -0450]  [02000, 02000]   \n",
       "926           -1000.0           1.0  [-0450, -0450]  [02000, 02000]   \n",
       "999           -1024.0           1.0              40             400   \n",
       "\n",
       "     BitsAllocated  PixelRepresentation        Manufacturer  \\\n",
       "187             16                    1  GE MEDICAL SYSTEMS   \n",
       "459             16                    0             Philips   \n",
       "926             16                    0             Philips   \n",
       "999             16                    1  GE MEDICAL SYSTEMS   \n",
       "\n",
       "    ManufacturerModelName  NumAnnotations  NumNodules  MaxMalignancy  \\\n",
       "187       LightSpeed Plus              11           5            5.0   \n",
       "459        Brilliance 16P              21           7            5.0   \n",
       "926        Brilliance 16P              14           5            5.0   \n",
       "999     LightSpeed Pro 16              14           6            5.0   \n",
       "\n",
       "     Diagnosis  DiagnosisMethod PrimaryTumorSiteMetastaticDisease  \n",
       "187        2.0              2.0         nonsmall cell lung cancer  \n",
       "459        2.0              2.0          non-small cell carcinoma  \n",
       "926        2.0              2.0              small cell carcinoma  \n",
       "999        2.0              3.0                 LUL Large cell CA  "
      ]
     },
     "execution_count": 6,
     "metadata": {},
     "output_type": "execute_result"
    }
   ],
   "source": [
    "cases"
   ]
  },
  {
   "cell_type": "markdown",
   "metadata": {},
   "source": [
    "We will focus on the first case, as the file size should meet GitHub's requirements. Uploading all files to GitHub is required to make Streamlit Sharing work."
   ]
  },
  {
   "cell_type": "code",
   "execution_count": 7,
   "metadata": {},
   "outputs": [
    {
     "data": {
      "text/plain": [
       "pandas.core.frame.DataFrame"
      ]
     },
     "execution_count": 7,
     "metadata": {},
     "output_type": "execute_result"
    }
   ],
   "source": [
    "case = cases.query(\"PatientID == 'LIDC-IDRI-0186'\")\n",
    "type(case)"
   ]
  },
  {
   "cell_type": "code",
   "execution_count": 8,
   "metadata": {},
   "outputs": [
    {
     "data": {
      "text/html": [
       "<div>\n",
       "<style scoped>\n",
       "    .dataframe tbody tr th:only-of-type {\n",
       "        vertical-align: middle;\n",
       "    }\n",
       "\n",
       "    .dataframe tbody tr th {\n",
       "        vertical-align: top;\n",
       "    }\n",
       "\n",
       "    .dataframe thead th {\n",
       "        text-align: right;\n",
       "    }\n",
       "</style>\n",
       "<table border=\"1\" class=\"dataframe\">\n",
       "  <thead>\n",
       "    <tr style=\"text-align: right;\">\n",
       "      <th></th>\n",
       "      <th>StudyID</th>\n",
       "      <th>SeriesID</th>\n",
       "      <th>PatientID</th>\n",
       "      <th>SliceThickness</th>\n",
       "      <th>SliceSpacing</th>\n",
       "      <th>PixelSpacing</th>\n",
       "      <th>ContrastUsed</th>\n",
       "      <th>ImagePositionPatient</th>\n",
       "      <th>ImageOrientationPatient</th>\n",
       "      <th>Rows</th>\n",
       "      <th>Columns</th>\n",
       "      <th>RescaleIntercept</th>\n",
       "      <th>RescaleSlope</th>\n",
       "      <th>WindowCenter</th>\n",
       "      <th>WindowWidth</th>\n",
       "      <th>BitsAllocated</th>\n",
       "      <th>PixelRepresentation</th>\n",
       "      <th>Manufacturer</th>\n",
       "      <th>ManufacturerModelName</th>\n",
       "      <th>NumAnnotations</th>\n",
       "      <th>NumNodules</th>\n",
       "      <th>MaxMalignancy</th>\n",
       "      <th>Diagnosis</th>\n",
       "      <th>DiagnosisMethod</th>\n",
       "      <th>PrimaryTumorSiteMetastaticDisease</th>\n",
       "    </tr>\n",
       "  </thead>\n",
       "  <tbody>\n",
       "    <tr>\n",
       "      <th>187</th>\n",
       "      <td>1.3.6.1.4.1.14519.5.2.1.6279.6001.300568323537...</td>\n",
       "      <td>1.3.6.1.4.1.14519.5.2.1.6279.6001.204566802718...</td>\n",
       "      <td>LIDC-IDRI-0186</td>\n",
       "      <td>2.5</td>\n",
       "      <td>2.5</td>\n",
       "      <td>0.644531</td>\n",
       "      <td>True</td>\n",
       "      <td>[-165.000000, -165.000000, -20.000000]</td>\n",
       "      <td>[1.000000, 0.000000, 0.000000, 0.000000, 1.000...</td>\n",
       "      <td>512</td>\n",
       "      <td>512</td>\n",
       "      <td>-1024.0</td>\n",
       "      <td>1.0</td>\n",
       "      <td>-600</td>\n",
       "      <td>1600</td>\n",
       "      <td>16</td>\n",
       "      <td>1</td>\n",
       "      <td>GE MEDICAL SYSTEMS</td>\n",
       "      <td>LightSpeed Plus</td>\n",
       "      <td>11</td>\n",
       "      <td>5</td>\n",
       "      <td>5.0</td>\n",
       "      <td>2.0</td>\n",
       "      <td>2.0</td>\n",
       "      <td>nonsmall cell lung cancer</td>\n",
       "    </tr>\n",
       "  </tbody>\n",
       "</table>\n",
       "</div>"
      ],
      "text/plain": [
       "                                               StudyID  \\\n",
       "187  1.3.6.1.4.1.14519.5.2.1.6279.6001.300568323537...   \n",
       "\n",
       "                                              SeriesID       PatientID  \\\n",
       "187  1.3.6.1.4.1.14519.5.2.1.6279.6001.204566802718...  LIDC-IDRI-0186   \n",
       "\n",
       "     SliceThickness  SliceSpacing  PixelSpacing  ContrastUsed  \\\n",
       "187             2.5           2.5      0.644531          True   \n",
       "\n",
       "                       ImagePositionPatient  \\\n",
       "187  [-165.000000, -165.000000, -20.000000]   \n",
       "\n",
       "                               ImageOrientationPatient  Rows  Columns  \\\n",
       "187  [1.000000, 0.000000, 0.000000, 0.000000, 1.000...   512      512   \n",
       "\n",
       "     RescaleIntercept  RescaleSlope WindowCenter WindowWidth  BitsAllocated  \\\n",
       "187           -1024.0           1.0         -600        1600             16   \n",
       "\n",
       "     PixelRepresentation        Manufacturer ManufacturerModelName  \\\n",
       "187                    1  GE MEDICAL SYSTEMS       LightSpeed Plus   \n",
       "\n",
       "     NumAnnotations  NumNodules  MaxMalignancy  Diagnosis  DiagnosisMethod  \\\n",
       "187              11           5            5.0        2.0              2.0   \n",
       "\n",
       "    PrimaryTumorSiteMetastaticDisease  \n",
       "187         nonsmall cell lung cancer  "
      ]
     },
     "execution_count": 8,
     "metadata": {},
     "output_type": "execute_result"
    }
   ],
   "source": [
    "case"
   ]
  },
  {
   "cell_type": "code",
   "execution_count": 9,
   "metadata": {},
   "outputs": [
    {
     "data": {
      "text/plain": [
       "'1.3.6.1.4.1.14519.5.2.1.6279.6001.204566802718283633558802774757'"
      ]
     },
     "execution_count": 9,
     "metadata": {},
     "output_type": "execute_result"
    }
   ],
   "source": [
    "sid = case.iloc[0].SeriesID\n",
    "sid"
   ]
  },
  {
   "cell_type": "markdown",
   "metadata": {},
   "source": [
    "## Visualize selected cases"
   ]
  },
  {
   "cell_type": "code",
   "execution_count": 10,
   "metadata": {},
   "outputs": [
    {
     "data": {
      "text/plain": [
       "1"
      ]
     },
     "execution_count": 10,
     "metadata": {},
     "output_type": "execute_result"
    }
   ],
   "source": [
    "scans = pl.query(pl.Scan).filter(pl.Scan.series_instance_uid == sid)\n",
    "scans.count()"
   ]
  },
  {
   "cell_type": "code",
   "execution_count": 11,
   "metadata": {},
   "outputs": [],
   "source": [
    "scan = scans.first()"
   ]
  },
  {
   "cell_type": "code",
   "execution_count": 12,
   "metadata": {},
   "outputs": [],
   "source": [
    "def visualize_scan(scan):\n",
    "    nods = scan.cluster_annotations()\n",
    "    scan.visualize(annotation_groups=nods)\n",
    "    plt.show()"
   ]
  },
  {
   "cell_type": "code",
   "execution_count": 13,
   "metadata": {},
   "outputs": [
    {
     "name": "stdout",
     "output_type": "stream",
     "text": [
      "Loading dicom files ... This may take a moment.\n"
     ]
    },
    {
     "data": {
      "application/vnd.jupyter.widget-view+json": {
       "model_id": "22628dd9de59460cb0426b5e3f4ffaa3",
       "version_major": 2,
       "version_minor": 0
      },
      "text/plain": [
       "Canvas(toolbar=Toolbar(toolitems=[('Home', 'Reset original view', 'home', 'home'), ('Back', 'Back to previous …"
      ]
     },
     "metadata": {},
     "output_type": "display_data"
    }
   ],
   "source": [
    "visualize_scan(scan)"
   ]
  },
  {
   "cell_type": "markdown",
   "metadata": {},
   "source": [
    "## Prepare selected cases"
   ]
  },
  {
   "cell_type": "markdown",
   "metadata": {},
   "source": [
    "### Save images and masks"
   ]
  },
  {
   "cell_type": "code",
   "execution_count": 23,
   "metadata": {},
   "outputs": [],
   "source": [
    "def prepare(scan, path, nod_sz=(100, 100, 15)):\n",
    "    data_path = path/scan.patient_id\n",
    "    data_path.mkdir(parents=True, exist_ok=True)\n",
    "    \n",
    "    vol = scan.to_volume(verbose=False)\n",
    "    np.save(data_path/\"scan.npy\", vol)\n",
    "    print(f\"PATIENT {scan.patient_id}\")\n",
    "    print(f\"Saved CT scan with shape {vol.shape}\")\n",
    "\n",
    "    clusters = scan.cluster_annotations()\n",
    "    for i, cluster in enumerate(clusters):\n",
    "        _, orig_cbbox = consensus(cluster, ret_masks=False)\n",
    "        orig_nod = vol[orig_cbbox]\n",
    "        pad_sz = [(math.ceil(i/2), math.floor(i/2)) for i in (np.array(nod_sz) - np.array(orig_nod.shape))]\n",
    "        full_pad = int(np.max(vol.shape))\n",
    "        _, cbbox = consensus(cluster, ret_masks=False, pad=pad_sz)\n",
    "        cmask, _ = consensus(cluster, ret_masks=False, pad=full_pad)\n",
    "        nod_vol = vol[cbbox]\n",
    "        np.save(data_path/f\"nodule_{i:02d}_vol.npy\", nod_vol)\n",
    "        print(f\"Saved nodule {i} volume with shape {nod_vol.shape}\")\n",
    "        np.save(data_path/f\"nodule_{i:02d}_mask.npy\", cmask.astype(np.int8))\n",
    "        print(f\"Saved nodule {i} mask with shape {cmask.shape}\")"
   ]
  },
  {
   "cell_type": "code",
   "execution_count": 24,
   "metadata": {},
   "outputs": [
    {
     "name": "stdout",
     "output_type": "stream",
     "text": [
      "PATIENT LIDC-IDRI-0186\n",
      "Saved CT scan with shape (512, 512, 137)\n",
      "Saved nodule 0 volume with shape (100, 100, 15)\n",
      "Saved nodule 0 mask with shape (512, 512, 137)\n",
      "Saved nodule 1 volume with shape (100, 100, 15)\n",
      "Saved nodule 1 mask with shape (512, 512, 137)\n",
      "Saved nodule 2 volume with shape (100, 100, 15)\n",
      "Saved nodule 2 mask with shape (512, 512, 137)\n",
      "Saved nodule 3 volume with shape (100, 100, 15)\n",
      "Saved nodule 3 mask with shape (512, 512, 137)\n",
      "Saved nodule 4 volume with shape (100, 100, 15)\n",
      "Saved nodule 4 mask with shape (512, 512, 137)\n"
     ]
    }
   ],
   "source": [
    "prepare(scan, APP_DIR)"
   ]
  },
  {
   "cell_type": "markdown",
   "metadata": {},
   "source": [
    "### Save scan metadata for selected cases"
   ]
  },
  {
   "cell_type": "code",
   "execution_count": 25,
   "metadata": {},
   "outputs": [],
   "source": [
    "case.to_csv(APP_DIR/\"scan_meta.csv\", index=False)"
   ]
  },
  {
   "cell_type": "markdown",
   "metadata": {},
   "source": [
    "### Save nodule metadata for selected cases"
   ]
  },
  {
   "cell_type": "code",
   "execution_count": 26,
   "metadata": {},
   "outputs": [
    {
     "data": {
      "text/plain": [
       "(5, 16)"
      ]
     },
     "execution_count": 26,
     "metadata": {},
     "output_type": "execute_result"
    }
   ],
   "source": [
    "nodules = nodule_df.loc[sid]\n",
    "nodules.shape"
   ]
  },
  {
   "cell_type": "code",
   "execution_count": 27,
   "metadata": {},
   "outputs": [
    {
     "data": {
      "text/html": [
       "<div>\n",
       "<style scoped>\n",
       "    .dataframe tbody tr th:only-of-type {\n",
       "        vertical-align: middle;\n",
       "    }\n",
       "\n",
       "    .dataframe tbody tr th {\n",
       "        vertical-align: top;\n",
       "    }\n",
       "\n",
       "    .dataframe thead th {\n",
       "        text-align: right;\n",
       "    }\n",
       "</style>\n",
       "<table border=\"1\" class=\"dataframe\">\n",
       "  <thead>\n",
       "    <tr style=\"text-align: right;\">\n",
       "      <th></th>\n",
       "      <th>PatientID</th>\n",
       "      <th>StudyID</th>\n",
       "      <th>NoduleID</th>\n",
       "      <th>NumAnnotations</th>\n",
       "      <th>Diameter</th>\n",
       "      <th>SurfaceArea</th>\n",
       "      <th>Volume</th>\n",
       "      <th>Malignancy</th>\n",
       "      <th>Texture</th>\n",
       "      <th>Spiculation</th>\n",
       "      <th>Lobulation</th>\n",
       "      <th>Margin</th>\n",
       "      <th>Sphericity</th>\n",
       "      <th>Calcification</th>\n",
       "      <th>InternalStructure</th>\n",
       "      <th>Subtlety</th>\n",
       "    </tr>\n",
       "    <tr>\n",
       "      <th>SeriesID</th>\n",
       "      <th></th>\n",
       "      <th></th>\n",
       "      <th></th>\n",
       "      <th></th>\n",
       "      <th></th>\n",
       "      <th></th>\n",
       "      <th></th>\n",
       "      <th></th>\n",
       "      <th></th>\n",
       "      <th></th>\n",
       "      <th></th>\n",
       "      <th></th>\n",
       "      <th></th>\n",
       "      <th></th>\n",
       "      <th></th>\n",
       "      <th></th>\n",
       "    </tr>\n",
       "  </thead>\n",
       "  <tbody>\n",
       "    <tr>\n",
       "      <th>1.3.6.1.4.1.14519.5.2.1.6279.6001.204566802718283633558802774757</th>\n",
       "      <td>LIDC-IDRI-0186</td>\n",
       "      <td>1.3.6.1.4.1.14519.5.2.1.6279.6001.300568323537...</td>\n",
       "      <td>0</td>\n",
       "      <td>2</td>\n",
       "      <td>5.714748</td>\n",
       "      <td>88.608536</td>\n",
       "      <td>87.238244</td>\n",
       "      <td>1</td>\n",
       "      <td>5</td>\n",
       "      <td>1</td>\n",
       "      <td>3</td>\n",
       "      <td>5</td>\n",
       "      <td>5</td>\n",
       "      <td>3</td>\n",
       "      <td>1</td>\n",
       "      <td>5</td>\n",
       "    </tr>\n",
       "    <tr>\n",
       "      <th>1.3.6.1.4.1.14519.5.2.1.6279.6001.204566802718283633558802774757</th>\n",
       "      <td>LIDC-IDRI-0186</td>\n",
       "      <td>1.3.6.1.4.1.14519.5.2.1.6279.6001.300568323537...</td>\n",
       "      <td>1</td>\n",
       "      <td>1</td>\n",
       "      <td>12.695788</td>\n",
       "      <td>412.727257</td>\n",
       "      <td>550.431778</td>\n",
       "      <td>2</td>\n",
       "      <td>1</td>\n",
       "      <td>1</td>\n",
       "      <td>1</td>\n",
       "      <td>2</td>\n",
       "      <td>5</td>\n",
       "      <td>6</td>\n",
       "      <td>1</td>\n",
       "      <td>1</td>\n",
       "    </tr>\n",
       "    <tr>\n",
       "      <th>1.3.6.1.4.1.14519.5.2.1.6279.6001.204566802718283633558802774757</th>\n",
       "      <td>LIDC-IDRI-0186</td>\n",
       "      <td>1.3.6.1.4.1.14519.5.2.1.6279.6001.300568323537...</td>\n",
       "      <td>2</td>\n",
       "      <td>2</td>\n",
       "      <td>6.485468</td>\n",
       "      <td>100.715517</td>\n",
       "      <td>90.353896</td>\n",
       "      <td>3</td>\n",
       "      <td>5</td>\n",
       "      <td>2</td>\n",
       "      <td>3</td>\n",
       "      <td>3</td>\n",
       "      <td>4</td>\n",
       "      <td>6</td>\n",
       "      <td>1</td>\n",
       "      <td>4</td>\n",
       "    </tr>\n",
       "    <tr>\n",
       "      <th>1.3.6.1.4.1.14519.5.2.1.6279.6001.204566802718283633558802774757</th>\n",
       "      <td>LIDC-IDRI-0186</td>\n",
       "      <td>1.3.6.1.4.1.14519.5.2.1.6279.6001.300568323537...</td>\n",
       "      <td>3</td>\n",
       "      <td>2</td>\n",
       "      <td>31.353731</td>\n",
       "      <td>3097.289971</td>\n",
       "      <td>7943.094052</td>\n",
       "      <td>3</td>\n",
       "      <td>5</td>\n",
       "      <td>4</td>\n",
       "      <td>3</td>\n",
       "      <td>3</td>\n",
       "      <td>4</td>\n",
       "      <td>6</td>\n",
       "      <td>4</td>\n",
       "      <td>5</td>\n",
       "    </tr>\n",
       "    <tr>\n",
       "      <th>1.3.6.1.4.1.14519.5.2.1.6279.6001.204566802718283633558802774757</th>\n",
       "      <td>LIDC-IDRI-0186</td>\n",
       "      <td>1.3.6.1.4.1.14519.5.2.1.6279.6001.300568323537...</td>\n",
       "      <td>4</td>\n",
       "      <td>4</td>\n",
       "      <td>17.445504</td>\n",
       "      <td>881.249009</td>\n",
       "      <td>1382.700205</td>\n",
       "      <td>5</td>\n",
       "      <td>5</td>\n",
       "      <td>4</td>\n",
       "      <td>3</td>\n",
       "      <td>4</td>\n",
       "      <td>4</td>\n",
       "      <td>6</td>\n",
       "      <td>1</td>\n",
       "      <td>5</td>\n",
       "    </tr>\n",
       "  </tbody>\n",
       "</table>\n",
       "</div>"
      ],
      "text/plain": [
       "                                                         PatientID  \\\n",
       "SeriesID                                                             \n",
       "1.3.6.1.4.1.14519.5.2.1.6279.6001.2045668027182...  LIDC-IDRI-0186   \n",
       "1.3.6.1.4.1.14519.5.2.1.6279.6001.2045668027182...  LIDC-IDRI-0186   \n",
       "1.3.6.1.4.1.14519.5.2.1.6279.6001.2045668027182...  LIDC-IDRI-0186   \n",
       "1.3.6.1.4.1.14519.5.2.1.6279.6001.2045668027182...  LIDC-IDRI-0186   \n",
       "1.3.6.1.4.1.14519.5.2.1.6279.6001.2045668027182...  LIDC-IDRI-0186   \n",
       "\n",
       "                                                                                              StudyID  \\\n",
       "SeriesID                                                                                                \n",
       "1.3.6.1.4.1.14519.5.2.1.6279.6001.2045668027182...  1.3.6.1.4.1.14519.5.2.1.6279.6001.300568323537...   \n",
       "1.3.6.1.4.1.14519.5.2.1.6279.6001.2045668027182...  1.3.6.1.4.1.14519.5.2.1.6279.6001.300568323537...   \n",
       "1.3.6.1.4.1.14519.5.2.1.6279.6001.2045668027182...  1.3.6.1.4.1.14519.5.2.1.6279.6001.300568323537...   \n",
       "1.3.6.1.4.1.14519.5.2.1.6279.6001.2045668027182...  1.3.6.1.4.1.14519.5.2.1.6279.6001.300568323537...   \n",
       "1.3.6.1.4.1.14519.5.2.1.6279.6001.2045668027182...  1.3.6.1.4.1.14519.5.2.1.6279.6001.300568323537...   \n",
       "\n",
       "                                                    NoduleID  NumAnnotations  \\\n",
       "SeriesID                                                                       \n",
       "1.3.6.1.4.1.14519.5.2.1.6279.6001.2045668027182...         0               2   \n",
       "1.3.6.1.4.1.14519.5.2.1.6279.6001.2045668027182...         1               1   \n",
       "1.3.6.1.4.1.14519.5.2.1.6279.6001.2045668027182...         2               2   \n",
       "1.3.6.1.4.1.14519.5.2.1.6279.6001.2045668027182...         3               2   \n",
       "1.3.6.1.4.1.14519.5.2.1.6279.6001.2045668027182...         4               4   \n",
       "\n",
       "                                                     Diameter  SurfaceArea  \\\n",
       "SeriesID                                                                     \n",
       "1.3.6.1.4.1.14519.5.2.1.6279.6001.2045668027182...   5.714748    88.608536   \n",
       "1.3.6.1.4.1.14519.5.2.1.6279.6001.2045668027182...  12.695788   412.727257   \n",
       "1.3.6.1.4.1.14519.5.2.1.6279.6001.2045668027182...   6.485468   100.715517   \n",
       "1.3.6.1.4.1.14519.5.2.1.6279.6001.2045668027182...  31.353731  3097.289971   \n",
       "1.3.6.1.4.1.14519.5.2.1.6279.6001.2045668027182...  17.445504   881.249009   \n",
       "\n",
       "                                                         Volume  Malignancy  \\\n",
       "SeriesID                                                                      \n",
       "1.3.6.1.4.1.14519.5.2.1.6279.6001.2045668027182...    87.238244           1   \n",
       "1.3.6.1.4.1.14519.5.2.1.6279.6001.2045668027182...   550.431778           2   \n",
       "1.3.6.1.4.1.14519.5.2.1.6279.6001.2045668027182...    90.353896           3   \n",
       "1.3.6.1.4.1.14519.5.2.1.6279.6001.2045668027182...  7943.094052           3   \n",
       "1.3.6.1.4.1.14519.5.2.1.6279.6001.2045668027182...  1382.700205           5   \n",
       "\n",
       "                                                    Texture  Spiculation  \\\n",
       "SeriesID                                                                   \n",
       "1.3.6.1.4.1.14519.5.2.1.6279.6001.2045668027182...        5            1   \n",
       "1.3.6.1.4.1.14519.5.2.1.6279.6001.2045668027182...        1            1   \n",
       "1.3.6.1.4.1.14519.5.2.1.6279.6001.2045668027182...        5            2   \n",
       "1.3.6.1.4.1.14519.5.2.1.6279.6001.2045668027182...        5            4   \n",
       "1.3.6.1.4.1.14519.5.2.1.6279.6001.2045668027182...        5            4   \n",
       "\n",
       "                                                    Lobulation  Margin  \\\n",
       "SeriesID                                                                 \n",
       "1.3.6.1.4.1.14519.5.2.1.6279.6001.2045668027182...           3       5   \n",
       "1.3.6.1.4.1.14519.5.2.1.6279.6001.2045668027182...           1       2   \n",
       "1.3.6.1.4.1.14519.5.2.1.6279.6001.2045668027182...           3       3   \n",
       "1.3.6.1.4.1.14519.5.2.1.6279.6001.2045668027182...           3       3   \n",
       "1.3.6.1.4.1.14519.5.2.1.6279.6001.2045668027182...           3       4   \n",
       "\n",
       "                                                    Sphericity  Calcification  \\\n",
       "SeriesID                                                                        \n",
       "1.3.6.1.4.1.14519.5.2.1.6279.6001.2045668027182...           5              3   \n",
       "1.3.6.1.4.1.14519.5.2.1.6279.6001.2045668027182...           5              6   \n",
       "1.3.6.1.4.1.14519.5.2.1.6279.6001.2045668027182...           4              6   \n",
       "1.3.6.1.4.1.14519.5.2.1.6279.6001.2045668027182...           4              6   \n",
       "1.3.6.1.4.1.14519.5.2.1.6279.6001.2045668027182...           4              6   \n",
       "\n",
       "                                                    InternalStructure  \\\n",
       "SeriesID                                                                \n",
       "1.3.6.1.4.1.14519.5.2.1.6279.6001.2045668027182...                  1   \n",
       "1.3.6.1.4.1.14519.5.2.1.6279.6001.2045668027182...                  1   \n",
       "1.3.6.1.4.1.14519.5.2.1.6279.6001.2045668027182...                  1   \n",
       "1.3.6.1.4.1.14519.5.2.1.6279.6001.2045668027182...                  4   \n",
       "1.3.6.1.4.1.14519.5.2.1.6279.6001.2045668027182...                  1   \n",
       "\n",
       "                                                    Subtlety  \n",
       "SeriesID                                                      \n",
       "1.3.6.1.4.1.14519.5.2.1.6279.6001.2045668027182...         5  \n",
       "1.3.6.1.4.1.14519.5.2.1.6279.6001.2045668027182...         1  \n",
       "1.3.6.1.4.1.14519.5.2.1.6279.6001.2045668027182...         4  \n",
       "1.3.6.1.4.1.14519.5.2.1.6279.6001.2045668027182...         5  \n",
       "1.3.6.1.4.1.14519.5.2.1.6279.6001.2045668027182...         5  "
      ]
     },
     "execution_count": 27,
     "metadata": {},
     "output_type": "execute_result"
    }
   ],
   "source": [
    "nodules"
   ]
  },
  {
   "cell_type": "code",
   "execution_count": 28,
   "metadata": {},
   "outputs": [],
   "source": [
    "nodules.to_csv(APP_DIR/\"nodule_meta.csv\", index=False)"
   ]
  },
  {
   "cell_type": "code",
   "execution_count": 29,
   "metadata": {},
   "outputs": [
    {
     "name": "stdout",
     "output_type": "stream",
     "text": [
      "data\r\n",
      "├──LIDC-IDRI-0186\r\n",
      "│  ├──nodule_00_mask.npy\r\n",
      "│  ├──nodule_00_vol.npy\r\n",
      "│  ├──nodule_01_mask.npy\r\n",
      "│  ├──nodule_01_vol.npy\r\n",
      "│  ├──nodule_02_mask.npy\r\n",
      "│  ├──nodule_02_vol.npy\r\n",
      "│  ├──nodule_03_mask.npy\r\n",
      "│  ├──nodule_03_vol.npy\r\n",
      "│  ├──nodule_04_mask.npy\r\n",
      "│  ├──nodule_04_vol.npy\r\n",
      "│  └──scan.npy\r\n",
      "├──nodule_meta.csv\r\n",
      "└──scan_meta.csv\r\n"
     ]
    }
   ],
   "source": [
    "!tree {APP_DIR}"
   ]
  },
  {
   "cell_type": "code",
   "execution_count": null,
   "metadata": {},
   "outputs": [],
   "source": []
  }
 ],
 "metadata": {
  "kernelspec": {
   "display_name": "Python 3",
   "language": "python",
   "name": "python3"
  },
  "language_info": {
   "codemirror_mode": {
    "name": "ipython",
    "version": 3
   },
   "file_extension": ".py",
   "mimetype": "text/x-python",
   "name": "python",
   "nbconvert_exporter": "python",
   "pygments_lexer": "ipython3",
   "version": "3.8.5"
  },
  "toc": {
   "base_numbering": 1,
   "nav_menu": {},
   "number_sections": true,
   "sideBar": true,
   "skip_h1_title": true,
   "title_cell": "Table of Contents",
   "title_sidebar": "Contents",
   "toc_cell": false,
   "toc_position": {},
   "toc_section_display": true,
   "toc_window_display": false
  }
 },
 "nbformat": 4,
 "nbformat_minor": 4
}
