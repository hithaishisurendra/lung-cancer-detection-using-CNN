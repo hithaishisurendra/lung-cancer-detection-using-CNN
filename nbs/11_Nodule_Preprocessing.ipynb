{
 "cells": [
  {
   "cell_type": "code",
   "execution_count": 1,
   "metadata": {},
   "outputs": [
    {
     "name": "stdout",
     "output_type": "stream",
     "text": [
      "ln: ./lung_cancer_detection: File exists\r\n"
     ]
    }
   ],
   "source": [
    "!ln -s ./../lung_cancer_detection"
   ]
  },
  {
   "cell_type": "code",
   "execution_count": 2,
   "metadata": {},
   "outputs": [],
   "source": [
    "%load_ext autoreload\n",
    "%autoreload 2"
   ]
  },
  {
   "cell_type": "code",
   "execution_count": 27,
   "metadata": {},
   "outputs": [],
   "source": [
    "from pathlib import Path\n",
    "\n",
    "import pandas as pd\n",
    "import matplotlib.pyplot as plt\n",
    "\n",
    "from lung_cancer_detection.utils import load_config"
   ]
  },
  {
   "cell_type": "code",
   "execution_count": 8,
   "metadata": {},
   "outputs": [
    {
     "name": "stdout",
     "output_type": "stream",
     "text": [
      "/Users/felix/code/ml/lung-cancer-detection/configs/baseline.yaml\n"
     ]
    },
    {
     "data": {
      "text/plain": [
       "True"
      ]
     },
     "execution_count": 8,
     "metadata": {},
     "output_type": "execute_result"
    }
   ],
   "source": [
    "config_path = Path().absolute().parents[0] / \"configs/baseline.yaml\"\n",
    "print(config_path)\n",
    "config_path.exists()"
   ]
  },
  {
   "cell_type": "code",
   "execution_count": 10,
   "metadata": {},
   "outputs": [
    {
     "data": {
      "text/plain": [
       "{'raw_dir': '/Volumes/LaCie/data/lung-cancer-detection/lidc-idri/LIDC-IDRI/',\n",
       " 'data_dir': '/Volumes/LaCie/data/lung-cancer-detection/lidc-idri/processed/segmentation/',\n",
       " 'zip_dir': '/Volumes/LaCie/data/lung-cancer-detection/lidc-idri/processed/segmentation_compressed/',\n",
       " 'cache_dir': '/Volumes/LaCie/data/lung-cancer-detection/lidc-idri/cache/',\n",
       " 'sample_size': False,\n",
       " 'batch_size': 32,\n",
       " 'val_split': 0.2}"
      ]
     },
     "execution_count": 10,
     "metadata": {},
     "output_type": "execute_result"
    }
   ],
   "source": [
    "config = load_config(config_path)\n",
    "config[\"data\"]"
   ]
  },
  {
   "cell_type": "code",
   "execution_count": 12,
   "metadata": {},
   "outputs": [],
   "source": [
    "dp = Path(config[\"data\"][\"data_dir\"])"
   ]
  },
  {
   "cell_type": "code",
   "execution_count": 14,
   "metadata": {},
   "outputs": [
    {
     "data": {
      "text/html": [
       "<div>\n",
       "<style scoped>\n",
       "    .dataframe tbody tr th:only-of-type {\n",
       "        vertical-align: middle;\n",
       "    }\n",
       "\n",
       "    .dataframe tbody tr th {\n",
       "        vertical-align: top;\n",
       "    }\n",
       "\n",
       "    .dataframe thead th {\n",
       "        text-align: right;\n",
       "    }\n",
       "</style>\n",
       "<table border=\"1\" class=\"dataframe\">\n",
       "  <thead>\n",
       "    <tr style=\"text-align: right;\">\n",
       "      <th></th>\n",
       "      <th>PatientID</th>\n",
       "      <th>StudyID</th>\n",
       "      <th>SeriesID</th>\n",
       "      <th>NoduleID</th>\n",
       "      <th>NumAnnotations</th>\n",
       "      <th>Diameter</th>\n",
       "      <th>SurfaceArea</th>\n",
       "      <th>Volume</th>\n",
       "      <th>Malignancy</th>\n",
       "      <th>Texture</th>\n",
       "      <th>...</th>\n",
       "      <th>Sphericity</th>\n",
       "      <th>Calcification</th>\n",
       "      <th>InternalStructure</th>\n",
       "      <th>Subtlety</th>\n",
       "      <th>x_start</th>\n",
       "      <th>x_stop</th>\n",
       "      <th>y_start</th>\n",
       "      <th>y_stop</th>\n",
       "      <th>z_start</th>\n",
       "      <th>z_stop</th>\n",
       "    </tr>\n",
       "  </thead>\n",
       "  <tbody>\n",
       "    <tr>\n",
       "      <th>0</th>\n",
       "      <td>LIDC-IDRI-0001</td>\n",
       "      <td>1.3.6.1.4.1.14519.5.2.1.6279.6001.298806137288...</td>\n",
       "      <td>1.3.6.1.4.1.14519.5.2.1.6279.6001.179049373636...</td>\n",
       "      <td>0</td>\n",
       "      <td>4</td>\n",
       "      <td>32.755812</td>\n",
       "      <td>2491.466573</td>\n",
       "      <td>6989.673615</td>\n",
       "      <td>5</td>\n",
       "      <td>5</td>\n",
       "      <td>...</td>\n",
       "      <td>4</td>\n",
       "      <td>6</td>\n",
       "      <td>1</td>\n",
       "      <td>5</td>\n",
       "      <td>340</td>\n",
       "      <td>392</td>\n",
       "      <td>297</td>\n",
       "      <td>341</td>\n",
       "      <td>86</td>\n",
       "      <td>95</td>\n",
       "    </tr>\n",
       "    <tr>\n",
       "      <th>1</th>\n",
       "      <td>LIDC-IDRI-0002</td>\n",
       "      <td>1.3.6.1.4.1.14519.5.2.1.6279.6001.490157381160...</td>\n",
       "      <td>1.3.6.1.4.1.14519.5.2.1.6279.6001.619372068417...</td>\n",
       "      <td>0</td>\n",
       "      <td>2</td>\n",
       "      <td>30.781671</td>\n",
       "      <td>2807.198994</td>\n",
       "      <td>7244.667508</td>\n",
       "      <td>5</td>\n",
       "      <td>2</td>\n",
       "      <td>...</td>\n",
       "      <td>5</td>\n",
       "      <td>6</td>\n",
       "      <td>1</td>\n",
       "      <td>2</td>\n",
       "      <td>334</td>\n",
       "      <td>379</td>\n",
       "      <td>324</td>\n",
       "      <td>374</td>\n",
       "      <td>171</td>\n",
       "      <td>199</td>\n",
       "    </tr>\n",
       "    <tr>\n",
       "      <th>2</th>\n",
       "      <td>LIDC-IDRI-0003</td>\n",
       "      <td>1.3.6.1.4.1.14519.5.2.1.6279.6001.101370605276...</td>\n",
       "      <td>1.3.6.1.4.1.14519.5.2.1.6279.6001.170706757615...</td>\n",
       "      <td>0</td>\n",
       "      <td>1</td>\n",
       "      <td>31.664468</td>\n",
       "      <td>1996.252117</td>\n",
       "      <td>4731.410934</td>\n",
       "      <td>2</td>\n",
       "      <td>1</td>\n",
       "      <td>...</td>\n",
       "      <td>5</td>\n",
       "      <td>6</td>\n",
       "      <td>1</td>\n",
       "      <td>1</td>\n",
       "      <td>331</td>\n",
       "      <td>367</td>\n",
       "      <td>350</td>\n",
       "      <td>384</td>\n",
       "      <td>62</td>\n",
       "      <td>70</td>\n",
       "    </tr>\n",
       "    <tr>\n",
       "      <th>3</th>\n",
       "      <td>LIDC-IDRI-0003</td>\n",
       "      <td>1.3.6.1.4.1.14519.5.2.1.6279.6001.101370605276...</td>\n",
       "      <td>1.3.6.1.4.1.14519.5.2.1.6279.6001.170706757615...</td>\n",
       "      <td>1</td>\n",
       "      <td>4</td>\n",
       "      <td>31.001964</td>\n",
       "      <td>2225.677350</td>\n",
       "      <td>6519.463698</td>\n",
       "      <td>5</td>\n",
       "      <td>4</td>\n",
       "      <td>...</td>\n",
       "      <td>4</td>\n",
       "      <td>6</td>\n",
       "      <td>1</td>\n",
       "      <td>5</td>\n",
       "      <td>333</td>\n",
       "      <td>373</td>\n",
       "      <td>344</td>\n",
       "      <td>389</td>\n",
       "      <td>70</td>\n",
       "      <td>80</td>\n",
       "    </tr>\n",
       "    <tr>\n",
       "      <th>4</th>\n",
       "      <td>LIDC-IDRI-0003</td>\n",
       "      <td>1.3.6.1.4.1.14519.5.2.1.6279.6001.101370605276...</td>\n",
       "      <td>1.3.6.1.4.1.14519.5.2.1.6279.6001.170706757615...</td>\n",
       "      <td>2</td>\n",
       "      <td>4</td>\n",
       "      <td>13.309155</td>\n",
       "      <td>321.183599</td>\n",
       "      <td>472.089669</td>\n",
       "      <td>4</td>\n",
       "      <td>5</td>\n",
       "      <td>...</td>\n",
       "      <td>4</td>\n",
       "      <td>6</td>\n",
       "      <td>1</td>\n",
       "      <td>4</td>\n",
       "      <td>192</td>\n",
       "      <td>205</td>\n",
       "      <td>299</td>\n",
       "      <td>318</td>\n",
       "      <td>81</td>\n",
       "      <td>85</td>\n",
       "    </tr>\n",
       "  </tbody>\n",
       "</table>\n",
       "<p>5 rows × 23 columns</p>\n",
       "</div>"
      ],
      "text/plain": [
       "        PatientID                                            StudyID  \\\n",
       "0  LIDC-IDRI-0001  1.3.6.1.4.1.14519.5.2.1.6279.6001.298806137288...   \n",
       "1  LIDC-IDRI-0002  1.3.6.1.4.1.14519.5.2.1.6279.6001.490157381160...   \n",
       "2  LIDC-IDRI-0003  1.3.6.1.4.1.14519.5.2.1.6279.6001.101370605276...   \n",
       "3  LIDC-IDRI-0003  1.3.6.1.4.1.14519.5.2.1.6279.6001.101370605276...   \n",
       "4  LIDC-IDRI-0003  1.3.6.1.4.1.14519.5.2.1.6279.6001.101370605276...   \n",
       "\n",
       "                                            SeriesID  NoduleID  \\\n",
       "0  1.3.6.1.4.1.14519.5.2.1.6279.6001.179049373636...         0   \n",
       "1  1.3.6.1.4.1.14519.5.2.1.6279.6001.619372068417...         0   \n",
       "2  1.3.6.1.4.1.14519.5.2.1.6279.6001.170706757615...         0   \n",
       "3  1.3.6.1.4.1.14519.5.2.1.6279.6001.170706757615...         1   \n",
       "4  1.3.6.1.4.1.14519.5.2.1.6279.6001.170706757615...         2   \n",
       "\n",
       "   NumAnnotations   Diameter  SurfaceArea       Volume  Malignancy  Texture  \\\n",
       "0               4  32.755812  2491.466573  6989.673615           5        5   \n",
       "1               2  30.781671  2807.198994  7244.667508           5        2   \n",
       "2               1  31.664468  1996.252117  4731.410934           2        1   \n",
       "3               4  31.001964  2225.677350  6519.463698           5        4   \n",
       "4               4  13.309155   321.183599   472.089669           4        5   \n",
       "\n",
       "   ...  Sphericity  Calcification  InternalStructure  Subtlety  x_start  \\\n",
       "0  ...           4              6                  1         5      340   \n",
       "1  ...           5              6                  1         2      334   \n",
       "2  ...           5              6                  1         1      331   \n",
       "3  ...           4              6                  1         5      333   \n",
       "4  ...           4              6                  1         4      192   \n",
       "\n",
       "   x_stop  y_start  y_stop  z_start  z_stop  \n",
       "0     392      297     341       86      95  \n",
       "1     379      324     374      171     199  \n",
       "2     367      350     384       62      70  \n",
       "3     373      344     389       70      80  \n",
       "4     205      299     318       81      85  \n",
       "\n",
       "[5 rows x 23 columns]"
      ]
     },
     "execution_count": 14,
     "metadata": {},
     "output_type": "execute_result"
    }
   ],
   "source": [
    "df = pd.read_csv(dp / \"meta/nodules.csv\")\n",
    "df.head()"
   ]
  },
  {
   "cell_type": "code",
   "execution_count": 18,
   "metadata": {},
   "outputs": [
    {
     "name": "stdout",
     "output_type": "stream",
     "text": [
      "Total number of nodules: 2625\n",
      "Number of nodules at least three annotations: 1379\n",
      "Number of nodules at least two annotations: 1861\n"
     ]
    }
   ],
   "source": [
    "print(f\"Total number of nodules: {len(df)}\")\n",
    "print(f\"Number of nodules at least three annotations: {len(df[df.NumAnnotations > 2])}\")\n",
    "print(f\"Number of nodules at least two annotations: {len(df[df.NumAnnotations > 1])}\")"
   ]
  },
  {
   "cell_type": "code",
   "execution_count": 22,
   "metadata": {},
   "outputs": [],
   "source": [
    "xs = df.x_stop - df.x_start\n",
    "ys = df.y_stop - df.y_start\n",
    "zs = df.z_stop - df.z_start"
   ]
  },
  {
   "cell_type": "code",
   "execution_count": 23,
   "metadata": {},
   "outputs": [
    {
     "name": "stdout",
     "output_type": "stream",
     "text": [
      "98 86 57\n"
     ]
    }
   ],
   "source": [
    "max_x = xs.max()\n",
    "max_y = ys.max()\n",
    "max_z = zs.max()\n",
    "print(max_x, max_y, max_z)"
   ]
  },
  {
   "cell_type": "code",
   "execution_count": 28,
   "metadata": {},
   "outputs": [
    {
     "data": {
      "image/png": "[encoded data removed]",
      "text/plain": [
       "<Figure size 432x288 with 1 Axes>"
      ]
     },
     "metadata": {
      "needs_background": "light"
     },
     "output_type": "display_data"
    }
   ],
   "source": [
    "xs.plot(kind=\"density\")\n",
    "ys.plot(kind=\"density\")\n",
    "zs.plot(kind=\"density\")\n",
    "plt.show()"
   ]
  },
  {
   "cell_type": "code",
   "execution_count": 31,
   "metadata": {},
   "outputs": [
    {
     "name": "stdout",
     "output_type": "stream",
     "text": [
      "count    2625.000000\n",
      "mean       15.789714\n",
      "std        10.487360\n",
      "min         5.000000\n",
      "25%         9.000000\n",
      "50%        12.000000\n",
      "75%        17.000000\n",
      "max        98.000000\n",
      "dtype: float64\n",
      "count    2625.000000\n",
      "mean       15.790476\n",
      "std        10.488902\n",
      "min         4.000000\n",
      "25%         9.000000\n",
      "50%        12.000000\n",
      "75%        18.000000\n",
      "max        86.000000\n",
      "dtype: float64\n",
      "count    2625.000000\n",
      "mean        5.977524\n",
      "std         5.285798\n",
      "min         1.000000\n",
      "25%         3.000000\n",
      "50%         4.000000\n",
      "75%         7.000000\n",
      "max        57.000000\n",
      "dtype: float64\n"
     ]
    }
   ],
   "source": [
    "print(xs.describe())\n",
    "print(ys.describe())\n",
    "print(zs.describe())"
   ]
  },
  {
   "cell_type": "code",
   "execution_count": null,
   "metadata": {},
   "outputs": [],
   "source": []
  }
 ],
 "metadata": {
  "kernelspec": {
   "display_name": "Python 3",
   "language": "python",
   "name": "python3"
  },
  "language_info": {
   "codemirror_mode": {
    "name": "ipython",
    "version": 3
   },
   "file_extension": ".py",
   "mimetype": "text/x-python",
   "name": "python",
   "nbconvert_exporter": "python",
   "pygments_lexer": "ipython3",
   "version": "3.8.5"
  },
  "toc": {
   "base_numbering": 1,
   "nav_menu": {},
   "number_sections": true,
   "sideBar": true,
   "skip_h1_title": true,
   "title_cell": "Table of Contents",
   "title_sidebar": "Contents",
   "toc_cell": false,
   "toc_position": {},
   "toc_section_display": true,
   "toc_window_display": false
  }
 },
 "nbformat": 4,
 "nbformat_minor": 4
}
